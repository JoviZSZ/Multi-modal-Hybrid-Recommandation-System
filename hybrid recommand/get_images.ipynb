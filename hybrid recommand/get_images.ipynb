{
 "cells": [
  {
   "cell_type": "code",
   "execution_count": 1,
   "metadata": {},
   "outputs": [],
   "source": [
    "import gzip\n",
    "import json\n",
    "import urllib.request\n",
    "from PIL import Image\n",
    "\n",
    "from nltk.stem.porter import *\n",
    "import nltk"
   ]
  },
  {
   "cell_type": "code",
   "execution_count": 2,
   "metadata": {},
   "outputs": [],
   "source": [
    "def parse(path):\n",
    "  g = gzip.open(path, 'r')\n",
    "  for l in g:\n",
    "    yield json.loads(l)"
   ]
  },
  {
   "cell_type": "code",
   "execution_count": 3,
   "metadata": {},
   "outputs": [],
   "source": [
    "data = list(parse(\"Gift_Cards.json.gz\"))"
   ]
  },
  {
   "cell_type": "code",
   "execution_count": 4,
   "metadata": {},
   "outputs": [
    {
     "data": {
      "text/plain": [
       "147194"
      ]
     },
     "execution_count": 4,
     "metadata": {},
     "output_type": "execute_result"
    }
   ],
   "source": [
    "len(data)"
   ]
  },
  {
   "cell_type": "code",
   "execution_count": 5,
   "metadata": {},
   "outputs": [
    {
     "data": {
      "text/plain": [
       "{'overall': 1.0,\n",
       " 'vote': '25',\n",
       " 'verified': False,\n",
       " 'reviewTime': '12 19, 2008',\n",
       " 'reviewerID': 'APV13CM0919JD',\n",
       " 'asin': 'B001GXRQW0',\n",
       " 'style': {'Gift Amount:': ' 50'},\n",
       " 'reviewerName': 'LEH',\n",
       " 'reviewText': 'Amazon,\\nI am shopping for Amazon.com gift cards for Christmas gifts and am really so disappointed that out of five choices there isn\\'t one that says \"Merry Christmas\" or mentions Christmas at all!  I am sure I am not alone in wanting a card that reflects the actual \"holiday\" we are celebrating. On principle, I cannot send a Amazon gift card this Christmas.  What\\'s up with all the Political Correctness?  Bad marketing decision.\\nLynn',\n",
       " 'summary': 'Merry Christmas.',\n",
       " 'unixReviewTime': 1229644800}"
      ]
     },
     "execution_count": 5,
     "metadata": {},
     "output_type": "execute_result"
    }
   ],
   "source": [
    "data[0]"
   ]
  },
  {
   "cell_type": "code",
   "execution_count": 6,
   "metadata": {},
   "outputs": [],
   "source": [
    "meta = list(parse(\"meta_Gift_Cards.json.gz\"))"
   ]
  },
  {
   "cell_type": "code",
   "execution_count": 10,
   "metadata": {},
   "outputs": [
    {
     "data": {
      "text/plain": [
       "{'category': ['Gift Cards',\n",
       "  'Gift Cards',\n",
       "  'No expiration, no fees.',\n",
       "  'Redeemable toward millions of items storewide on Amazon.com.',\n",
       "  'Multiple denominations. Choose your amount from $1.00 to $2,000.',\n",
       "  'Variety of designs for any occasion.'],\n",
       " 'tech1': '',\n",
       " 'description': [],\n",
       " 'fit': '',\n",
       " 'title': ' Amazon eGift Card - Amazon Digital',\n",
       " 'also_buy': [],\n",
       " 'image': [],\n",
       " 'tech2': '',\n",
       " 'brand': '',\n",
       " 'feature': [],\n",
       " 'rank': [],\n",
       " 'also_view': ['BT00DC6QU4'],\n",
       " 'details': {'Domestic Shipping: ': 'Item can be shipped within U.S.',\n",
       "  'International Shipping: ': 'This item is not eligible for international shipping.',\n",
       "  'ASIN:': 'B005EISOOC',\n",
       "  'Item model number:': '433_US_Email'},\n",
       " 'main_cat': 'Gift Cards',\n",
       " 'similar_item': '',\n",
       " 'date': '',\n",
       " 'price': '',\n",
       " 'asin': 'B005EISOOC'}"
      ]
     },
     "execution_count": 10,
     "metadata": {},
     "output_type": "execute_result"
    }
   ],
   "source": [
    "meta[230]"
   ]
  },
  {
   "cell_type": "code",
   "execution_count": 5,
   "metadata": {},
   "outputs": [
    {
     "data": {
      "text/plain": [
       "'B004LLIL00'"
      ]
     },
     "execution_count": 5,
     "metadata": {},
     "output_type": "execute_result"
    }
   ],
   "source": [
    "meta[118]['asin']"
   ]
  },
  {
   "cell_type": "markdown",
   "metadata": {},
   "source": [
    "### Extract item and user features"
   ]
  },
  {
   "cell_type": "code",
   "execution_count": null,
   "metadata": {},
   "outputs": [],
   "source": [
    "\n",
    "for d in data:\n",
    "    "
   ]
  },
  {
   "cell_type": "markdown",
   "metadata": {},
   "source": [
    "### Extract and save images"
   ]
  },
  {
   "cell_type": "code",
   "execution_count": 14,
   "metadata": {},
   "outputs": [],
   "source": [
    "for d in meta:\n",
    "    if len(d['image'])!=0:\n",
    "        if len(d['image'])==1:\n",
    "            url = d['image'][0]\n",
    "            urllib.request.urlretrieve(url, './gift_cards_images_2/'+d['asin']+\".jpg\")\n",
    "        else:\n",
    "            url = d['image'][1]\n",
    "            urllib.request.urlretrieve(url, './gift_cards_images_2/'+d['asin']+\".jpg\")\n",
    "        # resize to 60 by 60\n",
    "        img = Image.open('./gift_cards_images_2/'+d['asin']+\".jpg\")\n",
    "        new_width  = 60\n",
    "        new_height = 60\n",
    "        img = img.resize((new_width, new_height), Image.ANTIALIAS)\n",
    "        img.save('./gift_cards_images_resized/'+d['asin']+\".jpg\")"
   ]
  },
  {
   "cell_type": "code",
   "execution_count": null,
   "metadata": {},
   "outputs": [],
   "source": []
  }
 ],
 "metadata": {
  "kernelspec": {
   "display_name": "Python 3",
   "language": "python",
   "name": "python3"
  },
  "language_info": {
   "codemirror_mode": {
    "name": "ipython",
    "version": 3
   },
   "file_extension": ".py",
   "mimetype": "text/x-python",
   "name": "python",
   "nbconvert_exporter": "python",
   "pygments_lexer": "ipython3",
   "version": "3.7.6"
  }
 },
 "nbformat": 4,
 "nbformat_minor": 4
}
