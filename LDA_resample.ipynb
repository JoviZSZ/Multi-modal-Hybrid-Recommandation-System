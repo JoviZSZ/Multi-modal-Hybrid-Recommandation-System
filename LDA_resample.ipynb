{
 "cells": [
  {
   "cell_type": "code",
   "execution_count": null,
   "metadata": {},
   "outputs": [],
   "source": [
    "# https://cseweb.ucsd.edu/classes/wi15/cse255-a/reports/fa15/035.pdf"
   ]
  },
  {
   "cell_type": "code",
   "execution_count": 3,
   "metadata": {},
   "outputs": [
    {
     "name": "stderr",
     "output_type": "stream",
     "text": [
      "unable to import 'smart_open.gcs', disabling that module\n",
      "[nltk_data] Downloading package punkt to /Users/loriliu/nltk_data...\n",
      "[nltk_data]   Package punkt is already up-to-date!\n"
     ]
    },
    {
     "data": {
      "text/plain": [
       "True"
      ]
     },
     "execution_count": 3,
     "metadata": {},
     "output_type": "execute_result"
    }
   ],
   "source": [
    "import gzip\n",
    "import json\n",
    "from collections import defaultdict\n",
    "import scipy\n",
    "import scipy.optimize\n",
    "import numpy\n",
    "import random\n",
    "import pandas as pd \n",
    "from gensim.models import Word2Vec\n",
    "import nltk\n",
    "from sklearn.metrics import mean_squared_error\n",
    "nltk.download('punkt')"
   ]
  },
  {
   "cell_type": "code",
   "execution_count": 4,
   "metadata": {},
   "outputs": [],
   "source": [
    "from nltk.corpus import wordnet\n",
    "import pandas as pd\n",
    "import string\n",
    "from nltk import pos_tag\n",
    "from nltk.corpus import stopwords\n",
    "from nltk.tokenize import WhitespaceTokenizer\n",
    "from nltk.stem import WordNetLemmatizer\n",
    "from nltk.sentiment.vader import SentimentIntensityAnalyzer\n",
    "from sklearn.feature_extraction.text import TfidfVectorizer\n",
    "from gensim.test.utils import common_texts\n",
    "from gensim.models.doc2vec import Doc2Vec, TaggedDocument"
   ]
  },
  {
   "cell_type": "code",
   "execution_count": 5,
   "metadata": {},
   "outputs": [],
   "source": [
    "from nltk import FreqDist\n",
    "import matplotlib.pyplot as plt\n",
    "import seaborn as sns\n",
    "import pyLDAvis\n",
    "import pyLDAvis.gensim\n",
    "import gensim\n",
    "from gensim import corpora\n",
    "import spacy\n"
   ]
  },
  {
   "cell_type": "code",
   "execution_count": 6,
   "metadata": {},
   "outputs": [],
   "source": [
    "import statistics\n",
    "import numpy as np"
   ]
  },
  {
   "cell_type": "code",
   "execution_count": 7,
   "metadata": {},
   "outputs": [],
   "source": [
    "def parse(filename):\n",
    "    f = gzip.open(filename, 'r+')\n",
    "    f.readline()\n",
    "    for line in f:\n",
    "#         print(line)\n",
    "        d = json.loads(line.decode('utf-8'))\n",
    "        yield d\n",
    "        \n",
    "\n",
    "review_data = list(parse('Gift_Cards.json.gz'))\n",
    "meta_data = list(parse('meta_Gift_Cards.json.gz'))"
   ]
  },
  {
   "cell_type": "code",
   "execution_count": 8,
   "metadata": {},
   "outputs": [
    {
     "data": {
      "text/plain": [
       "{'overall': 5.0,\n",
       " 'verified': False,\n",
       " 'reviewTime': '12 17, 2008',\n",
       " 'reviewerID': 'A3G8U1G1V082SN',\n",
       " 'asin': 'B001GXRQW0',\n",
       " 'style': {'Gift Amount:': ' 50'},\n",
       " 'reviewerName': 'Tali',\n",
       " 'reviewText': 'I got this gift card from a friend, and it was the best! The site has so much to choose from... great gift.',\n",
       " 'summary': 'Gift card with best selection',\n",
       " 'unixReviewTime': 1229472000}"
      ]
     },
     "execution_count": 8,
     "metadata": {},
     "output_type": "execute_result"
    }
   ],
   "source": [
    "review_data[0]"
   ]
  },
  {
   "cell_type": "markdown",
   "metadata": {},
   "source": [
    "## Data Exploration"
   ]
  },
  {
   "cell_type": "code",
   "execution_count": 10,
   "metadata": {},
   "outputs": [],
   "source": [
    "total_user = [d['reviewerID'] for d in review_data]\n",
    "total_item = [d['asin'] for d in review_data] \n",
    "total_rating = [d['overall'] for d in review_data] \n",
    "total_text = [d['reviewText'] if 'reviewText' in d else '' for d in review_data]"
   ]
  },
  {
   "cell_type": "code",
   "execution_count": 11,
   "metadata": {},
   "outputs": [
    {
     "data": {
      "text/plain": [
       "(128876, 1548)"
      ]
     },
     "execution_count": 11,
     "metadata": {},
     "output_type": "execute_result"
    }
   ],
   "source": [
    "len(set(total_user)), len(set(total_item))"
   ]
  },
  {
   "cell_type": "markdown",
   "metadata": {},
   "source": [
    "### rating distribution"
   ]
  },
  {
   "cell_type": "code",
   "execution_count": 12,
   "metadata": {},
   "outputs": [],
   "source": [
    "import seaborn as sns"
   ]
  },
  {
   "cell_type": "code",
   "execution_count": 30,
   "metadata": {},
   "outputs": [
    {
     "data": {
      "text/plain": [
       "Text(0.5, 1.0, 'distribution of item rating')"
      ]
     },
     "execution_count": 30,
     "metadata": {},
     "output_type": "execute_result"
    },
    {
     "data": {
      "image/png": "[encoded data removed]",
      "text/plain": [
       "<Figure size 432x288 with 1 Axes>"
      ]
     },
     "metadata": {
      "needs_background": "light"
     },
     "output_type": "display_data"
    }
   ],
   "source": [
    "sns.histplot(total_rating)\n",
    "plt.xlabel('rating')\n",
    "plt.title('distribution of item rating')"
   ]
  },
  {
   "cell_type": "markdown",
   "metadata": {},
   "source": [
    "### popularity distribution"
   ]
  },
  {
   "cell_type": "code",
   "execution_count": 18,
   "metadata": {},
   "outputs": [],
   "source": [
    "def review_counter(review_list):\n",
    "    rev_counter = defaultdict(int)\n",
    "    review_length = []\n",
    "    for d in review_list:\n",
    "        i = d['asin']\n",
    "        rev_counter[i] += 1\n",
    "        if 'reviewText' in d:\n",
    "            review_length.append(len(d['reviewText']))\n",
    "        else:\n",
    "            review_length.append(0)\n",
    "    return rev_counter, review_length"
   ]
  },
  {
   "cell_type": "code",
   "execution_count": 19,
   "metadata": {},
   "outputs": [],
   "source": [
    "rev_count, rev_len = review_counter(review_data)"
   ]
  },
  {
   "cell_type": "code",
   "execution_count": 394,
   "metadata": {},
   "outputs": [
    {
     "data": {
      "text/plain": [
       "defaultdict(int,\n",
       "            {'B00CHQ7I2S': 1256,\n",
       "             'B00G4IV2VI': 1941,\n",
       "             'B00B2TFKHG': 169,\n",
       "             'B0062ONJ6U': 571,\n",
       "             'B00K0PO7AO': 92,\n",
       "             'B004Q7CK9M': 8174,\n",
       "             'B00H5BMH44': 2131,\n",
       "             'B005ESMF5G': 711,\n",
       "             'B005ESMJ02': 1471,\n",
       "             'B00CRQ4ZOM': 95,\n",
       "             'B00KV30IHG': 812,\n",
       "             'B00ELQD11E': 402,\n",
       "             'B004LLIL5U': 216,\n",
       "             'B0066AZGJI': 797,\n",
       "             'B00F56OO2O': 34,\n",
       "             'B004LLILFA': 67,\n",
       "             'B0078EPBHI': 389,\n",
       "             'B004W8D0Y4': 818,\n",
       "             'B0091JKVU0': 3486,\n",
       "             'B0091JKJ0M': 1759,\n",
       "             'B004LLIKVU': 5420,\n",
       "             'B00O3YJD4S': 103,\n",
       "             'B014S24DAI': 2293,\n",
       "             'B0062ONF64': 246,\n",
       "             'B005ESMMWW': 1778,\n",
       "             'B0078EPRVS': 327,\n",
       "             'B00CXZPG0O': 532,\n",
       "             'B00I5428EE': 127,\n",
       "             'B00BXLVHZM': 253,\n",
       "             'B0091JKY0M': 2481,\n",
       "             'B006PJI0Y8': 151,\n",
       "             'B00K4PIV2K': 8,\n",
       "             'B00MV9LN2M': 7,\n",
       "             'B00BXLTR6S': 333,\n",
       "             'B00Q5BOSYC': 370,\n",
       "             'B00MN5VAWC': 89,\n",
       "             'B004LLIL3C': 206,\n",
       "             'B0054SDOLK': 21,\n",
       "             'B00JDQJZWG': 2999,\n",
       "             'B016CICYXO': 233,\n",
       "             'B004LLIKY2': 2234,\n",
       "             'B00FTGTIOE': 451,\n",
       "             'B00BXLW5QC': 567,\n",
       "             'B00CRQ4CF4': 386,\n",
       "             'B006PJHP62': 842,\n",
       "             'B004LLIL9Q': 108,\n",
       "             'B01E4QUN0W': 1539,\n",
       "             'B004LLIL5A': 1837,\n",
       "             'B00K4PIBUW': 16,\n",
       "             'B00KFLZVQM': 146,\n",
       "             'B004KNWX3U': 755,\n",
       "             'B006PJI03Y': 161,\n",
       "             'B00NU8FTK0': 50,\n",
       "             'B01E4QPDV6': 1223,\n",
       "             'B009HE86FQ': 106,\n",
       "             'B00B2TFSO6': 1516,\n",
       "             'B004LLIL00': 159,\n",
       "             'B00DNAGTIQ': 201,\n",
       "             'B004LLILLO': 141,\n",
       "             'B00MV9N316': 207,\n",
       "             'B0080IR6BA': 627,\n",
       "             'B01E4QRAX0': 456,\n",
       "             'B00H5BNENW': 180,\n",
       "             'B004LLIL0A': 97,\n",
       "             'B00G4IURXW': 359,\n",
       "             'B00JDQKFPC': 988,\n",
       "             'B00E1QB6ZC': 133,\n",
       "             'B014S1KPKG': 621,\n",
       "             'B00H5BNFJK': 41,\n",
       "             'B00H5BMF00': 528,\n",
       "             'B00G4IWEZG': 1025,\n",
       "             'B0078EPB78': 67,\n",
       "             'B00A4EK106': 141,\n",
       "             'B0066AZGD4': 2223,\n",
       "             'B00AF0K82U': 798,\n",
       "             'B0091JL3OI': 1946,\n",
       "             'B018UPUQ5A': 255,\n",
       "             'B00CHSWGFU': 306,\n",
       "             'B00S5JE4PU': 71,\n",
       "             'B00K4PIXXW': 20,\n",
       "             'B014LMZYBC': 25,\n",
       "             'B00PMLD91O': 662,\n",
       "             'B00ZARHB6E': 23,\n",
       "             'B00ELQD0DS': 127,\n",
       "             'B00YD74M4Q': 133,\n",
       "             'B00CT7BN3A': 2,\n",
       "             'B00AR51Y5I': 1687,\n",
       "             'B00YD5XWEY': 59,\n",
       "             'B004LLILM8': 123,\n",
       "             'B00ADR2XIC': 935,\n",
       "             'B00EPLSUWA': 51,\n",
       "             'B007V6ETXA': 636,\n",
       "             'B00KFLZKFE': 106,\n",
       "             'B004RD8XPK': 417,\n",
       "             'B00910XGTM': 250,\n",
       "             'B00G4IUURA': 47,\n",
       "             'B00MV9FM9C': 332,\n",
       "             'B0145WHTES': 135,\n",
       "             'B016PARP24': 38,\n",
       "             'B00MV9GM8W': 229,\n",
       "             'B00BXLUFQ4': 362,\n",
       "             'B00CT7D16C': 3,\n",
       "             'B00ET5WASC': 35,\n",
       "             'B00IYVZ1BU': 110,\n",
       "             'B01FERQPAM': 569,\n",
       "             'B004LLILO6': 194,\n",
       "             'B004LLILGO': 1077,\n",
       "             'B00PG8502O': 544,\n",
       "             'B004KNWX94': 113,\n",
       "             'B004KNWWV8': 545,\n",
       "             'B00AS527QW': 480,\n",
       "             'B00G4IVSWQ': 25,\n",
       "             'B00MV9GRNW': 72,\n",
       "             'B0062ONAM8': 201,\n",
       "             'B01E4QQ6QM': 576,\n",
       "             'B00O4I4Y3S': 25,\n",
       "             'B005ESMFP6': 342,\n",
       "             'B01B25M52W': 186,\n",
       "             'B00BXLTM0E': 131,\n",
       "             'B00CHSWG6O': 1054,\n",
       "             'B0172YKFLK': 63,\n",
       "             'B00WROYVVQ': 17,\n",
       "             'B00BXLVAD6': 418,\n",
       "             'B00FTGSBBA': 49,\n",
       "             'B00CHSWKEM': 341,\n",
       "             'B00CHSWJPC': 298,\n",
       "             'B005DHN6E2': 1340,\n",
       "             'B01FERR1VE': 234,\n",
       "             'B018T7WSFA': 118,\n",
       "             'B01GF6W1E0': 5,\n",
       "             'B00FTJI60I': 352,\n",
       "             'B00GOLGWVK': 514,\n",
       "             'B009110O8C': 91,\n",
       "             'B00BWDH4DK': 277,\n",
       "             'B00C5UMHOU': 267,\n",
       "             'B00GRLUECA': 273,\n",
       "             'B0188LO3UK': 209,\n",
       "             'B01CZ54L66': 370,\n",
       "             'B01EO0N7DS': 8,\n",
       "             'B00MV9PB5C': 69,\n",
       "             'B007V6ETDK': 1849,\n",
       "             'B0145WHSDA': 338,\n",
       "             'B00OR54OA6': 22,\n",
       "             'B00BXLW4Q8': 246,\n",
       "             'B00MV9H6VY': 560,\n",
       "             'B00C5UMB7S': 598,\n",
       "             'B00H5BM3L6': 79,\n",
       "             'B00VW9QNPE': 171,\n",
       "             'B01ESBMY3W': 98,\n",
       "             'B00P9VHCBU': 207,\n",
       "             'B00CRQ4AYW': 63,\n",
       "             'B00H5BMHS0': 75,\n",
       "             'B00P6TN9T4': 36,\n",
       "             'B01FERR9FW': 395,\n",
       "             'B00JRDUJK2': 1,\n",
       "             'B00A4EK69C': 845,\n",
       "             'B00H5BN54U': 22,\n",
       "             'B00MV9LSHC': 173,\n",
       "             'B004LLILBY': 210,\n",
       "             'B00BWDHBU6': 94,\n",
       "             'B004WKPVBC': 267,\n",
       "             'B00O5C68J6': 5,\n",
       "             'B00UXLIX00': 50,\n",
       "             'B00MV9M0UQ': 175,\n",
       "             'B00PMLDLKI': 119,\n",
       "             'B00A4NSZH8': 3,\n",
       "             'B004LLIL6E': 72,\n",
       "             'B015WY0DOQ': 278,\n",
       "             'B004LLIL2I': 888,\n",
       "             'B00MOWEHIS': 37,\n",
       "             'B00H5BN162': 35,\n",
       "             'B005ESMG1E': 27,\n",
       "             'B00BXLVFAO': 186,\n",
       "             'B00BXQIGA6': 834,\n",
       "             'B006PJHPV2': 276,\n",
       "             'B004RD9ACA': 195,\n",
       "             'B00BXLTUBA': 402,\n",
       "             'B004KNWWT0': 116,\n",
       "             'B0187SVX48': 64,\n",
       "             'B00BXLSGHO': 466,\n",
       "             'B015WY1JDK': 118,\n",
       "             'B00BXLV32O': 6,\n",
       "             'B00PG40RBW': 6,\n",
       "             'B00GXSCKEW': 39,\n",
       "             'B00I5426SM': 355,\n",
       "             'B00BXLVE6Y': 163,\n",
       "             'B00H5BMVG8': 149,\n",
       "             'B00BT1XFBU': 153,\n",
       "             'B001GXRQW0': 705,\n",
       "             'B00YD567IW': 203,\n",
       "             'B00H5BNKYA': 139,\n",
       "             'B00P9VEQF0': 88,\n",
       "             'B00895H7FO': 201,\n",
       "             'B004LLJ6B8': 53,\n",
       "             'B00BXLUO1U': 277,\n",
       "             'B00OX9OP00': 7,\n",
       "             'B004KNWWU4': 816,\n",
       "             'B00OX9OKO6': 234,\n",
       "             'B004KNWX6C': 587,\n",
       "             'B01B25L7US': 287,\n",
       "             'B00HLAO65M': 86,\n",
       "             'B004LLILK0': 137,\n",
       "             'B0145WHUP6': 197,\n",
       "             'B00MV9FCFQ': 352,\n",
       "             'B01H5PPJT4': 295,\n",
       "             'B004KNWWMW': 689,\n",
       "             'B00E1QAXWO': 101,\n",
       "             'B0062ON8M0': 6,\n",
       "             'B005EISPCS': 26,\n",
       "             'B00911NGTG': 152,\n",
       "             'B00O3YJMS0': 73,\n",
       "             'B005EISPOG': 286,\n",
       "             'B00ACA3UMS': 221,\n",
       "             'B00MV9GGEC': 420,\n",
       "             'B0187SUQKK': 16,\n",
       "             'B00CRQ4YDE': 27,\n",
       "             'B00B2TF61G': 231,\n",
       "             'B00X6G8J3A': 227,\n",
       "             'B00K0PO196': 302,\n",
       "             'B00CHSWK24': 66,\n",
       "             'B01B25LFGY': 599,\n",
       "             'B00CRQ4XA8': 33,\n",
       "             'B0062ONETC': 122,\n",
       "             'B00BWDGY0E': 158,\n",
       "             'B01E4QS95I': 663,\n",
       "             'B00FRL7UMS': 30,\n",
       "             'B01GKWEH64': 46,\n",
       "             'B00H5BN6V2': 51,\n",
       "             'B00H5BMIHA': 389,\n",
       "             'B00BXLT1UA': 226,\n",
       "             'B00HFG0K4S': 122,\n",
       "             'B00BSXWO52': 94,\n",
       "             'B00M0AHQSC': 48,\n",
       "             'B00XU7O7OK': 68,\n",
       "             'B0062ONJRE': 411,\n",
       "             'B0189TCA7E': 163,\n",
       "             'B018T7G9XM': 79,\n",
       "             'B00GOLH84U': 357,\n",
       "             'B00O3YKYPA': 63,\n",
       "             'B004LLIKVA': 6,\n",
       "             'B00Q5BNS48': 112,\n",
       "             'B00F3ZMTO2': 176,\n",
       "             'B00F2RZMEA': 257,\n",
       "             'B004LLIL4G': 1118,\n",
       "             'B00P9VCASU': 12,\n",
       "             'B00JQKK1PE': 6,\n",
       "             'B00Q5BN3P2': 79,\n",
       "             'B00PG40SDY': 149,\n",
       "             'B00P3DUFRW': 262,\n",
       "             'B00E1QAWXE': 108,\n",
       "             'B00PMLDTO6': 225,\n",
       "             'B00B2TFJEA': 97,\n",
       "             'B00CHSWGR8': 292,\n",
       "             'B00BXLSIJ0': 300,\n",
       "             'B00UXLIQNY': 201,\n",
       "             'B00PGOMSU0': 218,\n",
       "             'B004KNWX4O': 117,\n",
       "             'B00YHWJ1RK': 20,\n",
       "             'B00EPLT448': 30,\n",
       "             'B00I5429B6': 37,\n",
       "             'B01FYJMJHI': 431,\n",
       "             'B00CT76TBG': 49,\n",
       "             'B004LLILOG': 140,\n",
       "             'B00BXLSUF2': 166,\n",
       "             'B004LLIL32': 174,\n",
       "             'B004KNWWP4': 58,\n",
       "             'B00OGPXG9W': 16,\n",
       "             'B01571YV42': 58,\n",
       "             'B004KNWWZE': 75,\n",
       "             'B00YD743CW': 69,\n",
       "             'B00PMOSZJW': 62,\n",
       "             'B00H5BM8DY': 33,\n",
       "             'B00G3LBDDS': 202,\n",
       "             'B004KNWWPY': 72,\n",
       "             'B00MV9M8PS': 61,\n",
       "             'B00O3YKR48': 59,\n",
       "             'B016PASEN8': 78,\n",
       "             'B00MV9ILEU': 5,\n",
       "             'B016PASHH6': 135,\n",
       "             'B01B25LU7S': 246,\n",
       "             'B004KNWX76': 113,\n",
       "             'B00MV9FPLM': 118,\n",
       "             'B00FGEHO0O': 37,\n",
       "             'B00BXLSZPM': 261,\n",
       "             'B00H5BM23K': 108,\n",
       "             'B00BXLVHC0': 40,\n",
       "             'B00AF0K90Q': 366,\n",
       "             'B006PJHS50': 101,\n",
       "             'B00BWDH0LQ': 125,\n",
       "             'B00NU7VFCC': 9,\n",
       "             'B00BT1XF5Q': 86,\n",
       "             'B00MV9OHUM': 62,\n",
       "             'B00K4PJ3F4': 23,\n",
       "             'B004LLIL6O': 59,\n",
       "             'B01FERQT4E': 44,\n",
       "             'B00ISCEAMG': 246,\n",
       "             'B00PMOSYM0': 49,\n",
       "             'B01G2P3FT4': 33,\n",
       "             'B00DVO0KCA': 1,\n",
       "             'B016J1LDNQ': 49,\n",
       "             'B004KNWX9O': 14,\n",
       "             'B00H5BNOMI': 51,\n",
       "             'B01G44QKQI': 191,\n",
       "             'B00GDHVSYG': 133,\n",
       "             'B01GKWEPBG': 177,\n",
       "             'B007I0G9PU': 40,\n",
       "             'B00MV9GCYQ': 258,\n",
       "             'B007EE5I6G': 95,\n",
       "             'B00FTGF3P2': 81,\n",
       "             'B002UKLD7M': 10,\n",
       "             'B00VF0MCCS': 123,\n",
       "             'B00H5BNLUS': 70,\n",
       "             'B00G4IW690': 217,\n",
       "             'B004LLIL6Y': 65,\n",
       "             'B01EB6EODM': 30,\n",
       "             'B00I542CPE': 115,\n",
       "             'B015OTJZCU': 83,\n",
       "             'B01GP1W4LA': 45,\n",
       "             'B00BWDHWNC': 30,\n",
       "             'B00OD4FHDE': 2,\n",
       "             'B00VTVA9TQ': 72,\n",
       "             'B00O4I5S7O': 165,\n",
       "             'B00BXLTF92': 25,\n",
       "             'B00G4IUPVQ': 50,\n",
       "             'B00MV9L0PW': 186,\n",
       "             'B0188LLWUO': 18,\n",
       "             'B00BXLUSZ2': 18,\n",
       "             'B00XO1OZTY': 175,\n",
       "             'B006PJHPKI': 53,\n",
       "             'B00BWDHVC4': 39,\n",
       "             'B00FTGESM6': 71,\n",
       "             'B00FRL7G7M': 54,\n",
       "             'B00B2TFH3I': 124,\n",
       "             'B004LLILFK': 88,\n",
       "             'B00BXLV55Y': 36,\n",
       "             'B00O3YIABA': 46,\n",
       "             'B0188LOK7G': 76,\n",
       "             'B00H5BN0GS': 26,\n",
       "             'B00BSXWOLG': 136,\n",
       "             'B004WKPVUS': 7,\n",
       "             'B004KNWX3A': 53,\n",
       "             'B007HR1E2W': 20,\n",
       "             'B00CHSWFRY': 137,\n",
       "             'B00BXLTJ8O': 77,\n",
       "             'B004LLILG4': 95,\n",
       "             'B00R6OW286': 47,\n",
       "             'B00MV9P8MS': 318,\n",
       "             'B004KNWX0I': 16,\n",
       "             'B00GB8MWTC': 24,\n",
       "             'B00H5BM0K0': 31,\n",
       "             'B004KNWX1W': 164,\n",
       "             'B01CT5PHJ2': 197,\n",
       "             'B004KNWX0S': 228,\n",
       "             'B004KNWWTA': 225,\n",
       "             'B00BXLWD0U': 28,\n",
       "             'B01CZ07NQG': 8,\n",
       "             'B00PMLDNBA': 69,\n",
       "             'B00HX3PRBE': 7,\n",
       "             'B00MV9FQXO': 160,\n",
       "             'B00C5UMCIG': 201,\n",
       "             'B0091JKPDI': 134,\n",
       "             'B00OX9NV3C': 6,\n",
       "             'B00IGYPALG': 266,\n",
       "             'B016PASXA2': 64,\n",
       "             'B0145WHAOC': 15,\n",
       "             'B00BWDHB5G': 42,\n",
       "             'B00PG40HPI': 43,\n",
       "             'B00KFLZOWS': 67,\n",
       "             'B00GXSC31W': 24,\n",
       "             'B00MV9GTFS': 120,\n",
       "             'B00AF0K9BA': 159,\n",
       "             'B00A4CRRH8': 13,\n",
       "             'B004LLILPU': 72,\n",
       "             'B004LLILKK': 95,\n",
       "             'B00BXLUMGC': 38,\n",
       "             'B0145WHXGM': 115,\n",
       "             'B004LLIL0K': 32,\n",
       "             'B00Q5BN99C': 16,\n",
       "             'B004LLILAU': 80,\n",
       "             'B00H5BMRN0': 94,\n",
       "             'B0062ONKA0': 17,\n",
       "             'B00P9VF3DE': 65,\n",
       "             'B00BWDHUWA': 73,\n",
       "             'B004LLIL3M': 226,\n",
       "             'B00ACA3UB4': 180,\n",
       "             'B00GXSCODO': 24,\n",
       "             'B00BXLT8M6': 79,\n",
       "             'B016J1LGPG': 158,\n",
       "             'B004KNWWO0': 57,\n",
       "             'B00CHSWJ2K': 8,\n",
       "             'B00K4PIE68': 30,\n",
       "             'B00F56PFYK': 35,\n",
       "             'B00H5BLXA8': 49,\n",
       "             'B00UW1CEMY': 164,\n",
       "             'B00CT774LK': 49,\n",
       "             'B00ET5WBU4': 105,\n",
       "             'B004LLILQY': 42,\n",
       "             'B00JJ5A0GQ': 30,\n",
       "             'B007V5WJOM': 185,\n",
       "             'B00G4IWDXE': 129,\n",
       "             'B005XEF7R4': 58,\n",
       "             'B00BXLSM0A': 73,\n",
       "             'B00CHSWFJ2': 10,\n",
       "             'B00BWDH2O6': 193,\n",
       "             'B00OD4L0D0': 15,\n",
       "             'B00UXLIUM6': 200,\n",
       "             'B00MV9GKCA': 16,\n",
       "             'B0187SVB5Y': 6,\n",
       "             'B00BSXWOR0': 63,\n",
       "             'B00EPLSQVK': 17,\n",
       "             'B004LLIL5K': 79,\n",
       "             'B00MV9O08G': 202,\n",
       "             'B00BCTY1E4': 34,\n",
       "             'B00FTGFFOG': 30,\n",
       "             'B00CT79116': 65,\n",
       "             'B00MV9P454': 77,\n",
       "             'B0069VHL5Q': 214,\n",
       "             'B00BXLV9NM': 41,\n",
       "             'B00BXLUU6Y': 44,\n",
       "             'B00CRQ512C': 39,\n",
       "             'B00F56OII4': 27,\n",
       "             'B00P8N415E': 51,\n",
       "             'B00PMOT1L8': 173,\n",
       "             'B00GXSBYWG': 15,\n",
       "             'B00FTGSKL6': 169,\n",
       "             'B0078EPRPE': 300,\n",
       "             'B00GXSC70E': 64,\n",
       "             'B00O3YJ2TE': 32,\n",
       "             'B00H5BMZ32': 21,\n",
       "             'B004KNWX8U': 53,\n",
       "             'B002QFXC7U': 20,\n",
       "             'B00PG23QFI': 102,\n",
       "             'B00PG40QOK': 28,\n",
       "             'B00C5UMI3K': 94,\n",
       "             'B00BXLURUI': 142,\n",
       "             'B00BXLT5EW': 96,\n",
       "             'B004W8D102': 235,\n",
       "             'B00JQKJGVO': 8,\n",
       "             'B00PMOST0M': 42,\n",
       "             'B00PG40ICK': 51,\n",
       "             'B00U7XWGV6': 54,\n",
       "             'B00A4NSUYQ': 29,\n",
       "             'B00MV9OQYO': 126,\n",
       "             'B00G4IUN4K': 37,\n",
       "             'B00BXLTMRC': 31,\n",
       "             'B00BXLVCLQ': 28,\n",
       "             'B005EISOUQ': 136,\n",
       "             'B00PG9870U': 163,\n",
       "             'B00JQKJNGW': 8,\n",
       "             'B01G44QN9W': 73,\n",
       "             'B00G4IW2PI': 33,\n",
       "             'B015RUHT5G': 22,\n",
       "             'B00DNAGEBI': 8,\n",
       "             'B00MFXWLG6': 6,\n",
       "             'B00BXLW9J0': 41,\n",
       "             'B00GOLQ9AY': 10,\n",
       "             'B00SXBY5L8': 21,\n",
       "             'B005EISP96': 121,\n",
       "             'B00GXSC3ZS': 20,\n",
       "             'B00GU2ZZ8Y': 352,\n",
       "             'B004KNWWOK': 75,\n",
       "             'B00MV9MUHY': 12,\n",
       "             'B00P9VFGGS': 31,\n",
       "             'B005EISPLE': 225,\n",
       "             'B00O3YIUCE': 31,\n",
       "             'B00BWDGYL8': 155,\n",
       "             'B00CT783OC': 48,\n",
       "             'B0145WHH7W': 10,\n",
       "             'B007EE5X48': 13,\n",
       "             'B004LLIL82': 45,\n",
       "             'B00C5UMEMA': 242,\n",
       "             'B00H5BNTBY': 38,\n",
       "             'B00H5BMMVW': 32,\n",
       "             'B00IDF8UWE': 30,\n",
       "             'B004LLJ6XG': 73,\n",
       "             'B00CT7BD9O': 29,\n",
       "             'B004LLIKWO': 140,\n",
       "             'B00GYIP7AA': 1,\n",
       "             'B01DCN9GVU': 51,\n",
       "             'B00HI3R5ZU': 1,\n",
       "             'B00P9VD9ZS': 9,\n",
       "             'B00Q5BNBC2': 92,\n",
       "             'B002OOBESC': 9,\n",
       "             'B004KNWX4Y': 47,\n",
       "             'B00EEHV8DI': 166,\n",
       "             'B014S2HRVK': 32,\n",
       "             'B00OQT3XUK': 75,\n",
       "             'B00XUUAB92': 61,\n",
       "             'B0172YKZXI': 18,\n",
       "             'B004KNWXA8': 64,\n",
       "             'B004LLJ6DQ': 11,\n",
       "             'B00FTGTV4Q': 38,\n",
       "             'B00FFPW48G': 10,\n",
       "             'B004LLILC8': 88,\n",
       "             'B00BXLSPGQ': 101,\n",
       "             'B002YEWXZ0': 12,\n",
       "             'B00F56OENS': 24,\n",
       "             'B00G4IWAF0': 50,\n",
       "             'B00Q3NFTTA': 47,\n",
       "             'B005ESMJCU': 189,\n",
       "             'B004LLJ6AE': 42,\n",
       "             'B016CDNMMG': 55,\n",
       "             'B00C5UMD6M': 43,\n",
       "             'B00H5BO3VO': 6,\n",
       "             'B01GKZ3SQG': 50,\n",
       "             'B0145WHVKK': 103,\n",
       "             'B01DWOZKSC': 125,\n",
       "             'B004LLIKUQ': 43,\n",
       "             'B00PMLEFB2': 4,\n",
       "             'B00K0PNZQG': 4,\n",
       "             'B01578LQ84': 42,\n",
       "             'B00NU7QP6S': 16,\n",
       "             'B00I5429PM': 26,\n",
       "             'B00GXSCVUU': 57,\n",
       "             'B00BXLSR2S': 49,\n",
       "             'B0062ONA9Q': 51,\n",
       "             'B00NU7R224': 67,\n",
       "             'B00BXLSWGY': 49,\n",
       "             'B004KNWWTK': 160,\n",
       "             'B009SB14K2': 40,\n",
       "             'B00H5BO5VW': 25,\n",
       "             'B00B2TFURQ': 269,\n",
       "             'B00H5BMULO': 42,\n",
       "             'B00FJ4CDGQ': 139,\n",
       "             'B00AF0KAWI': 37,\n",
       "             'B00G4IW938': 165,\n",
       "             'B00BXLVD8I': 75,\n",
       "             'B00P9VDRAA': 24,\n",
       "             'B00MV9LXKE': 86,\n",
       "             'B004LLIKYW': 8,\n",
       "             'B00OQT53FS': 6,\n",
       "             'B002BSHDJK': 111,\n",
       "             'B01FYDFH5U': 30,\n",
       "             'B00GXSCMBS': 18,\n",
       "             'B019GIOH7S': 50,\n",
       "             'B00BXLSSOU': 62,\n",
       "             'B00NU7UVUO': 37,\n",
       "             'B00MV9MON4': 26,\n",
       "             'B004KNWWRM': 45,\n",
       "             'B00H5BNAU4': 9,\n",
       "             'B004KNWWUY': 111,\n",
       "             'B00MV9LHPU': 8,\n",
       "             'B00FTGFAF0': 31,\n",
       "             'B00K4PISAA': 3,\n",
       "             'B004LLILEG': 153,\n",
       "             'B00CHSWJE8': 56,\n",
       "             'B00ELQD5K6': 18,\n",
       "             'B0145WHQPA': 277,\n",
       "             'B0172YGNGQ': 28,\n",
       "             'B00Q5BP0TY': 36,\n",
       "             'B0054SODRE': 7,\n",
       "             'B00O5C66KM': 4,\n",
       "             'B00BXLUDXO': 59,\n",
       "             'B00PMOSXSK': 84,\n",
       "             'B00HFG0MO6': 20,\n",
       "             'B0145WHCFO': 11,\n",
       "             'B00GXSCND0': 5,\n",
       "             'B004LLIKZ6': 43,\n",
       "             'B00H5BNIR4': 59,\n",
       "             'B00BXLVZZE': 9,\n",
       "             'B00H5BMNJI': 78,\n",
       "             'B004LLIL8M': 70,\n",
       "             'B017TGZ5ES': 20,\n",
       "             'B00MV9F2QU': 84,\n",
       "             'B004LLJ636': 2,\n",
       "             'B00VW9SC12': 38,\n",
       "             'B00GOLH5UC': 60,\n",
       "             'B00D2ZUNBQ': 20,\n",
       "             'B00EPLT6C8': 11,\n",
       "             'B00CT7874I': 52,\n",
       "             'B004LLIL78': 53,\n",
       "             'B00JQKJY02': 9,\n",
       "             'B00OD4M93U': 2,\n",
       "             'B00CT79ABW': 53,\n",
       "             'B00CT78IIS': 65,\n",
       "             'B004LLILKU': 23,\n",
       "             'B00Q5BOMP2': 13,\n",
       "             'B01F43RXOI': 12,\n",
       "             'B004KNWWOA': 120,\n",
       "             'B00GZAFY64': 2,\n",
       "             'B00OR54DES': 96,\n",
       "             'B007RFFX26': 25,\n",
       "             'B004KNWX1M': 52,\n",
       "             'B00NUZW4GA': 1,\n",
       "             'B00KN2X6V0': 4,\n",
       "             'B01GKWEJTO': 40,\n",
       "             'B0062ONBC2': 64,\n",
       "             'B00E1QB7VK': 34,\n",
       "             'B00P8N4ISE': 24,\n",
       "             'B00OGMDVCW': 16,\n",
       "             'B00B2TFBGG': 53,\n",
       "             'B00W20MW48': 13,\n",
       "             'B00BSXWOE8': 13,\n",
       "             'B00GXSDA9G': 4,\n",
       "             'B00MV9F8PA': 46,\n",
       "             'B00BXLTZ6K': 216,\n",
       "             'B015QELP0S': 50,\n",
       "             'B00AF0KAI2': 34,\n",
       "             'B00BWDHRKA': 2,\n",
       "             'B00GXSE5TK': 45,\n",
       "             'B00P8N3O7U': 46,\n",
       "             'B004LLILF0': 148,\n",
       "             'B00CT7CAK0': 5,\n",
       "             'B00I5428VM': 53,\n",
       "             'B004LLJ6U4': 8,\n",
       "             'B014LMWGCM': 31,\n",
       "             'B00BXLV46E': 34,\n",
       "             'B00N47FXDK': 20,\n",
       "             'B0145WH6MS': 24,\n",
       "             'B00PG40UYQ': 23,\n",
       "             'B00Q5BNP5U': 31,\n",
       "             'B004KNWWZY': 99,\n",
       "             'B0062ONGO0': 16,\n",
       "             'B00PMLDPYK': 86,\n",
       "             'B0145WHNXA': 117,\n",
       "             'B004RD965G': 3,\n",
       "             'B00G08KW2C': 62,\n",
       "             'B005EISOOC': 94,\n",
       "             'B00PG24V2A': 19,\n",
       "             'B00B2TFNIW': 104,\n",
       "             'B01GOQIKRI': 4,\n",
       "             'B00O5C6C4W': 4,\n",
       "             'B00HI3R3F2': 1,\n",
       "             'B0187SV7Y4': 12,\n",
       "             'B00BT1XEB6': 42,\n",
       "             'B00BXLUI5M': 104,\n",
       "             'B00H5BM6JU': 63,\n",
       "             'B00GXSDWXU': 4,\n",
       "             'B016PASBWC': 37,\n",
       "             'B004KNWX5I': 23,\n",
       "             'B01BLV4R8M': 152,\n",
       "             'B00H5BNSHY': 24,\n",
       "             'B0188LOZY4': 18,\n",
       "             'B00OD4L5DA': 23,\n",
       "             'B00H5BN7P2': 33,\n",
       "             'B004KNWWRC': 33,\n",
       "             'B00F6DN9KE': 5,\n",
       "             'B00PMLDJ7I': 42,\n",
       "             'B00H5BM98S': 52,\n",
       "             'B005EISOSS': 33,\n",
       "             'B004RD8XQE': 19,\n",
       "             'B00EPLT5CE': 14,\n",
       "             'B00PG40U9G': 11,\n",
       "             'B002QTM0Y2': 1,\n",
       "             'B004KNWWUE': 33,\n",
       "             'B018UPUJJI': 132,\n",
       "             'B00FRL7LCC': 14,\n",
       "             'B017TH161S': 13,\n",
       "             'B00H5BOFLM': 6,\n",
       "             'B00O5C4ZUK': 11,\n",
       "             'B00HI3QWKY': 5,\n",
       "             'B00H5BMZPU': 79,\n",
       "             'B0156VG62I': 21,\n",
       "             'B00O3YJS84': 37,\n",
       "             'B0062ONM0I': 10,\n",
       "             'B00JQKJYP2': 5,\n",
       "             'B004LLILL4': 26,\n",
       "             'B00PG40CO4': 41,\n",
       "             'B00GRLGF6O': 43,\n",
       "             'B00BXLV6OY': 10,\n",
       "             'B0052A20TC': 30,\n",
       "             'B0145WI0MI': 21,\n",
       "             'B00EEHVIBK': 20,\n",
       "             'B004KNWWR2': 48,\n",
       "             'B00PABVTS6': 51,\n",
       "             'B003755QI6': 5,\n",
       "             'B004LLIL96': 43,\n",
       "             'B00EPLT7NQ': 37,\n",
       "             'B00B0102K6': 1,\n",
       "             'B0052A21MS': 2,\n",
       "             'B00Q7Z38B0': 4,\n",
       "             'B00H5BMFPK': 105,\n",
       "             'B00JQKJMKE': 32,\n",
       "             'B00O4I5HWA': 49,\n",
       "             'B002XNOVDE': 8,\n",
       "             'B00PG40F14': 38,\n",
       "             'B00JJ59UA8': 88,\n",
       "             'B00PMOSVW8': 35,\n",
       "             'B00N47FWXQ': 23,\n",
       "             'B00H7M28OK': 2,\n",
       "             'B00K4PI66Q': 36,\n",
       "             'B00MV9OO2S': 20,\n",
       "             'B018T7GCBQ': 27,\n",
       "             'B00O988YK2': 1,\n",
       "             'B004KNWX9Y': 74,\n",
       "             'B015OTK510': 26,\n",
       "             'B00MV9L8DG': 17,\n",
       "             'B00GXSC0YW': 11,\n",
       "             'B002XNLC04': 23,\n",
       "             'B00CHSWEJI': 19,\n",
       "             'B00ACA3TII': 7,\n",
       "             'B00CJ0WVYC': 1,\n",
       "             'B00I542DM6': 34,\n",
       "             'B0108MW5N4': 13,\n",
       "             'B004LLJ66I': 6,\n",
       "             'B00BXLUQ6S': 57,\n",
       "             'B00BSXWOAC': 36,\n",
       "             'B0172YGY56': 10,\n",
       "             'B00CHSWHJK': 4,\n",
       "             'B015WY178W': 20,\n",
       "             'B00EPLSMGY': 26,\n",
       "             'B00GXSBZZC': 32,\n",
       "             'B00BXLU6CW': 67,\n",
       "             'B007EE5KKK': 53,\n",
       "             'B00IYFNQP4': 2,\n",
       "             'B00W1ZGD94': 3,\n",
       "             'B00P8N3QLY': 58,\n",
       "             'B004LLILD2': 16,\n",
       "             'B004LLJ6JK': 2,\n",
       "             'B005TNHWS6': 13,\n",
       "             'B009T8NHO0': 13,\n",
       "             'B00OH7WGTK': 4,\n",
       "             'B00H5BNK9A': 35,\n",
       "             'B004LLILMI': 71,\n",
       "             'B00P08BVBO': 23,\n",
       "             'B0172YHMMK': 22,\n",
       "             'B00MW8CMJU': 24,\n",
       "             'B00H5BNH5C': 11,\n",
       "             'B00AF0KA6E': 11,\n",
       "             'B01EO0M2ZW': 54,\n",
       "             'B00OV98F44': 52,\n",
       "             'B017TH4IKO': 6,\n",
       "             'B004D01QJ2': 6,\n",
       "             'B005EISP3M': 9,\n",
       "             'B00W20NJW2': 1,\n",
       "             'B00PG4FAH8': 56,\n",
       "             'B00FGEHKXU': 46,\n",
       "             'B00414Y7Y6': 20,\n",
       "             'B00GXSCBA0': 8,\n",
       "             'B00H5BMO6A': 24,\n",
       "             'B00CT7AC7I': 29,\n",
       "             'B00GRL9KCA': 46,\n",
       "             'B004KNWWPO': 42,\n",
       "             'B00VGLSEOG': 15,\n",
       "             'B016CDV4E4': 15,\n",
       "             'B00PG40DCA': 40,\n",
       "             'B007EE5YMY': 8,\n",
       "             'B00BWDHYYY': 2,\n",
       "             'B002NZXF9S': 10,\n",
       "             'B00CRQ47WC': 52,\n",
       "             'B016PASNX4': 14,\n",
       "             'B004LLJ6GI': 4,\n",
       "             'B00BT1XEZM': 84,\n",
       "             'B00GXSCRCC': 22,\n",
       "             'B00A48G1X8': 37,\n",
       "             'B00H5BMM94': 14,\n",
       "             'B007EE5PEQ': 27,\n",
       "             'B01BN3LM4A': 42,\n",
       "             'B017TH3S4Q': 6,\n",
       "             'B00NU8F23Y': 24,\n",
       "             'B00MV9H2B8': 44,\n",
       "             'B00JQKK3JS': 18,\n",
       "             'B0062ON91K': 56,\n",
       "             'B0062ONG18': 14,\n",
       "             'B00PMLDFSQ': 33,\n",
       "             'B004KNWX2Q': 30,\n",
       "             'B0187SWDSI': 1,\n",
       "             'B00KI1GKXC': 8,\n",
       "             'B004KNWX6M': 24,\n",
       "             'B00BXLTSS0': 26,\n",
       "             'B00O5C55CC': 3,\n",
       "             'B00W20NXXW': 1,\n",
       "             'B00BXLT3VC': 38,\n",
       "             'B005TIHMHW': 2,\n",
       "             'B01F43RW5S': 21,\n",
       "             'B00PG40J3I': 30,\n",
       "             'B004LLILBO': 26,\n",
       "             'B00OD4UWNY': 1,\n",
       "             'B018T7WFNA': 13,\n",
       "             'B009T8O7LW': 11,\n",
       "             'B00H5BLZVA': 36,\n",
       "             'B00EPLSS68': 16,\n",
       "             'B00GXSDPLE': 3,\n",
       "             'B01BN45ICQ': 33,\n",
       "             'B0187SVTQU': 56,\n",
       "             'B00P8N4L3G': 31,\n",
       "             'B00H5BMQEA': 49,\n",
       "             'B00CT7C03M': 3,\n",
       "             'B00Q5BOOLY': 11,\n",
       "             'B00GXSCPEC': 15,\n",
       "             'B0062ONLI6': 23,\n",
       "             'B00G3LBBGW': 29,\n",
       "             'B00MVA457Q': 3,\n",
       "             'B01GF7GNCA': 11,\n",
       "             'B00OD4MVAG': 6,\n",
       "             'B007V6ETLW': 57,\n",
       "             'B00JQKJO6G': 18,\n",
       "             'B00Q5BNFXC': 19,\n",
       "             'B00H5BNNY2': 20,\n",
       "             'B004KNWWQS': 63,\n",
       "             'B00HI3QRZE': 12,\n",
       "             'B00G4IW4LK': 23,\n",
       "             'B00CT7BGFA': 22,\n",
       "             'B004LLJ6P4': 2,\n",
       "             'B00O3YIGOG': 50,\n",
       "             'B005VUPI7O': 9,\n",
       "             'B01GF6WAC8': 2,\n",
       "             'B00I542D5I': 39,\n",
       "             'B00G4IUWR8': 26,\n",
       "             'B004LLJ5TQ': 23,\n",
       "             'B016CLZPOQ': 10,\n",
       "             'B00CT797R4': 30,\n",
       "             'B00OH7YAGW': 11,\n",
       "             'B00PG40DW0': 16,\n",
       "             'B002H9RN0C': 2,\n",
       "             'B00H5BM4CO': 42,\n",
       "             'B00MVA43Z0': 11,\n",
       "             'B00H5BNRVQ': 15,\n",
       "             'B00BXLW0K8': 16,\n",
       "             'B0172YMCIY': 10,\n",
       "             'B004KNWX44': 11,\n",
       "             'B00CMFWIGA': 7,\n",
       "             'B00GXSDJOC': 1,\n",
       "             'B00OSEKGMQ': 12,\n",
       "             'B01GKZ3LH2': 8,\n",
       "             'B00OD4LKQM': 2,\n",
       "             'B00MV9FY4K': 10,\n",
       "             'B00H5BNBJ4': 23,\n",
       "             'B00F2RZAC4': 24,\n",
       "             'B00G4IUFUW': 25,\n",
       "             'B004KNWWNG': 12,\n",
       "             'B00UUCWCPE': 12,\n",
       "             'B0062ONJEM': 29,\n",
       "             'B00G4IVZH4': 11,\n",
       "             'B00HI3QV1E': 1,\n",
       "             'B00CT7AWCI': 6,\n",
       "             'B00FGEHS00': 22,\n",
       "             'B00NU7UEGU': 27,\n",
       "             'B0172YIBP2': 16,\n",
       "             'B00MVA46R0': 19,\n",
       "             'B00BWDHT62': 3,\n",
       "             'B00B2TFM3I': 5,\n",
       "             'B00MV9PIY6': 10,\n",
       "             'B00TEEY3LA': 4,\n",
       "             'B00GP6WI44': 1,\n",
       "             'B00BSXWNTY': 47,\n",
       "             'B0145WHIXK': 20,\n",
       "             'B00JQKJP24': 7,\n",
       "             'B00OD4DR5E': 4,\n",
       "             'B00OX9OLYA': 18,\n",
       "             'B00OD4L2VU': 22,\n",
       "             'B00IYVZ6MY': 51,\n",
       "             'B007JXAY9S': 6,\n",
       "             'B00MV9MJLQ': 36,\n",
       "             'B00G4IUJQC': 7,\n",
       "             'B00MV9IE1K': 2,\n",
       "             'B00BWDH7SC': 27,\n",
       "             'B00BWDHCFK': 51,\n",
       "             'B004LLJ5UU': 14,\n",
       "             'B00G4IV8W6': 2,\n",
       "             'B00C5UMIJ4': 8,\n",
       "             'B001H53QE4': 8,\n",
       "             'B0187SU074': 14,\n",
       "             'B018U5OE5S': 2,\n",
       "             'B00WJN875Q': 2,\n",
       "             'B016PATDCE': 16,\n",
       "             'B01B25LZCI': 33,\n",
       "             'B00OD4LBSO': 6,\n",
       "             'B0108MGBA2': 1,\n",
       "             'B005EISPI2': 33,\n",
       "             'B00B2TFA5I': 1,\n",
       "             'B018T7WZFS': 20,\n",
       "             'B00MV9PN32': 12,\n",
       "             'B00EPLT2W2': 25,\n",
       "             'B00GOLH06Q': 13,\n",
       "             'B00P9VGZYA': 20,\n",
       "             'B00FTITVAS': 13,\n",
       "             'B00FA7XD5W': 1,\n",
       "             'B015NKKJXY': 2,\n",
       "             'B004KNWX7G': 3,\n",
       "             'B0145WHBJG': 19,\n",
       "             'B0093DHOA4': 3,\n",
       "             'B00U6OPWBM': 25,\n",
       "             'B00FRL7O9M': 23,\n",
       "             'B004LLJ5SM': 24,\n",
       "             'B00BWDHW2S': 11,\n",
       "             'B00HI3QX8A': 5,\n",
       "             'B00O4I4SAM': 29,\n",
       "             'B0172YLIIO': 8,\n",
       "             'B00GXSCJDY': 20,\n",
       "             'B00MV9I6QS': 17,\n",
       "             'B00WROYLMU': 7,\n",
       "             'B00I542E02': 26,\n",
       "             'B003CMYYGY': 4,\n",
       "             'B00OGQ7SAO': 54,\n",
       "             'B00PG41F3G': 3,\n",
       "             'B00PG4141O': 1,\n",
       "             'B00E1QAUUE': 8,\n",
       "             'B00PMOSWTU': 18,\n",
       "             'B00OGPYUV0': 5,\n",
       "             'B00Q80WDEM': 21,\n",
       "             'B015NKJ6D8': 44,\n",
       "             'B007WL1YC8': 1,\n",
       "             'B00P8N3YPC': 35,\n",
       "             'B004WKPVOO': 5,\n",
       "             'B00C5UMJKC': 34,\n",
       "             'B01EGBCJVQ': 22,\n",
       "             'B00CRQ496G': 81,\n",
       "             'B00CT777M6': 30,\n",
       "             'B00Q5BN7BC': 12,\n",
       "             'B0062ONFHI': 12,\n",
       "             'B005EISPF0': 14,\n",
       "             'B00MV9G598': 12,\n",
       "             'B00YD55RD8': 33,\n",
       "             'B00Q5BN5PK': 27,\n",
       "             'B00BXLU87U': 13,\n",
       "             'B00Q3NG6FQ': 10,\n",
       "             'B00PG40L0E': 15,\n",
       "             'B010RHMIAA': 17,\n",
       "             'B00MXD9CQA': 41,\n",
       "             'B0187SUXIU': 7,\n",
       "             'B00CT7B2KO': 4,\n",
       "             'B00K4PII50': 4,\n",
       "             'B00CT7A49O': 19,\n",
       "             'B00EPLSTE4': 20,\n",
       "             'B00HI3QW0E': 3,\n",
       "             'B00NVUBRHQ': 11,\n",
       "             'B002DN7XS4': 18,\n",
       "             'B004KNWX08': 20,\n",
       "             'B00G4IVGM8': 10,\n",
       "             'B00A7BQ44S': 1,\n",
       "             'B00OH7VV3C': 3,\n",
       "             'B004LLIL14': 7,\n",
       "             'B00MV9MEO8': 6,\n",
       "             'B00FZ5KKY6': 4,\n",
       "             'B004CZRZKW': 4,\n",
       "             'B004LLJ6VI': 30,\n",
       "             'B0187SUMAE': 3,\n",
       "             'B015RUEWZ6': 30,\n",
       "             'B0187SW06S': 40,\n",
       "             'B00GXSC204': 9,\n",
       "             'B004LLJ65O': 6,\n",
       "             'B00G4IVUHO': 6,\n",
       "             'B00P8N3JGG': 7,\n",
       "             'B004KNWX80': 32,\n",
       "             'B01GF6WISE': 5,\n",
       "             'B00PZFDFDE': 13,\n",
       "             'B00MV9G95S': 25,\n",
       "             'B00NM4II5A': 19,\n",
       "             'B00PG248V4': 21,\n",
       "             'B00BXLTCXG': 3,\n",
       "             'B00NU7V6JE': 19,\n",
       "             'B0062ONNL6': 5,\n",
       "             'B01GF6WRRG': 10,\n",
       "             'B00B2TFQJ8': 5,\n",
       "             'B00P3DVHT2': 39,\n",
       "             'B004KNWX8A': 31,\n",
       "             'B005580FS4': 22,\n",
       "             'B01A5V5XKA': 11,\n",
       "             'B00OD4K3NS': 1,\n",
       "             'B00K4PIL84': 33,\n",
       "             'B0046IIHMK': 4,\n",
       "             'B004KNWWPE': 59,\n",
       "             'B00VF0N90M': 13,\n",
       "             'B00OH7Z2TG': 8,\n",
       "             'B004W8D0Z8': 7,\n",
       "             'B00FA7XCIK': 4,\n",
       "             'B00IYFIKUA': 2,\n",
       "             'B00ACA3TWO': 4,\n",
       "             'B00P9VE9S4': 10,\n",
       "             'B00GBTLOF4': 1,\n",
       "             'B00CRQ43KS': 5,\n",
       "             'B00CT7CQ6I': 1,\n",
       "             'B0187SW6V2': 4,\n",
       "             'B0062ONBKY': 18,\n",
       "             'B00MV9FJ0E': 10,\n",
       "             'B00BWDHOLW': 20,\n",
       "             'B00BXLUP1E': 12,\n",
       "             'B00ACA3VW2': 4,\n",
       "             'B004LLIKW4': 12,\n",
       "             'B0187SVKF0': 6,\n",
       "             'B009T8O4E2': 12,\n",
       "             'B00CRQ4URY': 28,\n",
       "             'B00BSXWNXK': 32,\n",
       "             'B016CM11FW': 5,\n",
       "             'B00BSXWP74': 3,\n",
       "             'B004LLJ5Z0': 2,\n",
       "             'B00KY9QQGE': 32,\n",
       "             'B01GF6X20W': 15,\n",
       "             'B00GZAPAHM': 4,\n",
       "             'B017THJLZG': 11,\n",
       "             'B00F56P9AU': 11,\n",
       "             'B00GXSCS6C': 20,\n",
       "             'B0187SVQNG': 11,\n",
       "             'B004KNWX6W': 23,\n",
       "             'B001M1UVZA': 3,\n",
       "             'B002PY04EG': 10,\n",
       "             'B00BWDH8C2': 18,\n",
       "             'B00Q3MQ562': 3,\n",
       "             'B00W20OR8C': 1,\n",
       "             'B004LLILI2': 9,\n",
       "             'B00BXLUXYS': 13,\n",
       "             'B00GXSBUKC': 9,\n",
       "             'B00GXSBXTA': 6,\n",
       "             'B0187SUU88': 11,\n",
       "             'B00OH7ZB2O': 16,\n",
       "             'B00CHSWIVC': 21,\n",
       "             'B00G4IUQVK': 10,\n",
       "             'B00CXZP4L0': 2,\n",
       "             'B004RD967Y': 12,\n",
       "             ...})"
      ]
     },
     "execution_count": 394,
     "metadata": {},
     "output_type": "execute_result"
    }
   ],
   "source": [
    "rev_count"
   ]
  },
  {
   "cell_type": "code",
   "execution_count": 29,
   "metadata": {
    "scrolled": false
   },
   "outputs": [
    {
     "data": {
      "text/plain": [
       "Text(0.5, 1.0, 'distribution of review text length')"
      ]
     },
     "execution_count": 29,
     "metadata": {},
     "output_type": "execute_result"
    },
    {
     "data": {
      "image/png": "[encoded data removed]",
      "text/plain": [
       "<Figure size 432x288 with 1 Axes>"
      ]
     },
     "metadata": {
      "needs_background": "light"
     },
     "output_type": "display_data"
    }
   ],
   "source": [
    "sns.histplot(rev_len)\n",
    "plt.xlim(right=2000)\n",
    "plt.xlabel('len of review texts')\n",
    "plt.title('distribution of review text length')"
   ]
  },
  {
   "cell_type": "code",
   "execution_count": 28,
   "metadata": {},
   "outputs": [
    {
     "data": {
      "text/plain": [
       "Text(0.5, 1.0, 'distribution of number of reviews per item')"
      ]
     },
     "execution_count": 28,
     "metadata": {},
     "output_type": "execute_result"
    },
    {
     "data": {
      "image/png": "[encoded data removed]",
      "text/plain": [
       "<Figure size 432x288 with 1 Axes>"
      ]
     },
     "metadata": {
      "needs_background": "light"
     },
     "output_type": "display_data"
    }
   ],
   "source": [
    "sns.histplot(list(rev_count.values()))\n",
    "plt.xlim(right=3000)\n",
    "plt.xlabel('number of reviews')\n",
    "plt.title('distribution of number of reviews per item')"
   ]
  },
  {
   "cell_type": "markdown",
   "metadata": {},
   "source": [
    "## Separate Train/test split"
   ]
  },
  {
   "cell_type": "code",
   "execution_count": 24,
   "metadata": {},
   "outputs": [],
   "source": [
    "# random.shuffle(review_data)"
   ]
  },
  {
   "cell_type": "code",
   "execution_count": null,
   "metadata": {},
   "outputs": [],
   "source": [
    "# split the samples to ensure all user/item r seen in the val \n",
    "# will be in the train "
   ]
  },
  {
   "cell_type": "code",
   "execution_count": 31,
   "metadata": {},
   "outputs": [],
   "source": [
    "train_user_set = set()\n",
    "train_item_set = set()\n",
    "train_review_user = []\n",
    "train_review_item = []\n",
    "train_review_text = []\n",
    "train_review_rating = []\n",
    "test_review_user = []\n",
    "test_review_item = []\n",
    "test_review_text = []\n",
    "test_review_rating = []"
   ]
  },
  {
   "cell_type": "code",
   "execution_count": 33,
   "metadata": {},
   "outputs": [],
   "source": [
    "for d in review_data:\n",
    "    u, i = d['reviewerID'],d['asin']\n",
    "    if u not in train_user_set or i not in train_item_set:\n",
    "        train_user_set.add(u)\n",
    "        train_item_set.add(i)\n",
    "        train_review_user.append(u)\n",
    "        train_review_item.append(i)\n",
    "        if 'reviewText' in d:\n",
    "            train_review_text.append(d['reviewText'])\n",
    "        else:\n",
    "            train_review_text.append('')\n",
    "        train_review_rating.append(d['overall'])\n",
    "    else:\n",
    "        test_review_user.append(u)\n",
    "        test_review_item.append(i)\n",
    "        if 'reviewText' in d:\n",
    "            test_review_text.append(d['reviewText'])\n",
    "        else:\n",
    "            test_review_text.append('')\n",
    "        test_review_rating.append(d['overall'])"
   ]
  },
  {
   "cell_type": "code",
   "execution_count": 35,
   "metadata": {},
   "outputs": [
    {
     "data": {
      "text/plain": [
       "(129118, 18075)"
      ]
     },
     "execution_count": 35,
     "metadata": {},
     "output_type": "execute_result"
    }
   ],
   "source": [
    "len(train_review_item), len(test_review_item)"
   ]
  },
  {
   "cell_type": "code",
   "execution_count": 53,
   "metadata": {},
   "outputs": [],
   "source": [
    "# train_review_user = [i['reviewerID'] for i in train_review_data]\n",
    "# train_review_item = [i['asin'] for i in train_review_data]\n",
    "# train_review_text = [i['reviewText'] if 'text' in i else '' for i in train_review_data ]\n",
    "# train_review_rating = [i['overall'] for i in train_review_data]"
   ]
  },
  {
   "cell_type": "code",
   "execution_count": 54,
   "metadata": {},
   "outputs": [],
   "source": [
    "# test_review_user = [i['reviewerID'] for i in test_review_data]\n",
    "# test_review_item = [i['asin'] for i in test_review_data]\n",
    "# test_review_text = [i['reviewText'] if 'text' in i else '' for i in test_review_data]\n",
    "# test_review_rating = [i['overall'] for i in test_review_data]"
   ]
  },
  {
   "cell_type": "code",
   "execution_count": 319,
   "metadata": {},
   "outputs": [],
   "source": [
    "# test_df = pd.DataFrame({'reviewerID': test_review_user, 'asin':test_review_item,\\\n",
    "#                                       'text':test_review_text,'rating':test_review_rating})\n",
    "\n",
    "# # drop idx not matching train set \n",
    "# drop_idx = []\n",
    "# for i in range(test_df.shape[0]):\n",
    "#     user, item = test_df.loc[i]['reviewerID'], test_df.loc[i]['asin']\n",
    "#     if user not in user_set or item not in item_set:\n",
    "#         drop_idx.append(i)\n",
    "    \n",
    "\n",
    "# test_df.drop(test_df.index[drop_idx], inplace=True)\n",
    "\n",
    "# test_review_user = list(test_df['reviewerID'])\n",
    "# test_review_item = list(test_df['asin'])\n",
    "# test_review_text = list(test_df['text'])\n",
    "# test_review_rating = list(test_df['rating'])\n",
    "\n",
    "# test_df.shape\n",
    "\n",
    "# len(user_set), len(set([i['reviewerID'] for i in review_data]))"
   ]
  },
  {
   "cell_type": "markdown",
   "metadata": {},
   "source": [
    "## Building LDA model from training dataset"
   ]
  },
  {
   "cell_type": "code",
   "execution_count": 36,
   "metadata": {},
   "outputs": [],
   "source": [
    "user_item_rating_file  = pd.DataFrame({'reviewerID': train_review_user, 'asin':train_review_item,\\\n",
    "                                      'text':train_review_text,'rating':train_review_rating})"
   ]
  },
  {
   "cell_type": "code",
   "execution_count": 37,
   "metadata": {},
   "outputs": [
    {
     "data": {
      "text/html": [
       "<div>\n",
       "<style scoped>\n",
       "    .dataframe tbody tr th:only-of-type {\n",
       "        vertical-align: middle;\n",
       "    }\n",
       "\n",
       "    .dataframe tbody tr th {\n",
       "        vertical-align: top;\n",
       "    }\n",
       "\n",
       "    .dataframe thead th {\n",
       "        text-align: right;\n",
       "    }\n",
       "</style>\n",
       "<table border=\"1\" class=\"dataframe\">\n",
       "  <thead>\n",
       "    <tr style=\"text-align: right;\">\n",
       "      <th></th>\n",
       "      <th>reviewerID</th>\n",
       "      <th>asin</th>\n",
       "      <th>text</th>\n",
       "      <th>rating</th>\n",
       "    </tr>\n",
       "  </thead>\n",
       "  <tbody>\n",
       "    <tr>\n",
       "      <th>0</th>\n",
       "      <td>A11T2Q0EVTUWP</td>\n",
       "      <td>B001GXRQW0</td>\n",
       "      <td>aren't we going to save trees?! :) People who ...</td>\n",
       "      <td>5.0</td>\n",
       "    </tr>\n",
       "    <tr>\n",
       "      <th>1</th>\n",
       "      <td>A9YKGBH3SV22C</td>\n",
       "      <td>B001GXRQW0</td>\n",
       "      <td>You can always get someone something from Amaz...</td>\n",
       "      <td>5.0</td>\n",
       "    </tr>\n",
       "    <tr>\n",
       "      <th>2</th>\n",
       "      <td>A34WZIHVF3OKOL</td>\n",
       "      <td>B001GXRQW0</td>\n",
       "      <td>Why take 50 dollars of good money with no limi...</td>\n",
       "      <td>1.0</td>\n",
       "    </tr>\n",
       "    <tr>\n",
       "      <th>3</th>\n",
       "      <td>A221J8EC5HNPY6</td>\n",
       "      <td>B001GXRQW0</td>\n",
       "      <td>Gift Cards are the truly personal gift.  My on...</td>\n",
       "      <td>3.0</td>\n",
       "    </tr>\n",
       "    <tr>\n",
       "      <th>4</th>\n",
       "      <td>A204VFHD6JWASO</td>\n",
       "      <td>B001GXRQW0</td>\n",
       "      <td>I am a dedicated Amazon.com shopper, and, am a...</td>\n",
       "      <td>1.0</td>\n",
       "    </tr>\n",
       "    <tr>\n",
       "      <th>...</th>\n",
       "      <td>...</td>\n",
       "      <td>...</td>\n",
       "      <td>...</td>\n",
       "      <td>...</td>\n",
       "    </tr>\n",
       "    <tr>\n",
       "      <th>129113</th>\n",
       "      <td>A2K9WVQW9TLWNK</td>\n",
       "      <td>B01H5PPJT4</td>\n",
       "      <td>I always enjoy getting these Gift cards via em...</td>\n",
       "      <td>5.0</td>\n",
       "    </tr>\n",
       "    <tr>\n",
       "      <th>129114</th>\n",
       "      <td>A149ALSR6TPGF7</td>\n",
       "      <td>B01H5PPJT4</td>\n",
       "      <td>Worked great</td>\n",
       "      <td>4.0</td>\n",
       "    </tr>\n",
       "    <tr>\n",
       "      <th>129115</th>\n",
       "      <td>A2Q066NZCQSCOR</td>\n",
       "      <td>B01H5PPJT4</td>\n",
       "      <td>Gift card</td>\n",
       "      <td>5.0</td>\n",
       "    </tr>\n",
       "    <tr>\n",
       "      <th>129116</th>\n",
       "      <td>A1KJLWCW7XBS8I</td>\n",
       "      <td>B01H5PPJT4</td>\n",
       "      <td>What is there to say, It's a gift card.</td>\n",
       "      <td>5.0</td>\n",
       "    </tr>\n",
       "    <tr>\n",
       "      <th>129117</th>\n",
       "      <td>ANABUB0FRZXRM</td>\n",
       "      <td>B01H5PPJT4</td>\n",
       "      <td>No complaints, ordered it and within 5 or so m...</td>\n",
       "      <td>5.0</td>\n",
       "    </tr>\n",
       "  </tbody>\n",
       "</table>\n",
       "<p>129118 rows × 4 columns</p>\n",
       "</div>"
      ],
      "text/plain": [
       "            reviewerID        asin  \\\n",
       "0        A11T2Q0EVTUWP  B001GXRQW0   \n",
       "1        A9YKGBH3SV22C  B001GXRQW0   \n",
       "2       A34WZIHVF3OKOL  B001GXRQW0   \n",
       "3       A221J8EC5HNPY6  B001GXRQW0   \n",
       "4       A204VFHD6JWASO  B001GXRQW0   \n",
       "...                ...         ...   \n",
       "129113  A2K9WVQW9TLWNK  B01H5PPJT4   \n",
       "129114  A149ALSR6TPGF7  B01H5PPJT4   \n",
       "129115  A2Q066NZCQSCOR  B01H5PPJT4   \n",
       "129116  A1KJLWCW7XBS8I  B01H5PPJT4   \n",
       "129117   ANABUB0FRZXRM  B01H5PPJT4   \n",
       "\n",
       "                                                     text  rating  \n",
       "0       aren't we going to save trees?! :) People who ...     5.0  \n",
       "1       You can always get someone something from Amaz...     5.0  \n",
       "2       Why take 50 dollars of good money with no limi...     1.0  \n",
       "3       Gift Cards are the truly personal gift.  My on...     3.0  \n",
       "4       I am a dedicated Amazon.com shopper, and, am a...     1.0  \n",
       "...                                                   ...     ...  \n",
       "129113  I always enjoy getting these Gift cards via em...     5.0  \n",
       "129114                                       Worked great     4.0  \n",
       "129115                                          Gift card     5.0  \n",
       "129116            What is there to say, It's a gift card.     5.0  \n",
       "129117  No complaints, ordered it and within 5 or so m...     5.0  \n",
       "\n",
       "[129118 rows x 4 columns]"
      ]
     },
     "execution_count": 37,
     "metadata": {},
     "output_type": "execute_result"
    }
   ],
   "source": [
    "user_item_rating_file"
   ]
  },
  {
   "cell_type": "code",
   "execution_count": null,
   "metadata": {},
   "outputs": [],
   "source": [
    "# perform linear regression"
   ]
  },
  {
   "cell_type": "code",
   "execution_count": null,
   "metadata": {},
   "outputs": [],
   "source": [
    "# perform linear regression with LDA\n",
    "# we perform a\n",
    "# simple linear regression task with 10 generated topic features\n",
    "# and basic features which include business stars, user average\n",
    "# stars, and total votes."
   ]
  },
  {
   "cell_type": "code",
   "execution_count": 38,
   "metadata": {},
   "outputs": [],
   "source": [
    "def get_wordnet_pos(pos_tag):\n",
    "    if pos_tag.startswith('J'):\n",
    "        return wordnet.ADJ\n",
    "    elif pos_tag.startswith('V'):\n",
    "        return wordnet.VERB\n",
    "    elif pos_tag.startswith('N'):\n",
    "        return wordnet.NOUN\n",
    "    elif pos_tag.startswith('R'):\n",
    "        return wordnet.ADV\n",
    "    else:\n",
    "        return wordnet.NOUN"
   ]
  },
  {
   "cell_type": "code",
   "execution_count": 39,
   "metadata": {},
   "outputs": [],
   "source": [
    "\"\"\"clean the text\"\"\"\n",
    "\"\"\"including remove stopwords and punctuation\"\"\"\n",
    "def clean_text(text):\n",
    "    # lower text\n",
    "    text = text.lower()\n",
    "    # tokenize text and remove puncutation\n",
    "    text = [word.strip(string.punctuation) for word in text.split(\" \")]\n",
    "    # remove words that contain numbers\n",
    "    text = [word for word in text if not any(c.isdigit() for c in word)]\n",
    "    # remove stop words\n",
    "    stop = stopwords.words('english')\n",
    "    text = [x for x in text if x not in stop]\n",
    "    # remove empty tokens\n",
    "    text = [t for t in text if len(t) > 0]\n",
    "    # pos tag text\n",
    "    pos_tags = pos_tag(text)\n",
    "    # lemmatize text\n",
    "    text = [WordNetLemmatizer().lemmatize(t[0], get_wordnet_pos(t[1])) for t in pos_tags]\n",
    "    # remove words with only one letter\n",
    "    text = [t for t in text if len(t) > 1]\n",
    "    # join all\n",
    "    text = \" \".join(text)\n",
    "    return(text)"
   ]
  },
  {
   "cell_type": "code",
   "execution_count": 66,
   "metadata": {},
   "outputs": [],
   "source": [
    "# function to plot most frequent terms\n",
    "def freq_words(x, terms = 20):\n",
    "    all_words = ' '.join([text for text in x])\n",
    "    all_words = all_words.split()\n",
    "    \n",
    "    fdist = FreqDist(all_words)\n",
    "    words_df = pd.DataFrame({'word':list(fdist.keys()), 'count':list(fdist.values())})\n",
    "\n",
    "  # selecting top 20 most frequent words\n",
    "    d = words_df.nlargest(columns=\"count\", n = terms) \n",
    "    plt.figure(figsize=(20,10))\n",
    "    ax = sns.barplot(data=d, x= \"word\", y = \"count\")\n",
    "    ax.set(ylabel = 'Count')\n",
    "#     plt.bar(width=4)\n",
    "    ax.xaxis.get_label().set_fontsize(20)\n",
    "    ax.yaxis.get_label().set_fontsize(20)\n",
    "    plt.xticks(fontsize=12)\n",
    "    plt.title('requent words in review texts',fontsize=15)\n",
    "    plt.show()\n"
   ]
  },
  {
   "cell_type": "code",
   "execution_count": 41,
   "metadata": {},
   "outputs": [],
   "source": [
    "\"\"\"It reduces any given word to its base form \n",
    "# thereby reducing multiple forms of a word to a single word.\"\"\"\n",
    "def lemmatization(texts, tags=['NOUN', 'ADJ']): # filter noun and adjective\n",
    "    output = []\n",
    "    for sent in texts:\n",
    "        doc = nlp(\" \".join(sent)) \n",
    "        output.append([token.lemma_ for token in doc if token.pos_ in tags])\n",
    "    return output"
   ]
  },
  {
   "cell_type": "code",
   "execution_count": 42,
   "metadata": {},
   "outputs": [],
   "source": [
    "user_item_rating_file[\"review_clean\"] = user_item_rating_file[\"text\"].apply(lambda x: clean_text(x))"
   ]
  },
  {
   "cell_type": "code",
   "execution_count": 43,
   "metadata": {},
   "outputs": [
    {
     "data": {
      "text/html": [
       "<div>\n",
       "<style scoped>\n",
       "    .dataframe tbody tr th:only-of-type {\n",
       "        vertical-align: middle;\n",
       "    }\n",
       "\n",
       "    .dataframe tbody tr th {\n",
       "        vertical-align: top;\n",
       "    }\n",
       "\n",
       "    .dataframe thead th {\n",
       "        text-align: right;\n",
       "    }\n",
       "</style>\n",
       "<table border=\"1\" class=\"dataframe\">\n",
       "  <thead>\n",
       "    <tr style=\"text-align: right;\">\n",
       "      <th></th>\n",
       "      <th>reviewerID</th>\n",
       "      <th>asin</th>\n",
       "      <th>text</th>\n",
       "      <th>rating</th>\n",
       "      <th>review_clean</th>\n",
       "    </tr>\n",
       "  </thead>\n",
       "  <tbody>\n",
       "    <tr>\n",
       "      <th>0</th>\n",
       "      <td>A11T2Q0EVTUWP</td>\n",
       "      <td>B001GXRQW0</td>\n",
       "      <td>aren't we going to save trees?! :) People who ...</td>\n",
       "      <td>5.0</td>\n",
       "      <td>go save tree people complain paper gift card s...</td>\n",
       "    </tr>\n",
       "    <tr>\n",
       "      <th>1</th>\n",
       "      <td>A9YKGBH3SV22C</td>\n",
       "      <td>B001GXRQW0</td>\n",
       "      <td>You can always get someone something from Amaz...</td>\n",
       "      <td>5.0</td>\n",
       "      <td>always get someone something amazon safety net...</td>\n",
       "    </tr>\n",
       "    <tr>\n",
       "      <th>2</th>\n",
       "      <td>A34WZIHVF3OKOL</td>\n",
       "      <td>B001GXRQW0</td>\n",
       "      <td>Why take 50 dollars of good money with no limi...</td>\n",
       "      <td>1.0</td>\n",
       "      <td>take dollar good money limitation turn amazon ...</td>\n",
       "    </tr>\n",
       "    <tr>\n",
       "      <th>3</th>\n",
       "      <td>A221J8EC5HNPY6</td>\n",
       "      <td>B001GXRQW0</td>\n",
       "      <td>Gift Cards are the truly personal gift.  My on...</td>\n",
       "      <td>3.0</td>\n",
       "      <td>gift card truly personal gift problem receive ...</td>\n",
       "    </tr>\n",
       "    <tr>\n",
       "      <th>4</th>\n",
       "      <td>A204VFHD6JWASO</td>\n",
       "      <td>B001GXRQW0</td>\n",
       "      <td>I am a dedicated Amazon.com shopper, and, am a...</td>\n",
       "      <td>1.0</td>\n",
       "      <td>dedicate amazon.com shopper almost always happ...</td>\n",
       "    </tr>\n",
       "    <tr>\n",
       "      <th>...</th>\n",
       "      <td>...</td>\n",
       "      <td>...</td>\n",
       "      <td>...</td>\n",
       "      <td>...</td>\n",
       "      <td>...</td>\n",
       "    </tr>\n",
       "    <tr>\n",
       "      <th>129113</th>\n",
       "      <td>A2K9WVQW9TLWNK</td>\n",
       "      <td>B01H5PPJT4</td>\n",
       "      <td>I always enjoy getting these Gift cards via em...</td>\n",
       "      <td>5.0</td>\n",
       "      <td>always enjoy get gift card via email lowe's ho...</td>\n",
       "    </tr>\n",
       "    <tr>\n",
       "      <th>129114</th>\n",
       "      <td>A149ALSR6TPGF7</td>\n",
       "      <td>B01H5PPJT4</td>\n",
       "      <td>Worked great</td>\n",
       "      <td>4.0</td>\n",
       "      <td>work great</td>\n",
       "    </tr>\n",
       "    <tr>\n",
       "      <th>129115</th>\n",
       "      <td>A2Q066NZCQSCOR</td>\n",
       "      <td>B01H5PPJT4</td>\n",
       "      <td>Gift card</td>\n",
       "      <td>5.0</td>\n",
       "      <td>gift card</td>\n",
       "    </tr>\n",
       "    <tr>\n",
       "      <th>129116</th>\n",
       "      <td>A1KJLWCW7XBS8I</td>\n",
       "      <td>B01H5PPJT4</td>\n",
       "      <td>What is there to say, It's a gift card.</td>\n",
       "      <td>5.0</td>\n",
       "      <td>say gift card</td>\n",
       "    </tr>\n",
       "    <tr>\n",
       "      <th>129117</th>\n",
       "      <td>ANABUB0FRZXRM</td>\n",
       "      <td>B01H5PPJT4</td>\n",
       "      <td>No complaints, ordered it and within 5 or so m...</td>\n",
       "      <td>5.0</td>\n",
       "      <td>complaint order within minute receive email co...</td>\n",
       "    </tr>\n",
       "  </tbody>\n",
       "</table>\n",
       "<p>129118 rows × 5 columns</p>\n",
       "</div>"
      ],
      "text/plain": [
       "            reviewerID        asin  \\\n",
       "0        A11T2Q0EVTUWP  B001GXRQW0   \n",
       "1        A9YKGBH3SV22C  B001GXRQW0   \n",
       "2       A34WZIHVF3OKOL  B001GXRQW0   \n",
       "3       A221J8EC5HNPY6  B001GXRQW0   \n",
       "4       A204VFHD6JWASO  B001GXRQW0   \n",
       "...                ...         ...   \n",
       "129113  A2K9WVQW9TLWNK  B01H5PPJT4   \n",
       "129114  A149ALSR6TPGF7  B01H5PPJT4   \n",
       "129115  A2Q066NZCQSCOR  B01H5PPJT4   \n",
       "129116  A1KJLWCW7XBS8I  B01H5PPJT4   \n",
       "129117   ANABUB0FRZXRM  B01H5PPJT4   \n",
       "\n",
       "                                                     text  rating  \\\n",
       "0       aren't we going to save trees?! :) People who ...     5.0   \n",
       "1       You can always get someone something from Amaz...     5.0   \n",
       "2       Why take 50 dollars of good money with no limi...     1.0   \n",
       "3       Gift Cards are the truly personal gift.  My on...     3.0   \n",
       "4       I am a dedicated Amazon.com shopper, and, am a...     1.0   \n",
       "...                                                   ...     ...   \n",
       "129113  I always enjoy getting these Gift cards via em...     5.0   \n",
       "129114                                       Worked great     4.0   \n",
       "129115                                          Gift card     5.0   \n",
       "129116            What is there to say, It's a gift card.     5.0   \n",
       "129117  No complaints, ordered it and within 5 or so m...     5.0   \n",
       "\n",
       "                                             review_clean  \n",
       "0       go save tree people complain paper gift card s...  \n",
       "1       always get someone something amazon safety net...  \n",
       "2       take dollar good money limitation turn amazon ...  \n",
       "3       gift card truly personal gift problem receive ...  \n",
       "4       dedicate amazon.com shopper almost always happ...  \n",
       "...                                                   ...  \n",
       "129113  always enjoy get gift card via email lowe's ho...  \n",
       "129114                                         work great  \n",
       "129115                                          gift card  \n",
       "129116                                      say gift card  \n",
       "129117  complaint order within minute receive email co...  \n",
       "\n",
       "[129118 rows x 5 columns]"
      ]
     },
     "execution_count": 43,
     "metadata": {},
     "output_type": "execute_result"
    }
   ],
   "source": [
    "user_item_rating_file"
   ]
  },
  {
   "cell_type": "code",
   "execution_count": 67,
   "metadata": {},
   "outputs": [
    {
     "data": {
      "image/png": "[encoded data removed]",
      "text/plain": [
       "<Figure size 1440x720 with 1 Axes>"
      ]
     },
     "metadata": {
      "needs_background": "light"
     },
     "output_type": "display_data"
    }
   ],
   "source": [
    "freq_words(user_item_rating_file[\"review_clean\"])"
   ]
  },
  {
   "cell_type": "code",
   "execution_count": 46,
   "metadata": {},
   "outputs": [],
   "source": [
    "reviews = user_item_rating_file['review_clean']"
   ]
  },
  {
   "cell_type": "code",
   "execution_count": 47,
   "metadata": {},
   "outputs": [],
   "source": [
    "nlp = spacy.load('en', disable=['parser', 'ner'])"
   ]
  },
  {
   "cell_type": "code",
   "execution_count": 48,
   "metadata": {},
   "outputs": [
    {
     "name": "stdout",
     "output_type": "stream",
     "text": [
      "['always', 'get', 'someone', 'something', 'amazon', 'safety', 'net', 'return', 'like', 'return', 'thing', 'hassle', 'card', 'take', 'care', 'that--no', 'return', 'hassle']\n"
     ]
    }
   ],
   "source": [
    "tokenized_reviews = pd.Series(reviews).apply(lambda x: x.split())\n",
    "print(tokenized_reviews[1])"
   ]
  },
  {
   "cell_type": "code",
   "execution_count": 49,
   "metadata": {},
   "outputs": [
    {
     "name": "stdout",
     "output_type": "stream",
     "text": [
      "['net', 'return', 'return', 'thing', 'hassle', 'card', 'care', 'return', 'hassle']\n"
     ]
    }
   ],
   "source": [
    "reviews_2 = lemmatization(tokenized_reviews)\n",
    "print(reviews_2[1]) # print lemmatized review"
   ]
  },
  {
   "cell_type": "code",
   "execution_count": 50,
   "metadata": {},
   "outputs": [],
   "source": [
    "def LDA_model(reviews=reviews_2):\n",
    "    dictionary = corpora.Dictionary(reviews)\n",
    "    doc_term_matrix = [dictionary.doc2bow(rev) for rev in reviews]  \n",
    "    # Creating the object for LDA model using gensim library\n",
    "    LDA = gensim.models.ldamodel.LdaModel\n",
    "\n",
    "    # Build LDA model\n",
    "    lda_model = LDA(corpus=doc_term_matrix, id2word=dictionary, num_topics=7, random_state=100,\n",
    "                chunksize=1000, passes=50)\n",
    "    return lda_model, dictionary, doc_term_matrix"
   ]
  },
  {
   "cell_type": "code",
   "execution_count": 51,
   "metadata": {
    "scrolled": false
   },
   "outputs": [],
   "source": [
    "lda_model,dictionary, doc_term_matrix = LDA_model()"
   ]
  },
  {
   "cell_type": "markdown",
   "metadata": {},
   "source": [
    "## WordCloud"
   ]
  },
  {
   "cell_type": "code",
   "execution_count": 55,
   "metadata": {},
   "outputs": [],
   "source": [
    "from wordcloud import WordCloud"
   ]
  },
  {
   "cell_type": "code",
   "execution_count": 56,
   "metadata": {},
   "outputs": [
    {
     "name": "stdout",
     "output_type": "stream",
     "text": [
      "{'love': 0.22336636, 'cute': 0.11170245, 'birthday': 0.06755303, 'happy': 0.05493272, 'present': 0.044008713, 'daughter': 0.038271304, 'son': 0.026042232, 'shop': 0.023826893, 'year': 0.020854807, 'law': 0.019149393}\n"
     ]
    },
    {
     "data": {
      "image/png": "[encoded data removed]",
      "text/plain": [
       "<Figure size 432x288 with 1 Axes>"
      ]
     },
     "metadata": {
      "needs_background": "light"
     },
     "output_type": "display_data"
    },
    {
     "name": "stdout",
     "output_type": "stream",
     "text": [
      "{'great': 0.32348233, 'gift': 0.091546744, 'idea': 0.048492867, 'work': 0.0404757, 'deal': 0.025065692, 'food': 0.023977593, 'book': 0.020225326, 'mom': 0.017341372, 'item': 0.01662816, 'price': 0.01543234}\n"
     ]
    },
    {
     "data": {
      "image/png": "[encoded data removed]",
      "text/plain": [
       "<Figure size 432x288 with 1 Axes>"
      ]
     },
     "metadata": {
      "needs_background": "light"
     },
     "output_type": "display_data"
    },
    {
     "name": "stdout",
     "output_type": "stream",
     "text": [
      "{'good': 0.20921883, 'nice': 0.096286975, 'product': 0.057327, 'awesome': 0.033587955, 'holder': 0.027186094, 'packaging': 0.02590319, 'quality': 0.022303829, 'picture': 0.021560922, 'right': 0.01736981, 'mother': 0.015311663}\n"
     ]
    },
    {
     "data": {
      "image/png": "[encoded data removed]",
      "text/plain": [
       "<Figure size 432x288 with 1 Axes>"
      ]
     },
     "metadata": {
      "needs_background": "light"
     },
     "output_type": "display_data"
    },
    {
     "name": "stdout",
     "output_type": "stream",
     "text": [
      "{'perfect': 0.16754313, 'gift': 0.089601256, 'fast': 0.05590532, 'wrong': 0.042301137, 'excellent': 0.029478386, 'delivery': 0.023559794, 'fun': 0.02031648, 'certificate': 0.01781888, 'way': 0.016629115, 'thank': 0.015884696}\n"
     ]
    },
    {
     "data": {
      "image/png": "[encoded data removed]",
      "text/plain": [
       "<Figure size 432x288 with 1 Axes>"
      ]
     },
     "metadata": {
      "needs_background": "light"
     },
     "output_type": "display_data"
    },
    {
     "name": "stdout",
     "output_type": "stream",
     "text": [
      "{'card': 0.26999286, 'gift': 0.23374687, 'box': 0.018871164, 'recipient': 0.014573844, 'work': 0.011057812, 'little': 0.010773633, 'person': 0.008893586, 'big': 0.008668125, 'much': 0.0077096713, 'receive': 0.007408097}\n"
     ]
    },
    {
     "data": {
      "image/png": "[encoded data removed]",
      "text/plain": [
       "<Figure size 432x288 with 1 Axes>"
      ]
     },
     "metadata": {
      "needs_background": "light"
     },
     "output_type": "display_data"
    },
    {
     "name": "stdout",
     "output_type": "stream",
     "text": [
      "{'gift': 0.11315061, 'easy': 0.10807336, 'card': 0.06434808, 'way': 0.04874778, 'use': 0.048373315, 'minute': 0.040125463, 'print': 0.030630175, 'convenient': 0.028939508, 'friend': 0.027589852, 'last': 0.025910597}\n"
     ]
    },
    {
     "data": {
      "image/png": "[encoded data removed]",
      "text/plain": [
       "<Figure size 432x288 with 1 Axes>"
      ]
     },
     "metadata": {
      "needs_background": "light"
     },
     "output_type": "display_data"
    },
    {
     "name": "stdout",
     "output_type": "stream",
     "text": [
      "{'card': 0.0704845, 'time': 0.029140819, 'use': 0.02848538, 'order': 0.025279934, 'day': 0.023205243, 'money': 0.02265677, 'work': 0.020872971, 'problem': 0.01892736, 'purchase': 0.015578896, 'store': 0.013560383}\n"
     ]
    },
    {
     "data": {
      "image/png": "[encoded data removed]",
      "text/plain": [
       "<Figure size 432x288 with 1 Axes>"
      ]
     },
     "metadata": {
      "needs_background": "light"
     },
     "output_type": "display_data"
    }
   ],
   "source": [
    "for t in range(lda_model.num_topics):\n",
    "    plt.figure()\n",
    "    word_frequence = {x[0]: x[1] for x in lda_model.show_topic(t)}\n",
    "    print(word_frequence)\n",
    "    plt.imshow(WordCloud().fit_words(word_frequence))\n",
    "    plt.axis(\"off\")\n",
    "    plt.title(\"Topic #\" + str(t))\n",
    "    plt.show()"
   ]
  },
  {
   "cell_type": "code",
   "execution_count": 57,
   "metadata": {},
   "outputs": [
    {
     "data": {
      "text/plain": [
       "[(0,\n",
       "  '0.223*\"love\" + 0.112*\"cute\" + 0.068*\"birthday\" + 0.055*\"happy\" + 0.044*\"present\" + 0.038*\"daughter\" + 0.026*\"son\" + 0.024*\"shop\" + 0.021*\"year\" + 0.019*\"law\"'),\n",
       " (1,\n",
       "  '0.323*\"great\" + 0.092*\"gift\" + 0.048*\"idea\" + 0.040*\"work\" + 0.025*\"deal\" + 0.024*\"food\" + 0.020*\"book\" + 0.017*\"mom\" + 0.017*\"item\" + 0.015*\"price\"'),\n",
       " (2,\n",
       "  '0.209*\"good\" + 0.096*\"nice\" + 0.057*\"product\" + 0.034*\"awesome\" + 0.027*\"holder\" + 0.026*\"packaging\" + 0.022*\"quality\" + 0.022*\"picture\" + 0.017*\"right\" + 0.015*\"mother\"'),\n",
       " (3,\n",
       "  '0.168*\"perfect\" + 0.090*\"gift\" + 0.056*\"fast\" + 0.042*\"wrong\" + 0.029*\"excellent\" + 0.024*\"delivery\" + 0.020*\"fun\" + 0.018*\"certificate\" + 0.017*\"way\" + 0.016*\"thank\"'),\n",
       " (4,\n",
       "  '0.270*\"card\" + 0.234*\"gift\" + 0.019*\"box\" + 0.015*\"recipient\" + 0.011*\"work\" + 0.011*\"little\" + 0.009*\"person\" + 0.009*\"big\" + 0.008*\"much\" + 0.007*\"receive\"'),\n",
       " (5,\n",
       "  '0.113*\"gift\" + 0.108*\"easy\" + 0.064*\"card\" + 0.049*\"way\" + 0.048*\"use\" + 0.040*\"minute\" + 0.031*\"print\" + 0.029*\"convenient\" + 0.028*\"friend\" + 0.026*\"last\"'),\n",
       " (6,\n",
       "  '0.070*\"card\" + 0.029*\"time\" + 0.028*\"use\" + 0.025*\"order\" + 0.023*\"day\" + 0.023*\"money\" + 0.021*\"work\" + 0.019*\"problem\" + 0.016*\"purchase\" + 0.014*\"store\"')]"
      ]
     },
     "execution_count": 57,
     "metadata": {},
     "output_type": "execute_result"
    }
   ],
   "source": [
    "lda_model.print_topics()"
   ]
  },
  {
   "cell_type": "code",
   "execution_count": 81,
   "metadata": {},
   "outputs": [
    {
     "name": "stderr",
     "output_type": "stream",
     "text": [
      "/Library/Frameworks/Python.framework/Versions/3.7/lib/python3.7/site-packages/pyLDAvis/_prepare.py:257: FutureWarning: Sorting because non-concatenation axis is not aligned. A future version\n",
      "of pandas will change to not sort by default.\n",
      "\n",
      "To accept the future behavior, pass 'sort=False'.\n",
      "\n",
      "To retain the current behavior and silence the warning, pass 'sort=True'.\n",
      "\n",
      "  return pd.concat([default_term_info] + list(topic_dfs))\n"
     ]
    },
    {
     "data": {
      "text/html": [
       "\n",
       "<link rel=\"stylesheet\" type=\"text/css\" href=\"https://cdn.rawgit.com/bmabey/pyLDAvis/files/ldavis.v1.0.0.css\">\n",
       "\n",
       "\n",
       "<div id=\"ldavis_el69796140610084393296543166114\"></div>\n",
       "<script type=\"text/javascript\">\n",
       "\n",
       "var ldavis_el69796140610084393296543166114_data = {\"mdsDat\": {\"x\": [-0.07088258554534278, 0.015285601285307975, 0.01384555137251168, 0.009565766003542227, 0.010863373941159025, 0.011487127061874889, 0.009835165880946996], \"y\": [-0.00032558267324356044, -0.010995312000815027, 0.008132790702559527, 0.0018275801734969322, 0.0005264594045508752, 0.0005958679702029837, 0.0002381964232482766], \"topics\": [1, 2, 3, 4, 5, 6, 7], \"cluster\": [1, 1, 1, 1, 1, 1, 1], \"Freq\": [66.35098266601562, 7.0833587646484375, 6.390010356903076, 5.730785846710205, 5.059939861297607, 4.955795764923096, 4.429131507873535]}, \"tinfo\": {\"Category\": [\"Default\", \"Default\", \"Default\", \"Default\", \"Default\", \"Default\", \"Default\", \"Default\", \"Default\", \"Default\", \"Default\", \"Default\", \"Default\", \"Default\", \"Default\", \"Default\", \"Default\", \"Default\", \"Default\", \"Default\", \"Default\", \"Default\", \"Default\", \"Default\", \"Default\", \"Default\", \"Default\", \"Default\", \"Default\", \"Default\", \"Topic1\", \"Topic1\", \"Topic1\", \"Topic1\", \"Topic1\", \"Topic1\", \"Topic1\", \"Topic1\", \"Topic1\", \"Topic1\", \"Topic1\", \"Topic1\", \"Topic1\", \"Topic1\", \"Topic1\", \"Topic1\", \"Topic1\", \"Topic1\", \"Topic1\", \"Topic1\", \"Topic1\", \"Topic1\", \"Topic1\", \"Topic1\", \"Topic1\", \"Topic1\", \"Topic1\", \"Topic1\", \"Topic1\", \"Topic1\", \"Topic2\", \"Topic2\", \"Topic2\", \"Topic2\", \"Topic2\", \"Topic2\", \"Topic2\", \"Topic2\", \"Topic2\", \"Topic2\", \"Topic2\", \"Topic2\", \"Topic2\", \"Topic2\", \"Topic2\", \"Topic2\", \"Topic2\", \"Topic2\", \"Topic2\", \"Topic2\", \"Topic2\", \"Topic2\", \"Topic2\", \"Topic2\", \"Topic2\", \"Topic2\", \"Topic2\", \"Topic2\", \"Topic2\", \"Topic2\", \"Topic2\", \"Topic2\", \"Topic3\", \"Topic3\", \"Topic3\", \"Topic3\", \"Topic3\", \"Topic3\", \"Topic3\", \"Topic3\", \"Topic3\", \"Topic3\", \"Topic3\", \"Topic3\", \"Topic3\", \"Topic3\", \"Topic3\", \"Topic3\", \"Topic3\", \"Topic3\", \"Topic3\", \"Topic3\", \"Topic3\", \"Topic3\", \"Topic3\", \"Topic3\", \"Topic3\", \"Topic3\", \"Topic3\", \"Topic3\", \"Topic3\", \"Topic3\", \"Topic3\", \"Topic3\", \"Topic3\", \"Topic4\", \"Topic4\", \"Topic4\", \"Topic4\", \"Topic4\", \"Topic4\", \"Topic4\", \"Topic4\", \"Topic4\", \"Topic4\", \"Topic4\", \"Topic4\", \"Topic4\", \"Topic4\", \"Topic4\", \"Topic4\", \"Topic4\", \"Topic4\", \"Topic4\", \"Topic4\", \"Topic4\", \"Topic4\", \"Topic4\", \"Topic4\", \"Topic4\", \"Topic4\", \"Topic4\", \"Topic4\", \"Topic4\", \"Topic4\", \"Topic4\", \"Topic4\", \"Topic4\", \"Topic4\", \"Topic4\", \"Topic4\", \"Topic5\", \"Topic5\", \"Topic5\", \"Topic5\", \"Topic5\", \"Topic5\", \"Topic5\", \"Topic5\", \"Topic5\", \"Topic5\", \"Topic5\", \"Topic5\", \"Topic5\", \"Topic5\", \"Topic5\", \"Topic5\", \"Topic5\", \"Topic5\", \"Topic5\", \"Topic5\", \"Topic5\", \"Topic5\", \"Topic5\", \"Topic5\", \"Topic5\", \"Topic5\", \"Topic5\", \"Topic5\", \"Topic5\", \"Topic5\", \"Topic5\", \"Topic5\", \"Topic6\", \"Topic6\", \"Topic6\", \"Topic6\", \"Topic6\", \"Topic6\", \"Topic6\", \"Topic6\", \"Topic6\", \"Topic6\", \"Topic6\", \"Topic6\", \"Topic6\", \"Topic6\", \"Topic6\", \"Topic6\", \"Topic6\", \"Topic6\", \"Topic6\", \"Topic6\", \"Topic6\", \"Topic6\", \"Topic6\", \"Topic6\", \"Topic6\", \"Topic6\", \"Topic6\", \"Topic6\", \"Topic6\", \"Topic6\", \"Topic6\", \"Topic6\", \"Topic7\", \"Topic7\", \"Topic7\", \"Topic7\", \"Topic7\", \"Topic7\", \"Topic7\", \"Topic7\", \"Topic7\", \"Topic7\", \"Topic7\", \"Topic7\", \"Topic7\", \"Topic7\", \"Topic7\", \"Topic7\", \"Topic7\", \"Topic7\", \"Topic7\", \"Topic7\", \"Topic7\", \"Topic7\", \"Topic7\", \"Topic7\", \"Topic7\", \"Topic7\", \"Topic7\", \"Topic7\", \"Topic7\", \"Topic7\", \"Topic7\", \"Topic7\"], \"Freq\": [3047.0, 3010.0, 161.0, 110.0, 73.0, 524.0, 69.0, 59.0, 53.0, 47.0, 38.0, 35.0, 41.0, 38.0, 38.0, 36.0, 35.0, 32.0, 33.0, 30.0, 82.0, 25.0, 26.0, 117.0, 445.0, 26.0, 27.0, 424.0, 27.0, 22.0, 3040.39892578125, 3003.10595703125, 438.3377685546875, 417.2150573730469, 347.0720520019531, 307.9012145996094, 283.28472900390625, 254.5838165283203, 247.03404235839844, 228.20394897460938, 219.71104431152344, 204.45777893066406, 190.0924835205078, 183.31817626953125, 162.7888641357422, 160.58226013183594, 152.4078369140625, 499.0628356933594, 140.29400634765625, 139.60157775878906, 137.96340942382812, 137.7957000732422, 134.84494018554688, 131.98492431640625, 131.7567901611328, 131.51695251464844, 129.82154846191406, 123.20113372802734, 120.84625244140625, 116.7027587890625, 145.3232421875, 37.732666015625, 25.64053726196289, 11.887619018554688, 9.999068260192871, 6.949181079864502, 5.814647674560547, 4.982892990112305, 4.380890846252441, 4.309291839599609, 3.646759033203125, 3.640742301940918, 3.5869498252868652, 3.1604676246643066, 3.0346174240112305, 2.9516727924346924, 2.935614585876465, 2.6939291954040527, 2.668346881866455, 5.943408012390137, 2.611692190170288, 2.6566689014434814, 2.5588197708129883, 2.5572760105133057, 2.348453998565674, 2.2911930084228516, 2.9412331581115723, 2.1677968502044678, 2.135732889175415, 2.138728141784668, 2.683274507522583, 2.838339328765869, 94.59687805175781, 31.73626708984375, 22.96044158935547, 22.84567642211914, 10.947784423828125, 6.4919352531433105, 6.253601551055908, 4.0068745613098145, 3.0527572631835938, 2.972470998764038, 3.5396230220794678, 2.7683794498443604, 2.6379833221435547, 2.5295660495758057, 2.3486709594726562, 2.2284936904907227, 2.2523205280303955, 2.203101873397827, 2.131382942199707, 4.383764266967773, 2.106250286102295, 2.0905234813690186, 2.088042736053467, 2.0955400466918945, 2.0617637634277344, 2.000896692276001, 1.9638776779174805, 1.9514946937561035, 1.9309970140457153, 1.9143186807632446, 3.888585329055786, 2.2639288902282715, 3.475968837738037, 53.616268157958984, 20.240909576416016, 19.967679977416992, 17.17677879333496, 10.735979080200195, 7.466452598571777, 6.7551140785217285, 5.95103120803833, 3.455605983734131, 3.1703357696533203, 3.1359262466430664, 2.875908374786377, 2.8536598682403564, 2.7740705013275146, 2.7058827877044678, 2.572701930999756, 2.5536460876464844, 2.4947736263275146, 2.4579849243164062, 2.12043833732605, 2.1121861934661865, 2.106649160385132, 2.0372352600097656, 2.01343035697937, 1.9896783828735352, 1.9890538454055786, 1.9624544382095337, 1.9512542486190796, 1.9186604022979736, 1.8382282257080078, 3.4139676094055176, 19.176029205322266, 6.484063148498535, 4.520169734954834, 4.334784984588623, 3.891913414001465, 43.3501091003418, 14.095061302185059, 5.941685676574707, 5.5926384925842285, 5.406762599945068, 5.057990550994873, 3.6138875484466553, 3.2362403869628906, 2.923621416091919, 2.7930805683135986, 2.689878463745117, 2.6867048740386963, 2.6890623569488525, 2.6012539863586426, 2.434882164001465, 2.240886688232422, 2.2367734909057617, 2.2051901817321777, 2.133962392807007, 2.0407228469848633, 2.0069327354431152, 1.8717180490493774, 1.8298088312149048, 1.7865705490112305, 1.7799583673477173, 1.776025652885437, 1.743536353111267, 1.7242631912231445, 1.7025260925292969, 1.6822750568389893, 1.6850606203079224, 3.5390729904174805, 57.75844192504883, 16.484092712402344, 6.783175945281982, 5.296544075012207, 4.873009204864502, 4.322265625, 3.3527398109436035, 2.811441659927368, 2.3827106952667236, 2.2968361377716064, 2.1685335636138916, 2.1153647899627686, 2.064464569091797, 1.9887913465499878, 1.9508874416351318, 2.858518123626709, 1.7973750829696655, 1.7211967706680298, 1.701967716217041, 1.6347441673278809, 1.6181036233901978, 1.6797786951065063, 1.5755473375320435, 1.5681809186935425, 1.7028682231903076, 1.5609475374221802, 1.5435922145843506, 1.541579246520996, 1.539392113685608, 1.5237622261047363, 2.0665061473846436, 1.5964961051940918, 22.004070281982422, 18.894807815551758, 9.64400577545166, 4.698901653289795, 3.983337640762329, 3.3601632118225098, 2.5907487869262695, 2.4634101390838623, 2.3392558097839355, 2.0705769062042236, 2.0458152294158936, 1.9416139125823975, 2.164060115814209, 1.8802272081375122, 1.878089427947998, 1.8486883640289307, 1.8244200944900513, 1.8141981363296509, 1.7055619955062866, 1.6973968744277954, 1.6417845487594604, 1.6334311962127686, 1.6216936111450195, 1.5775630474090576, 1.5676161050796509, 1.5362660884857178, 1.520391821861267, 1.5444331169128418, 1.4737244844436646, 1.4564316272735596, 5.220016002655029, 3.0939083099365234], \"Term\": [\"gift\", \"card\", \"great\", \"love\", \"good\", \"easy\", \"perfect\", \"time\", \"cute\", \"minute\", \"work\", \"happy\", \"idea\", \"convenient\", \"last\", \"quick\", \"fast\", \"product\", \"delivery\", \"problem\", \"service\", \"excellent\", \"simple\", \"thank\", \"use\", \"awesome\", \"tin\", \"way\", \"deal\", \"food\", \"gift\", \"card\", \"use\", \"way\", \"purchase\", \"birthday\", \"order\", \"nice\", \"recipient\", \"friend\", \"day\", \"able\", \"email\", \"print\", \"family\", \"person\", \"present\", \"easy\", \"money\", \"item\", \"year\", \"box\", \"book\", \"wrong\", \"store\", \"shop\", \"much\", \"thing\", \"buy\", \"mail\", \"great\", \"cute\", \"idea\", \"tin\", \"deal\", \"packaging\", \"give\", \"presentation\", \"country\", \"holder\", \"container\", \"discount\", \"grandkid\", \"adult\", \"cupcake\", \"dent\", \"practical\", \"lightning\", \"anniversary\", \"price\", \"effort\", \"postage\", \"click\", \"man\", \"spot\", \"black\", \"stock\", \"easter\", \"ribbon\", \"stuffer\", \"attractive\", \"super\", \"love\", \"minute\", \"convenient\", \"last\", \"awesome\", \"home\", \"color\", \"husband\", \"leave\", \"printer\", \"fit\", \"guy\", \"shopper\", \"form\", \"excite\", \"non\", \"self\", \"fill\", \"wing\", \"size\", \"treat\", \"true\", \"snowflake\", \"personalized\", \"similar\", \"graphic\", \"stress\", \"recepient\", \"flower\", \"question\", \"shopping\", \"starbuck\", \"occasion\", \"perfect\", \"quick\", \"fast\", \"delivery\", \"simple\", \"shipping\", \"fun\", \"pleased\", \"transaction\", \"expectation\", \"excelent\", \"funny\", \"season\", \"track\", \"condition\", \"reliable\", \"advertise\", \"car\", \"lovely\", \"smooth\", \"worker\", \"spend\", \"co\", \"appreciation\", \"prompt\", \"speedy\", \"unique\", \"taste\", \"info\", \"winner\", \"case\", \"easy\", \"thank\", \"design\", \"ship\", \"free\", \"time\", \"problem\", \"number\", \"code\", \"first\", \"fine\", \"grandson\", \"appreciate\", \"correct\", \"buying\", \"promise\", \"boy\", \"multiple\", \"system\", \"confirmation\", \"change\", \"seller\", \"purpose\", \"dinner\", \"disappoint\", \"busy\", \"video\", \"particular\", \"transfer\", \"half\", \"ton\", \"original\", \"policy\", \"accurate\", \"satisfy\", \"gas\", \"right\", \"good\", \"product\", \"food\", \"restaurant\", \"quality\", \"adorable\", \"job\", \"graduation\", \"bear\", \"internet\", \"soft\", \"kind\", \"description\", \"situation\", \"staff\", \"deal\", \"clothe\", \"negative\", \"eye\", \"membership\", \"silly\", \"welcome\", \"junk\", \"cracker\", \"condition\", \"cut\", \"suit\", \"back\", \"dear\", \"lady\", \"whole\", \"efficient\", \"work\", \"happy\", \"excellent\", \"mom\", \"movie\", \"month\", \"plan\", \"ticket\", \"top\", \"usual\", \"think\", \"area\", \"refund\", \"theater\", \"close\", \"pop\", \"standard\", \"terrible\", \"play\", \"friendly\", \"red\", \"bill\", \"bar\", \"ideal\", \"charm\", \"clue\", \"alternative\", \"hit\", \"metal\", \"toy\", \"service\", \"daughter\"], \"Total\": [3047.0, 3010.0, 161.0, 110.0, 73.0, 524.0, 69.0, 59.0, 53.0, 47.0, 38.0, 35.0, 41.0, 38.0, 38.0, 36.0, 35.0, 32.0, 33.0, 30.0, 82.0, 25.0, 26.0, 117.0, 445.0, 26.0, 27.0, 424.0, 27.0, 22.0, 3047.580322265625, 3010.287353515625, 445.5193786621094, 424.39666748046875, 354.253662109375, 315.08282470703125, 290.4663391113281, 261.7655029296875, 254.21568298339844, 235.3855743408203, 226.89266967773438, 211.63937377929688, 197.2741241455078, 190.4998321533203, 169.9705047607422, 167.76390075683594, 159.5895233154297, 524.2010498046875, 147.47564697265625, 146.783203125, 145.14501953125, 144.97738647460938, 142.02658081054688, 139.16656494140625, 138.93844604492188, 138.69859313964844, 137.00318908691406, 130.3827362060547, 128.02789306640625, 123.8843765258789, 161.05804443359375, 53.46490478515625, 41.374454498291016, 27.624176025390625, 27.563983917236328, 22.680774688720703, 21.57036781311035, 20.714101791381836, 20.11382484436035, 20.03994369506836, 19.37742042541504, 19.37212562561035, 19.319204330444336, 18.908878326416016, 18.766935348510742, 18.685779571533203, 18.666324615478516, 18.426361083984375, 18.399707794189453, 41.0510368347168, 18.348342895507812, 18.716136932373047, 18.293914794921875, 18.656166076660156, 18.080459594726562, 18.0255069732666, 23.317626953125, 17.911373138427734, 17.871925354003906, 17.90215301513672, 23.075702667236328, 31.275325775146484, 110.47239685058594, 47.609092712402344, 38.833831787109375, 38.7204704284668, 26.82359504699707, 22.36298370361328, 22.124868392944336, 19.878122329711914, 18.92413330078125, 18.86765480041504, 22.821252822875977, 18.685461044311523, 18.51633071899414, 18.403545379638672, 18.22296142578125, 18.157800674438477, 18.436656951904297, 18.086421966552734, 18.002260208129883, 37.174964904785156, 17.991878509521484, 17.963665008544922, 17.960960388183594, 18.205501556396484, 17.93427085876465, 18.03647232055664, 17.837749481201172, 17.825439453125, 17.820894241333008, 17.79244613647461, 50.25662612915039, 23.353221893310547, 65.61486053466797, 69.62926483154297, 36.25760269165039, 35.9819221496582, 33.20415115356445, 26.750118255615234, 23.477760314941406, 22.769960403442383, 21.96502113342285, 19.466218948364258, 19.184648513793945, 19.14647102355957, 18.887027740478516, 18.864362716674805, 18.78573226928711, 19.38963508605957, 18.61408805847168, 18.564395904541016, 18.506328582763672, 18.47492218017578, 18.145912170410156, 18.12401008605957, 18.117502212524414, 18.049245834350586, 18.046138763427734, 18.019691467285156, 18.014863967895508, 17.973073959350586, 17.96409034729004, 17.933887481689453, 17.874855041503906, 36.77972412109375, 524.2010498046875, 117.0175552368164, 71.94541931152344, 67.76781463623047, 84.97077178955078, 59.50041961669922, 30.244298934936523, 22.0875244140625, 21.740760803222656, 21.554824829101562, 21.20627784729004, 19.77568817138672, 19.385055541992188, 19.076801300048828, 18.938222885131836, 18.834951400756836, 18.832475662231445, 18.923019409179688, 18.748035430908203, 18.581302642822266, 18.38949203491211, 18.409229278564453, 18.350276947021484, 18.305301666259766, 18.188949584960938, 18.152631759643555, 18.082717895507812, 17.976428985595703, 17.935314178466797, 17.93668556213379, 17.921138763427734, 17.891748428344727, 17.871532440185547, 17.852218627929688, 17.828535079956055, 17.865022659301758, 67.52838897705078, 73.92652130126953, 32.650856018066406, 22.95189666748047, 21.46735191345215, 21.04757308959961, 20.488468170166016, 19.520023345947266, 18.97708511352539, 18.821067810058594, 18.46821403503418, 18.34381103515625, 18.281522750854492, 18.269420623779297, 18.15477180480957, 18.116165161132812, 27.563983917236328, 17.96266746520996, 17.891332626342773, 17.868207931518555, 17.808542251586914, 17.78825569152832, 18.61966896057129, 17.79572296142578, 17.745498657226562, 19.38963508605957, 17.810548782348633, 17.711137771606445, 17.708438873291016, 17.705352783203125, 17.698453903198242, 26.80277442932129, 26.072721481323242, 38.291465759277344, 35.17719268798828, 25.92257308959961, 20.983564376831055, 20.274099349975586, 19.641035079956055, 18.867733001708984, 18.741004943847656, 18.615928649902344, 18.3482666015625, 18.322328567504883, 18.73602867126465, 20.89641761779785, 18.16120147705078, 18.15595245361328, 18.12535285949707, 18.102018356323242, 18.090517044067383, 17.982778549194336, 17.973886489868164, 17.92268943786621, 17.909772872924805, 17.898284912109375, 17.892698287963867, 17.843952178955078, 17.83723258972168, 17.83763885498047, 18.160968780517578, 17.776945114135742, 17.735965728759766, 82.62469482421875, 117.40888214111328], \"loglift\": [30.0, 29.0, 28.0, 27.0, 26.0, 25.0, 24.0, 23.0, 22.0, 21.0, 20.0, 19.0, 18.0, 17.0, 16.0, 15.0, 14.0, 13.0, 12.0, 11.0, 10.0, 9.0, 8.0, 7.0, 6.0, 5.0, 4.0, 3.0, 2.0, 1.0, 0.40790000557899475, 0.40779998898506165, 0.39399999380111694, 0.39309999346733093, 0.3896999955177307, 0.3871999979019165, 0.38519999384880066, 0.3824000060558319, 0.3815999925136566, 0.3792000114917755, 0.3779999911785126, 0.3756999969482422, 0.37310001254081726, 0.3718000054359436, 0.367000013589859, 0.36649999022483826, 0.36419999599456787, 0.3610999882221222, 0.3603000044822693, 0.36000001430511475, 0.359499990940094, 0.3594000041484833, 0.35830000042915344, 0.3571999967098236, 0.3571000099182129, 0.3569999933242798, 0.3564000129699707, 0.35359999537467957, 0.35249999165534973, 0.3504999876022339, 2.544600009918213, 2.2988998889923096, 2.1689000129699707, 1.8042000532150269, 1.6333999633789062, 1.4644999504089355, 1.3365000486373901, 1.222599983215332, 1.1232999563217163, 1.1104999780654907, 0.9771999716758728, 0.9757999777793884, 0.9635999798774719, 0.8585000038146973, 0.8253999948501587, 0.8019999861717224, 0.7975999712944031, 0.7246000170707703, 0.7164999842643738, 0.714900016784668, 0.6978999972343445, 0.6951000094413757, 0.680400013923645, 0.6601999998092651, 0.6062999963760376, 0.5846999883651733, 0.5770000219345093, 0.5357000231742859, 0.5230000019073486, 0.5227000117301941, 0.49570000171661377, 0.24779999256134033, 2.5952999591827393, 2.344899892807007, 2.224900007247925, 2.2228000164031982, 1.8543000221252441, 1.5135999917984009, 1.486899971961975, 1.148800015449524, 0.9259999990463257, 0.902400016784668, 0.8867999911308289, 0.8410000205039978, 0.801800012588501, 0.7659000158309937, 0.7016000151634216, 0.6527000069618225, 0.6481000185012817, 0.6450999975204468, 0.6166999936103821, 0.6126999855041504, 0.605400025844574, 0.5995000004768372, 0.5985000133514404, 0.5885000228881836, 0.5873000025749207, 0.5515999794006348, 0.5440000295639038, 0.5383999943733215, 0.5281000137329102, 0.5210000276565552, 0.19130000472068787, 0.41679999232292175, -0.1875, 2.5980000495910645, 2.276400089263916, 2.270400047302246, 2.200200080871582, 1.9464000463485718, 1.7137000560760498, 1.6441999673843384, 1.5534000396728516, 1.1305999755859375, 1.059000015258789, 1.0500999689102173, 0.9771999716758728, 0.9706000089645386, 0.9465000033378601, 0.8899999856948853, 0.8804000020027161, 0.8755999803543091, 0.855400025844574, 0.842199981212616, 0.7124999761581421, 0.7098000049591064, 0.7074999809265137, 0.6777999997138977, 0.6661999821662903, 0.6557999849319458, 0.6557999849319458, 0.644599974155426, 0.6394000053405762, 0.6243000030517578, 0.5846999883651733, 0.4821999967098236, -0.4489000141620636, -0.03370000049471855, 0.09200000017881393, 0.10989999771118164, -0.2240999937057495, 2.667099952697754, 2.2202999591827393, 1.670799970626831, 1.626099944114685, 1.6009000539779663, 1.5505000352859497, 1.28410005569458, 1.1936999559402466, 1.108199954032898, 1.0698000192642212, 1.037600040435791, 1.0364999771118164, 1.0326000452041626, 1.0087000131607056, 0.9516000151634216, 0.8788999915122986, 0.8759999871253967, 0.8650000095367432, 0.8345999717712402, 0.7962999939918518, 0.7815999984741211, 0.7156999707221985, 0.6990000009536743, 0.677299976348877, 0.6736000180244446, 0.6722000241279602, 0.6553999781608582, 0.6453999876976013, 0.6338000297546387, 0.623199999332428, 0.6227999925613403, 0.035100001841783524, 2.7578001022338867, 2.3210999965667725, 1.7856999635696411, 1.6051000356674194, 1.5414999723434448, 1.4485000371932983, 1.242900013923645, 1.0951000452041626, 0.9379000067710876, 0.9200999736785889, 0.8694000244140625, 0.8478999733924866, 0.8242999911308289, 0.7932000160217285, 0.7760999798774719, 0.7383999824523926, 0.7026000022888184, 0.6632999777793884, 0.6534000039100647, 0.6164000034332275, 0.6072999835014343, 0.5990999937057495, 0.580299973487854, 0.5784000158309937, 0.5722000002861023, 0.5701000094413757, 0.5644999742507935, 0.5633999705314636, 0.5620999932289124, 0.552299976348877, 0.44200000166893005, 0.21150000393390656, 2.562999963760376, 2.495500087738037, 2.128200054168701, 1.6205999851226807, 1.4896999597549438, 1.3513000011444092, 1.131500005722046, 1.0878000259399414, 1.042799949645996, 0.9352999925613403, 0.9246000051498413, 0.8500000238418579, 0.849399983882904, 0.8490999937057495, 0.8482000231742859, 0.8341000080108643, 0.8222000002861023, 0.8172000050544739, 0.7613999843597412, 0.757099986076355, 0.7267000079154968, 0.7222999930381775, 0.7156999707221985, 0.6884999871253967, 0.6848999857902527, 0.6650000214576721, 0.6546000242233276, 0.6523000001907349, 0.6269000172615051, 0.6173999905586243, 0.35519999265670776, -0.5192999839782715], \"logprob\": [30.0, 29.0, 28.0, 27.0, 26.0, 25.0, 24.0, 23.0, 22.0, 21.0, 20.0, 19.0, 18.0, 17.0, 16.0, 15.0, 14.0, 13.0, 12.0, 11.0, 10.0, 9.0, 8.0, 7.0, 6.0, 5.0, 4.0, 3.0, 2.0, 1.0, -3.0796000957489014, -3.091900110244751, -5.016300201416016, -5.065700054168701, -5.249800205230713, -5.369500160217285, -5.4527997970581055, -5.559700012207031, -5.589799880981445, -5.669099807739258, -5.706999778747559, -5.778900146484375, -5.851799964904785, -5.8881001472473145, -6.006800174713135, -6.020500183105469, -6.072700023651123, -4.886600017547607, -6.155600070953369, -6.1605000495910645, -6.172299861907959, -6.173500061035156, -6.195199966430664, -6.216599941253662, -6.218299865722656, -6.220200061798096, -6.233099937438965, -6.2855000495910645, -6.304800033569336, -6.339700222015381, -3.8831000328063965, -5.231599807739258, -5.6178998947143555, -6.386600017547607, -6.559599876403809, -6.923500061035156, -7.1016998291015625, -7.256100177764893, -7.384799957275391, -7.401299953460693, -7.56820011138916, -7.569900035858154, -7.584799766540527, -7.711400032043457, -7.751999855041504, -7.779699802398682, -7.785200119018555, -7.871099948883057, -7.8805999755859375, -7.079800128936768, -7.902100086212158, -7.885000228881836, -7.922500133514404, -7.923099994659424, -8.008299827575684, -8.032999992370605, -7.783299922943115, -8.088399887084961, -8.103300094604492, -8.101900100708008, -7.875, -7.818900108337402, -4.209400177001953, -5.301599979400635, -5.62529993057251, -5.630300045013428, -6.365900039672852, -6.888500213623047, -6.925899982452393, -7.371099948883057, -7.64300012588501, -7.6697001457214355, -7.495100021362305, -7.740799903869629, -7.789100170135498, -7.830999851226807, -7.905200004577637, -7.957699775695801, -7.9471001625061035, -7.969200134277344, -8.002300262451172, -7.281199932098389, -8.014200210571289, -8.021699905395508, -8.02280044555664, -8.01930046081543, -8.035499572753906, -8.065500259399414, -8.084199905395508, -8.090499877929688, -8.10099983215332, -8.109700202941895, -7.401000022888184, -7.941999912261963, -7.513199806213379, -4.668300151824951, -5.642499923706055, -5.656099796295166, -5.806600093841553, -6.276599884033203, -6.639800071716309, -6.7399001121521, -6.866600036621094, -7.410200119018555, -7.496399879455566, -7.507299900054932, -7.593800067901611, -7.601600170135498, -7.629899978637695, -7.654799938201904, -7.7052001953125, -7.712699890136719, -7.736000061035156, -7.750800132751465, -7.898600101470947, -7.902500152587891, -7.905099868774414, -7.938600063323975, -7.950399875640869, -7.962200164794922, -7.962500095367432, -7.97599983215332, -7.9816999435424805, -7.998600006103516, -8.041399955749512, -7.422299861907959, -5.696499824523926, -6.780799865722656, -7.141600131988525, -7.183499813079834, -7.291299819946289, -4.756400108337402, -5.879899978637695, -6.74370002746582, -6.804200172424316, -6.8379998207092285, -6.904699802398682, -7.240900039672852, -7.35129976272583, -7.452899932861328, -7.498499870300293, -7.536200046539307, -7.537399768829346, -7.536499977111816, -7.569699764251709, -7.635799884796143, -7.718800067901611, -7.720699787139893, -7.734899997711182, -7.7677001953125, -7.812399864196777, -7.829100131988525, -7.898799896240234, -7.921500205993652, -7.945400238037109, -7.949100017547607, -7.951300144195557, -7.969799995422363, -7.980899810791016, -7.993599891662598, -8.005499839782715, -8.003899574279785, -7.2617998123168945, -4.448599815368652, -5.702499866485596, -6.590400218963623, -6.837800025939941, -6.921199798583984, -7.041100025177002, -7.295100212097168, -7.471199989318848, -7.63670015335083, -7.673399925231934, -7.730800151824951, -7.75570011138916, -7.78000020980835, -7.817399978637695, -7.836599826812744, -7.454599857330322, -7.918600082397461, -7.961900234222412, -7.973100185394287, -8.013400077819824, -8.023599624633789, -7.986199855804443, -8.050299644470215, -8.055000305175781, -7.972599983215332, -8.059599876403809, -8.070799827575684, -8.072099685668945, -8.07349967956543, -8.083700180053711, -7.7789998054504395, -8.037099838256836, -5.301300048828125, -5.453700065612793, -6.126200199127197, -6.845200061798096, -7.01039981842041, -7.180600166320801, -7.4405999183654785, -7.491000175476074, -7.542699813842773, -7.664700031280518, -7.676700115203857, -7.729000091552734, -7.62060022354126, -7.761099815368652, -7.76230001449585, -7.77810001373291, -7.791299819946289, -7.796899795532227, -7.85860013961792, -7.863399982452393, -7.8968000411987305, -7.901899814605713, -7.90910005569458, -7.936699867248535, -7.942999839782715, -7.963200092315674, -7.973599910736084, -7.957900047302246, -8.00469970703125, -8.016599655151367, -6.739999771118164, -7.2631001472473145]}, \"token.table\": {\"Topic\": [1, 2, 3, 4, 5, 6, 7, 1, 2, 3, 4, 5, 6, 7, 1, 2, 3, 4, 5, 6, 7, 1, 2, 3, 4, 5, 6, 7, 1, 2, 3, 4, 5, 6, 7, 1, 2, 3, 4, 5, 6, 7, 1, 2, 3, 4, 5, 6, 7, 1, 2, 3, 4, 5, 6, 7, 1, 2, 3, 4, 5, 6, 7, 1, 2, 3, 4, 5, 6, 7, 1, 2, 3, 4, 5, 6, 7, 1, 2, 3, 4, 5, 6, 7, 1, 2, 3, 4, 5, 6, 7, 1, 2, 3, 4, 5, 6, 7, 1, 2, 3, 4, 5, 6, 7, 1, 2, 3, 4, 5, 6, 7, 1, 2, 3, 4, 5, 6, 7, 1, 2, 3, 4, 5, 6, 7, 1, 2, 3, 4, 5, 6, 7, 1, 2, 3, 4, 5, 6, 7, 1, 2, 3, 4, 5, 6, 7, 1, 2, 3, 4, 5, 6, 7, 1, 2, 3, 4, 5, 6, 7, 1, 2, 3, 4, 5, 6, 7, 1, 2, 3, 4, 5, 6, 7, 1, 2, 3, 4, 5, 6, 7, 1, 2, 3, 4, 5, 6, 7, 1, 2, 3, 4, 5, 6, 7, 1, 2, 3, 4, 5, 6, 7, 1, 2, 3, 4, 5, 6, 7, 1, 2, 3, 4, 5, 6, 7, 1, 2, 3, 4, 5, 6, 7, 1, 2, 3, 4, 5, 6, 7, 1, 2, 3, 4, 5, 6, 7, 1, 2, 3, 4, 5, 6, 7, 1, 2, 3, 4, 5, 6, 7, 1, 2, 3, 4, 5, 6, 7, 1, 2, 3, 4, 5, 6, 7, 1, 2, 3, 4, 5, 6, 7, 1, 2, 3, 4, 5, 6, 7, 1, 2, 3, 4, 5, 6, 7, 1, 2, 3, 4, 5, 6, 7, 1, 2, 3, 4, 5, 6, 7, 1, 2, 3, 4, 5, 6, 7, 1, 2, 3, 4, 5, 6, 7, 1, 2, 3, 4, 5, 6, 7, 1, 2, 3, 4, 5, 6, 7, 1, 2, 3, 4, 5, 6, 7, 1, 2, 3, 4, 5, 6, 7, 1, 2, 3, 4, 5, 6, 7, 1, 2, 3, 4, 5, 6, 7, 1, 2, 3, 4, 5, 6, 7, 1, 2, 3, 4, 5, 6, 7, 1, 2, 3, 4, 5, 6, 7, 1, 2, 3, 4, 5, 6, 7, 1, 2, 3, 4, 5, 6, 7, 1, 2, 3, 4, 5, 6, 7, 1, 2, 3, 4, 5, 6, 7, 1, 2, 3, 4, 5, 6, 7, 1, 2, 3, 4, 5, 6, 7, 1, 2, 3, 4, 5, 6, 7, 1, 2, 3, 4, 5, 6, 7, 1, 2, 3, 4, 5, 6, 7, 1, 2, 3, 4, 5, 6, 7, 1, 2, 3, 4, 5, 6, 7, 1, 2, 3, 4, 5, 6, 7, 1, 2, 3, 4, 5, 6, 7, 1, 2, 3, 4, 5, 6, 7, 1, 2, 3, 4, 5, 6, 7, 1, 2, 3, 4, 5, 6, 7, 1, 2, 3, 4, 5, 6, 7, 1, 2, 3, 4, 5, 6, 7, 1, 2, 3, 4, 5, 6, 7, 1, 2, 3, 4, 5, 6, 7, 1, 2, 3, 4, 5, 6, 7, 1, 2, 3, 4, 5, 6, 7, 1, 2, 3, 4, 5, 6, 7, 1, 2, 3, 4, 5, 6, 7, 1, 2, 3, 4, 5, 6, 7, 1, 2, 3, 4, 5, 6, 7, 1, 2, 3, 4, 5, 6, 7, 1, 2, 3, 4, 5, 6, 7, 1, 2, 3, 4, 5, 6, 7, 1, 2, 3, 4, 5, 6, 7, 1, 2, 3, 4, 5, 6, 7, 1, 2, 3, 4, 5, 6, 7, 1, 2, 3, 4, 5, 6, 7, 1, 2, 3, 4, 5, 6, 7, 1, 2, 3, 4, 5, 6, 7, 1, 2, 3, 4, 5, 6, 7, 1, 2, 3, 4, 5, 6, 7, 1, 2, 3, 4, 5, 6, 7, 1, 2, 3, 4, 5, 6, 7, 1, 2, 3, 4, 5, 6, 7, 1, 2, 3, 4, 5, 6, 7, 1, 2, 3, 4, 5, 6, 7, 1, 2, 3, 4, 5, 6, 7, 1, 2, 3, 4, 5, 6, 7, 1, 2, 3, 4, 5, 6, 7, 1, 2, 3, 4, 5, 6, 7, 1, 2, 3, 4, 5, 6, 7, 1, 2, 3, 4, 5, 6, 7, 1, 2, 3, 4, 5, 6, 7, 1, 2, 3, 4, 5, 6, 7, 1, 2, 3, 4, 5, 6, 7, 1, 2, 3, 4, 5, 6, 7, 1, 2, 3, 4, 5, 6, 7, 1, 2, 3, 4, 5, 6, 7, 1, 2, 3, 4, 5, 6, 7, 1, 2, 3, 4, 5, 6, 7, 1, 2, 3, 4, 5, 6, 7, 1, 2, 3, 4, 5, 6, 7, 1, 2, 3, 4, 5, 6, 7, 1, 2, 3, 4, 5, 6, 7, 1, 2, 3, 4, 5, 6, 7, 1, 2, 3, 4, 5, 6, 7, 1, 2, 3, 4, 5, 6, 7, 1, 2, 3, 4, 5, 6, 7, 1, 2, 3, 4, 5, 6, 7, 1, 2, 3, 4, 5, 6, 7, 1, 2, 3, 4, 5, 6, 7, 1, 2, 3, 4, 5, 6, 7, 1, 2, 3, 4, 5, 6, 7, 1, 2, 3, 4, 5, 6, 7, 1, 2, 3, 4, 5, 6, 7, 1, 2, 3, 4, 5, 6, 7, 1, 2, 3, 4, 5, 6, 7, 1, 2, 3, 4, 5, 6, 7, 1, 2, 3, 4, 5, 6, 7, 1, 2, 3, 4, 5, 6, 7, 1, 2, 3, 4, 5, 6, 7, 1, 2, 3, 4, 5, 6, 7, 1, 2, 3, 4, 5, 6, 7, 1, 2, 3, 4, 5, 6, 7, 1, 2, 3, 4, 5, 6, 7, 1, 2, 3, 4, 5, 6, 7, 1, 2, 3, 4, 5, 6, 7, 1, 2, 3, 4, 5, 6, 7, 1, 2, 3, 4, 5, 6, 7, 1, 2, 3, 4, 5, 6, 7, 1, 2, 3, 4, 5, 6, 7, 1, 2, 3, 4, 5, 6, 7, 1, 2, 3, 4, 5, 6, 7, 1, 2, 3, 4, 5, 6, 7, 1, 2, 3, 4, 5, 6, 7, 1, 2, 3, 4, 5, 6, 7, 1, 2, 3, 4, 5, 6, 7, 1, 2, 3, 4, 5, 6, 7, 1, 2, 3, 4, 5, 6, 7, 1, 2, 3, 4, 5, 6, 7, 1, 2, 3, 4, 5, 6, 7, 1, 2, 3, 4, 5, 6, 7, 1, 2, 3, 4, 5, 6, 7, 1, 2, 3, 4, 5, 6, 7, 1, 2, 3, 4, 5, 6, 7, 1, 2, 3, 4, 5, 6, 7, 1, 2, 3, 4, 5, 6, 7, 1, 2, 3, 4, 5, 6, 7, 1, 2, 3, 4, 5, 6, 7, 1, 2, 3, 4, 5, 6, 7, 1, 2, 3, 4, 5, 6, 7, 1, 2, 3, 4, 5, 6, 7, 1, 2, 3, 4, 5, 6, 7, 1, 2, 3, 4, 5, 6, 7, 1, 2, 3, 4, 5, 6, 7, 1, 2, 3, 4, 5, 6, 7, 1, 2, 3, 4, 5, 6, 7, 1, 2, 3, 4, 5, 6, 7, 1, 2, 3, 4, 5, 6, 7, 1, 2, 3, 4, 5, 6, 7, 1, 2, 3, 4, 5, 6, 7, 1, 2, 3, 4, 5, 6, 7, 1, 2, 3, 4, 5, 6, 7, 1, 2, 3, 4, 5, 6, 7, 1, 2, 3, 4, 5, 6, 7, 1, 2, 3, 4, 5, 6, 7, 1, 2, 3, 4, 5, 6, 7, 1, 2, 3, 4, 5, 6, 7, 1, 2, 3, 4, 5, 6, 7, 1, 2, 3, 4, 5, 6, 7, 1, 2, 3, 4, 5, 6, 7, 1, 2, 3, 4, 5, 6, 7, 1, 2, 3, 4, 5, 6, 7, 1, 2, 3, 4, 5, 6, 7, 1, 2, 3, 4, 5, 6, 7, 1, 2, 3, 4, 5, 6, 7, 1, 2, 3, 4, 5, 6, 7, 1, 2, 3, 4, 5, 6, 7, 1, 2, 3, 4, 5, 6, 7, 1, 2, 3, 4, 5, 6, 7, 1, 2, 3, 4, 5, 6, 7, 1, 2, 3, 4, 5, 6, 7, 1, 2, 3, 4, 5, 6, 7, 1, 2, 3, 4, 5, 6, 7, 1, 2, 3, 4, 5, 6, 7, 1, 2, 3, 4, 5, 6, 7, 1, 2, 3, 4, 5, 6, 7, 1, 2, 3, 4, 5, 6, 7, 1, 2, 3, 4, 5, 6, 7, 1, 2, 3, 4, 5, 6, 7, 1, 2, 3, 4, 5, 6, 7, 1, 2, 3, 4, 5, 6, 7, 1, 2, 3, 4, 5, 6, 7, 1, 2, 3, 4, 5, 6, 7, 1, 2, 3, 4, 5, 6, 7, 1, 2, 3, 4, 5, 6, 7, 1, 2, 3, 4, 5, 6, 7, 1, 2, 3, 4, 5, 6, 7, 1, 2, 3, 4, 5, 6, 7, 1, 2, 3, 4, 5, 6, 7, 1, 2, 3, 4, 5, 6, 7, 1, 2, 3, 4, 5, 6, 7, 1, 2, 3, 4, 5, 6, 7, 1, 2, 3, 4, 5, 6, 7, 1, 2, 3, 4, 5, 6, 7, 1, 2, 3, 4, 5, 6, 7, 1, 2, 3, 4, 5, 6, 7, 1, 2, 3, 4, 5, 6, 7, 1, 2, 3, 4, 5, 6, 7, 1, 2, 3, 4, 5, 6, 7, 1, 2, 3, 4, 5, 6, 7, 1, 2, 3, 4, 5, 6, 7, 1, 2, 3, 4, 5, 6, 7, 1, 2, 3, 4, 5, 6, 7], \"Freq\": [0.9639038443565369, 0.0047250185161828995, 0.0047250185161828995, 0.0047250185161828995, 0.0047250185161828995, 0.0047250185161828995, 0.0047250185161828995, 0.5601544380187988, 0.05601544678211212, 0.05601544678211212, 0.05601544678211212, 0.11203089356422424, 0.05601544678211212, 0.05601544678211212, 0.4880794286727905, 0.04880794510245323, 0.04880794510245323, 0.04880794510245323, 0.04880794510245323, 0.19523178040981293, 0.04880794510245323, 0.528852105140686, 0.15865562856197357, 0.052885208278894424, 0.052885208278894424, 0.052885208278894424, 0.052885208278894424, 0.052885208278894424, 0.5386655330657959, 0.05386655032634735, 0.05386655032634735, 0.16159965097904205, 0.05386655032634735, 0.05386655032634735, 0.05386655032634735, 0.5606123208999634, 0.11212246119976044, 0.05606123059988022, 0.05606123059988022, 0.05606123059988022, 0.05606123059988022, 0.11212246119976044, 0.5434868931770325, 0.16304606199264526, 0.05434868857264519, 0.05434868857264519, 0.05434868857264519, 0.05434868857264519, 0.05434868857264519, 0.5158612728118896, 0.051586128771305084, 0.051586128771305084, 0.051586128771305084, 0.15475839376449585, 0.051586128771305084, 0.051586128771305084, 0.5541351437568665, 0.055413514375686646, 0.055413514375686646, 0.11082702875137329, 0.055413514375686646, 0.055413514375686646, 0.055413514375686646, 0.5871041417121887, 0.053373102098703384, 0.053373102098703384, 0.053373102098703384, 0.053373102098703384, 0.053373102098703384, 0.10674620419740677, 0.6500343680381775, 0.13000687956809998, 0.043335624039173126, 0.043335624039173126, 0.043335624039173126, 0.043335624039173126, 0.043335624039173126, 0.3728061020374298, 0.0372806116938591, 0.4100867211818695, 0.0372806116938591, 0.0372806116938591, 0.0372806116938591, 0.0372806116938591, 0.5647025108337402, 0.05647025257349014, 0.05647025257349014, 0.05647025257349014, 0.05647025257349014, 0.11294050514698029, 0.05647025257349014, 0.5587127804756165, 0.05587127432227135, 0.05587127432227135, 0.05587127432227135, 0.05587127432227135, 0.05587127432227135, 0.1117425486445427, 0.5313194990158081, 0.05313194915652275, 0.05313194915652275, 0.05313194915652275, 0.05313194915652275, 0.1062638983130455, 0.05313194915652275, 0.558354377746582, 0.05583543702960014, 0.05583543702960014, 0.05583543702960014, 0.05583543702960014, 0.05583543702960014, 0.11167087405920029, 0.977520763874054, 0.0031737687531858683, 0.0031737687531858683, 0.0031737687531858683, 0.0031737687531858683, 0.0031737687531858683, 0.0031737687531858683, 0.5547693967819214, 0.11095388233661652, 0.05547694116830826, 0.05547694116830826, 0.05547694116830826, 0.05547694116830826, 0.05547694116830826, 0.9505262970924377, 0.007040935568511486, 0.007040935568511486, 0.007040935568511486, 0.007040935568511486, 0.007040935568511486, 0.007040935568511486, 0.9518725872039795, 0.006897627376019955, 0.006897627376019955, 0.006897627376019955, 0.006897627376019955, 0.006897627376019955, 0.006897627376019955, 0.530997633934021, 0.05309976264834404, 0.05309976264834404, 0.05309976264834404, 0.15929928421974182, 0.05309976264834404, 0.05309976264834404, 0.5508843064308167, 0.055088430643081665, 0.055088430643081665, 0.055088430643081665, 0.11017686128616333, 0.055088430643081665, 0.055088430643081665, 0.945106565952301, 0.00781079800799489, 0.00781079800799489, 0.00781079800799489, 0.00781079800799489, 0.00781079800799489, 0.00781079800799489, 0.528032660484314, 0.05280326306819916, 0.05280326306819916, 0.05280326306819916, 0.15840978920459747, 0.05280326306819916, 0.05280326306819916, 0.5403556823730469, 0.05403557047247887, 0.05403557047247887, 0.10807114094495773, 0.05403557047247887, 0.05403557047247887, 0.05403557047247887, 0.9975791573524475, 0.0003321942058391869, 0.0003321942058391869, 0.0003321942058391869, 0.0003321942058391869, 0.0003321942058391869, 0.0003321942058391869, 0.7341001033782959, 0.027188893407583237, 0.027188893407583237, 0.08156668394804001, 0.027188893407583237, 0.027188893407583237, 0.027188893407583237, 0.5437887907028198, 0.05437888205051422, 0.05437888205051422, 0.05437888205051422, 0.10875776410102844, 0.05437888205051422, 0.05437888205051422, 0.5604139566421509, 0.05604139715433121, 0.05604139715433121, 0.05604139715433121, 0.05604139715433121, 0.05604139715433121, 0.11208279430866241, 0.5466298460960388, 0.16398896276950836, 0.05466298386454582, 0.05466298386454582, 0.05466298386454582, 0.05466298386454582, 0.05466298386454582, 0.5507835745811462, 0.055078353732824326, 0.055078353732824326, 0.055078353732824326, 0.055078353732824326, 0.055078353732824326, 0.11015670746564865, 0.5567101836204529, 0.05567101761698723, 0.05567101761698723, 0.05567101761698723, 0.05567101761698723, 0.11134203523397446, 0.05567101761698723, 0.5606250762939453, 0.11212501674890518, 0.05606250837445259, 0.05606250837445259, 0.05606250837445259, 0.05606250837445259, 0.11212501674890518, 0.5540397763252258, 0.05540397763252258, 0.05540397763252258, 0.11080795526504517, 0.05540397763252258, 0.05540397763252258, 0.05540397763252258, 0.4599654972553253, 0.04599655047059059, 0.04599655047059059, 0.04599655047059059, 0.27597931027412415, 0.04599655047059059, 0.04599655047059059, 0.4519800841808319, 0.04519800841808319, 0.27118805050849915, 0.04519800841808319, 0.04519800841808319, 0.04519800841808319, 0.04519800841808319, 0.5157394409179688, 0.10314789414405823, 0.051573947072029114, 0.15472184121608734, 0.051573947072029114, 0.10314789414405823, 0.051573947072029114, 0.5381754040718079, 0.053817540407180786, 0.053817540407180786, 0.053817540407180786, 0.10763508081436157, 0.053817540407180786, 0.053817540407180786, 0.5160645842552185, 0.20642583072185516, 0.05160645768046379, 0.05160645768046379, 0.05160645768046379, 0.05160645768046379, 0.05160645768046379, 0.25750741362571716, 0.025750743225216866, 0.5922670960426331, 0.025750743225216866, 0.025750743225216866, 0.025750743225216866, 0.025750743225216866, 0.5241969227790833, 0.05241968855261803, 0.05241968855261803, 0.05241968855261803, 0.15725906193256378, 0.05241968855261803, 0.05241968855261803, 0.49717047810554504, 0.19886820018291473, 0.049717050045728683, 0.049717050045728683, 0.049717050045728683, 0.049717050045728683, 0.049717050045728683, 0.5635231733322144, 0.056352317333221436, 0.056352317333221436, 0.056352317333221436, 0.056352317333221436, 0.11270463466644287, 0.056352317333221436, 0.532852053642273, 0.15985561907291412, 0.053285203874111176, 0.053285203874111176, 0.053285203874111176, 0.053285203874111176, 0.053285203874111176, 0.5614650249481201, 0.11229300498962402, 0.05614650249481201, 0.05614650249481201, 0.05614650249481201, 0.11229300498962402, 0.05614650249481201, 0.1870385855436325, 0.7107465863227844, 0.01870385743677616, 0.01870385743677616, 0.01870385743677616, 0.01870385743677616, 0.01870385743677616, 0.9198622703552246, 0.008517242968082428, 0.008517242968082428, 0.008517242968082428, 0.008517242968082428, 0.008517242968082428, 0.025551728904247284, 0.969621479511261, 0.004407370463013649, 0.004407370463013649, 0.004407370463013649, 0.004407370463013649, 0.004407370463013649, 0.004407370463013649, 0.3627922534942627, 0.3627922534942627, 0.03627922758460045, 0.03627922758460045, 0.03627922758460045, 0.10883767902851105, 0.03627922758460045, 0.5648009181022644, 0.05648009479045868, 0.05648009479045868, 0.05648009479045868, 0.05648009479045868, 0.11296018958091736, 0.05648009479045868, 0.30116716027259827, 0.030116716399788857, 0.030116716399788857, 0.5119841694831848, 0.030116716399788857, 0.030116716399788857, 0.030116716399788857, 0.535166323184967, 0.16054989397525787, 0.053516633808612823, 0.053516633808612823, 0.053516633808612823, 0.053516633808612823, 0.053516633808612823, 0.547362744808197, 0.05473627150058746, 0.05473627150058746, 0.05473627150058746, 0.05473627150058746, 0.10947254300117493, 0.05473627150058746, 0.8478649854660034, 0.013899425975978374, 0.013899425975978374, 0.06949713081121445, 0.013899425975978374, 0.013899425975978374, 0.013899425975978374, 0.5462898015975952, 0.05462898313999176, 0.05462898313999176, 0.05462898313999176, 0.10925796627998352, 0.05462898313999176, 0.05462898313999176, 0.5497843623161316, 0.05497843772172928, 0.05497843772172928, 0.05497843772172928, 0.10995687544345856, 0.05497843772172928, 0.05497843772172928, 0.5162056088447571, 0.20648224651813507, 0.05162056162953377, 0.05162056162953377, 0.05162056162953377, 0.05162056162953377, 0.05162056162953377, 0.558304488658905, 0.111660897731781, 0.0558304488658905, 0.0558304488658905, 0.0558304488658905, 0.0558304488658905, 0.0558304488658905, 0.9519248604774475, 0.0019076650496572256, 0.0019076650496572256, 0.03624563664197922, 0.0019076650496572256, 0.0019076650496572256, 0.0019076650496572256, 0.6903766989707947, 0.038354262709617615, 0.038354262709617615, 0.038354262709617615, 0.038354262709617615, 0.07670852541923523, 0.038354262709617615, 0.5450083613395691, 0.163502499461174, 0.05450083315372467, 0.05450083315372467, 0.05450083315372467, 0.05450083315372467, 0.05450083315372467, 0.9631268382072449, 0.005069088656455278, 0.005069088656455278, 0.005069088656455278, 0.005069088656455278, 0.005069088656455278, 0.005069088656455278, 0.5222894549369812, 0.05222894623875618, 0.05222894623875618, 0.15668684244155884, 0.05222894623875618, 0.05222894623875618, 0.05222894623875618, 0.3857641816139221, 0.03857641667127609, 0.03857641667127609, 0.03857641667127609, 0.03857641667127609, 0.03857641667127609, 0.3857641816139221, 0.5487582087516785, 0.05487582087516785, 0.1097516417503357, 0.05487582087516785, 0.05487582087516785, 0.05487582087516785, 0.05487582087516785, 0.5212501287460327, 0.05212501063942909, 0.05212501063942909, 0.15637503564357758, 0.05212501063942909, 0.05212501063942909, 0.05212501063942909, 0.5596532225608826, 0.055965323001146317, 0.055965323001146317, 0.055965323001146317, 0.055965323001146317, 0.11193064600229263, 0.055965323001146317, 0.9589899182319641, 0.005883373785763979, 0.005883373785763979, 0.005883373785763979, 0.005883373785763979, 0.005883373785763979, 0.005883373785763979, 0.2779173254966736, 0.027791732922196388, 0.027791732922196388, 0.5558346509933472, 0.027791732922196388, 0.027791732922196388, 0.027791732922196388, 0.5529009699821472, 0.0552900955080986, 0.1105801910161972, 0.0552900955080986, 0.0552900955080986, 0.0552900955080986, 0.0552900955080986, 0.47155848145484924, 0.047155845910310745, 0.047155845910310745, 0.047155845910310745, 0.23577924072742462, 0.047155845910310745, 0.047155845910310745, 0.4639332592487335, 0.04639332368969917, 0.04639332368969917, 0.04639332368969917, 0.23196662962436676, 0.04639332368969917, 0.04639332368969917, 0.5696444511413574, 0.04381880536675453, 0.17527522146701813, 0.04381880536675453, 0.04381880536675453, 0.04381880536675453, 0.04381880536675453, 0.5611390471458435, 0.05611390620470047, 0.11222781240940094, 0.05611390620470047, 0.05611390620470047, 0.05611390620470047, 0.05611390620470047, 0.4356938302516937, 0.04356938228011131, 0.04356938228011131, 0.04356938228011131, 0.04356938228011131, 0.3049857020378113, 0.04356938228011131, 0.5433735847473145, 0.054337356239557266, 0.1630120724439621, 0.054337356239557266, 0.054337356239557266, 0.054337356239557266, 0.054337356239557266, 0.882656455039978, 0.011768752709031105, 0.011768752709031105, 0.04707501083612442, 0.011768752709031105, 0.011768752709031105, 0.011768752709031105, 0.9686235189437866, 0.004248348530381918, 0.004248348530381918, 0.004248348530381918, 0.004248348530381918, 0.004248348530381918, 0.004248348530381918, 0.5563626885414124, 0.055636268109083176, 0.055636268109083176, 0.055636268109083176, 0.055636268109083176, 0.055636268109083176, 0.11127253621816635, 0.4391751289367676, 0.04391751065850258, 0.04391751065850258, 0.30742257833480835, 0.04391751065850258, 0.04391751065850258, 0.04391751065850258, 0.5294639468193054, 0.05294639244675636, 0.05294639244675636, 0.1588391810655594, 0.05294639244675636, 0.05294639244675636, 0.05294639244675636, 0.5597530007362366, 0.0559752993285656, 0.0559752993285656, 0.0559752993285656, 0.1119505986571312, 0.0559752993285656, 0.0559752993285656, 0.997512698173523, 0.0003281291574239731, 0.0003281291574239731, 0.0003281291574239731, 0.0003281291574239731, 0.0003281291574239731, 0.0003281291574239731, 0.46359896659851074, 0.27815937995910645, 0.046359896659851074, 0.046359896659851074, 0.046359896659851074, 0.046359896659851074, 0.046359896659851074, 0.13526944816112518, 0.013526945374906063, 0.013526945374906063, 0.013526945374906063, 0.013526945374906063, 0.7845628261566162, 0.013526945374906063, 0.5269513130187988, 0.052695132791996, 0.052695132791996, 0.052695132791996, 0.052695132791996, 0.1580853909254074, 0.052695132791996, 0.5176196694374084, 0.20704786479473114, 0.051761966198682785, 0.051761966198682785, 0.051761966198682785, 0.051761966198682785, 0.051761966198682785, 0.5056713819503784, 0.0505671389400959, 0.0505671389400959, 0.0505671389400959, 0.2022685557603836, 0.0505671389400959, 0.0505671389400959, 0.5544321537017822, 0.11088643223047256, 0.11088643223047256, 0.05544321611523628, 0.05544321611523628, 0.05544321611523628, 0.05544321611523628, 0.06208941712975502, 0.9002965688705444, 0.0062089418061077595, 0.0062089418061077595, 0.0062089418061077595, 0.0062089418061077595, 0.0062089418061077595, 0.5351754426956177, 0.05351754650473595, 0.16055263578891754, 0.05351754650473595, 0.05351754650473595, 0.05351754650473595, 0.05351754650473595, 0.5575165748596191, 0.11150331795215607, 0.05575165897607803, 0.05575165897607803, 0.11150331795215607, 0.05575165897607803, 0.05575165897607803, 0.2842751145362854, 0.02842750959098339, 0.02842750959098339, 0.02842750959098339, 0.02842750959098339, 0.02842750959098339, 0.5401226878166199, 0.5506314039230347, 0.11012628674507141, 0.055063143372535706, 0.055063143372535706, 0.055063143372535706, 0.055063143372535706, 0.11012628674507141, 0.49900341033935547, 0.19960135221481323, 0.04990033805370331, 0.04990033805370331, 0.04990033805370331, 0.04990033805370331, 0.04990033805370331, 0.4471675157546997, 0.04471675306558609, 0.26830050349235535, 0.04471675306558609, 0.04471675306558609, 0.04471675306558609, 0.04471675306558609, 0.5030656456947327, 0.05030656233429909, 0.20122624933719635, 0.05030656233429909, 0.05030656233429909, 0.05030656233429909, 0.05030656233429909, 0.24169503152370453, 0.6284070611000061, 0.024169502779841423, 0.024169502779841423, 0.024169502779841423, 0.024169502779841423, 0.024169502779841423, 0.5588871836662292, 0.055888719856739044, 0.055888719856739044, 0.055888719856739044, 0.055888719856739044, 0.055888719856739044, 0.11177743971347809, 0.5576035976409912, 0.05576035752892494, 0.05576035752892494, 0.11152071505784988, 0.05576035752892494, 0.05576035752892494, 0.05576035752892494, 0.5414708852767944, 0.054147087037563324, 0.054147087037563324, 0.054147087037563324, 0.054147087037563324, 0.10829417407512665, 0.054147087037563324, 0.953787624835968, 0.006812768522650003, 0.006812768522650003, 0.006812768522650003, 0.006812768522650003, 0.006812768522650003, 0.006812768522650003, 0.5122944712638855, 0.05122944712638855, 0.05122944712638855, 0.05122944712638855, 0.05122944712638855, 0.15368834137916565, 0.05122944712638855, 0.5619328022003174, 0.0561932772397995, 0.0561932772397995, 0.0561932772397995, 0.0561932772397995, 0.112386554479599, 0.0561932772397995, 0.5470004081726074, 0.05470003932714462, 0.05470003932714462, 0.05470003932714462, 0.05470003932714462, 0.10940007865428925, 0.05470003932714462, 0.5650210976600647, 0.05650211125612259, 0.05650211125612259, 0.05650211125612259, 0.05650211125612259, 0.11300422251224518, 0.05650211125612259, 0.2582613229751587, 0.02582613192498684, 0.594001054763794, 0.02582613192498684, 0.02582613192498684, 0.02582613192498684, 0.02582613192498684, 0.5284258127212524, 0.052842579782009125, 0.15852773189544678, 0.052842579782009125, 0.052842579782009125, 0.052842579782009125, 0.052842579782009125, 0.5427007675170898, 0.16281022131443024, 0.054270073771476746, 0.054270073771476746, 0.054270073771476746, 0.054270073771476746, 0.054270073771476746, 0.09052035212516785, 0.0090520353987813, 0.8599433302879333, 0.0090520353987813, 0.0090520353987813, 0.0090520353987813, 0.0090520353987813, 0.5412742495536804, 0.05412742868065834, 0.05412742868065834, 0.10825485736131668, 0.05412742868065834, 0.05412742868065834, 0.05412742868065834, 0.9444290399551392, 0.00807204283773899, 0.00807204283773899, 0.00807204283773899, 0.00807204283773899, 0.00807204283773899, 0.00807204283773899, 0.5360158085823059, 0.16080474853515625, 0.1072031632065773, 0.05360158160328865, 0.05360158160328865, 0.05360158160328865, 0.05360158160328865, 0.5615282654762268, 0.0561528280377388, 0.0561528280377388, 0.0561528280377388, 0.0561528280377388, 0.1123056560754776, 0.0561528280377388, 0.5625263452529907, 0.11250527203083038, 0.05625263601541519, 0.05625263601541519, 0.05625263601541519, 0.05625263601541519, 0.05625263601541519, 0.21004390716552734, 0.021004391834139824, 0.6721405386924744, 0.021004391834139824, 0.021004391834139824, 0.021004391834139824, 0.021004391834139824, 0.4765634536743164, 0.0476563461124897, 0.0476563461124897, 0.0476563461124897, 0.0476563461124897, 0.0476563461124897, 0.2382817268371582, 0.9493092894554138, 0.006780780386179686, 0.006780780386179686, 0.006780780386179686, 0.006780780386179686, 0.006780780386179686, 0.006780780386179686, 0.5091381072998047, 0.05091381445527077, 0.05091381445527077, 0.05091381445527077, 0.05091381445527077, 0.05091381445527077, 0.1527414470911026, 0.4932401478290558, 0.04932401701807976, 0.04932401701807976, 0.04932401701807976, 0.04932401701807976, 0.04932401701807976, 0.19729606807231903, 0.9488829970359802, 0.007299100048840046, 0.007299100048840046, 0.007299100048840046, 0.007299100048840046, 0.007299100048840046, 0.007299100048840046, 0.5284568667411804, 0.05284569039940834, 0.05284569039940834, 0.05284569039940834, 0.15853706002235413, 0.05284569039940834, 0.05284569039940834, 0.5589298605918884, 0.11178597062826157, 0.05589298531413078, 0.05589298531413078, 0.05589298531413078, 0.11178597062826157, 0.05589298531413078, 0.9741543531417847, 0.00382021302357316, 0.00382021302357316, 0.00382021302357316, 0.00382021302357316, 0.00382021302357316, 0.00382021302357316, 0.5507274866104126, 0.11014550179243088, 0.11014550179243088, 0.05507275089621544, 0.05507275089621544, 0.05507275089621544, 0.05507275089621544, 0.4527442753314972, 0.04527442529797554, 0.04527442529797554, 0.04527442529797554, 0.27164655923843384, 0.04527442529797554, 0.04527442529797554, 0.85346519947052, 0.015240450389683247, 0.045721348375082016, 0.015240450389683247, 0.015240450389683247, 0.015240450389683247, 0.015240450389683247, 0.9742953181266785, 0.003442739602178335, 0.003442739602178335, 0.003442739602178335, 0.003442739602178335, 0.003442739602178335, 0.003442739602178335, 0.5589168667793274, 0.05589168518781662, 0.05589168518781662, 0.05589168518781662, 0.11178337037563324, 0.05589168518781662, 0.05589168518781662, 0.44090205430984497, 0.30863142013549805, 0.04409020394086838, 0.04409020394086838, 0.04409020394086838, 0.04409020394086838, 0.04409020394086838, 0.5562840104103088, 0.055628400295972824, 0.055628400295972824, 0.055628400295972824, 0.11125680059194565, 0.055628400295972824, 0.055628400295972824, 0.14361777901649475, 0.01436177734285593, 0.01436177734285593, 0.7755360007286072, 0.01436177734285593, 0.01436177734285593, 0.01436177734285593, 0.959682047367096, 0.005960757844150066, 0.005960757844150066, 0.005960757844150066, 0.005960757844150066, 0.005960757844150066, 0.005960757844150066, 0.5492845177650452, 0.05492845177650452, 0.10985690355300903, 0.05492845177650452, 0.05492845177650452, 0.05492845177650452, 0.05492845177650452, 0.5300053954124451, 0.05300053954124451, 0.05300053954124451, 0.05300053954124451, 0.05300053954124451, 0.05300053954124451, 0.15900161862373352, 0.5560876131057739, 0.05560876056551933, 0.05560876056551933, 0.05560876056551933, 0.05560876056551933, 0.05560876056551933, 0.11121752113103867, 0.45526930689811707, 0.04552692919969559, 0.04552692919969559, 0.2731615900993347, 0.04552692919969559, 0.04552692919969559, 0.04552692919969559, 0.55954909324646, 0.055954910814762115, 0.055954910814762115, 0.055954910814762115, 0.11190982162952423, 0.055954910814762115, 0.055954910814762115, 0.5517134070396423, 0.05517134070396423, 0.05517134070396423, 0.05517134070396423, 0.05517134070396423, 0.05517134070396423, 0.11034268140792847, 0.534298300743103, 0.1602894812822342, 0.05342983081936836, 0.05342983081936836, 0.05342983081936836, 0.05342983081936836, 0.05342983081936836, 0.5357241034507751, 0.16071723401546478, 0.053572408854961395, 0.053572408854961395, 0.053572408854961395, 0.053572408854961395, 0.053572408854961395, 0.9524434804916382, 0.006266075652092695, 0.006266075652092695, 0.006266075652092695, 0.006266075652092695, 0.006266075652092695, 0.006266075652092695, 0.4827629029750824, 0.2413814514875412, 0.04827629029750824, 0.04827629029750824, 0.04827629029750824, 0.04827629029750824, 0.04827629029750824, 0.7064377069473267, 0.14615952968597412, 0.024359920993447304, 0.024359920993447304, 0.024359920993447304, 0.024359920993447304, 0.024359920993447304, 0.9606307744979858, 0.005249348469078541, 0.005249348469078541, 0.005249348469078541, 0.005249348469078541, 0.005249348469078541, 0.005249348469078541, 0.5300076007843018, 0.053000759333372116, 0.15900227427482605, 0.053000759333372116, 0.053000759333372116, 0.053000759333372116, 0.053000759333372116, 0.3306408226490021, 0.03306408226490021, 0.03306408226490021, 0.03306408226490021, 0.4628971517086029, 0.03306408226490021, 0.03306408226490021, 0.30627068877220154, 0.030627068132162094, 0.030627068132162094, 0.030627068132162094, 0.030627068132162094, 0.4900330901145935, 0.030627068132162094, 0.530927836894989, 0.05309278517961502, 0.05309278517961502, 0.05309278517961502, 0.15927834808826447, 0.05309278517961502, 0.05309278517961502, 0.5549484491348267, 0.11098968982696533, 0.055494844913482666, 0.11098968982696533, 0.055494844913482666, 0.055494844913482666, 0.055494844913482666, 0.9795240759849548, 0.0028228359296917915, 0.0028228359296917915, 0.0028228359296917915, 0.0028228359296917915, 0.0028228359296917915, 0.0028228359296917915, 0.5449509024620056, 0.05449508875608444, 0.05449508875608444, 0.05449508875608444, 0.10899017751216888, 0.05449508875608444, 0.05449508875608444, 0.4751141667366028, 0.04751141741871834, 0.04751141741871834, 0.04751141741871834, 0.04751141741871834, 0.2375570833683014, 0.04751141741871834, 0.5620362758636475, 0.05620362609624863, 0.11240725219249725, 0.05620362609624863, 0.05620362609624863, 0.05620362609624863, 0.05620362609624863, 0.27580422163009644, 0.027580423280596733, 0.027580423280596733, 0.5516084432601929, 0.027580423280596733, 0.027580423280596733, 0.027580423280596733, 0.5609959959983826, 0.05609959736466408, 0.11219919472932816, 0.05609959736466408, 0.05609959736466408, 0.05609959736466408, 0.05609959736466408, 0.9716159105300903, 0.003933667670935392, 0.003933667670935392, 0.003933667670935392, 0.003933667670935392, 0.003933667670935392, 0.003933667670935392, 0.5579519867897034, 0.11159039288759232, 0.05579519644379616, 0.05579519644379616, 0.05579519644379616, 0.05579519644379616, 0.11159039288759232, 0.622116208076477, 0.04785509407520294, 0.04785509407520294, 0.04785509407520294, 0.04785509407520294, 0.04785509407520294, 0.09571018815040588, 0.5372275114059448, 0.05372275039553642, 0.05372275039553642, 0.16116824746131897, 0.05372275039553642, 0.05372275039553642, 0.05372275039553642, 0.4658236503601074, 0.04658236354589462, 0.04658236354589462, 0.04658236354589462, 0.04658236354589462, 0.2329118251800537, 0.04658236354589462, 0.5595368146896362, 0.11190736293792725, 0.05595368146896362, 0.05595368146896362, 0.05595368146896362, 0.05595368146896362, 0.05595368146896362, 0.8588980436325073, 0.014808586798608303, 0.014808586798608303, 0.014808586798608303, 0.05923434719443321, 0.014808586798608303, 0.014808586798608303, 0.5608986020088196, 0.0560898594558239, 0.0560898594558239, 0.0560898594558239, 0.1121797189116478, 0.0560898594558239, 0.0560898594558239, 0.5301000475883484, 0.0530100055038929, 0.0530100055038929, 0.159030020236969, 0.0530100055038929, 0.0530100055038929, 0.0530100055038929, 0.542397677898407, 0.05423976853489876, 0.10847953706979752, 0.05423976853489876, 0.05423976853489876, 0.05423976853489876, 0.05423976853489876, 0.5432057976722717, 0.054320577532052994, 0.054320577532052994, 0.054320577532052994, 0.10864115506410599, 0.054320577532052994, 0.054320577532052994, 0.8593072295188904, 0.012102918699383736, 0.012102918699383736, 0.012102918699383736, 0.012102918699383736, 0.012102918699383736, 0.06051459535956383, 0.8411072492599487, 0.01475626789033413, 0.01475626789033413, 0.05902507156133652, 0.01475626789033413, 0.01475626789033413, 0.01475626789033413, 0.4259350001811981, 0.04259350150823593, 0.04259350150823593, 0.2981545031070709, 0.04259350150823593, 0.04259350150823593, 0.04259350150823593, 0.9517039656639099, 0.0072098784148693085, 0.0072098784148693085, 0.0072098784148693085, 0.0072098784148693085, 0.0072098784148693085, 0.0072098784148693085, 0.5400637984275818, 0.05400637909770012, 0.16201914846897125, 0.05400637909770012, 0.05400637909770012, 0.05400637909770012, 0.05400637909770012, 0.8158128261566162, 0.01989787444472313, 0.07959149777889252, 0.01989787444472313, 0.01989787444472313, 0.01989787444472313, 0.01989787444472313, 0.5621686577796936, 0.05621686577796936, 0.05621686577796936, 0.05621686577796936, 0.05621686577796936, 0.11243373155593872, 0.05621686577796936, 0.5575916767120361, 0.055759165436029434, 0.11151833087205887, 0.055759165436029434, 0.055759165436029434, 0.055759165436029434, 0.055759165436029434, 0.373830109834671, 0.03738301247358322, 0.03738301247358322, 0.41121312975883484, 0.03738301247358322, 0.03738301247358322, 0.03738301247358322, 0.5508193969726562, 0.055081937462091446, 0.055081937462091446, 0.055081937462091446, 0.055081937462091446, 0.11016387492418289, 0.055081937462091446, 0.7262952327728271, 0.026899823918938637, 0.10759929567575455, 0.026899823918938637, 0.026899823918938637, 0.026899823918938637, 0.026899823918938637, 0.5510883331298828, 0.05510883033275604, 0.05510883033275604, 0.11021766066551208, 0.05510883033275604, 0.05510883033275604, 0.05510883033275604, 0.5567631125450134, 0.05567631125450134, 0.11135262250900269, 0.05567631125450134, 0.05567631125450134, 0.05567631125450134, 0.05567631125450134, 0.5451430082321167, 0.05451430007815361, 0.05451430007815361, 0.05451430007815361, 0.05451430007815361, 0.10902860015630722, 0.05451430007815361, 0.5550971627235413, 0.055509716272354126, 0.055509716272354126, 0.11101943254470825, 0.055509716272354126, 0.055509716272354126, 0.055509716272354126, 0.5519524812698364, 0.055195245891809464, 0.055195245891809464, 0.11039049178361893, 0.055195245891809464, 0.055195245891809464, 0.055195245891809464, 0.5530833005905151, 0.11061665415763855, 0.055308327078819275, 0.055308327078819275, 0.055308327078819275, 0.055308327078819275, 0.055308327078819275, 0.551993191242218, 0.05519932135939598, 0.05519932135939598, 0.05519932135939598, 0.05519932135939598, 0.11039864271879196, 0.05519932135939598, 0.5524246096611023, 0.05524246022105217, 0.05524246022105217, 0.05524246022105217, 0.05524246022105217, 0.05524246022105217, 0.11048492044210434, 0.6423096656799316, 0.04282064363360405, 0.0856412872672081, 0.04282064363360405, 0.04282064363360405, 0.04282064363360405, 0.04282064363360405, 0.6432901620864868, 0.12865802645683289, 0.04288601130247116, 0.04288601130247116, 0.04288601130247116, 0.04288601130247116, 0.04288601130247116, 0.950061023235321, 0.00719743175432086, 0.00719743175432086, 0.00719743175432086, 0.00719743175432086, 0.00719743175432086, 0.00719743175432086, 0.5606088638305664, 0.05606088414788246, 0.11212176829576492, 0.05606088414788246, 0.05606088414788246, 0.05606088414788246, 0.05606088414788246, 0.5585920214653015, 0.11171840876340866, 0.05585920438170433, 0.05585920438170433, 0.05585920438170433, 0.05585920438170433, 0.05585920438170433, 0.5646164417266846, 0.056461647152900696, 0.056461647152900696, 0.056461647152900696, 0.056461647152900696, 0.11292329430580139, 0.056461647152900696, 0.7354040145874023, 0.09592226147651672, 0.03197408840060234, 0.03197408840060234, 0.03197408840060234, 0.03197408840060234, 0.03197408840060234, 0.5333892107009888, 0.053338922560214996, 0.053338922560214996, 0.053338922560214996, 0.1600167602300644, 0.053338922560214996, 0.053338922560214996, 0.5566660761833191, 0.05566661059856415, 0.05566661059856415, 0.1113332211971283, 0.05566661059856415, 0.05566661059856415, 0.05566661059856415, 0.5527758002281189, 0.05527757853269577, 0.05527757853269577, 0.05527757853269577, 0.05527757853269577, 0.05527757853269577, 0.11055515706539154, 0.8973012566566467, 0.008545726537704468, 0.008545726537704468, 0.05127435922622681, 0.008545726537704468, 0.008545726537704468, 0.008545726537704468, 0.5506243705749512, 0.055062435567379, 0.055062435567379, 0.055062435567379, 0.055062435567379, 0.055062435567379, 0.110124871134758, 0.9433764219284058, 0.007669726852327585, 0.007669726852327585, 0.007669726852327585, 0.007669726852327585, 0.007669726852327585, 0.007669726852327585, 0.5457821488380432, 0.05457821488380432, 0.05457821488380432, 0.05457821488380432, 0.05457821488380432, 0.05457821488380432, 0.10915642976760864, 0.5335893034934998, 0.053358931094408035, 0.053358931094408035, 0.053358931094408035, 0.053358931094408035, 0.053358931094408035, 0.10671786218881607, 0.16806603968143463, 0.016806604340672493, 0.016806604340672493, 0.016806604340672493, 0.7226839661598206, 0.016806604340672493, 0.016806604340672493, 0.3620017468929291, 0.43440210819244385, 0.03620017319917679, 0.03620017319917679, 0.03620017319917679, 0.03620017319917679, 0.03620017319917679, 0.5580002665519714, 0.055800024420022964, 0.055800024420022964, 0.055800024420022964, 0.11160004884004593, 0.055800024420022964, 0.055800024420022964, 0.53717440366745, 0.053717438131570816, 0.053717438131570816, 0.053717438131570816, 0.053717438131570816, 0.053717438131570816, 0.10743487626314163, 0.5638260841369629, 0.05638260766863823, 0.05638260766863823, 0.05638260766863823, 0.05638260766863823, 0.05638260766863823, 0.05638260766863823, 0.5323188900947571, 0.05323188751935959, 0.05323188751935959, 0.15969567000865936, 0.05323188751935959, 0.05323188751935959, 0.05323188751935959, 0.5137104392051697, 0.05137104541063309, 0.05137104541063309, 0.15411312878131866, 0.05137104541063309, 0.05137104541063309, 0.05137104541063309, 0.5575592517852783, 0.05575592443346977, 0.05575592443346977, 0.05575592443346977, 0.11151184886693954, 0.05575592443346977, 0.05575592443346977, 0.5558063387870789, 0.055580634623765945, 0.11116126924753189, 0.055580634623765945, 0.055580634623765945, 0.055580634623765945, 0.055580634623765945, 0.5566792488098145, 0.055667925626039505, 0.11133585125207901, 0.055667925626039505, 0.055667925626039505, 0.055667925626039505, 0.055667925626039505, 0.5563878417015076, 0.055638786405324936, 0.055638786405324936, 0.11127757281064987, 0.055638786405324936, 0.055638786405324936, 0.055638786405324936, 0.9831222295761108, 0.0022445712238550186, 0.0022445712238550186, 0.0022445712238550186, 0.0022445712238550186, 0.0022445712238550186, 0.0022445712238550186, 0.5450106263160706, 0.05450106039643288, 0.05450106039643288, 0.05450106039643288, 0.05450106039643288, 0.05450106039643288, 0.10900212079286575, 0.5530142188072205, 0.11060284078121185, 0.055301420390605927, 0.055301420390605927, 0.11060284078121185, 0.055301420390605927, 0.055301420390605927, 0.9825713634490967, 0.002356286160647869, 0.002356286160647869, 0.002356286160647869, 0.002356286160647869, 0.002356286160647869, 0.002356286160647869, 0.5907731056213379, 0.05370664596557617, 0.05370664596557617, 0.05370664596557617, 0.05370664596557617, 0.10741329193115234, 0.05370664596557617, 0.7088818550109863, 0.03730957210063934, 0.03730957210063934, 0.03730957210063934, 0.03730957210063934, 0.07461914420127869, 0.03730957210063934, 0.5554857850074768, 0.05554858222603798, 0.11109716445207596, 0.05554858222603798, 0.05554858222603798, 0.05554858222603798, 0.05554858222603798, 0.5594450831413269, 0.05594450980424881, 0.05594450980424881, 0.11188901960849762, 0.05594450980424881, 0.05594450980424881, 0.05594450980424881, 0.26115480065345764, 0.026115478947758675, 0.026115478947758675, 0.026115478947758675, 0.026115478947758675, 0.026115478947758675, 0.5745405554771423, 0.5517542958259583, 0.055175427347421646, 0.055175427347421646, 0.11035085469484329, 0.055175427347421646, 0.055175427347421646, 0.055175427347421646, 0.9485036730766296, 0.007185634225606918, 0.007185634225606918, 0.007185634225606918, 0.007185634225606918, 0.007185634225606918, 0.007185634225606918, 0.9507732391357422, 0.006889661308377981, 0.006889661308377981, 0.006889661308377981, 0.006889661308377981, 0.006889661308377981, 0.006889661308377981], \"Term\": [\"able\", \"able\", \"able\", \"able\", \"able\", \"able\", \"able\", \"accurate\", \"accurate\", \"accurate\", \"accurate\", \"accurate\", \"accurate\", \"accurate\", \"adorable\", \"adorable\", \"adorable\", \"adorable\", \"adorable\", \"adorable\", \"adorable\", \"adult\", \"adult\", \"adult\", \"adult\", \"adult\", \"adult\", \"adult\", \"advertise\", \"advertise\", \"advertise\", \"advertise\", \"advertise\", \"advertise\", \"advertise\", \"alternative\", \"alternative\", \"alternative\", \"alternative\", \"alternative\", \"alternative\", \"alternative\", \"anniversary\", \"anniversary\", \"anniversary\", \"anniversary\", \"anniversary\", \"anniversary\", \"anniversary\", \"appreciate\", \"appreciate\", \"appreciate\", \"appreciate\", \"appreciate\", \"appreciate\", \"appreciate\", \"appreciation\", \"appreciation\", \"appreciation\", \"appreciation\", \"appreciation\", \"appreciation\", \"appreciation\", \"area\", \"area\", \"area\", \"area\", \"area\", \"area\", \"area\", \"attractive\", \"attractive\", \"attractive\", \"attractive\", \"attractive\", \"attractive\", \"attractive\", \"awesome\", \"awesome\", \"awesome\", \"awesome\", \"awesome\", \"awesome\", \"awesome\", \"back\", \"back\", \"back\", \"back\", \"back\", \"back\", \"back\", \"bar\", \"bar\", \"bar\", \"bar\", \"bar\", \"bar\", \"bar\", \"bear\", \"bear\", \"bear\", \"bear\", \"bear\", \"bear\", \"bear\", \"bill\", \"bill\", \"bill\", \"bill\", \"bill\", \"bill\", \"bill\", \"birthday\", \"birthday\", \"birthday\", \"birthday\", \"birthday\", \"birthday\", \"birthday\", \"black\", \"black\", \"black\", \"black\", \"black\", \"black\", \"black\", \"book\", \"book\", \"book\", \"book\", \"book\", \"book\", \"book\", \"box\", \"box\", \"box\", \"box\", \"box\", \"box\", \"box\", \"boy\", \"boy\", \"boy\", \"boy\", \"boy\", \"boy\", \"boy\", \"busy\", \"busy\", \"busy\", \"busy\", \"busy\", \"busy\", \"busy\", \"buy\", \"buy\", \"buy\", \"buy\", \"buy\", \"buy\", \"buy\", \"buying\", \"buying\", \"buying\", \"buying\", \"buying\", \"buying\", \"buying\", \"car\", \"car\", \"car\", \"car\", \"car\", \"car\", \"car\", \"card\", \"card\", \"card\", \"card\", \"card\", \"card\", \"card\", \"case\", \"case\", \"case\", \"case\", \"case\", \"case\", \"case\", \"change\", \"change\", \"change\", \"change\", \"change\", \"change\", \"change\", \"charm\", \"charm\", \"charm\", \"charm\", \"charm\", \"charm\", \"charm\", \"click\", \"click\", \"click\", \"click\", \"click\", \"click\", \"click\", \"close\", \"close\", \"close\", \"close\", \"close\", \"close\", \"close\", \"clothe\", \"clothe\", \"clothe\", \"clothe\", \"clothe\", \"clothe\", \"clothe\", \"clue\", \"clue\", \"clue\", \"clue\", \"clue\", \"clue\", \"clue\", \"co\", \"co\", \"co\", \"co\", \"co\", \"co\", \"co\", \"code\", \"code\", \"code\", \"code\", \"code\", \"code\", \"code\", \"color\", \"color\", \"color\", \"color\", \"color\", \"color\", \"color\", \"condition\", \"condition\", \"condition\", \"condition\", \"condition\", \"condition\", \"condition\", \"confirmation\", \"confirmation\", \"confirmation\", \"confirmation\", \"confirmation\", \"confirmation\", \"confirmation\", \"container\", \"container\", \"container\", \"container\", \"container\", \"container\", \"container\", \"convenient\", \"convenient\", \"convenient\", \"convenient\", \"convenient\", \"convenient\", \"convenient\", \"correct\", \"correct\", \"correct\", \"correct\", \"correct\", \"correct\", \"correct\", \"country\", \"country\", \"country\", \"country\", \"country\", \"country\", \"country\", \"cracker\", \"cracker\", \"cracker\", \"cracker\", \"cracker\", \"cracker\", \"cracker\", \"cupcake\", \"cupcake\", \"cupcake\", \"cupcake\", \"cupcake\", \"cupcake\", \"cupcake\", \"cut\", \"cut\", \"cut\", \"cut\", \"cut\", \"cut\", \"cut\", \"cute\", \"cute\", \"cute\", \"cute\", \"cute\", \"cute\", \"cute\", \"daughter\", \"daughter\", \"daughter\", \"daughter\", \"daughter\", \"daughter\", \"daughter\", \"day\", \"day\", \"day\", \"day\", \"day\", \"day\", \"day\", \"deal\", \"deal\", \"deal\", \"deal\", \"deal\", \"deal\", \"deal\", \"dear\", \"dear\", \"dear\", \"dear\", \"dear\", \"dear\", \"dear\", \"delivery\", \"delivery\", \"delivery\", \"delivery\", \"delivery\", \"delivery\", \"delivery\", \"dent\", \"dent\", \"dent\", \"dent\", \"dent\", \"dent\", \"dent\", \"description\", \"description\", \"description\", \"description\", \"description\", \"description\", \"description\", \"design\", \"design\", \"design\", \"design\", \"design\", \"design\", \"design\", \"dinner\", \"dinner\", \"dinner\", \"dinner\", \"dinner\", \"dinner\", \"dinner\", \"disappoint\", \"disappoint\", \"disappoint\", \"disappoint\", \"disappoint\", \"disappoint\", \"disappoint\", \"discount\", \"discount\", \"discount\", \"discount\", \"discount\", \"discount\", \"discount\", \"easter\", \"easter\", \"easter\", \"easter\", \"easter\", \"easter\", \"easter\", \"easy\", \"easy\", \"easy\", \"easy\", \"easy\", \"easy\", \"easy\", \"efficient\", \"efficient\", \"efficient\", \"efficient\", \"efficient\", \"efficient\", \"efficient\", \"effort\", \"effort\", \"effort\", \"effort\", \"effort\", \"effort\", \"effort\", \"email\", \"email\", \"email\", \"email\", \"email\", \"email\", \"email\", \"excelent\", \"excelent\", \"excelent\", \"excelent\", \"excelent\", \"excelent\", \"excelent\", \"excellent\", \"excellent\", \"excellent\", \"excellent\", \"excellent\", \"excellent\", \"excellent\", \"excite\", \"excite\", \"excite\", \"excite\", \"excite\", \"excite\", \"excite\", \"expectation\", \"expectation\", \"expectation\", \"expectation\", \"expectation\", \"expectation\", \"expectation\", \"eye\", \"eye\", \"eye\", \"eye\", \"eye\", \"eye\", \"eye\", \"family\", \"family\", \"family\", \"family\", \"family\", \"family\", \"family\", \"fast\", \"fast\", \"fast\", \"fast\", \"fast\", \"fast\", \"fast\", \"fill\", \"fill\", \"fill\", \"fill\", \"fill\", \"fill\", \"fill\", \"fine\", \"fine\", \"fine\", \"fine\", \"fine\", \"fine\", \"fine\", \"first\", \"first\", \"first\", \"first\", \"first\", \"first\", \"first\", \"fit\", \"fit\", \"fit\", \"fit\", \"fit\", \"fit\", \"fit\", \"flower\", \"flower\", \"flower\", \"flower\", \"flower\", \"flower\", \"flower\", \"food\", \"food\", \"food\", \"food\", \"food\", \"food\", \"food\", \"form\", \"form\", \"form\", \"form\", \"form\", \"form\", \"form\", \"free\", \"free\", \"free\", \"free\", \"free\", \"free\", \"free\", \"friend\", \"friend\", \"friend\", \"friend\", \"friend\", \"friend\", \"friend\", \"friendly\", \"friendly\", \"friendly\", \"friendly\", \"friendly\", \"friendly\", \"friendly\", \"fun\", \"fun\", \"fun\", \"fun\", \"fun\", \"fun\", \"fun\", \"funny\", \"funny\", \"funny\", \"funny\", \"funny\", \"funny\", \"funny\", \"gas\", \"gas\", \"gas\", \"gas\", \"gas\", \"gas\", \"gas\", \"gift\", \"gift\", \"gift\", \"gift\", \"gift\", \"gift\", \"gift\", \"give\", \"give\", \"give\", \"give\", \"give\", \"give\", \"give\", \"good\", \"good\", \"good\", \"good\", \"good\", \"good\", \"good\", \"graduation\", \"graduation\", \"graduation\", \"graduation\", \"graduation\", \"graduation\", \"graduation\", \"grandkid\", \"grandkid\", \"grandkid\", \"grandkid\", \"grandkid\", \"grandkid\", \"grandkid\", \"grandson\", \"grandson\", \"grandson\", \"grandson\", \"grandson\", \"grandson\", \"grandson\", \"graphic\", \"graphic\", \"graphic\", \"graphic\", \"graphic\", \"graphic\", \"graphic\", \"great\", \"great\", \"great\", \"great\", \"great\", \"great\", \"great\", \"guy\", \"guy\", \"guy\", \"guy\", \"guy\", \"guy\", \"guy\", \"half\", \"half\", \"half\", \"half\", \"half\", \"half\", \"half\", \"happy\", \"happy\", \"happy\", \"happy\", \"happy\", \"happy\", \"happy\", \"hit\", \"hit\", \"hit\", \"hit\", \"hit\", \"hit\", \"hit\", \"holder\", \"holder\", \"holder\", \"holder\", \"holder\", \"holder\", \"holder\", \"home\", \"home\", \"home\", \"home\", \"home\", \"home\", \"home\", \"husband\", \"husband\", \"husband\", \"husband\", \"husband\", \"husband\", \"husband\", \"idea\", \"idea\", \"idea\", \"idea\", \"idea\", \"idea\", \"idea\", \"ideal\", \"ideal\", \"ideal\", \"ideal\", \"ideal\", \"ideal\", \"ideal\", \"info\", \"info\", \"info\", \"info\", \"info\", \"info\", \"info\", \"internet\", \"internet\", \"internet\", \"internet\", \"internet\", \"internet\", \"internet\", \"item\", \"item\", \"item\", \"item\", \"item\", \"item\", \"item\", \"job\", \"job\", \"job\", \"job\", \"job\", \"job\", \"job\", \"junk\", \"junk\", \"junk\", \"junk\", \"junk\", \"junk\", \"junk\", \"kind\", \"kind\", \"kind\", \"kind\", \"kind\", \"kind\", \"kind\", \"lady\", \"lady\", \"lady\", \"lady\", \"lady\", \"lady\", \"lady\", \"last\", \"last\", \"last\", \"last\", \"last\", \"last\", \"last\", \"leave\", \"leave\", \"leave\", \"leave\", \"leave\", \"leave\", \"leave\", \"lightning\", \"lightning\", \"lightning\", \"lightning\", \"lightning\", \"lightning\", \"lightning\", \"love\", \"love\", \"love\", \"love\", \"love\", \"love\", \"love\", \"lovely\", \"lovely\", \"lovely\", \"lovely\", \"lovely\", \"lovely\", \"lovely\", \"mail\", \"mail\", \"mail\", \"mail\", \"mail\", \"mail\", \"mail\", \"man\", \"man\", \"man\", \"man\", \"man\", \"man\", \"man\", \"membership\", \"membership\", \"membership\", \"membership\", \"membership\", \"membership\", \"membership\", \"metal\", \"metal\", \"metal\", \"metal\", \"metal\", \"metal\", \"metal\", \"minute\", \"minute\", \"minute\", \"minute\", \"minute\", \"minute\", \"minute\", \"mom\", \"mom\", \"mom\", \"mom\", \"mom\", \"mom\", \"mom\", \"money\", \"money\", \"money\", \"money\", \"money\", \"money\", \"money\", \"month\", \"month\", \"month\", \"month\", \"month\", \"month\", \"month\", \"movie\", \"movie\", \"movie\", \"movie\", \"movie\", \"movie\", \"movie\", \"much\", \"much\", \"much\", \"much\", \"much\", \"much\", \"much\", \"multiple\", \"multiple\", \"multiple\", \"multiple\", \"multiple\", \"multiple\", \"multiple\", \"negative\", \"negative\", \"negative\", \"negative\", \"negative\", \"negative\", \"negative\", \"nice\", \"nice\", \"nice\", \"nice\", \"nice\", \"nice\", \"nice\", \"non\", \"non\", \"non\", \"non\", \"non\", \"non\", \"non\", \"number\", \"number\", \"number\", \"number\", \"number\", \"number\", \"number\", \"occasion\", \"occasion\", \"occasion\", \"occasion\", \"occasion\", \"occasion\", \"occasion\", \"order\", \"order\", \"order\", \"order\", \"order\", \"order\", \"order\", \"original\", \"original\", \"original\", \"original\", \"original\", \"original\", \"original\", \"packaging\", \"packaging\", \"packaging\", \"packaging\", \"packaging\", \"packaging\", \"packaging\", \"particular\", \"particular\", \"particular\", \"particular\", \"particular\", \"particular\", \"particular\", \"perfect\", \"perfect\", \"perfect\", \"perfect\", \"perfect\", \"perfect\", \"perfect\", \"person\", \"person\", \"person\", \"person\", \"person\", \"person\", \"person\", \"personalized\", \"personalized\", \"personalized\", \"personalized\", \"personalized\", \"personalized\", \"personalized\", \"plan\", \"plan\", \"plan\", \"plan\", \"plan\", \"plan\", \"plan\", \"play\", \"play\", \"play\", \"play\", \"play\", \"play\", \"play\", \"pleased\", \"pleased\", \"pleased\", \"pleased\", \"pleased\", \"pleased\", \"pleased\", \"policy\", \"policy\", \"policy\", \"policy\", \"policy\", \"policy\", \"policy\", \"pop\", \"pop\", \"pop\", \"pop\", \"pop\", \"pop\", \"pop\", \"postage\", \"postage\", \"postage\", \"postage\", \"postage\", \"postage\", \"postage\", \"practical\", \"practical\", \"practical\", \"practical\", \"practical\", \"practical\", \"practical\", \"present\", \"present\", \"present\", \"present\", \"present\", \"present\", \"present\", \"presentation\", \"presentation\", \"presentation\", \"presentation\", \"presentation\", \"presentation\", \"presentation\", \"price\", \"price\", \"price\", \"price\", \"price\", \"price\", \"price\", \"print\", \"print\", \"print\", \"print\", \"print\", \"print\", \"print\", \"printer\", \"printer\", \"printer\", \"printer\", \"printer\", \"printer\", \"printer\", \"problem\", \"problem\", \"problem\", \"problem\", \"problem\", \"problem\", \"problem\", \"product\", \"product\", \"product\", \"product\", \"product\", \"product\", \"product\", \"promise\", \"promise\", \"promise\", \"promise\", \"promise\", \"promise\", \"promise\", \"prompt\", \"prompt\", \"prompt\", \"prompt\", \"prompt\", \"prompt\", \"prompt\", \"purchase\", \"purchase\", \"purchase\", \"purchase\", \"purchase\", \"purchase\", \"purchase\", \"purpose\", \"purpose\", \"purpose\", \"purpose\", \"purpose\", \"purpose\", \"purpose\", \"quality\", \"quality\", \"quality\", \"quality\", \"quality\", \"quality\", \"quality\", \"question\", \"question\", \"question\", \"question\", \"question\", \"question\", \"question\", \"quick\", \"quick\", \"quick\", \"quick\", \"quick\", \"quick\", \"quick\", \"recepient\", \"recepient\", \"recepient\", \"recepient\", \"recepient\", \"recepient\", \"recepient\", \"recipient\", \"recipient\", \"recipient\", \"recipient\", \"recipient\", \"recipient\", \"recipient\", \"red\", \"red\", \"red\", \"red\", \"red\", \"red\", \"red\", \"refund\", \"refund\", \"refund\", \"refund\", \"refund\", \"refund\", \"refund\", \"reliable\", \"reliable\", \"reliable\", \"reliable\", \"reliable\", \"reliable\", \"reliable\", \"restaurant\", \"restaurant\", \"restaurant\", \"restaurant\", \"restaurant\", \"restaurant\", \"restaurant\", \"ribbon\", \"ribbon\", \"ribbon\", \"ribbon\", \"ribbon\", \"ribbon\", \"ribbon\", \"right\", \"right\", \"right\", \"right\", \"right\", \"right\", \"right\", \"satisfy\", \"satisfy\", \"satisfy\", \"satisfy\", \"satisfy\", \"satisfy\", \"satisfy\", \"season\", \"season\", \"season\", \"season\", \"season\", \"season\", \"season\", \"self\", \"self\", \"self\", \"self\", \"self\", \"self\", \"self\", \"seller\", \"seller\", \"seller\", \"seller\", \"seller\", \"seller\", \"seller\", \"service\", \"service\", \"service\", \"service\", \"service\", \"service\", \"service\", \"ship\", \"ship\", \"ship\", \"ship\", \"ship\", \"ship\", \"ship\", \"shipping\", \"shipping\", \"shipping\", \"shipping\", \"shipping\", \"shipping\", \"shipping\", \"shop\", \"shop\", \"shop\", \"shop\", \"shop\", \"shop\", \"shop\", \"shopper\", \"shopper\", \"shopper\", \"shopper\", \"shopper\", \"shopper\", \"shopper\", \"shopping\", \"shopping\", \"shopping\", \"shopping\", \"shopping\", \"shopping\", \"shopping\", \"silly\", \"silly\", \"silly\", \"silly\", \"silly\", \"silly\", \"silly\", \"similar\", \"similar\", \"similar\", \"similar\", \"similar\", \"similar\", \"similar\", \"simple\", \"simple\", \"simple\", \"simple\", \"simple\", \"simple\", \"simple\", \"situation\", \"situation\", \"situation\", \"situation\", \"situation\", \"situation\", \"situation\", \"size\", \"size\", \"size\", \"size\", \"size\", \"size\", \"size\", \"smooth\", \"smooth\", \"smooth\", \"smooth\", \"smooth\", \"smooth\", \"smooth\", \"snowflake\", \"snowflake\", \"snowflake\", \"snowflake\", \"snowflake\", \"snowflake\", \"snowflake\", \"soft\", \"soft\", \"soft\", \"soft\", \"soft\", \"soft\", \"soft\", \"speedy\", \"speedy\", \"speedy\", \"speedy\", \"speedy\", \"speedy\", \"speedy\", \"spend\", \"spend\", \"spend\", \"spend\", \"spend\", \"spend\", \"spend\", \"spot\", \"spot\", \"spot\", \"spot\", \"spot\", \"spot\", \"spot\", \"staff\", \"staff\", \"staff\", \"staff\", \"staff\", \"staff\", \"staff\", \"standard\", \"standard\", \"standard\", \"standard\", \"standard\", \"standard\", \"standard\", \"starbuck\", \"starbuck\", \"starbuck\", \"starbuck\", \"starbuck\", \"starbuck\", \"starbuck\", \"stock\", \"stock\", \"stock\", \"stock\", \"stock\", \"stock\", \"stock\", \"store\", \"store\", \"store\", \"store\", \"store\", \"store\", \"store\", \"stress\", \"stress\", \"stress\", \"stress\", \"stress\", \"stress\", \"stress\", \"stuffer\", \"stuffer\", \"stuffer\", \"stuffer\", \"stuffer\", \"stuffer\", \"stuffer\", \"suit\", \"suit\", \"suit\", \"suit\", \"suit\", \"suit\", \"suit\", \"super\", \"super\", \"super\", \"super\", \"super\", \"super\", \"super\", \"system\", \"system\", \"system\", \"system\", \"system\", \"system\", \"system\", \"taste\", \"taste\", \"taste\", \"taste\", \"taste\", \"taste\", \"taste\", \"terrible\", \"terrible\", \"terrible\", \"terrible\", \"terrible\", \"terrible\", \"terrible\", \"thank\", \"thank\", \"thank\", \"thank\", \"thank\", \"thank\", \"thank\", \"theater\", \"theater\", \"theater\", \"theater\", \"theater\", \"theater\", \"theater\", \"thing\", \"thing\", \"thing\", \"thing\", \"thing\", \"thing\", \"thing\", \"think\", \"think\", \"think\", \"think\", \"think\", \"think\", \"think\", \"ticket\", \"ticket\", \"ticket\", \"ticket\", \"ticket\", \"ticket\", \"ticket\", \"time\", \"time\", \"time\", \"time\", \"time\", \"time\", \"time\", \"tin\", \"tin\", \"tin\", \"tin\", \"tin\", \"tin\", \"tin\", \"ton\", \"ton\", \"ton\", \"ton\", \"ton\", \"ton\", \"ton\", \"top\", \"top\", \"top\", \"top\", \"top\", \"top\", \"top\", \"toy\", \"toy\", \"toy\", \"toy\", \"toy\", \"toy\", \"toy\", \"track\", \"track\", \"track\", \"track\", \"track\", \"track\", \"track\", \"transaction\", \"transaction\", \"transaction\", \"transaction\", \"transaction\", \"transaction\", \"transaction\", \"transfer\", \"transfer\", \"transfer\", \"transfer\", \"transfer\", \"transfer\", \"transfer\", \"treat\", \"treat\", \"treat\", \"treat\", \"treat\", \"treat\", \"treat\", \"true\", \"true\", \"true\", \"true\", \"true\", \"true\", \"true\", \"unique\", \"unique\", \"unique\", \"unique\", \"unique\", \"unique\", \"unique\", \"use\", \"use\", \"use\", \"use\", \"use\", \"use\", \"use\", \"usual\", \"usual\", \"usual\", \"usual\", \"usual\", \"usual\", \"usual\", \"video\", \"video\", \"video\", \"video\", \"video\", \"video\", \"video\", \"way\", \"way\", \"way\", \"way\", \"way\", \"way\", \"way\", \"welcome\", \"welcome\", \"welcome\", \"welcome\", \"welcome\", \"welcome\", \"welcome\", \"whole\", \"whole\", \"whole\", \"whole\", \"whole\", \"whole\", \"whole\", \"wing\", \"wing\", \"wing\", \"wing\", \"wing\", \"wing\", \"wing\", \"winner\", \"winner\", \"winner\", \"winner\", \"winner\", \"winner\", \"winner\", \"work\", \"work\", \"work\", \"work\", \"work\", \"work\", \"work\", \"worker\", \"worker\", \"worker\", \"worker\", \"worker\", \"worker\", \"worker\", \"wrong\", \"wrong\", \"wrong\", \"wrong\", \"wrong\", \"wrong\", \"wrong\", \"year\", \"year\", \"year\", \"year\", \"year\", \"year\", \"year\"]}, \"R\": 30, \"lambda.step\": 0.01, \"plot.opts\": {\"xlab\": \"PC1\", \"ylab\": \"PC2\"}, \"topic.order\": [5, 3, 7, 1, 4, 6, 2]};\n",
       "\n",
       "function LDAvis_load_lib(url, callback){\n",
       "  var s = document.createElement('script');\n",
       "  s.src = url;\n",
       "  s.async = true;\n",
       "  s.onreadystatechange = s.onload = callback;\n",
       "  s.onerror = function(){console.warn(\"failed to load library \" + url);};\n",
       "  document.getElementsByTagName(\"head\")[0].appendChild(s);\n",
       "}\n",
       "\n",
       "if(typeof(LDAvis) !== \"undefined\"){\n",
       "   // already loaded: just create the visualization\n",
       "   !function(LDAvis){\n",
       "       new LDAvis(\"#\" + \"ldavis_el69796140610084393296543166114\", ldavis_el69796140610084393296543166114_data);\n",
       "   }(LDAvis);\n",
       "}else if(typeof define === \"function\" && define.amd){\n",
       "   // require.js is available: use it to load d3/LDAvis\n",
       "   require.config({paths: {d3: \"https://cdnjs.cloudflare.com/ajax/libs/d3/3.5.5/d3.min\"}});\n",
       "   require([\"d3\"], function(d3){\n",
       "      window.d3 = d3;\n",
       "      LDAvis_load_lib(\"https://cdn.rawgit.com/bmabey/pyLDAvis/files/ldavis.v1.0.0.js\", function(){\n",
       "        new LDAvis(\"#\" + \"ldavis_el69796140610084393296543166114\", ldavis_el69796140610084393296543166114_data);\n",
       "      });\n",
       "    });\n",
       "}else{\n",
       "    // require.js not available: dynamically load d3 & LDAvis\n",
       "    LDAvis_load_lib(\"https://cdnjs.cloudflare.com/ajax/libs/d3/3.5.5/d3.min.js\", function(){\n",
       "         LDAvis_load_lib(\"https://cdn.rawgit.com/bmabey/pyLDAvis/files/ldavis.v1.0.0.js\", function(){\n",
       "                 new LDAvis(\"#\" + \"ldavis_el69796140610084393296543166114\", ldavis_el69796140610084393296543166114_data);\n",
       "            })\n",
       "         });\n",
       "}\n",
       "</script>"
      ],
      "text/plain": [
       "PreparedData(topic_coordinates=              x         y  topics  cluster       Freq\n",
       "topic                                                \n",
       "4     -0.070883 -0.000326       1        1  66.350983\n",
       "2      0.015286 -0.010995       2        1   7.083359\n",
       "6      0.013846  0.008133       3        1   6.390010\n",
       "0      0.009566  0.001828       4        1   5.730786\n",
       "3      0.010863  0.000526       5        1   5.059940\n",
       "5      0.011487  0.000596       6        1   4.955796\n",
       "1      0.009835  0.000238       7        1   4.429132, topic_info=     Category         Freq      Term        Total  loglift  logprob\n",
       "4     Default  3047.000000      gift  3047.000000  30.0000  30.0000\n",
       "1     Default  3010.000000      card  3010.000000  29.0000  29.0000\n",
       "5     Default   161.000000     great   161.000000  28.0000  28.0000\n",
       "9     Default   110.000000      love   110.000000  27.0000  27.0000\n",
       "8     Default    73.000000      good    73.000000  26.0000  26.0000\n",
       "...       ...          ...       ...          ...      ...      ...\n",
       "462    Topic7     1.544433       hit    18.160969   0.6523  -7.9579\n",
       "1372   Topic7     1.473724     metal    17.776945   0.6269  -8.0047\n",
       "1331   Topic7     1.456432       toy    17.735966   0.6174  -8.0166\n",
       "70     Topic7     5.220016   service    82.624695   0.3552  -6.7400\n",
       "76     Topic7     3.093908  daughter   117.408882  -0.5193  -7.2631\n",
       "\n",
       "[257 rows x 6 columns], token_table=      Topic      Freq  Term\n",
       "term                       \n",
       "173       1  0.963904  able\n",
       "173       2  0.004725  able\n",
       "173       3  0.004725  able\n",
       "173       4  0.004725  able\n",
       "173       5  0.004725  able\n",
       "...     ...       ...   ...\n",
       "240       3  0.006890  year\n",
       "240       4  0.006890  year\n",
       "240       5  0.006890  year\n",
       "240       6  0.006890  year\n",
       "240       7  0.006890  year\n",
       "\n",
       "[1568 rows x 3 columns], R=30, lambda_step=0.01, plot_opts={'xlab': 'PC1', 'ylab': 'PC2'}, topic_order=[5, 3, 7, 1, 4, 6, 2])"
      ]
     },
     "execution_count": 81,
     "metadata": {},
     "output_type": "execute_result"
    }
   ],
   "source": [
    "pyLDAvis.enable_notebook()\n",
    "vis = pyLDAvis.gensim.prepare(lda_model, doc_term_matrix, dictionary)\n",
    "vis"
   ]
  },
  {
   "cell_type": "markdown",
   "metadata": {},
   "source": [
    "## Basic Features"
   ]
  },
  {
   "cell_type": "code",
   "execution_count": 69,
   "metadata": {},
   "outputs": [],
   "source": [
    "train_review_data = []\n",
    "for d in range(len(train_review_user)):\n",
    "    train_review_data.append({\n",
    "        'reviewerID':train_review_user[d],\n",
    "        'asin':train_review_item[d],\n",
    "        'reviewText':train_review_text[d],\n",
    "        'overall':train_review_rating[d]\n",
    "    })"
   ]
  },
  {
   "cell_type": "code",
   "execution_count": 70,
   "metadata": {},
   "outputs": [],
   "source": [
    "# we do not use meta data because sometimes it doesn't have a similar\n",
    "# item candidate\n",
    "reviewsPerUser = defaultdict(list)\n",
    "reviewsPerItem = defaultdict(list)\n",
    "usersPerItem = defaultdict(set)\n",
    "itemsPerUser = defaultdict(set)\n",
    "itemIDs = {}\n",
    "userIDs = {}\n",
    "for d in train_review_data:\n",
    "    u, i = d['reviewerID'], d['asin']\n",
    "    reviewsPerUser[u].append(d)\n",
    "    reviewsPerItem[i].append(d)\n",
    "    usersPerItem[i].add(u)\n",
    "    itemsPerUser[u].add(i)\n",
    "    if not i in itemIDs: itemIDs[i] = len(itemIDs)\n",
    "    if not u in userIDs: userIDs[u] = len(userIDs)"
   ]
  },
  {
   "cell_type": "code",
   "execution_count": 71,
   "metadata": {},
   "outputs": [],
   "source": [
    "# item average rating\n",
    "item_ave_rating = {}\n",
    "for item in reviewsPerItem.keys():\n",
    "    item_ave_rating[item] = statistics.mean([d['overall']\\\n",
    "                                            for d in reviewsPerItem[item]])"
   ]
  },
  {
   "cell_type": "code",
   "execution_count": 72,
   "metadata": {},
   "outputs": [],
   "source": [
    "# user average rating\n",
    "user_ave_rating = {}\n",
    "for user in reviewsPerUser.keys():\n",
    "    user_ave_rating[user] = statistics.mean([d['overall']\\\n",
    "                                            for d in reviewsPerUser[user]])"
   ]
  },
  {
   "cell_type": "code",
   "execution_count": null,
   "metadata": {},
   "outputs": [],
   "source": []
  },
  {
   "cell_type": "code",
   "execution_count": 73,
   "metadata": {},
   "outputs": [],
   "source": [
    "# item-item similarity matrix\n",
    "def Jaccard(s1, s2):\n",
    "    numer = len(s1.intersection(s2))\n",
    "    denom = len(s1.union(s2))\n",
    "    return numer/denom"
   ]
  },
  {
   "cell_type": "code",
   "execution_count": 91,
   "metadata": {},
   "outputs": [],
   "source": [
    "import tqdm"
   ]
  },
  {
   "cell_type": "code",
   "execution_count": 74,
   "metadata": {},
   "outputs": [],
   "source": [
    "N_U = len(set(reviewsPerUser.keys()))"
   ]
  },
  {
   "cell_type": "code",
   "execution_count": 75,
   "metadata": {},
   "outputs": [
    {
     "name": "stdout",
     "output_type": "stream",
     "text": [
      "(1548, 1548)\n"
     ]
    },
    {
     "data": {
      "text/plain": [
       "array([[1., 0., 0., ..., 0., 0., 0.],\n",
       "       [0., 1., 0., ..., 0., 0., 0.],\n",
       "       [0., 0., 1., ..., 0., 0., 0.],\n",
       "       ...,\n",
       "       [0., 0., 0., ..., 1., 0., 0.],\n",
       "       [0., 0., 0., ..., 0., 1., 0.],\n",
       "       [0., 0., 0., ..., 0., 0., 1.]])"
      ]
     },
     "execution_count": 75,
     "metadata": {},
     "output_type": "execute_result"
    }
   ],
   "source": [
    "N_I = len(set(reviewsPerItem.keys()))\n",
    "i_i_sim = np.zeros((N_I, N_I))\n",
    "keys = list(itemIDs.keys())\n",
    "for i in range(N_I):\n",
    "    for j in range(i, N_I):\n",
    "        k_i, k_j = keys[i], keys[j]\n",
    "        set_i = usersPerItem[k_i]\n",
    "        set_j = usersPerItem[k_j]\n",
    "        idx_i, idx_j = itemIDs[k_i], itemIDs[k_j]\n",
    "        i_i_sim[idx_i, idx_j], i_i_sim[idx_j, idx_i] = Jaccard(set_i, set_j), Jaccard(set_i, set_j)\n",
    "\n",
    "print(i_i_sim.shape)\n",
    "i_i_sim"
   ]
  },
  {
   "cell_type": "code",
   "execution_count": 76,
   "metadata": {},
   "outputs": [
    {
     "name": "stdout",
     "output_type": "stream",
     "text": [
      "(1548,)\n"
     ]
    },
    {
     "data": {
      "text/plain": [
       "array([703., 111.,  18., ...,   1.,   2.,   3.])"
      ]
     },
     "execution_count": 76,
     "metadata": {},
     "output_type": "execute_result"
    }
   ],
   "source": [
    "# popularity matrix\n",
    "item_popularity = np.zeros(N_I)\n",
    "for g in usersPerItem.keys():\n",
    "    idx = itemIDs[g]\n",
    "    item_popularity[idx] = len(usersPerItem[g])\n",
    "print(item_popularity.shape)\n",
    "item_popularity"
   ]
  },
  {
   "cell_type": "code",
   "execution_count": 77,
   "metadata": {},
   "outputs": [],
   "source": [
    "# save a index for non-existent products at the end\n",
    "item_popularity = np.append(item_popularity, statistics.median(item_popularity))"
   ]
  },
  {
   "cell_type": "markdown",
   "metadata": {},
   "source": [
    "## Build X and Y"
   ]
  },
  {
   "cell_type": "code",
   "execution_count": 78,
   "metadata": {},
   "outputs": [],
   "source": [
    "def build_jaccard_feature(u, i):\n",
    "    if i not in itemIDs:\n",
    "        return 0\n",
    "    tar_idx = itemIDs[i]\n",
    "    max_sim = 0\n",
    "    for record in itemsPerUser[u]:\n",
    "        if record==i:\n",
    "            continue\n",
    "        rec_idx = itemIDs[record]\n",
    "        max_sim = max(max_sim, i_i_sim[rec_idx, tar_idx])\n",
    "    return max_sim"
   ]
  },
  {
   "cell_type": "code",
   "execution_count": 89,
   "metadata": {},
   "outputs": [],
   "source": [
    "def build_feature(dataset):\n",
    "    users, items, ratings = dataset\n",
    "    jacc_feat = np.array([build_jaccard_feature(u, i) for u, i in zip(users, items)]).reshape(-1, 1)\n",
    "#     i_med = statistics.median(item_ave_rating.values())\n",
    "    u_med = statistics.median(user_ave_rating.values())\n",
    "    \n",
    "    i_ave = np.array([item_ave_rating[i] for i in items]).reshape(-1,1)\n",
    "    u_ave = np.array([user_ave_rating[u] if u in user_ave_rating else u_med for u in users]).reshape(-1,1)\n",
    "    \n",
    "    itemIndices = [itemIDs[i] for i in items]\n",
    "#     item_popularity[itemIndices] / N_U\n",
    "    \n",
    "    X = np.hstack((\n",
    "        jacc_feat,\n",
    "        i_ave,\n",
    "        u_ave,\n",
    "        (item_popularity[itemIndices] / N_U).reshape(-1, 1)\n",
    "    \n",
    "    ))\n",
    "    \n",
    "    return X, ratings"
   ]
  },
  {
   "cell_type": "markdown",
   "metadata": {},
   "source": [
    "## Linear Regression with Basic Features"
   ]
  },
  {
   "cell_type": "code",
   "execution_count": 81,
   "metadata": {
    "scrolled": true
   },
   "outputs": [
    {
     "data": {
      "text/plain": [
       "(129118, 4)"
      ]
     },
     "execution_count": 81,
     "metadata": {},
     "output_type": "execute_result"
    }
   ],
   "source": [
    "train_X, train_Y = build_feature((train_review_user, train_review_item, train_review_rating))\n",
    "train_X.shape"
   ]
  },
  {
   "cell_type": "code",
   "execution_count": 82,
   "metadata": {},
   "outputs": [
    {
     "data": {
      "text/plain": [
       "array([[0.        , 4.09246088, 5.        , 0.0054549 ],\n",
       "       [0.        , 4.09246088, 5.        , 0.0054549 ],\n",
       "       [0.        , 4.09246088, 1.        , 0.0054549 ],\n",
       "       [0.        , 4.09246088, 3.        , 0.0054549 ],\n",
       "       [0.        , 4.09246088, 1.        , 0.0054549 ]])"
      ]
     },
     "execution_count": 82,
     "metadata": {},
     "output_type": "execute_result"
    }
   ],
   "source": [
    "train_X[:5]"
   ]
  },
  {
   "cell_type": "code",
   "execution_count": 83,
   "metadata": {},
   "outputs": [],
   "source": [
    "from sklearn.linear_model import Lasso"
   ]
  },
  {
   "cell_type": "code",
   "execution_count": 84,
   "metadata": {
    "scrolled": true
   },
   "outputs": [],
   "source": [
    "reg = Lasso(alpha=0.5).fit(train_X, train_Y)\n"
   ]
  },
  {
   "cell_type": "code",
   "execution_count": 85,
   "metadata": {},
   "outputs": [
    {
     "data": {
      "text/plain": [
       "0.257078001038388"
      ]
     },
     "execution_count": 85,
     "metadata": {},
     "output_type": "execute_result"
    }
   ],
   "source": [
    "predict_train_Y = reg.predict(train_X)\n",
    "mean_squared_error(train_Y, predict_train_Y)"
   ]
  },
  {
   "cell_type": "code",
   "execution_count": 90,
   "metadata": {},
   "outputs": [],
   "source": [
    "test_X, test_Y = build_feature((test_review_user, test_review_item, test_review_rating))"
   ]
  },
  {
   "cell_type": "code",
   "execution_count": 91,
   "metadata": {},
   "outputs": [
    {
     "data": {
      "text/plain": [
       "0.3258131602852276"
      ]
     },
     "execution_count": 91,
     "metadata": {},
     "output_type": "execute_result"
    }
   ],
   "source": [
    "predict_test_Y = reg.predict(test_X)\n",
    "mean_squared_error(test_Y, predict_test_Y)"
   ]
  },
  {
   "cell_type": "code",
   "execution_count": null,
   "metadata": {},
   "outputs": [],
   "source": [
    "# overfitting --> because we have unseen items\n",
    "# massively drop unseen data significantly improve mse"
   ]
  },
  {
   "cell_type": "markdown",
   "metadata": {},
   "source": [
    "## Convert Topics to feature vectors"
   ]
  },
  {
   "cell_type": "code",
   "execution_count": null,
   "metadata": {},
   "outputs": [],
   "source": [
    "# https://towardsdatascience.com/unsupervised-nlp-topic-models-as-a-supervised-learning-input-cf8ee9e5cf28"
   ]
  },
  {
   "cell_type": "code",
   "execution_count": 92,
   "metadata": {},
   "outputs": [],
   "source": [
    "train_vecs = []\n",
    "for i in range(len(train_review_text)):\n",
    "    top_topics = (\n",
    "        lda_model.get_document_topics(doc_term_matrix[i],\n",
    "                                      minimum_probability=0.0)\n",
    "    )\n",
    "    topic_vec = [top_topics[i][1] for i in range(6)]\n",
    "#     topic_vec.extend([rev_train.iloc[i].real_counts])\n",
    "    topic_vec.extend([len(train_review_text[i])])\n",
    "    train_vecs.append(topic_vec)"
   ]
  },
  {
   "cell_type": "code",
   "execution_count": 93,
   "metadata": {},
   "outputs": [],
   "source": [
    "train_text_features = np.array(train_vecs)"
   ]
  },
  {
   "cell_type": "code",
   "execution_count": 94,
   "metadata": {},
   "outputs": [
    {
     "data": {
      "text/plain": [
       "array([3.56288701e-02, 6.13494515e-02, 3.66475969e-03, 8.68832022e-02,\n",
       "       5.09272933e-01, 1.39817968e-01, 6.50000000e+02])"
      ]
     },
     "execution_count": 94,
     "metadata": {},
     "output_type": "execute_result"
    }
   ],
   "source": [
    "train_text_features[0]"
   ]
  },
  {
   "cell_type": "code",
   "execution_count": 95,
   "metadata": {},
   "outputs": [],
   "source": [
    "test_vecs = []\n",
    "for i in range(len(test_review_text)):\n",
    "    top_topics = (\n",
    "        lda_model.get_document_topics(doc_term_matrix[i],\n",
    "                                      minimum_probability=0.0)\n",
    "    )\n",
    "    topic_vec = [top_topics[i][1] for i in range(6)]\n",
    "#     topic_vec.extend([rev_train.iloc[i].real_counts])\n",
    "    topic_vec.extend([len(test_review_text[i])])\n",
    "    test_vecs.append(topic_vec)"
   ]
  },
  {
   "cell_type": "code",
   "execution_count": 96,
   "metadata": {},
   "outputs": [],
   "source": [
    "test_text_features = np.array(test_vecs)"
   ]
  },
  {
   "cell_type": "markdown",
   "metadata": {},
   "source": [
    "## Linear Regression with basic features + LDA topics"
   ]
  },
  {
   "cell_type": "code",
   "execution_count": 97,
   "metadata": {},
   "outputs": [],
   "source": [
    "train_X_LDA = np.hstack((train_X, train_text_features))\n",
    "test_X_LDA = np.hstack((test_X, test_text_features))"
   ]
  },
  {
   "cell_type": "code",
   "execution_count": 98,
   "metadata": {},
   "outputs": [
    {
     "data": {
      "text/plain": [
       "array([0.00000000e+00, 4.09246088e+00, 5.00000000e+00, 5.45489816e-03,\n",
       "       3.56288701e-02, 6.13494515e-02, 3.66475969e-03, 8.68832022e-02,\n",
       "       5.09272933e-01, 1.39817968e-01, 6.50000000e+02])"
      ]
     },
     "execution_count": 98,
     "metadata": {},
     "output_type": "execute_result"
    }
   ],
   "source": [
    "train_X_LDA[0]"
   ]
  },
  {
   "cell_type": "code",
   "execution_count": 117,
   "metadata": {},
   "outputs": [],
   "source": [
    "reg = Lasso(alpha=0.5).fit(train_X_LDA, train_Y)"
   ]
  },
  {
   "cell_type": "code",
   "execution_count": 118,
   "metadata": {},
   "outputs": [
    {
     "data": {
      "text/plain": [
       "0.2780370060287629"
      ]
     },
     "execution_count": 118,
     "metadata": {},
     "output_type": "execute_result"
    }
   ],
   "source": [
    "predict_train_Y = reg.predict(train_X_LDA)\n",
    "mean_squared_error(train_Y, predict_train_Y)"
   ]
  },
  {
   "cell_type": "code",
   "execution_count": 119,
   "metadata": {},
   "outputs": [
    {
     "data": {
      "text/plain": [
       "0.31640513381719076"
      ]
     },
     "execution_count": 119,
     "metadata": {},
     "output_type": "execute_result"
    }
   ],
   "source": [
    "predict_test_Y = reg.predict(test_X_LDA)\n",
    "mean_squared_error(test_Y, predict_test_Y)"
   ]
  },
  {
   "cell_type": "markdown",
   "metadata": {},
   "source": [
    "improvement abserved"
   ]
  },
  {
   "cell_type": "markdown",
   "metadata": {},
   "source": [
    "## XGBoost"
   ]
  },
  {
   "cell_type": "code",
   "execution_count": 102,
   "metadata": {},
   "outputs": [],
   "source": [
    "import xgboost as xgb"
   ]
  },
  {
   "cell_type": "code",
   "execution_count": 103,
   "metadata": {},
   "outputs": [],
   "source": [
    "def train_test_xgboost(x_train, x_test, y_train, y_test):\n",
    "    train_result = dict()\n",
    "    test_result = dict()\n",
    "    \n",
    "    clf = xgb.XGBRegressor(n_estimators=60, silent=False, n_jobs=10,\\\n",
    "                           gamma=100,max_depth=10,nrounds=2000,colsample_bytree=0.50,\\\n",
    "                          subsample=0.70,learning_rate=0.300000012,reg_lambda=0.1,\\\n",
    "                          reg_alpha=0.1)\n",
    "    clf.fit(x_train, y_train)\n",
    "    \n",
    "    print(\"-\"*50)\n",
    "    print(\"TRAIN DATA\")\n",
    "    y_pred_train = clf.predict(x_train)\n",
    "    train_result = mean_squared_error(y_pred_train, y_train)\n",
    "#     model_train_evaluation['XGBoost']['train'] = y_pred_train\n",
    "    print(\"MSE = {}\".format(train_result))\n",
    "    print(\"-\"*50)\n",
    "    \n",
    "    print(\"TEST DATA\")\n",
    "\n",
    "    y_pred_val = clf.predict(x_test)\n",
    "    test_result = mean_squared_error(y_pred_val, y_test)\n",
    "#     model_train_evaluation['XGBoost']['val'] = y_pred_val\n",
    "    print(\"MSE = {}\".format(test_result))\n",
    "    print(\"-\"*50)\n",
    "    \n",
    "    return train_result, test_result, clf"
   ]
  },
  {
   "cell_type": "code",
   "execution_count": 104,
   "metadata": {},
   "outputs": [
    {
     "name": "stdout",
     "output_type": "stream",
     "text": [
      "[17:59:20] WARNING: /Users/travis/build/dmlc/xgboost/src/learner.cc:516: \n",
      "Parameters: { nrounds, silent } might not be used.\n",
      "\n",
      "  This may not be accurate due to some parameters are only used in language bindings but\n",
      "  passed down to XGBoost core.  Or some parameters are not used but slip through this\n",
      "  verification. Please open an issue if you find above cases.\n",
      "\n",
      "\n",
      "--------------------------------------------------\n",
      "TRAIN DATA\n",
      "MSE = 0.014761466716240134\n",
      "--------------------------------------------------\n",
      "TEST DATA\n",
      "MSE = 0.3742201829070905\n",
      "--------------------------------------------------\n"
     ]
    }
   ],
   "source": [
    "train_result, test_result, clf = train_test_xgboost(train_X_LDA, test_X_LDA, train_Y, test_Y)"
   ]
  },
  {
   "cell_type": "markdown",
   "metadata": {},
   "source": [
    "### Try Surprise Model "
   ]
  },
  {
   "cell_type": "code",
   "execution_count": 105,
   "metadata": {},
   "outputs": [],
   "source": [
    "from surprise import SVD\n",
    "from surprise import SVDpp\n",
    "from surprise.model_selection import GridSearchCV\n",
    "from surprise import Reader, Dataset"
   ]
  },
  {
   "cell_type": "code",
   "execution_count": 106,
   "metadata": {},
   "outputs": [],
   "source": [
    "reader = Reader(rating_scale=(1,5))"
   ]
  },
  {
   "cell_type": "code",
   "execution_count": 107,
   "metadata": {},
   "outputs": [],
   "source": [
    "surprise_train = Dataset.load_from_df(user_item_rating_file[['reviewerID','asin','rating']], reader)\n",
    "surprise_trainset = surprise_train.build_full_trainset()"
   ]
  },
  {
   "cell_type": "code",
   "execution_count": 108,
   "metadata": {},
   "outputs": [],
   "source": [
    "user_item_rating_test  = pd.DataFrame({'reviewerID': test_review_user, 'asin':test_review_item,\\\n",
    "                                      'text':test_review_text,'rating':test_review_rating})"
   ]
  },
  {
   "cell_type": "code",
   "execution_count": 109,
   "metadata": {},
   "outputs": [],
   "source": [
    "valset = list(zip(user_item_rating_test[\"reviewerID\"].values, \\\n",
    "                   user_item_rating_test[\"asin\"].values, \\\n",
    "                  user_item_rating_test[\"rating\"].values))"
   ]
  },
  {
   "cell_type": "code",
   "execution_count": 110,
   "metadata": {},
   "outputs": [],
   "source": [
    "def run_surprise(algo, trainset, testset, model_name):\n",
    "    \n",
    "    train = dict()\n",
    "    test = dict()\n",
    "    print(\"-\"*50)\n",
    "    print(\"TRAIN DATA\")\n",
    "    train_pred = algo.fit(trainset)\n",
    "    train_pred = algo.test(trainset.build_testset())\n",
    "    train_actual, train_predicted = get_ratings(train_pred)\n",
    "    mse = get_error(train_pred)\n",
    "    print(\"MSE = {}\".format(mse))\n",
    "    print(\"-\"*50)\n",
    "    \n",
    "    print(\"TEST DATA\")\n",
    "    test_pred = algo.test(testset)\n",
    "    test_actual, test_predicted = get_ratings(test_pred)\n",
    "    mse = get_error(test_pred)\n",
    "    print(\"MSE = {}\".format(mse))\n",
    "    print(\"-\"*50)\n",
    "    return train_predicted, test_predicted, algo"
   ]
  },
  {
   "cell_type": "code",
   "execution_count": 111,
   "metadata": {},
   "outputs": [],
   "source": [
    "def get_ratings(predictions):\n",
    "    actual = np.array([pred.r_ui for pred in predictions])\n",
    "    predicted = np.array([pred.est for pred in predictions])\n",
    "    return actual, predicted"
   ]
  },
  {
   "cell_type": "code",
   "execution_count": 112,
   "metadata": {},
   "outputs": [],
   "source": [
    "def get_error(predictions):\n",
    "    actual, predicted = get_ratings(predictions)\n",
    "    mse = mean_squared_error(actual, predicted)\n",
    "    return mse"
   ]
  },
  {
   "cell_type": "markdown",
   "metadata": {},
   "source": [
    "## SVD"
   ]
  },
  {
   "cell_type": "code",
   "execution_count": 113,
   "metadata": {},
   "outputs": [
    {
     "name": "stdout",
     "output_type": "stream",
     "text": [
      "0.9243227419068413\n",
      "{'n_factors': 5}\n"
     ]
    }
   ],
   "source": [
    "param_grid  = {'n_factors': [1,2,3,5,7]}   \n",
    "\n",
    "gs = GridSearchCV(SVD, param_grid, measures=['mse'], cv=5)\n",
    "\n",
    "gs.fit(surprise_train)\n",
    "\n",
    "# best RMSE score\n",
    "print(gs.best_score['mse'])\n",
    "\n",
    "# combination of parameters that gave the best RMSE score\n",
    "print(gs.best_params['mse'])"
   ]
  },
  {
   "cell_type": "code",
   "execution_count": 114,
   "metadata": {
    "scrolled": true
   },
   "outputs": [
    {
     "name": "stdout",
     "output_type": "stream",
     "text": [
      "--------------------------------------------------\n",
      "TRAIN DATA\n",
      "Processing epoch 0\n",
      "Processing epoch 1\n",
      "Processing epoch 2\n",
      "Processing epoch 3\n",
      "Processing epoch 4\n",
      "Processing epoch 5\n",
      "Processing epoch 6\n",
      "Processing epoch 7\n",
      "Processing epoch 8\n",
      "Processing epoch 9\n",
      "Processing epoch 10\n",
      "Processing epoch 11\n",
      "Processing epoch 12\n",
      "Processing epoch 13\n",
      "Processing epoch 14\n",
      "Processing epoch 15\n",
      "Processing epoch 16\n",
      "Processing epoch 17\n",
      "Processing epoch 18\n",
      "Processing epoch 19\n",
      "MSE = 0.7507638574948589\n",
      "--------------------------------------------------\n",
      "TEST DATA\n",
      "MSE = 0.4657752245534503\n",
      "--------------------------------------------------\n"
     ]
    }
   ],
   "source": [
    "algo = SVD(n_factors=1, biased=True, verbose=True)\n",
    "\n",
    "train_result, test_result, algo = run_surprise(algo, surprise_trainset, valset, \"SVD\")"
   ]
  },
  {
   "cell_type": "markdown",
   "metadata": {},
   "source": [
    "## SVDpp"
   ]
  },
  {
   "cell_type": "code",
   "execution_count": 115,
   "metadata": {},
   "outputs": [
    {
     "name": "stdout",
     "output_type": "stream",
     "text": [
      "0.9263199108530143\n",
      "{'n_factors': 5, 'lr_all': 0.003}\n"
     ]
    }
   ],
   "source": [
    "param_grid = {'n_factors': [5,8,10,15], 'lr_all': [0.001,0.0025,0.003]}\n",
    "\n",
    "gs = GridSearchCV(SVDpp, param_grid, measures=['mse'], cv=5)\n",
    "\n",
    "gs.fit(surprise_train)\n",
    "\n",
    "# best RMSE score\n",
    "print(gs.best_score['mse'])\n",
    "\n",
    "# combination of parameters that gave the best RMSE score\n",
    "print(gs.best_params['mse'])"
   ]
  },
  {
   "cell_type": "code",
   "execution_count": 116,
   "metadata": {},
   "outputs": [
    {
     "name": "stdout",
     "output_type": "stream",
     "text": [
      "--------------------------------------------------\n",
      "TRAIN DATA\n",
      " processing epoch 0\n",
      " processing epoch 1\n",
      " processing epoch 2\n",
      " processing epoch 3\n",
      " processing epoch 4\n",
      " processing epoch 5\n",
      " processing epoch 6\n",
      " processing epoch 7\n",
      " processing epoch 8\n",
      " processing epoch 9\n",
      " processing epoch 10\n",
      " processing epoch 11\n",
      " processing epoch 12\n",
      " processing epoch 13\n",
      " processing epoch 14\n",
      " processing epoch 15\n",
      " processing epoch 16\n",
      " processing epoch 17\n",
      " processing epoch 18\n",
      " processing epoch 19\n",
      "MSE = 0.8058297565643208\n",
      "--------------------------------------------------\n",
      "TEST DATA\n",
      "MSE = 0.4667466250773661\n",
      "--------------------------------------------------\n"
     ]
    }
   ],
   "source": [
    "algo = SVDpp(n_factors=5, lr_all=0.003, verbose=True)\n",
    "\n",
    "train_result, test_result, algo = run_surprise(algo, surprise_trainset, valset, \"SVDpp\")"
   ]
  },
  {
   "cell_type": "code",
   "execution_count": null,
   "metadata": {},
   "outputs": [],
   "source": []
  }
 ],
 "metadata": {
  "kernelspec": {
   "display_name": "Python 3",
   "language": "python",
   "name": "python3"
  },
  "language_info": {
   "codemirror_mode": {
    "name": "ipython",
    "version": 3
   },
   "file_extension": ".py",
   "mimetype": "text/x-python",
   "name": "python",
   "nbconvert_exporter": "python",
   "pygments_lexer": "ipython3",
   "version": "3.7.4"
  }
 },
 "nbformat": 4,
 "nbformat_minor": 2
}
