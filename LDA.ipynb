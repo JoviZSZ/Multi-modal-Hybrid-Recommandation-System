{
 "cells": [
  {
   "cell_type": "code",
   "execution_count": null,
   "metadata": {},
   "outputs": [],
   "source": [
    "# https://cseweb.ucsd.edu/classes/wi15/cse255-a/reports/fa15/035.pdf"
   ]
  },
  {
   "cell_type": "code",
   "execution_count": 1,
   "metadata": {},
   "outputs": [
    {
     "name": "stderr",
     "output_type": "stream",
     "text": [
      "unable to import 'smart_open.gcs', disabling that module\n",
      "[nltk_data] Downloading package punkt to /Users/loriliu/nltk_data...\n",
      "[nltk_data]   Package punkt is already up-to-date!\n"
     ]
    },
    {
     "data": {
      "text/plain": [
       "True"
      ]
     },
     "execution_count": 1,
     "metadata": {},
     "output_type": "execute_result"
    }
   ],
   "source": [
    "import gzip\n",
    "import json\n",
    "from collections import defaultdict\n",
    "import scipy\n",
    "import scipy.optimize\n",
    "import numpy\n",
    "import random\n",
    "import pandas as pd \n",
    "from gensim.models import Word2Vec\n",
    "import nltk\n",
    "from sklearn.metrics import mean_squared_error\n",
    "nltk.download('punkt')"
   ]
  },
  {
   "cell_type": "code",
   "execution_count": 2,
   "metadata": {},
   "outputs": [],
   "source": [
    "from nltk.corpus import wordnet\n",
    "import pandas as pd\n",
    "import string\n",
    "from nltk import pos_tag\n",
    "from nltk.corpus import stopwords\n",
    "from nltk.tokenize import WhitespaceTokenizer\n",
    "from nltk.stem import WordNetLemmatizer\n",
    "from nltk.sentiment.vader import SentimentIntensityAnalyzer\n",
    "from sklearn.feature_extraction.text import TfidfVectorizer\n",
    "from gensim.test.utils import common_texts\n",
    "from gensim.models.doc2vec import Doc2Vec, TaggedDocument"
   ]
  },
  {
   "cell_type": "code",
   "execution_count": 3,
   "metadata": {},
   "outputs": [],
   "source": [
    "from nltk import FreqDist\n",
    "import matplotlib.pyplot as plt\n",
    "import seaborn as sns\n",
    "import pyLDAvis\n",
    "import pyLDAvis.gensim\n",
    "import gensim\n",
    "from gensim import corpora\n",
    "import spacy\n",
    "# nltk.download()"
   ]
  },
  {
   "cell_type": "code",
   "execution_count": 89,
   "metadata": {},
   "outputs": [],
   "source": [
    "import statistics\n",
    "import numpy as np"
   ]
  },
  {
   "cell_type": "code",
   "execution_count": 4,
   "metadata": {},
   "outputs": [],
   "source": [
    "def parse(filename):\n",
    "    f = gzip.open(filename, 'r+')\n",
    "    f.readline()\n",
    "    for line in f:\n",
    "#         print(line)\n",
    "        d = json.loads(line.decode('utf-8'))\n",
    "        yield d\n",
    "        \n",
    "\n",
    "review_data = list(parse('Gift_Cards.json.gz'))\n",
    "meta_data = list(parse('meta_Gift_Cards.json.gz'))"
   ]
  },
  {
   "cell_type": "markdown",
   "metadata": {},
   "source": [
    "## Separate Train/test split"
   ]
  },
  {
   "cell_type": "code",
   "execution_count": 24,
   "metadata": {},
   "outputs": [],
   "source": [
    "random.shuffle(review_data)"
   ]
  },
  {
   "cell_type": "code",
   "execution_count": 28,
   "metadata": {},
   "outputs": [
    {
     "data": {
      "text/plain": [
       "147193"
      ]
     },
     "execution_count": 28,
     "metadata": {},
     "output_type": "execute_result"
    }
   ],
   "source": [
    "len(review_data)"
   ]
  },
  {
   "cell_type": "code",
   "execution_count": 33,
   "metadata": {},
   "outputs": [],
   "source": [
    "train_review_data = review_data[:100000]\n",
    "test_review_data = review_data[100000:]"
   ]
  },
  {
   "cell_type": "code",
   "execution_count": 53,
   "metadata": {},
   "outputs": [],
   "source": [
    "train_review_user = [i['reviewerID'] for i in train_review_data]\n",
    "train_review_item = [i['asin'] for i in train_review_data]\n",
    "train_review_text = [i['reviewText'] if 'text' in i else '' for i in train_review_data ]\n",
    "train_review_rating = [i['overall'] for i in train_review_data]"
   ]
  },
  {
   "cell_type": "code",
   "execution_count": 54,
   "metadata": {},
   "outputs": [],
   "source": [
    "test_review_user = [i['reviewerID'] for i in test_review_data]\n",
    "test_review_item = [i['asin'] for i in test_review_data]\n",
    "test_review_text = [i['reviewText'] if 'text' in i else '' for i in test_review_data]\n",
    "test_review_rating = [i['overall'] for i in test_review_data]"
   ]
  },
  {
   "cell_type": "markdown",
   "metadata": {},
   "source": [
    "## Building LDA model from training dataset"
   ]
  },
  {
   "cell_type": "code",
   "execution_count": 65,
   "metadata": {},
   "outputs": [],
   "source": [
    "user_item_rating_file  = pd.DataFrame({'reviewerID': train_review_user, 'asin':train_review_item,\\\n",
    "                                      'text':train_review_text,'rating':train_review_rating})"
   ]
  },
  {
   "cell_type": "code",
   "execution_count": 66,
   "metadata": {},
   "outputs": [
    {
     "data": {
      "text/html": [
       "<div>\n",
       "<style scoped>\n",
       "    .dataframe tbody tr th:only-of-type {\n",
       "        vertical-align: middle;\n",
       "    }\n",
       "\n",
       "    .dataframe tbody tr th {\n",
       "        vertical-align: top;\n",
       "    }\n",
       "\n",
       "    .dataframe thead th {\n",
       "        text-align: right;\n",
       "    }\n",
       "</style>\n",
       "<table border=\"1\" class=\"dataframe\">\n",
       "  <thead>\n",
       "    <tr style=\"text-align: right;\">\n",
       "      <th></th>\n",
       "      <th>reviewerID</th>\n",
       "      <th>asin</th>\n",
       "      <th>text</th>\n",
       "      <th>rating</th>\n",
       "    </tr>\n",
       "  </thead>\n",
       "  <tbody>\n",
       "    <tr>\n",
       "      <td>0</td>\n",
       "      <td>A1YJDN6MHNXY6B</td>\n",
       "      <td>B00CHQ7I2S</td>\n",
       "      <td>Great gift card box!</td>\n",
       "      <td>5.0</td>\n",
       "    </tr>\n",
       "    <tr>\n",
       "      <td>1</td>\n",
       "      <td>A37V633SAQM904</td>\n",
       "      <td>B00G4IV2VI</td>\n",
       "      <td>Great gift for a long distance friend!</td>\n",
       "      <td>5.0</td>\n",
       "    </tr>\n",
       "    <tr>\n",
       "      <td>2</td>\n",
       "      <td>A1JHY2F48TSKPH</td>\n",
       "      <td>B00B2TFKHG</td>\n",
       "      <td>Great gift</td>\n",
       "      <td>4.0</td>\n",
       "    </tr>\n",
       "    <tr>\n",
       "      <td>3</td>\n",
       "      <td>A2R08XSL4OGRBT</td>\n",
       "      <td>B0062ONJ6U</td>\n",
       "      <td>Easy way to sent a gift when you don't know wh...</td>\n",
       "      <td>5.0</td>\n",
       "    </tr>\n",
       "    <tr>\n",
       "      <td>4</td>\n",
       "      <td>A1518NDBG3UR0X</td>\n",
       "      <td>B00K0PO7AO</td>\n",
       "      <td>Very easy gift!</td>\n",
       "      <td>5.0</td>\n",
       "    </tr>\n",
       "    <tr>\n",
       "      <td>...</td>\n",
       "      <td>...</td>\n",
       "      <td>...</td>\n",
       "      <td>...</td>\n",
       "      <td>...</td>\n",
       "    </tr>\n",
       "    <tr>\n",
       "      <td>99995</td>\n",
       "      <td>A16BFCQXPC0CDP</td>\n",
       "      <td>B005ESMMWW</td>\n",
       "      <td></td>\n",
       "      <td>5.0</td>\n",
       "    </tr>\n",
       "    <tr>\n",
       "      <td>99996</td>\n",
       "      <td>A2WG346KEZ2JF9</td>\n",
       "      <td>B00PG8502O</td>\n",
       "      <td></td>\n",
       "      <td>5.0</td>\n",
       "    </tr>\n",
       "    <tr>\n",
       "      <td>99997</td>\n",
       "      <td>A1EB8BIWBTDGRR</td>\n",
       "      <td>B005EISOUQ</td>\n",
       "      <td></td>\n",
       "      <td>1.0</td>\n",
       "    </tr>\n",
       "    <tr>\n",
       "      <td>99998</td>\n",
       "      <td>A20TT6SN3RVW6</td>\n",
       "      <td>B004LLIL2I</td>\n",
       "      <td></td>\n",
       "      <td>5.0</td>\n",
       "    </tr>\n",
       "    <tr>\n",
       "      <td>99999</td>\n",
       "      <td>AMT756IA4D8XH</td>\n",
       "      <td>B00AR51Y5I</td>\n",
       "      <td></td>\n",
       "      <td>5.0</td>\n",
       "    </tr>\n",
       "  </tbody>\n",
       "</table>\n",
       "<p>100000 rows × 4 columns</p>\n",
       "</div>"
      ],
      "text/plain": [
       "           reviewerID        asin  \\\n",
       "0      A1YJDN6MHNXY6B  B00CHQ7I2S   \n",
       "1      A37V633SAQM904  B00G4IV2VI   \n",
       "2      A1JHY2F48TSKPH  B00B2TFKHG   \n",
       "3      A2R08XSL4OGRBT  B0062ONJ6U   \n",
       "4      A1518NDBG3UR0X  B00K0PO7AO   \n",
       "...               ...         ...   \n",
       "99995  A16BFCQXPC0CDP  B005ESMMWW   \n",
       "99996  A2WG346KEZ2JF9  B00PG8502O   \n",
       "99997  A1EB8BIWBTDGRR  B005EISOUQ   \n",
       "99998   A20TT6SN3RVW6  B004LLIL2I   \n",
       "99999   AMT756IA4D8XH  B00AR51Y5I   \n",
       "\n",
       "                                                    text  rating  \n",
       "0                                   Great gift card box!     5.0  \n",
       "1                 Great gift for a long distance friend!     5.0  \n",
       "2                                             Great gift     4.0  \n",
       "3      Easy way to sent a gift when you don't know wh...     5.0  \n",
       "4                                        Very easy gift!     5.0  \n",
       "...                                                  ...     ...  \n",
       "99995                                                        5.0  \n",
       "99996                                                        5.0  \n",
       "99997                                                        1.0  \n",
       "99998                                                        5.0  \n",
       "99999                                                        5.0  \n",
       "\n",
       "[100000 rows x 4 columns]"
      ]
     },
     "execution_count": 66,
     "metadata": {},
     "output_type": "execute_result"
    }
   ],
   "source": [
    "user_item_rating_file"
   ]
  },
  {
   "cell_type": "code",
   "execution_count": null,
   "metadata": {},
   "outputs": [],
   "source": [
    "# perform linear regression"
   ]
  },
  {
   "cell_type": "code",
   "execution_count": null,
   "metadata": {},
   "outputs": [],
   "source": [
    "# perform linear regression with LDA\n",
    "# we perform a\n",
    "# simple linear regression task with 10 generated topic features\n",
    "# and basic features which include business stars, user average\n",
    "# stars, and total votes."
   ]
  },
  {
   "cell_type": "code",
   "execution_count": 57,
   "metadata": {},
   "outputs": [],
   "source": [
    "def get_wordnet_pos(pos_tag):\n",
    "    if pos_tag.startswith('J'):\n",
    "        return wordnet.ADJ\n",
    "    elif pos_tag.startswith('V'):\n",
    "        return wordnet.VERB\n",
    "    elif pos_tag.startswith('N'):\n",
    "        return wordnet.NOUN\n",
    "    elif pos_tag.startswith('R'):\n",
    "        return wordnet.ADV\n",
    "    else:\n",
    "        return wordnet.NOUN"
   ]
  },
  {
   "cell_type": "code",
   "execution_count": 58,
   "metadata": {},
   "outputs": [],
   "source": [
    "\"\"\"clean the text\"\"\"\n",
    "\"\"\"including remove stopwords and punctuation\"\"\"\n",
    "def clean_text(text):\n",
    "    # lower text\n",
    "    text = text.lower()\n",
    "    # tokenize text and remove puncutation\n",
    "    text = [word.strip(string.punctuation) for word in text.split(\" \")]\n",
    "    # remove words that contain numbers\n",
    "    text = [word for word in text if not any(c.isdigit() for c in word)]\n",
    "    # remove stop words\n",
    "    stop = stopwords.words('english')\n",
    "    text = [x for x in text if x not in stop]\n",
    "    # remove empty tokens\n",
    "    text = [t for t in text if len(t) > 0]\n",
    "    # pos tag text\n",
    "    pos_tags = pos_tag(text)\n",
    "    # lemmatize text\n",
    "    text = [WordNetLemmatizer().lemmatize(t[0], get_wordnet_pos(t[1])) for t in pos_tags]\n",
    "    # remove words with only one letter\n",
    "    text = [t for t in text if len(t) > 1]\n",
    "    # join all\n",
    "    text = \" \".join(text)\n",
    "    return(text)"
   ]
  },
  {
   "cell_type": "code",
   "execution_count": 60,
   "metadata": {},
   "outputs": [],
   "source": [
    "# function to plot most frequent terms\n",
    "def freq_words(x, terms = 20):\n",
    "    all_words = ' '.join([text for text in x])\n",
    "    all_words = all_words.split()\n",
    "    \n",
    "    fdist = FreqDist(all_words)\n",
    "    words_df = pd.DataFrame({'word':list(fdist.keys()), 'count':list(fdist.values())})\n",
    "\n",
    "  # selecting top 20 most frequent words\n",
    "    d = words_df.nlargest(columns=\"count\", n = terms) \n",
    "    plt.figure(figsize=(30,10))\n",
    "    ax = sns.barplot(data=d, x= \"word\", y = \"count\")\n",
    "    ax.set(ylabel = 'Count')\n",
    "    ax.xaxis.get_label().set_fontsize(15)\n",
    "    plt.xticks(fontsize=20)\n",
    "    plt.show()\n"
   ]
  },
  {
   "cell_type": "code",
   "execution_count": 61,
   "metadata": {},
   "outputs": [],
   "source": [
    "\"\"\"It reduces any given word to its base form \n",
    "# thereby reducing multiple forms of a word to a single word.\"\"\"\n",
    "def lemmatization(texts, tags=['NOUN', 'ADJ']): # filter noun and adjective\n",
    "    output = []\n",
    "    for sent in texts:\n",
    "        doc = nlp(\" \".join(sent)) \n",
    "        output.append([token.lemma_ for token in doc if token.pos_ in tags])\n",
    "    return output"
   ]
  },
  {
   "cell_type": "code",
   "execution_count": 69,
   "metadata": {},
   "outputs": [],
   "source": [
    "user_item_rating_file[\"review_clean\"] = user_item_rating_file[\"text\"].apply(lambda x: clean_text(x))"
   ]
  },
  {
   "cell_type": "code",
   "execution_count": 72,
   "metadata": {},
   "outputs": [
    {
     "data": {
      "text/html": [
       "<div>\n",
       "<style scoped>\n",
       "    .dataframe tbody tr th:only-of-type {\n",
       "        vertical-align: middle;\n",
       "    }\n",
       "\n",
       "    .dataframe tbody tr th {\n",
       "        vertical-align: top;\n",
       "    }\n",
       "\n",
       "    .dataframe thead th {\n",
       "        text-align: right;\n",
       "    }\n",
       "</style>\n",
       "<table border=\"1\" class=\"dataframe\">\n",
       "  <thead>\n",
       "    <tr style=\"text-align: right;\">\n",
       "      <th></th>\n",
       "      <th>reviewerID</th>\n",
       "      <th>asin</th>\n",
       "      <th>text</th>\n",
       "      <th>rating</th>\n",
       "      <th>review_clean</th>\n",
       "      <th>pos</th>\n",
       "      <th>neg</th>\n",
       "    </tr>\n",
       "  </thead>\n",
       "  <tbody>\n",
       "    <tr>\n",
       "      <td>0</td>\n",
       "      <td>A1YJDN6MHNXY6B</td>\n",
       "      <td>B00CHQ7I2S</td>\n",
       "      <td>Great gift card box!</td>\n",
       "      <td>5.0</td>\n",
       "      <td>great gift card box</td>\n",
       "      <td>0.785</td>\n",
       "      <td>0</td>\n",
       "    </tr>\n",
       "    <tr>\n",
       "      <td>1</td>\n",
       "      <td>A37V633SAQM904</td>\n",
       "      <td>B00G4IV2VI</td>\n",
       "      <td>Great gift for a long distance friend!</td>\n",
       "      <td>5.0</td>\n",
       "      <td>great gift long distance friend</td>\n",
       "      <td>0.778</td>\n",
       "      <td>0</td>\n",
       "    </tr>\n",
       "    <tr>\n",
       "      <td>2</td>\n",
       "      <td>A1JHY2F48TSKPH</td>\n",
       "      <td>B00B2TFKHG</td>\n",
       "      <td>Great gift</td>\n",
       "      <td>4.0</td>\n",
       "      <td>great gift</td>\n",
       "      <td>1</td>\n",
       "      <td>0</td>\n",
       "    </tr>\n",
       "    <tr>\n",
       "      <td>3</td>\n",
       "      <td>A2R08XSL4OGRBT</td>\n",
       "      <td>B0062ONJ6U</td>\n",
       "      <td>Easy way to sent a gift when you don't know wh...</td>\n",
       "      <td>5.0</td>\n",
       "      <td>easy way send gift know buy love ones.\\n\\nbest...</td>\n",
       "      <td>0.513</td>\n",
       "      <td>0</td>\n",
       "    </tr>\n",
       "    <tr>\n",
       "      <td>4</td>\n",
       "      <td>A1518NDBG3UR0X</td>\n",
       "      <td>B00K0PO7AO</td>\n",
       "      <td>Very easy gift!</td>\n",
       "      <td>5.0</td>\n",
       "      <td>easy gift</td>\n",
       "      <td>0.87</td>\n",
       "      <td>0</td>\n",
       "    </tr>\n",
       "    <tr>\n",
       "      <td>...</td>\n",
       "      <td>...</td>\n",
       "      <td>...</td>\n",
       "      <td>...</td>\n",
       "      <td>...</td>\n",
       "      <td>...</td>\n",
       "      <td>...</td>\n",
       "      <td>...</td>\n",
       "    </tr>\n",
       "    <tr>\n",
       "      <td>99995</td>\n",
       "      <td>A16BFCQXPC0CDP</td>\n",
       "      <td>B005ESMMWW</td>\n",
       "      <td></td>\n",
       "      <td>5.0</td>\n",
       "      <td></td>\n",
       "      <td></td>\n",
       "      <td></td>\n",
       "    </tr>\n",
       "    <tr>\n",
       "      <td>99996</td>\n",
       "      <td>A2WG346KEZ2JF9</td>\n",
       "      <td>B00PG8502O</td>\n",
       "      <td></td>\n",
       "      <td>5.0</td>\n",
       "      <td></td>\n",
       "      <td></td>\n",
       "      <td></td>\n",
       "    </tr>\n",
       "    <tr>\n",
       "      <td>99997</td>\n",
       "      <td>A1EB8BIWBTDGRR</td>\n",
       "      <td>B005EISOUQ</td>\n",
       "      <td></td>\n",
       "      <td>1.0</td>\n",
       "      <td></td>\n",
       "      <td></td>\n",
       "      <td></td>\n",
       "    </tr>\n",
       "    <tr>\n",
       "      <td>99998</td>\n",
       "      <td>A20TT6SN3RVW6</td>\n",
       "      <td>B004LLIL2I</td>\n",
       "      <td></td>\n",
       "      <td>5.0</td>\n",
       "      <td></td>\n",
       "      <td></td>\n",
       "      <td></td>\n",
       "    </tr>\n",
       "    <tr>\n",
       "      <td>99999</td>\n",
       "      <td>AMT756IA4D8XH</td>\n",
       "      <td>B00AR51Y5I</td>\n",
       "      <td></td>\n",
       "      <td>5.0</td>\n",
       "      <td></td>\n",
       "      <td></td>\n",
       "      <td></td>\n",
       "    </tr>\n",
       "  </tbody>\n",
       "</table>\n",
       "<p>100000 rows × 7 columns</p>\n",
       "</div>"
      ],
      "text/plain": [
       "           reviewerID        asin  \\\n",
       "0      A1YJDN6MHNXY6B  B00CHQ7I2S   \n",
       "1      A37V633SAQM904  B00G4IV2VI   \n",
       "2      A1JHY2F48TSKPH  B00B2TFKHG   \n",
       "3      A2R08XSL4OGRBT  B0062ONJ6U   \n",
       "4      A1518NDBG3UR0X  B00K0PO7AO   \n",
       "...               ...         ...   \n",
       "99995  A16BFCQXPC0CDP  B005ESMMWW   \n",
       "99996  A2WG346KEZ2JF9  B00PG8502O   \n",
       "99997  A1EB8BIWBTDGRR  B005EISOUQ   \n",
       "99998   A20TT6SN3RVW6  B004LLIL2I   \n",
       "99999   AMT756IA4D8XH  B00AR51Y5I   \n",
       "\n",
       "                                                    text  rating  \\\n",
       "0                                   Great gift card box!     5.0   \n",
       "1                 Great gift for a long distance friend!     5.0   \n",
       "2                                             Great gift     4.0   \n",
       "3      Easy way to sent a gift when you don't know wh...     5.0   \n",
       "4                                        Very easy gift!     5.0   \n",
       "...                                                  ...     ...   \n",
       "99995                                                        5.0   \n",
       "99996                                                        5.0   \n",
       "99997                                                        1.0   \n",
       "99998                                                        5.0   \n",
       "99999                                                        5.0   \n",
       "\n",
       "                                            review_clean    pos neg  \n",
       "0                                    great gift card box  0.785   0  \n",
       "1                        great gift long distance friend  0.778   0  \n",
       "2                                             great gift      1   0  \n",
       "3      easy way send gift know buy love ones.\\n\\nbest...  0.513   0  \n",
       "4                                              easy gift   0.87   0  \n",
       "...                                                  ...    ...  ..  \n",
       "99995                                                                \n",
       "99996                                                                \n",
       "99997                                                                \n",
       "99998                                                                \n",
       "99999                                                                \n",
       "\n",
       "[100000 rows x 7 columns]"
      ]
     },
     "execution_count": 72,
     "metadata": {},
     "output_type": "execute_result"
    }
   ],
   "source": [
    "user_item_rating_file"
   ]
  },
  {
   "cell_type": "code",
   "execution_count": 64,
   "metadata": {},
   "outputs": [
    {
     "data": {
      "text/html": [
       "<div>\n",
       "<style scoped>\n",
       "    .dataframe tbody tr th:only-of-type {\n",
       "        vertical-align: middle;\n",
       "    }\n",
       "\n",
       "    .dataframe tbody tr th {\n",
       "        vertical-align: top;\n",
       "    }\n",
       "\n",
       "    .dataframe thead th {\n",
       "        text-align: right;\n",
       "    }\n",
       "</style>\n",
       "<table border=\"1\" class=\"dataframe\">\n",
       "  <thead>\n",
       "    <tr style=\"text-align: right;\">\n",
       "      <th></th>\n",
       "      <th>reviewerID</th>\n",
       "      <th>asin</th>\n",
       "      <th>text</th>\n",
       "      <th>rating</th>\n",
       "      <th>review_clean</th>\n",
       "      <th>pos</th>\n",
       "      <th>neg</th>\n",
       "    </tr>\n",
       "  </thead>\n",
       "  <tbody>\n",
       "    <tr>\n",
       "      <td>0</td>\n",
       "      <td>A1YJDN6MHNXY6B</td>\n",
       "      <td>B00CHQ7I2S</td>\n",
       "      <td>Great gift card box!</td>\n",
       "      <td>0.0</td>\n",
       "      <td>0</td>\n",
       "      <td></td>\n",
       "      <td></td>\n",
       "    </tr>\n",
       "    <tr>\n",
       "      <td>1</td>\n",
       "      <td>A37V633SAQM904</td>\n",
       "      <td>B00G4IV2VI</td>\n",
       "      <td>Great gift for a long distance friend!</td>\n",
       "      <td>0.0</td>\n",
       "      <td>0</td>\n",
       "      <td></td>\n",
       "      <td></td>\n",
       "    </tr>\n",
       "    <tr>\n",
       "      <td>2</td>\n",
       "      <td>A1JHY2F48TSKPH</td>\n",
       "      <td>B00B2TFKHG</td>\n",
       "      <td>Great gift</td>\n",
       "      <td>0.0</td>\n",
       "      <td>0</td>\n",
       "      <td></td>\n",
       "      <td></td>\n",
       "    </tr>\n",
       "    <tr>\n",
       "      <td>3</td>\n",
       "      <td>A2R08XSL4OGRBT</td>\n",
       "      <td>B0062ONJ6U</td>\n",
       "      <td>Easy way to sent a gift when you don't know wh...</td>\n",
       "      <td>0.0</td>\n",
       "      <td>0</td>\n",
       "      <td></td>\n",
       "      <td></td>\n",
       "    </tr>\n",
       "    <tr>\n",
       "      <td>4</td>\n",
       "      <td>A1518NDBG3UR0X</td>\n",
       "      <td>B00K0PO7AO</td>\n",
       "      <td>Very easy gift!</td>\n",
       "      <td>0.0</td>\n",
       "      <td>0</td>\n",
       "      <td></td>\n",
       "      <td></td>\n",
       "    </tr>\n",
       "    <tr>\n",
       "      <td>...</td>\n",
       "      <td>...</td>\n",
       "      <td>...</td>\n",
       "      <td>...</td>\n",
       "      <td>...</td>\n",
       "      <td>...</td>\n",
       "      <td>...</td>\n",
       "      <td>...</td>\n",
       "    </tr>\n",
       "    <tr>\n",
       "      <td>99995</td>\n",
       "      <td>A16BFCQXPC0CDP</td>\n",
       "      <td>B005ESMMWW</td>\n",
       "      <td></td>\n",
       "      <td>0.0</td>\n",
       "      <td>0</td>\n",
       "      <td></td>\n",
       "      <td></td>\n",
       "    </tr>\n",
       "    <tr>\n",
       "      <td>99996</td>\n",
       "      <td>A2WG346KEZ2JF9</td>\n",
       "      <td>B00PG8502O</td>\n",
       "      <td></td>\n",
       "      <td>0.0</td>\n",
       "      <td>0</td>\n",
       "      <td></td>\n",
       "      <td></td>\n",
       "    </tr>\n",
       "    <tr>\n",
       "      <td>99997</td>\n",
       "      <td>A1EB8BIWBTDGRR</td>\n",
       "      <td>B005EISOUQ</td>\n",
       "      <td></td>\n",
       "      <td>0.0</td>\n",
       "      <td>0</td>\n",
       "      <td></td>\n",
       "      <td></td>\n",
       "    </tr>\n",
       "    <tr>\n",
       "      <td>99998</td>\n",
       "      <td>A20TT6SN3RVW6</td>\n",
       "      <td>B004LLIL2I</td>\n",
       "      <td></td>\n",
       "      <td>0.0</td>\n",
       "      <td>0</td>\n",
       "      <td></td>\n",
       "      <td></td>\n",
       "    </tr>\n",
       "    <tr>\n",
       "      <td>99999</td>\n",
       "      <td>AMT756IA4D8XH</td>\n",
       "      <td>B00AR51Y5I</td>\n",
       "      <td></td>\n",
       "      <td>0.0</td>\n",
       "      <td>0</td>\n",
       "      <td></td>\n",
       "      <td></td>\n",
       "    </tr>\n",
       "  </tbody>\n",
       "</table>\n",
       "<p>100000 rows × 7 columns</p>\n",
       "</div>"
      ],
      "text/plain": [
       "           reviewerID        asin  \\\n",
       "0      A1YJDN6MHNXY6B  B00CHQ7I2S   \n",
       "1      A37V633SAQM904  B00G4IV2VI   \n",
       "2      A1JHY2F48TSKPH  B00B2TFKHG   \n",
       "3      A2R08XSL4OGRBT  B0062ONJ6U   \n",
       "4      A1518NDBG3UR0X  B00K0PO7AO   \n",
       "...               ...         ...   \n",
       "99995  A16BFCQXPC0CDP  B005ESMMWW   \n",
       "99996  A2WG346KEZ2JF9  B00PG8502O   \n",
       "99997  A1EB8BIWBTDGRR  B005EISOUQ   \n",
       "99998   A20TT6SN3RVW6  B004LLIL2I   \n",
       "99999   AMT756IA4D8XH  B00AR51Y5I   \n",
       "\n",
       "                                                    text  rating  \\\n",
       "0                                   Great gift card box!     0.0   \n",
       "1                 Great gift for a long distance friend!     0.0   \n",
       "2                                             Great gift     0.0   \n",
       "3      Easy way to sent a gift when you don't know wh...     0.0   \n",
       "4                                        Very easy gift!     0.0   \n",
       "...                                                  ...     ...   \n",
       "99995                                                        0.0   \n",
       "99996                                                        0.0   \n",
       "99997                                                        0.0   \n",
       "99998                                                        0.0   \n",
       "99999                                                        0.0   \n",
       "\n",
       "       review_clean pos neg  \n",
       "0                 0          \n",
       "1                 0          \n",
       "2                 0          \n",
       "3                 0          \n",
       "4                 0          \n",
       "...             ...  ..  ..  \n",
       "99995             0          \n",
       "99996             0          \n",
       "99997             0          \n",
       "99998             0          \n",
       "99999             0          \n",
       "\n",
       "[100000 rows x 7 columns]"
      ]
     },
     "execution_count": 64,
     "metadata": {},
     "output_type": "execute_result"
    }
   ],
   "source": [
    "user_item_rating_file"
   ]
  },
  {
   "cell_type": "code",
   "execution_count": 63,
   "metadata": {},
   "outputs": [],
   "source": [
    "# display the top 10 negative reviews\n",
    "negative = user_item_rating_file.sort_values(\"neg\", ascending = False)[[\"review_clean\", \"neg\"]].head(10)\n",
    "positive = user_item_rating_file.sort_values(\"pos\", ascending = False)[[\"review_clean\", \"neg\"]].head(10)\n"
   ]
  },
  {
   "cell_type": "code",
   "execution_count": 73,
   "metadata": {},
   "outputs": [
    {
     "data": {
      "image/png": "[encoded data removed]",
      "text/plain": [
       "<Figure size 2160x720 with 1 Axes>"
      ]
     },
     "metadata": {
      "needs_background": "light"
     },
     "output_type": "display_data"
    }
   ],
   "source": [
    "freq_words(user_item_rating_file[\"review_clean\"])"
   ]
  },
  {
   "cell_type": "code",
   "execution_count": 74,
   "metadata": {},
   "outputs": [],
   "source": [
    "reviews = user_item_rating_file['review_clean']"
   ]
  },
  {
   "cell_type": "code",
   "execution_count": 75,
   "metadata": {},
   "outputs": [],
   "source": [
    "nlp = spacy.load('en', disable=['parser', 'ner'])"
   ]
  },
  {
   "cell_type": "code",
   "execution_count": 76,
   "metadata": {},
   "outputs": [
    {
     "name": "stdout",
     "output_type": "stream",
     "text": [
      "['great', 'gift', 'long', 'distance', 'friend']\n"
     ]
    }
   ],
   "source": [
    "tokenized_reviews = pd.Series(reviews).apply(lambda x: x.split())\n",
    "print(tokenized_reviews[1])"
   ]
  },
  {
   "cell_type": "code",
   "execution_count": 77,
   "metadata": {},
   "outputs": [
    {
     "name": "stdout",
     "output_type": "stream",
     "text": [
      "['great', 'gift', 'long', 'distance', 'friend']\n"
     ]
    }
   ],
   "source": [
    "reviews_2 = lemmatization(tokenized_reviews)\n",
    "print(reviews_2[1]) # print lemmatized review"
   ]
  },
  {
   "cell_type": "code",
   "execution_count": 78,
   "metadata": {},
   "outputs": [],
   "source": [
    "def LDA_model(reviews=reviews_2):\n",
    "    dictionary = corpora.Dictionary(reviews)\n",
    "    doc_term_matrix = [dictionary.doc2bow(rev) for rev in reviews]  \n",
    "    # Creating the object for LDA model using gensim library\n",
    "    LDA = gensim.models.ldamodel.LdaModel\n",
    "\n",
    "    # Build LDA model\n",
    "    lda_model = LDA(corpus=doc_term_matrix, id2word=dictionary, num_topics=7, random_state=100,\n",
    "                chunksize=1000, passes=50)\n",
    "    return lda_model, dictionary, doc_term_matrix"
   ]
  },
  {
   "cell_type": "code",
   "execution_count": 79,
   "metadata": {
    "scrolled": false
   },
   "outputs": [
    {
     "name": "stderr",
     "output_type": "stream",
     "text": [
      "/Library/Frameworks/Python.framework/Versions/3.7/lib/python3.7/site-packages/gensim/models/ldamodel.py:821: RuntimeWarning: divide by zero encountered in double_scalars\n",
      "  perwordbound = self.bound(chunk, subsample_ratio=subsample_ratio) / (subsample_ratio * corpus_words)\n"
     ]
    }
   ],
   "source": [
    "lda_model,dictionary, doc_term_matrix = LDA_model()"
   ]
  },
  {
   "cell_type": "markdown",
   "metadata": {},
   "source": [
    "## WordCloud"
   ]
  },
  {
   "cell_type": "code",
   "execution_count": 296,
   "metadata": {},
   "outputs": [],
   "source": [
    "from wordCloud import WordCloud"
   ]
  },
  {
   "cell_type": "code",
   "execution_count": 311,
   "metadata": {},
   "outputs": [
    {
     "name": "stdout",
     "output_type": "stream",
     "text": [
      "{'perfect': 0.009387867, 'quick': 0.003544054, 'fast': 0.0034962134, 'easy': 0.0033576002, 'delivery': 0.0030075444, 'simple': 0.0018798014, 'shipping': 0.0013073282, 'fun': 0.0011827773, 'thank': 0.0011353181, 'pleased': 0.0010419876}\n"
     ]
    },
    {
     "data": {
      "image/png": "[encoded data removed]",
      "text/plain": [
       "<Figure size 432x288 with 1 Axes>"
      ]
     },
     "metadata": {
      "needs_background": "light"
     },
     "output_type": "display_data"
    },
    {
     "name": "stdout",
     "output_type": "stream",
     "text": [
      "{'work': 0.004985044, 'happy': 0.004280637, 'excellent': 0.002184859, 'service': 0.0011825997, 'mom': 0.0010645408, 'movie': 0.00090242905, 'month': 0.0007612483, 'daughter': 0.000700928, 'plan': 0.00058693666, 'ticket': 0.00055808795}\n"
     ]
    },
    {
     "data": {
      "image/png": "[encoded data removed]",
      "text/plain": [
       "<Figure size 432x288 with 1 Axes>"
      ]
     },
     "metadata": {
      "needs_background": "light"
     },
     "output_type": "display_data"
    },
    {
     "name": "stdout",
     "output_type": "stream",
     "text": [
      "{'great': 0.020586396, 'cute': 0.005345185, 'idea': 0.0036322218, 'tin': 0.0016839925, 'deal': 0.0014164615, 'packaging': 0.0009844165, 'price': 0.00084193936, 'give': 0.0008236992, 'presentation': 0.0007058734, 'country': 0.00062059413}\n"
     ]
    },
    {
     "data": {
      "image/png": "[encoded data removed]",
      "text/plain": [
       "<Figure size 432x288 with 1 Axes>"
      ]
     },
     "metadata": {
      "needs_background": "light"
     },
     "output_type": "display_data"
    },
    {
     "name": "stdout",
     "output_type": "stream",
     "text": [
      "{'time': 0.008596651, 'problem': 0.0027951563, 'number': 0.0011782808, 'code': 0.0011090621, 'first': 0.0010722015, 'fine': 0.0010030374, 'grandson': 0.000716661, 'right': 0.00070182467, 'appreciate': 0.0006417707, 'correct': 0.000579776}\n"
     ]
    },
    {
     "data": {
      "image/png": "[encoded data removed]",
      "text/plain": [
       "<Figure size 432x288 with 1 Axes>"
      ]
     },
     "metadata": {
      "needs_background": "light"
     },
     "output_type": "display_data"
    },
    {
     "name": "stdout",
     "output_type": "stream",
     "text": [
      "{'gift': 0.04597987, 'card': 0.04541589, 'easy': 0.007547314, 'use': 0.0066289706, 'way': 0.0063095326, 'purchase': 0.0052487613, 'birthday': 0.004656382, 'order': 0.0042841076, 'nice': 0.0038500642, 'recipient': 0.0037358892}\n"
     ]
    },
    {
     "data": {
      "image/png": "[encoded data removed]",
      "text/plain": [
       "<Figure size 432x288 with 1 Axes>"
      ]
     },
     "metadata": {
      "needs_background": "light"
     },
     "output_type": "display_data"
    },
    {
     "name": "stdout",
     "output_type": "stream",
     "text": [
      "{'good': 0.0116946325, 'product': 0.0033376145, 'food': 0.0013734226, 'restaurant': 0.001072417, 'quality': 0.0009866619, 'adorable': 0.0008751501, 'job': 0.0006788455, 'deal': 0.00057877804, 'graduation': 0.00056924624, 'bear': 0.000482439}\n"
     ]
    },
    {
     "data": {
      "image/png": "[encoded data removed]",
      "text/plain": [
       "<Figure size 432x288 with 1 Axes>"
      ]
     },
     "metadata": {
      "needs_background": "light"
     },
     "output_type": "display_data"
    },
    {
     "name": "stdout",
     "output_type": "stream",
     "text": [
      "{'love': 0.014854558, 'minute': 0.0049835495, 'convenient': 0.0036054805, 'last': 0.003587459, 'awesome': 0.0017191317, 'home': 0.0010194293, 'color': 0.0009820038, 'size': 0.00068838295, 'husband': 0.00062919996, 'shopping': 0.00061062496}\n"
     ]
    },
    {
     "data": {
      "image/png": "[encoded data removed]",
      "text/plain": [
       "<Figure size 432x288 with 1 Axes>"
      ]
     },
     "metadata": {
      "needs_background": "light"
     },
     "output_type": "display_data"
    }
   ],
   "source": [
    "for t in range(lda_model.num_topics):\n",
    "    plt.figure()\n",
    "    word_frequence = {x[0]: x[1] for x in lda_model.show_topic(t)}\n",
    "    print(word_frequence)\n",
    "    plt.imshow(WordCloud().fit_words(word_frequence))\n",
    "    plt.axis(\"off\")\n",
    "    plt.title(\"Topic #\" + str(t))\n",
    "    plt.show()"
   ]
  },
  {
   "cell_type": "code",
   "execution_count": 80,
   "metadata": {},
   "outputs": [
    {
     "data": {
      "text/plain": [
       "[(0,\n",
       "  '0.009*\"perfect\" + 0.004*\"quick\" + 0.003*\"fast\" + 0.003*\"easy\" + 0.003*\"delivery\" + 0.002*\"simple\" + 0.001*\"shipping\" + 0.001*\"fun\" + 0.001*\"thank\" + 0.001*\"pleased\"'),\n",
       " (1,\n",
       "  '0.005*\"work\" + 0.004*\"happy\" + 0.002*\"excellent\" + 0.001*\"service\" + 0.001*\"mom\" + 0.001*\"movie\" + 0.001*\"month\" + 0.001*\"daughter\" + 0.001*\"plan\" + 0.001*\"ticket\"'),\n",
       " (2,\n",
       "  '0.021*\"great\" + 0.005*\"cute\" + 0.004*\"idea\" + 0.002*\"tin\" + 0.001*\"deal\" + 0.001*\"packaging\" + 0.001*\"price\" + 0.001*\"give\" + 0.001*\"presentation\" + 0.001*\"country\"'),\n",
       " (3,\n",
       "  '0.009*\"time\" + 0.003*\"problem\" + 0.001*\"number\" + 0.001*\"code\" + 0.001*\"first\" + 0.001*\"fine\" + 0.001*\"grandson\" + 0.001*\"right\" + 0.001*\"appreciate\" + 0.001*\"correct\"'),\n",
       " (4,\n",
       "  '0.046*\"gift\" + 0.045*\"card\" + 0.008*\"easy\" + 0.007*\"use\" + 0.006*\"way\" + 0.005*\"purchase\" + 0.005*\"birthday\" + 0.004*\"order\" + 0.004*\"nice\" + 0.004*\"recipient\"'),\n",
       " (5,\n",
       "  '0.012*\"good\" + 0.003*\"product\" + 0.001*\"food\" + 0.001*\"restaurant\" + 0.001*\"quality\" + 0.001*\"adorable\" + 0.001*\"job\" + 0.001*\"deal\" + 0.001*\"graduation\" + 0.000*\"bear\"'),\n",
       " (6,\n",
       "  '0.015*\"love\" + 0.005*\"minute\" + 0.004*\"convenient\" + 0.004*\"last\" + 0.002*\"awesome\" + 0.001*\"home\" + 0.001*\"color\" + 0.001*\"size\" + 0.001*\"husband\" + 0.001*\"shopping\"')]"
      ]
     },
     "execution_count": 80,
     "metadata": {},
     "output_type": "execute_result"
    }
   ],
   "source": [
    "lda_model.print_topics()"
   ]
  },
  {
   "cell_type": "code",
   "execution_count": 81,
   "metadata": {},
   "outputs": [
    {
     "name": "stderr",
     "output_type": "stream",
     "text": [
      "/Library/Frameworks/Python.framework/Versions/3.7/lib/python3.7/site-packages/pyLDAvis/_prepare.py:257: FutureWarning: Sorting because non-concatenation axis is not aligned. A future version\n",
      "of pandas will change to not sort by default.\n",
      "\n",
      "To accept the future behavior, pass 'sort=False'.\n",
      "\n",
      "To retain the current behavior and silence the warning, pass 'sort=True'.\n",
      "\n",
      "  return pd.concat([default_term_info] + list(topic_dfs))\n"
     ]
    },
    {
     "data": {
      "text/html": [
       "\n",
       "<link rel=\"stylesheet\" type=\"text/css\" href=\"https://cdn.rawgit.com/bmabey/pyLDAvis/files/ldavis.v1.0.0.css\">\n",
       "\n",
       "\n",
       "<div id=\"ldavis_el69796140610084393296543166114\"></div>\n",
       "<script type=\"text/javascript\">\n",
       "\n",
       "var ldavis_el69796140610084393296543166114_data = {\"mdsDat\": {\"x\": [-0.07088258554534278, 0.015285601285307975, 0.01384555137251168, 0.009565766003542227, 0.010863373941159025, 0.011487127061874889, 0.009835165880946996], \"y\": [-0.00032558267324356044, -0.010995312000815027, 0.008132790702559527, 0.0018275801734969322, 0.0005264594045508752, 0.0005958679702029837, 0.0002381964232482766], \"topics\": [1, 2, 3, 4, 5, 6, 7], \"cluster\": [1, 1, 1, 1, 1, 1, 1], \"Freq\": [66.35098266601562, 7.0833587646484375, 6.390010356903076, 5.730785846710205, 5.059939861297607, 4.955795764923096, 4.429131507873535]}, \"tinfo\": {\"Category\": [\"Default\", \"Default\", \"Default\", \"Default\", \"Default\", \"Default\", \"Default\", \"Default\", \"Default\", \"Default\", \"Default\", \"Default\", \"Default\", \"Default\", \"Default\", \"Default\", \"Default\", \"Default\", \"Default\", \"Default\", \"Default\", \"Default\", \"Default\", \"Default\", \"Default\", \"Default\", \"Default\", \"Default\", \"Default\", \"Default\", \"Topic1\", \"Topic1\", \"Topic1\", \"Topic1\", \"Topic1\", \"Topic1\", \"Topic1\", \"Topic1\", \"Topic1\", \"Topic1\", \"Topic1\", \"Topic1\", \"Topic1\", \"Topic1\", \"Topic1\", \"Topic1\", \"Topic1\", \"Topic1\", \"Topic1\", \"Topic1\", \"Topic1\", \"Topic1\", \"Topic1\", \"Topic1\", \"Topic1\", \"Topic1\", \"Topic1\", \"Topic1\", \"Topic1\", \"Topic1\", \"Topic2\", \"Topic2\", \"Topic2\", \"Topic2\", \"Topic2\", \"Topic2\", \"Topic2\", \"Topic2\", \"Topic2\", \"Topic2\", \"Topic2\", \"Topic2\", \"Topic2\", \"Topic2\", \"Topic2\", \"Topic2\", \"Topic2\", \"Topic2\", \"Topic2\", \"Topic2\", \"Topic2\", \"Topic2\", \"Topic2\", \"Topic2\", \"Topic2\", \"Topic2\", \"Topic2\", \"Topic2\", \"Topic2\", \"Topic2\", \"Topic2\", \"Topic2\", \"Topic3\", \"Topic3\", \"Topic3\", \"Topic3\", \"Topic3\", \"Topic3\", \"Topic3\", \"Topic3\", \"Topic3\", \"Topic3\", \"Topic3\", \"Topic3\", \"Topic3\", \"Topic3\", \"Topic3\", \"Topic3\", \"Topic3\", \"Topic3\", \"Topic3\", \"Topic3\", \"Topic3\", \"Topic3\", \"Topic3\", \"Topic3\", \"Topic3\", \"Topic3\", \"Topic3\", \"Topic3\", \"Topic3\", \"Topic3\", \"Topic3\", \"Topic3\", \"Topic3\", \"Topic4\", \"Topic4\", \"Topic4\", \"Topic4\", \"Topic4\", \"Topic4\", \"Topic4\", \"Topic4\", \"Topic4\", \"Topic4\", \"Topic4\", \"Topic4\", \"Topic4\", \"Topic4\", \"Topic4\", \"Topic4\", \"Topic4\", \"Topic4\", \"Topic4\", \"Topic4\", \"Topic4\", \"Topic4\", \"Topic4\", \"Topic4\", \"Topic4\", \"Topic4\", \"Topic4\", \"Topic4\", \"Topic4\", \"Topic4\", \"Topic4\", \"Topic4\", \"Topic4\", \"Topic4\", \"Topic4\", \"Topic4\", \"Topic5\", \"Topic5\", \"Topic5\", \"Topic5\", \"Topic5\", \"Topic5\", \"Topic5\", \"Topic5\", \"Topic5\", \"Topic5\", \"Topic5\", \"Topic5\", \"Topic5\", \"Topic5\", \"Topic5\", \"Topic5\", \"Topic5\", \"Topic5\", \"Topic5\", \"Topic5\", \"Topic5\", \"Topic5\", \"Topic5\", \"Topic5\", \"Topic5\", \"Topic5\", \"Topic5\", \"Topic5\", \"Topic5\", \"Topic5\", \"Topic5\", \"Topic5\", \"Topic6\", \"Topic6\", \"Topic6\", \"Topic6\", \"Topic6\", \"Topic6\", \"Topic6\", \"Topic6\", \"Topic6\", \"Topic6\", \"Topic6\", \"Topic6\", \"Topic6\", \"Topic6\", \"Topic6\", \"Topic6\", \"Topic6\", \"Topic6\", \"Topic6\", \"Topic6\", \"Topic6\", \"Topic6\", \"Topic6\", \"Topic6\", \"Topic6\", \"Topic6\", \"Topic6\", \"Topic6\", \"Topic6\", \"Topic6\", \"Topic6\", \"Topic6\", \"Topic7\", \"Topic7\", \"Topic7\", \"Topic7\", \"Topic7\", \"Topic7\", \"Topic7\", \"Topic7\", \"Topic7\", \"Topic7\", \"Topic7\", \"Topic7\", \"Topic7\", \"Topic7\", \"Topic7\", \"Topic7\", \"Topic7\", \"Topic7\", \"Topic7\", \"Topic7\", \"Topic7\", \"Topic7\", \"Topic7\", \"Topic7\", \"Topic7\", \"Topic7\", \"Topic7\", \"Topic7\", \"Topic7\", \"Topic7\", \"Topic7\", \"Topic7\"], \"Freq\": [3047.0, 3010.0, 161.0, 110.0, 73.0, 524.0, 69.0, 59.0, 53.0, 47.0, 38.0, 35.0, 41.0, 38.0, 38.0, 36.0, 35.0, 32.0, 33.0, 30.0, 82.0, 25.0, 26.0, 117.0, 445.0, 26.0, 27.0, 424.0, 27.0, 22.0, 3040.39892578125, 3003.10595703125, 438.3377685546875, 417.2150573730469, 347.0720520019531, 307.9012145996094, 283.28472900390625, 254.5838165283203, 247.03404235839844, 228.20394897460938, 219.71104431152344, 204.45777893066406, 190.0924835205078, 183.31817626953125, 162.7888641357422, 160.58226013183594, 152.4078369140625, 499.0628356933594, 140.29400634765625, 139.60157775878906, 137.96340942382812, 137.7957000732422, 134.84494018554688, 131.98492431640625, 131.7567901611328, 131.51695251464844, 129.82154846191406, 123.20113372802734, 120.84625244140625, 116.7027587890625, 145.3232421875, 37.732666015625, 25.64053726196289, 11.887619018554688, 9.999068260192871, 6.949181079864502, 5.814647674560547, 4.982892990112305, 4.380890846252441, 4.309291839599609, 3.646759033203125, 3.640742301940918, 3.5869498252868652, 3.1604676246643066, 3.0346174240112305, 2.9516727924346924, 2.935614585876465, 2.6939291954040527, 2.668346881866455, 5.943408012390137, 2.611692190170288, 2.6566689014434814, 2.5588197708129883, 2.5572760105133057, 2.348453998565674, 2.2911930084228516, 2.9412331581115723, 2.1677968502044678, 2.135732889175415, 2.138728141784668, 2.683274507522583, 2.838339328765869, 94.59687805175781, 31.73626708984375, 22.96044158935547, 22.84567642211914, 10.947784423828125, 6.4919352531433105, 6.253601551055908, 4.0068745613098145, 3.0527572631835938, 2.972470998764038, 3.5396230220794678, 2.7683794498443604, 2.6379833221435547, 2.5295660495758057, 2.3486709594726562, 2.2284936904907227, 2.2523205280303955, 2.203101873397827, 2.131382942199707, 4.383764266967773, 2.106250286102295, 2.0905234813690186, 2.088042736053467, 2.0955400466918945, 2.0617637634277344, 2.000896692276001, 1.9638776779174805, 1.9514946937561035, 1.9309970140457153, 1.9143186807632446, 3.888585329055786, 2.2639288902282715, 3.475968837738037, 53.616268157958984, 20.240909576416016, 19.967679977416992, 17.17677879333496, 10.735979080200195, 7.466452598571777, 6.7551140785217285, 5.95103120803833, 3.455605983734131, 3.1703357696533203, 3.1359262466430664, 2.875908374786377, 2.8536598682403564, 2.7740705013275146, 2.7058827877044678, 2.572701930999756, 2.5536460876464844, 2.4947736263275146, 2.4579849243164062, 2.12043833732605, 2.1121861934661865, 2.106649160385132, 2.0372352600097656, 2.01343035697937, 1.9896783828735352, 1.9890538454055786, 1.9624544382095337, 1.9512542486190796, 1.9186604022979736, 1.8382282257080078, 3.4139676094055176, 19.176029205322266, 6.484063148498535, 4.520169734954834, 4.334784984588623, 3.891913414001465, 43.3501091003418, 14.095061302185059, 5.941685676574707, 5.5926384925842285, 5.406762599945068, 5.057990550994873, 3.6138875484466553, 3.2362403869628906, 2.923621416091919, 2.7930805683135986, 2.689878463745117, 2.6867048740386963, 2.6890623569488525, 2.6012539863586426, 2.434882164001465, 2.240886688232422, 2.2367734909057617, 2.2051901817321777, 2.133962392807007, 2.0407228469848633, 2.0069327354431152, 1.8717180490493774, 1.8298088312149048, 1.7865705490112305, 1.7799583673477173, 1.776025652885437, 1.743536353111267, 1.7242631912231445, 1.7025260925292969, 1.6822750568389893, 1.6850606203079224, 3.5390729904174805, 57.75844192504883, 16.484092712402344, 6.783175945281982, 5.296544075012207, 4.873009204864502, 4.322265625, 3.3527398109436035, 2.811441659927368, 2.3827106952667236, 2.2968361377716064, 2.1685335636138916, 2.1153647899627686, 2.064464569091797, 1.9887913465499878, 1.9508874416351318, 2.858518123626709, 1.7973750829696655, 1.7211967706680298, 1.701967716217041, 1.6347441673278809, 1.6181036233901978, 1.6797786951065063, 1.5755473375320435, 1.5681809186935425, 1.7028682231903076, 1.5609475374221802, 1.5435922145843506, 1.541579246520996, 1.539392113685608, 1.5237622261047363, 2.0665061473846436, 1.5964961051940918, 22.004070281982422, 18.894807815551758, 9.64400577545166, 4.698901653289795, 3.983337640762329, 3.3601632118225098, 2.5907487869262695, 2.4634101390838623, 2.3392558097839355, 2.0705769062042236, 2.0458152294158936, 1.9416139125823975, 2.164060115814209, 1.8802272081375122, 1.878089427947998, 1.8486883640289307, 1.8244200944900513, 1.8141981363296509, 1.7055619955062866, 1.6973968744277954, 1.6417845487594604, 1.6334311962127686, 1.6216936111450195, 1.5775630474090576, 1.5676161050796509, 1.5362660884857178, 1.520391821861267, 1.5444331169128418, 1.4737244844436646, 1.4564316272735596, 5.220016002655029, 3.0939083099365234], \"Term\": [\"gift\", \"card\", \"great\", \"love\", \"good\", \"easy\", \"perfect\", \"time\", \"cute\", \"minute\", \"work\", \"happy\", \"idea\", \"convenient\", \"last\", \"quick\", \"fast\", \"product\", \"delivery\", \"problem\", \"service\", \"excellent\", \"simple\", \"thank\", \"use\", \"awesome\", \"tin\", \"way\", \"deal\", \"food\", \"gift\", \"card\", \"use\", \"way\", \"purchase\", \"birthday\", \"order\", \"nice\", \"recipient\", \"friend\", \"day\", \"able\", \"email\", \"print\", \"family\", \"person\", \"present\", \"easy\", \"money\", \"item\", \"year\", \"box\", \"book\", \"wrong\", \"store\", \"shop\", \"much\", \"thing\", \"buy\", \"mail\", \"great\", \"cute\", \"idea\", \"tin\", \"deal\", \"packaging\", \"give\", \"presentation\", \"country\", \"holder\", \"container\", \"discount\", \"grandkid\", \"adult\", \"cupcake\", \"dent\", \"practical\", \"lightning\", \"anniversary\", \"price\", \"effort\", \"postage\", \"click\", \"man\", \"spot\", \"black\", \"stock\", \"easter\", \"ribbon\", \"stuffer\", \"attractive\", \"super\", \"love\", \"minute\", \"convenient\", \"last\", \"awesome\", \"home\", \"color\", \"husband\", \"leave\", \"printer\", \"fit\", \"guy\", \"shopper\", \"form\", \"excite\", \"non\", \"self\", \"fill\", \"wing\", \"size\", \"treat\", \"true\", \"snowflake\", \"personalized\", \"similar\", \"graphic\", \"stress\", \"recepient\", \"flower\", \"question\", \"shopping\", \"starbuck\", \"occasion\", \"perfect\", \"quick\", \"fast\", \"delivery\", \"simple\", \"shipping\", \"fun\", \"pleased\", \"transaction\", \"expectation\", \"excelent\", \"funny\", \"season\", \"track\", \"condition\", \"reliable\", \"advertise\", \"car\", \"lovely\", \"smooth\", \"worker\", \"spend\", \"co\", \"appreciation\", \"prompt\", \"speedy\", \"unique\", \"taste\", \"info\", \"winner\", \"case\", \"easy\", \"thank\", \"design\", \"ship\", \"free\", \"time\", \"problem\", \"number\", \"code\", \"first\", \"fine\", \"grandson\", \"appreciate\", \"correct\", \"buying\", \"promise\", \"boy\", \"multiple\", \"system\", \"confirmation\", \"change\", \"seller\", \"purpose\", \"dinner\", \"disappoint\", \"busy\", \"video\", \"particular\", \"transfer\", \"half\", \"ton\", \"original\", \"policy\", \"accurate\", \"satisfy\", \"gas\", \"right\", \"good\", \"product\", \"food\", \"restaurant\", \"quality\", \"adorable\", \"job\", \"graduation\", \"bear\", \"internet\", \"soft\", \"kind\", \"description\", \"situation\", \"staff\", \"deal\", \"clothe\", \"negative\", \"eye\", \"membership\", \"silly\", \"welcome\", \"junk\", \"cracker\", \"condition\", \"cut\", \"suit\", \"back\", \"dear\", \"lady\", \"whole\", \"efficient\", \"work\", \"happy\", \"excellent\", \"mom\", \"movie\", \"month\", \"plan\", \"ticket\", \"top\", \"usual\", \"think\", \"area\", \"refund\", \"theater\", \"close\", \"pop\", \"standard\", \"terrible\", \"play\", \"friendly\", \"red\", \"bill\", \"bar\", \"ideal\", \"charm\", \"clue\", \"alternative\", \"hit\", \"metal\", \"toy\", \"service\", \"daughter\"], \"Total\": [3047.0, 3010.0, 161.0, 110.0, 73.0, 524.0, 69.0, 59.0, 53.0, 47.0, 38.0, 35.0, 41.0, 38.0, 38.0, 36.0, 35.0, 32.0, 33.0, 30.0, 82.0, 25.0, 26.0, 117.0, 445.0, 26.0, 27.0, 424.0, 27.0, 22.0, 3047.580322265625, 3010.287353515625, 445.5193786621094, 424.39666748046875, 354.253662109375, 315.08282470703125, 290.4663391113281, 261.7655029296875, 254.21568298339844, 235.3855743408203, 226.89266967773438, 211.63937377929688, 197.2741241455078, 190.4998321533203, 169.9705047607422, 167.76390075683594, 159.5895233154297, 524.2010498046875, 147.47564697265625, 146.783203125, 145.14501953125, 144.97738647460938, 142.02658081054688, 139.16656494140625, 138.93844604492188, 138.69859313964844, 137.00318908691406, 130.3827362060547, 128.02789306640625, 123.8843765258789, 161.05804443359375, 53.46490478515625, 41.374454498291016, 27.624176025390625, 27.563983917236328, 22.680774688720703, 21.57036781311035, 20.714101791381836, 20.11382484436035, 20.03994369506836, 19.37742042541504, 19.37212562561035, 19.319204330444336, 18.908878326416016, 18.766935348510742, 18.685779571533203, 18.666324615478516, 18.426361083984375, 18.399707794189453, 41.0510368347168, 18.348342895507812, 18.716136932373047, 18.293914794921875, 18.656166076660156, 18.080459594726562, 18.0255069732666, 23.317626953125, 17.911373138427734, 17.871925354003906, 17.90215301513672, 23.075702667236328, 31.275325775146484, 110.47239685058594, 47.609092712402344, 38.833831787109375, 38.7204704284668, 26.82359504699707, 22.36298370361328, 22.124868392944336, 19.878122329711914, 18.92413330078125, 18.86765480041504, 22.821252822875977, 18.685461044311523, 18.51633071899414, 18.403545379638672, 18.22296142578125, 18.157800674438477, 18.436656951904297, 18.086421966552734, 18.002260208129883, 37.174964904785156, 17.991878509521484, 17.963665008544922, 17.960960388183594, 18.205501556396484, 17.93427085876465, 18.03647232055664, 17.837749481201172, 17.825439453125, 17.820894241333008, 17.79244613647461, 50.25662612915039, 23.353221893310547, 65.61486053466797, 69.62926483154297, 36.25760269165039, 35.9819221496582, 33.20415115356445, 26.750118255615234, 23.477760314941406, 22.769960403442383, 21.96502113342285, 19.466218948364258, 19.184648513793945, 19.14647102355957, 18.887027740478516, 18.864362716674805, 18.78573226928711, 19.38963508605957, 18.61408805847168, 18.564395904541016, 18.506328582763672, 18.47492218017578, 18.145912170410156, 18.12401008605957, 18.117502212524414, 18.049245834350586, 18.046138763427734, 18.019691467285156, 18.014863967895508, 17.973073959350586, 17.96409034729004, 17.933887481689453, 17.874855041503906, 36.77972412109375, 524.2010498046875, 117.0175552368164, 71.94541931152344, 67.76781463623047, 84.97077178955078, 59.50041961669922, 30.244298934936523, 22.0875244140625, 21.740760803222656, 21.554824829101562, 21.20627784729004, 19.77568817138672, 19.385055541992188, 19.076801300048828, 18.938222885131836, 18.834951400756836, 18.832475662231445, 18.923019409179688, 18.748035430908203, 18.581302642822266, 18.38949203491211, 18.409229278564453, 18.350276947021484, 18.305301666259766, 18.188949584960938, 18.152631759643555, 18.082717895507812, 17.976428985595703, 17.935314178466797, 17.93668556213379, 17.921138763427734, 17.891748428344727, 17.871532440185547, 17.852218627929688, 17.828535079956055, 17.865022659301758, 67.52838897705078, 73.92652130126953, 32.650856018066406, 22.95189666748047, 21.46735191345215, 21.04757308959961, 20.488468170166016, 19.520023345947266, 18.97708511352539, 18.821067810058594, 18.46821403503418, 18.34381103515625, 18.281522750854492, 18.269420623779297, 18.15477180480957, 18.116165161132812, 27.563983917236328, 17.96266746520996, 17.891332626342773, 17.868207931518555, 17.808542251586914, 17.78825569152832, 18.61966896057129, 17.79572296142578, 17.745498657226562, 19.38963508605957, 17.810548782348633, 17.711137771606445, 17.708438873291016, 17.705352783203125, 17.698453903198242, 26.80277442932129, 26.072721481323242, 38.291465759277344, 35.17719268798828, 25.92257308959961, 20.983564376831055, 20.274099349975586, 19.641035079956055, 18.867733001708984, 18.741004943847656, 18.615928649902344, 18.3482666015625, 18.322328567504883, 18.73602867126465, 20.89641761779785, 18.16120147705078, 18.15595245361328, 18.12535285949707, 18.102018356323242, 18.090517044067383, 17.982778549194336, 17.973886489868164, 17.92268943786621, 17.909772872924805, 17.898284912109375, 17.892698287963867, 17.843952178955078, 17.83723258972168, 17.83763885498047, 18.160968780517578, 17.776945114135742, 17.735965728759766, 82.62469482421875, 117.40888214111328], \"loglift\": [30.0, 29.0, 28.0, 27.0, 26.0, 25.0, 24.0, 23.0, 22.0, 21.0, 20.0, 19.0, 18.0, 17.0, 16.0, 15.0, 14.0, 13.0, 12.0, 11.0, 10.0, 9.0, 8.0, 7.0, 6.0, 5.0, 4.0, 3.0, 2.0, 1.0, 0.40790000557899475, 0.40779998898506165, 0.39399999380111694, 0.39309999346733093, 0.3896999955177307, 0.3871999979019165, 0.38519999384880066, 0.3824000060558319, 0.3815999925136566, 0.3792000114917755, 0.3779999911785126, 0.3756999969482422, 0.37310001254081726, 0.3718000054359436, 0.367000013589859, 0.36649999022483826, 0.36419999599456787, 0.3610999882221222, 0.3603000044822693, 0.36000001430511475, 0.359499990940094, 0.3594000041484833, 0.35830000042915344, 0.3571999967098236, 0.3571000099182129, 0.3569999933242798, 0.3564000129699707, 0.35359999537467957, 0.35249999165534973, 0.3504999876022339, 2.544600009918213, 2.2988998889923096, 2.1689000129699707, 1.8042000532150269, 1.6333999633789062, 1.4644999504089355, 1.3365000486373901, 1.222599983215332, 1.1232999563217163, 1.1104999780654907, 0.9771999716758728, 0.9757999777793884, 0.9635999798774719, 0.8585000038146973, 0.8253999948501587, 0.8019999861717224, 0.7975999712944031, 0.7246000170707703, 0.7164999842643738, 0.714900016784668, 0.6978999972343445, 0.6951000094413757, 0.680400013923645, 0.6601999998092651, 0.6062999963760376, 0.5846999883651733, 0.5770000219345093, 0.5357000231742859, 0.5230000019073486, 0.5227000117301941, 0.49570000171661377, 0.24779999256134033, 2.5952999591827393, 2.344899892807007, 2.224900007247925, 2.2228000164031982, 1.8543000221252441, 1.5135999917984009, 1.486899971961975, 1.148800015449524, 0.9259999990463257, 0.902400016784668, 0.8867999911308289, 0.8410000205039978, 0.801800012588501, 0.7659000158309937, 0.7016000151634216, 0.6527000069618225, 0.6481000185012817, 0.6450999975204468, 0.6166999936103821, 0.6126999855041504, 0.605400025844574, 0.5995000004768372, 0.5985000133514404, 0.5885000228881836, 0.5873000025749207, 0.5515999794006348, 0.5440000295639038, 0.5383999943733215, 0.5281000137329102, 0.5210000276565552, 0.19130000472068787, 0.41679999232292175, -0.1875, 2.5980000495910645, 2.276400089263916, 2.270400047302246, 2.200200080871582, 1.9464000463485718, 1.7137000560760498, 1.6441999673843384, 1.5534000396728516, 1.1305999755859375, 1.059000015258789, 1.0500999689102173, 0.9771999716758728, 0.9706000089645386, 0.9465000033378601, 0.8899999856948853, 0.8804000020027161, 0.8755999803543091, 0.855400025844574, 0.842199981212616, 0.7124999761581421, 0.7098000049591064, 0.7074999809265137, 0.6777999997138977, 0.6661999821662903, 0.6557999849319458, 0.6557999849319458, 0.644599974155426, 0.6394000053405762, 0.6243000030517578, 0.5846999883651733, 0.4821999967098236, -0.4489000141620636, -0.03370000049471855, 0.09200000017881393, 0.10989999771118164, -0.2240999937057495, 2.667099952697754, 2.2202999591827393, 1.670799970626831, 1.626099944114685, 1.6009000539779663, 1.5505000352859497, 1.28410005569458, 1.1936999559402466, 1.108199954032898, 1.0698000192642212, 1.037600040435791, 1.0364999771118164, 1.0326000452041626, 1.0087000131607056, 0.9516000151634216, 0.8788999915122986, 0.8759999871253967, 0.8650000095367432, 0.8345999717712402, 0.7962999939918518, 0.7815999984741211, 0.7156999707221985, 0.6990000009536743, 0.677299976348877, 0.6736000180244446, 0.6722000241279602, 0.6553999781608582, 0.6453999876976013, 0.6338000297546387, 0.623199999332428, 0.6227999925613403, 0.035100001841783524, 2.7578001022338867, 2.3210999965667725, 1.7856999635696411, 1.6051000356674194, 1.5414999723434448, 1.4485000371932983, 1.242900013923645, 1.0951000452041626, 0.9379000067710876, 0.9200999736785889, 0.8694000244140625, 0.8478999733924866, 0.8242999911308289, 0.7932000160217285, 0.7760999798774719, 0.7383999824523926, 0.7026000022888184, 0.6632999777793884, 0.6534000039100647, 0.6164000034332275, 0.6072999835014343, 0.5990999937057495, 0.580299973487854, 0.5784000158309937, 0.5722000002861023, 0.5701000094413757, 0.5644999742507935, 0.5633999705314636, 0.5620999932289124, 0.552299976348877, 0.44200000166893005, 0.21150000393390656, 2.562999963760376, 2.495500087738037, 2.128200054168701, 1.6205999851226807, 1.4896999597549438, 1.3513000011444092, 1.131500005722046, 1.0878000259399414, 1.042799949645996, 0.9352999925613403, 0.9246000051498413, 0.8500000238418579, 0.849399983882904, 0.8490999937057495, 0.8482000231742859, 0.8341000080108643, 0.8222000002861023, 0.8172000050544739, 0.7613999843597412, 0.757099986076355, 0.7267000079154968, 0.7222999930381775, 0.7156999707221985, 0.6884999871253967, 0.6848999857902527, 0.6650000214576721, 0.6546000242233276, 0.6523000001907349, 0.6269000172615051, 0.6173999905586243, 0.35519999265670776, -0.5192999839782715], \"logprob\": [30.0, 29.0, 28.0, 27.0, 26.0, 25.0, 24.0, 23.0, 22.0, 21.0, 20.0, 19.0, 18.0, 17.0, 16.0, 15.0, 14.0, 13.0, 12.0, 11.0, 10.0, 9.0, 8.0, 7.0, 6.0, 5.0, 4.0, 3.0, 2.0, 1.0, -3.0796000957489014, -3.091900110244751, -5.016300201416016, -5.065700054168701, -5.249800205230713, -5.369500160217285, -5.4527997970581055, -5.559700012207031, -5.589799880981445, -5.669099807739258, -5.706999778747559, -5.778900146484375, -5.851799964904785, -5.8881001472473145, -6.006800174713135, -6.020500183105469, -6.072700023651123, -4.886600017547607, -6.155600070953369, -6.1605000495910645, -6.172299861907959, -6.173500061035156, -6.195199966430664, -6.216599941253662, -6.218299865722656, -6.220200061798096, -6.233099937438965, -6.2855000495910645, -6.304800033569336, -6.339700222015381, -3.8831000328063965, -5.231599807739258, -5.6178998947143555, -6.386600017547607, -6.559599876403809, -6.923500061035156, -7.1016998291015625, -7.256100177764893, -7.384799957275391, -7.401299953460693, -7.56820011138916, -7.569900035858154, -7.584799766540527, -7.711400032043457, -7.751999855041504, -7.779699802398682, -7.785200119018555, -7.871099948883057, -7.8805999755859375, -7.079800128936768, -7.902100086212158, -7.885000228881836, -7.922500133514404, -7.923099994659424, -8.008299827575684, -8.032999992370605, -7.783299922943115, -8.088399887084961, -8.103300094604492, -8.101900100708008, -7.875, -7.818900108337402, -4.209400177001953, -5.301599979400635, -5.62529993057251, -5.630300045013428, -6.365900039672852, -6.888500213623047, -6.925899982452393, -7.371099948883057, -7.64300012588501, -7.6697001457214355, -7.495100021362305, -7.740799903869629, -7.789100170135498, -7.830999851226807, -7.905200004577637, -7.957699775695801, -7.9471001625061035, -7.969200134277344, -8.002300262451172, -7.281199932098389, -8.014200210571289, -8.021699905395508, -8.02280044555664, -8.01930046081543, -8.035499572753906, -8.065500259399414, -8.084199905395508, -8.090499877929688, -8.10099983215332, -8.109700202941895, -7.401000022888184, -7.941999912261963, -7.513199806213379, -4.668300151824951, -5.642499923706055, -5.656099796295166, -5.806600093841553, -6.276599884033203, -6.639800071716309, -6.7399001121521, -6.866600036621094, -7.410200119018555, -7.496399879455566, -7.507299900054932, -7.593800067901611, -7.601600170135498, -7.629899978637695, -7.654799938201904, -7.7052001953125, -7.712699890136719, -7.736000061035156, -7.750800132751465, -7.898600101470947, -7.902500152587891, -7.905099868774414, -7.938600063323975, -7.950399875640869, -7.962200164794922, -7.962500095367432, -7.97599983215332, -7.9816999435424805, -7.998600006103516, -8.041399955749512, -7.422299861907959, -5.696499824523926, -6.780799865722656, -7.141600131988525, -7.183499813079834, -7.291299819946289, -4.756400108337402, -5.879899978637695, -6.74370002746582, -6.804200172424316, -6.8379998207092285, -6.904699802398682, -7.240900039672852, -7.35129976272583, -7.452899932861328, -7.498499870300293, -7.536200046539307, -7.537399768829346, -7.536499977111816, -7.569699764251709, -7.635799884796143, -7.718800067901611, -7.720699787139893, -7.734899997711182, -7.7677001953125, -7.812399864196777, -7.829100131988525, -7.898799896240234, -7.921500205993652, -7.945400238037109, -7.949100017547607, -7.951300144195557, -7.969799995422363, -7.980899810791016, -7.993599891662598, -8.005499839782715, -8.003899574279785, -7.2617998123168945, -4.448599815368652, -5.702499866485596, -6.590400218963623, -6.837800025939941, -6.921199798583984, -7.041100025177002, -7.295100212097168, -7.471199989318848, -7.63670015335083, -7.673399925231934, -7.730800151824951, -7.75570011138916, -7.78000020980835, -7.817399978637695, -7.836599826812744, -7.454599857330322, -7.918600082397461, -7.961900234222412, -7.973100185394287, -8.013400077819824, -8.023599624633789, -7.986199855804443, -8.050299644470215, -8.055000305175781, -7.972599983215332, -8.059599876403809, -8.070799827575684, -8.072099685668945, -8.07349967956543, -8.083700180053711, -7.7789998054504395, -8.037099838256836, -5.301300048828125, -5.453700065612793, -6.126200199127197, -6.845200061798096, -7.01039981842041, -7.180600166320801, -7.4405999183654785, -7.491000175476074, -7.542699813842773, -7.664700031280518, -7.676700115203857, -7.729000091552734, -7.62060022354126, -7.761099815368652, -7.76230001449585, -7.77810001373291, -7.791299819946289, -7.796899795532227, -7.85860013961792, -7.863399982452393, -7.8968000411987305, -7.901899814605713, -7.90910005569458, -7.936699867248535, -7.942999839782715, -7.963200092315674, -7.973599910736084, -7.957900047302246, -8.00469970703125, -8.016599655151367, -6.739999771118164, -7.2631001472473145]}, \"token.table\": {\"Topic\": [1, 2, 3, 4, 5, 6, 7, 1, 2, 3, 4, 5, 6, 7, 1, 2, 3, 4, 5, 6, 7, 1, 2, 3, 4, 5, 6, 7, 1, 2, 3, 4, 5, 6, 7, 1, 2, 3, 4, 5, 6, 7, 1, 2, 3, 4, 5, 6, 7, 1, 2, 3, 4, 5, 6, 7, 1, 2, 3, 4, 5, 6, 7, 1, 2, 3, 4, 5, 6, 7, 1, 2, 3, 4, 5, 6, 7, 1, 2, 3, 4, 5, 6, 7, 1, 2, 3, 4, 5, 6, 7, 1, 2, 3, 4, 5, 6, 7, 1, 2, 3, 4, 5, 6, 7, 1, 2, 3, 4, 5, 6, 7, 1, 2, 3, 4, 5, 6, 7, 1, 2, 3, 4, 5, 6, 7, 1, 2, 3, 4, 5, 6, 7, 1, 2, 3, 4, 5, 6, 7, 1, 2, 3, 4, 5, 6, 7, 1, 2, 3, 4, 5, 6, 7, 1, 2, 3, 4, 5, 6, 7, 1, 2, 3, 4, 5, 6, 7, 1, 2, 3, 4, 5, 6, 7, 1, 2, 3, 4, 5, 6, 7, 1, 2, 3, 4, 5, 6, 7, 1, 2, 3, 4, 5, 6, 7, 1, 2, 3, 4, 5, 6, 7, 1, 2, 3, 4, 5, 6, 7, 1, 2, 3, 4, 5, 6, 7, 1, 2, 3, 4, 5, 6, 7, 1, 2, 3, 4, 5, 6, 7, 1, 2, 3, 4, 5, 6, 7, 1, 2, 3, 4, 5, 6, 7, 1, 2, 3, 4, 5, 6, 7, 1, 2, 3, 4, 5, 6, 7, 1, 2, 3, 4, 5, 6, 7, 1, 2, 3, 4, 5, 6, 7, 1, 2, 3, 4, 5, 6, 7, 1, 2, 3, 4, 5, 6, 7, 1, 2, 3, 4, 5, 6, 7, 1, 2, 3, 4, 5, 6, 7, 1, 2, 3, 4, 5, 6, 7, 1, 2, 3, 4, 5, 6, 7, 1, 2, 3, 4, 5, 6, 7, 1, 2, 3, 4, 5, 6, 7, 1, 2, 3, 4, 5, 6, 7, 1, 2, 3, 4, 5, 6, 7, 1, 2, 3, 4, 5, 6, 7, 1, 2, 3, 4, 5, 6, 7, 1, 2, 3, 4, 5, 6, 7, 1, 2, 3, 4, 5, 6, 7, 1, 2, 3, 4, 5, 6, 7, 1, 2, 3, 4, 5, 6, 7, 1, 2, 3, 4, 5, 6, 7, 1, 2, 3, 4, 5, 6, 7, 1, 2, 3, 4, 5, 6, 7, 1, 2, 3, 4, 5, 6, 7, 1, 2, 3, 4, 5, 6, 7, 1, 2, 3, 4, 5, 6, 7, 1, 2, 3, 4, 5, 6, 7, 1, 2, 3, 4, 5, 6, 7, 1, 2, 3, 4, 5, 6, 7, 1, 2, 3, 4, 5, 6, 7, 1, 2, 3, 4, 5, 6, 7, 1, 2, 3, 4, 5, 6, 7, 1, 2, 3, 4, 5, 6, 7, 1, 2, 3, 4, 5, 6, 7, 1, 2, 3, 4, 5, 6, 7, 1, 2, 3, 4, 5, 6, 7, 1, 2, 3, 4, 5, 6, 7, 1, 2, 3, 4, 5, 6, 7, 1, 2, 3, 4, 5, 6, 7, 1, 2, 3, 4, 5, 6, 7, 1, 2, 3, 4, 5, 6, 7, 1, 2, 3, 4, 5, 6, 7, 1, 2, 3, 4, 5, 6, 7, 1, 2, 3, 4, 5, 6, 7, 1, 2, 3, 4, 5, 6, 7, 1, 2, 3, 4, 5, 6, 7, 1, 2, 3, 4, 5, 6, 7, 1, 2, 3, 4, 5, 6, 7, 1, 2, 3, 4, 5, 6, 7, 1, 2, 3, 4, 5, 6, 7, 1, 2, 3, 4, 5, 6, 7, 1, 2, 3, 4, 5, 6, 7, 1, 2, 3, 4, 5, 6, 7, 1, 2, 3, 4, 5, 6, 7, 1, 2, 3, 4, 5, 6, 7, 1, 2, 3, 4, 5, 6, 7, 1, 2, 3, 4, 5, 6, 7, 1, 2, 3, 4, 5, 6, 7, 1, 2, 3, 4, 5, 6, 7, 1, 2, 3, 4, 5, 6, 7, 1, 2, 3, 4, 5, 6, 7, 1, 2, 3, 4, 5, 6, 7, 1, 2, 3, 4, 5, 6, 7, 1, 2, 3, 4, 5, 6, 7, 1, 2, 3, 4, 5, 6, 7, 1, 2, 3, 4, 5, 6, 7, 1, 2, 3, 4, 5, 6, 7, 1, 2, 3, 4, 5, 6, 7, 1, 2, 3, 4, 5, 6, 7, 1, 2, 3, 4, 5, 6, 7, 1, 2, 3, 4, 5, 6, 7, 1, 2, 3, 4, 5, 6, 7, 1, 2, 3, 4, 5, 6, 7, 1, 2, 3, 4, 5, 6, 7, 1, 2, 3, 4, 5, 6, 7, 1, 2, 3, 4, 5, 6, 7, 1, 2, 3, 4, 5, 6, 7, 1, 2, 3, 4, 5, 6, 7, 1, 2, 3, 4, 5, 6, 7, 1, 2, 3, 4, 5, 6, 7, 1, 2, 3, 4, 5, 6, 7, 1, 2, 3, 4, 5, 6, 7, 1, 2, 3, 4, 5, 6, 7, 1, 2, 3, 4, 5, 6, 7, 1, 2, 3, 4, 5, 6, 7, 1, 2, 3, 4, 5, 6, 7, 1, 2, 3, 4, 5, 6, 7, 1, 2, 3, 4, 5, 6, 7, 1, 2, 3, 4, 5, 6, 7, 1, 2, 3, 4, 5, 6, 7, 1, 2, 3, 4, 5, 6, 7, 1, 2, 3, 4, 5, 6, 7, 1, 2, 3, 4, 5, 6, 7, 1, 2, 3, 4, 5, 6, 7, 1, 2, 3, 4, 5, 6, 7, 1, 2, 3, 4, 5, 6, 7, 1, 2, 3, 4, 5, 6, 7, 1, 2, 3, 4, 5, 6, 7, 1, 2, 3, 4, 5, 6, 7, 1, 2, 3, 4, 5, 6, 7, 1, 2, 3, 4, 5, 6, 7, 1, 2, 3, 4, 5, 6, 7, 1, 2, 3, 4, 5, 6, 7, 1, 2, 3, 4, 5, 6, 7, 1, 2, 3, 4, 5, 6, 7, 1, 2, 3, 4, 5, 6, 7, 1, 2, 3, 4, 5, 6, 7, 1, 2, 3, 4, 5, 6, 7, 1, 2, 3, 4, 5, 6, 7, 1, 2, 3, 4, 5, 6, 7, 1, 2, 3, 4, 5, 6, 7, 1, 2, 3, 4, 5, 6, 7, 1, 2, 3, 4, 5, 6, 7, 1, 2, 3, 4, 5, 6, 7, 1, 2, 3, 4, 5, 6, 7, 1, 2, 3, 4, 5, 6, 7, 1, 2, 3, 4, 5, 6, 7, 1, 2, 3, 4, 5, 6, 7, 1, 2, 3, 4, 5, 6, 7, 1, 2, 3, 4, 5, 6, 7, 1, 2, 3, 4, 5, 6, 7, 1, 2, 3, 4, 5, 6, 7, 1, 2, 3, 4, 5, 6, 7, 1, 2, 3, 4, 5, 6, 7, 1, 2, 3, 4, 5, 6, 7, 1, 2, 3, 4, 5, 6, 7, 1, 2, 3, 4, 5, 6, 7, 1, 2, 3, 4, 5, 6, 7, 1, 2, 3, 4, 5, 6, 7, 1, 2, 3, 4, 5, 6, 7, 1, 2, 3, 4, 5, 6, 7, 1, 2, 3, 4, 5, 6, 7, 1, 2, 3, 4, 5, 6, 7, 1, 2, 3, 4, 5, 6, 7, 1, 2, 3, 4, 5, 6, 7, 1, 2, 3, 4, 5, 6, 7, 1, 2, 3, 4, 5, 6, 7, 1, 2, 3, 4, 5, 6, 7, 1, 2, 3, 4, 5, 6, 7, 1, 2, 3, 4, 5, 6, 7, 1, 2, 3, 4, 5, 6, 7, 1, 2, 3, 4, 5, 6, 7, 1, 2, 3, 4, 5, 6, 7, 1, 2, 3, 4, 5, 6, 7, 1, 2, 3, 4, 5, 6, 7, 1, 2, 3, 4, 5, 6, 7, 1, 2, 3, 4, 5, 6, 7, 1, 2, 3, 4, 5, 6, 7, 1, 2, 3, 4, 5, 6, 7, 1, 2, 3, 4, 5, 6, 7, 1, 2, 3, 4, 5, 6, 7, 1, 2, 3, 4, 5, 6, 7, 1, 2, 3, 4, 5, 6, 7, 1, 2, 3, 4, 5, 6, 7, 1, 2, 3, 4, 5, 6, 7, 1, 2, 3, 4, 5, 6, 7, 1, 2, 3, 4, 5, 6, 7, 1, 2, 3, 4, 5, 6, 7, 1, 2, 3, 4, 5, 6, 7, 1, 2, 3, 4, 5, 6, 7, 1, 2, 3, 4, 5, 6, 7, 1, 2, 3, 4, 5, 6, 7, 1, 2, 3, 4, 5, 6, 7, 1, 2, 3, 4, 5, 6, 7, 1, 2, 3, 4, 5, 6, 7, 1, 2, 3, 4, 5, 6, 7, 1, 2, 3, 4, 5, 6, 7, 1, 2, 3, 4, 5, 6, 7, 1, 2, 3, 4, 5, 6, 7, 1, 2, 3, 4, 5, 6, 7, 1, 2, 3, 4, 5, 6, 7, 1, 2, 3, 4, 5, 6, 7, 1, 2, 3, 4, 5, 6, 7, 1, 2, 3, 4, 5, 6, 7, 1, 2, 3, 4, 5, 6, 7, 1, 2, 3, 4, 5, 6, 7, 1, 2, 3, 4, 5, 6, 7, 1, 2, 3, 4, 5, 6, 7, 1, 2, 3, 4, 5, 6, 7, 1, 2, 3, 4, 5, 6, 7, 1, 2, 3, 4, 5, 6, 7, 1, 2, 3, 4, 5, 6, 7, 1, 2, 3, 4, 5, 6, 7, 1, 2, 3, 4, 5, 6, 7, 1, 2, 3, 4, 5, 6, 7, 1, 2, 3, 4, 5, 6, 7, 1, 2, 3, 4, 5, 6, 7, 1, 2, 3, 4, 5, 6, 7, 1, 2, 3, 4, 5, 6, 7], \"Freq\": [0.9639038443565369, 0.0047250185161828995, 0.0047250185161828995, 0.0047250185161828995, 0.0047250185161828995, 0.0047250185161828995, 0.0047250185161828995, 0.5601544380187988, 0.05601544678211212, 0.05601544678211212, 0.05601544678211212, 0.11203089356422424, 0.05601544678211212, 0.05601544678211212, 0.4880794286727905, 0.04880794510245323, 0.04880794510245323, 0.04880794510245323, 0.04880794510245323, 0.19523178040981293, 0.04880794510245323, 0.528852105140686, 0.15865562856197357, 0.052885208278894424, 0.052885208278894424, 0.052885208278894424, 0.052885208278894424, 0.052885208278894424, 0.5386655330657959, 0.05386655032634735, 0.05386655032634735, 0.16159965097904205, 0.05386655032634735, 0.05386655032634735, 0.05386655032634735, 0.5606123208999634, 0.11212246119976044, 0.05606123059988022, 0.05606123059988022, 0.05606123059988022, 0.05606123059988022, 0.11212246119976044, 0.5434868931770325, 0.16304606199264526, 0.05434868857264519, 0.05434868857264519, 0.05434868857264519, 0.05434868857264519, 0.05434868857264519, 0.5158612728118896, 0.051586128771305084, 0.051586128771305084, 0.051586128771305084, 0.15475839376449585, 0.051586128771305084, 0.051586128771305084, 0.5541351437568665, 0.055413514375686646, 0.055413514375686646, 0.11082702875137329, 0.055413514375686646, 0.055413514375686646, 0.055413514375686646, 0.5871041417121887, 0.053373102098703384, 0.053373102098703384, 0.053373102098703384, 0.053373102098703384, 0.053373102098703384, 0.10674620419740677, 0.6500343680381775, 0.13000687956809998, 0.043335624039173126, 0.043335624039173126, 0.043335624039173126, 0.043335624039173126, 0.043335624039173126, 0.3728061020374298, 0.0372806116938591, 0.4100867211818695, 0.0372806116938591, 0.0372806116938591, 0.0372806116938591, 0.0372806116938591, 0.5647025108337402, 0.05647025257349014, 0.05647025257349014, 0.05647025257349014, 0.05647025257349014, 0.11294050514698029, 0.05647025257349014, 0.5587127804756165, 0.05587127432227135, 0.05587127432227135, 0.05587127432227135, 0.05587127432227135, 0.05587127432227135, 0.1117425486445427, 0.5313194990158081, 0.05313194915652275, 0.05313194915652275, 0.05313194915652275, 0.05313194915652275, 0.1062638983130455, 0.05313194915652275, 0.558354377746582, 0.05583543702960014, 0.05583543702960014, 0.05583543702960014, 0.05583543702960014, 0.05583543702960014, 0.11167087405920029, 0.977520763874054, 0.0031737687531858683, 0.0031737687531858683, 0.0031737687531858683, 0.0031737687531858683, 0.0031737687531858683, 0.0031737687531858683, 0.5547693967819214, 0.11095388233661652, 0.05547694116830826, 0.05547694116830826, 0.05547694116830826, 0.05547694116830826, 0.05547694116830826, 0.9505262970924377, 0.007040935568511486, 0.007040935568511486, 0.007040935568511486, 0.007040935568511486, 0.007040935568511486, 0.007040935568511486, 0.9518725872039795, 0.006897627376019955, 0.006897627376019955, 0.006897627376019955, 0.006897627376019955, 0.006897627376019955, 0.006897627376019955, 0.530997633934021, 0.05309976264834404, 0.05309976264834404, 0.05309976264834404, 0.15929928421974182, 0.05309976264834404, 0.05309976264834404, 0.5508843064308167, 0.055088430643081665, 0.055088430643081665, 0.055088430643081665, 0.11017686128616333, 0.055088430643081665, 0.055088430643081665, 0.945106565952301, 0.00781079800799489, 0.00781079800799489, 0.00781079800799489, 0.00781079800799489, 0.00781079800799489, 0.00781079800799489, 0.528032660484314, 0.05280326306819916, 0.05280326306819916, 0.05280326306819916, 0.15840978920459747, 0.05280326306819916, 0.05280326306819916, 0.5403556823730469, 0.05403557047247887, 0.05403557047247887, 0.10807114094495773, 0.05403557047247887, 0.05403557047247887, 0.05403557047247887, 0.9975791573524475, 0.0003321942058391869, 0.0003321942058391869, 0.0003321942058391869, 0.0003321942058391869, 0.0003321942058391869, 0.0003321942058391869, 0.7341001033782959, 0.027188893407583237, 0.027188893407583237, 0.08156668394804001, 0.027188893407583237, 0.027188893407583237, 0.027188893407583237, 0.5437887907028198, 0.05437888205051422, 0.05437888205051422, 0.05437888205051422, 0.10875776410102844, 0.05437888205051422, 0.05437888205051422, 0.5604139566421509, 0.05604139715433121, 0.05604139715433121, 0.05604139715433121, 0.05604139715433121, 0.05604139715433121, 0.11208279430866241, 0.5466298460960388, 0.16398896276950836, 0.05466298386454582, 0.05466298386454582, 0.05466298386454582, 0.05466298386454582, 0.05466298386454582, 0.5507835745811462, 0.055078353732824326, 0.055078353732824326, 0.055078353732824326, 0.055078353732824326, 0.055078353732824326, 0.11015670746564865, 0.5567101836204529, 0.05567101761698723, 0.05567101761698723, 0.05567101761698723, 0.05567101761698723, 0.11134203523397446, 0.05567101761698723, 0.5606250762939453, 0.11212501674890518, 0.05606250837445259, 0.05606250837445259, 0.05606250837445259, 0.05606250837445259, 0.11212501674890518, 0.5540397763252258, 0.05540397763252258, 0.05540397763252258, 0.11080795526504517, 0.05540397763252258, 0.05540397763252258, 0.05540397763252258, 0.4599654972553253, 0.04599655047059059, 0.04599655047059059, 0.04599655047059059, 0.27597931027412415, 0.04599655047059059, 0.04599655047059059, 0.4519800841808319, 0.04519800841808319, 0.27118805050849915, 0.04519800841808319, 0.04519800841808319, 0.04519800841808319, 0.04519800841808319, 0.5157394409179688, 0.10314789414405823, 0.051573947072029114, 0.15472184121608734, 0.051573947072029114, 0.10314789414405823, 0.051573947072029114, 0.5381754040718079, 0.053817540407180786, 0.053817540407180786, 0.053817540407180786, 0.10763508081436157, 0.053817540407180786, 0.053817540407180786, 0.5160645842552185, 0.20642583072185516, 0.05160645768046379, 0.05160645768046379, 0.05160645768046379, 0.05160645768046379, 0.05160645768046379, 0.25750741362571716, 0.025750743225216866, 0.5922670960426331, 0.025750743225216866, 0.025750743225216866, 0.025750743225216866, 0.025750743225216866, 0.5241969227790833, 0.05241968855261803, 0.05241968855261803, 0.05241968855261803, 0.15725906193256378, 0.05241968855261803, 0.05241968855261803, 0.49717047810554504, 0.19886820018291473, 0.049717050045728683, 0.049717050045728683, 0.049717050045728683, 0.049717050045728683, 0.049717050045728683, 0.5635231733322144, 0.056352317333221436, 0.056352317333221436, 0.056352317333221436, 0.056352317333221436, 0.11270463466644287, 0.056352317333221436, 0.532852053642273, 0.15985561907291412, 0.053285203874111176, 0.053285203874111176, 0.053285203874111176, 0.053285203874111176, 0.053285203874111176, 0.5614650249481201, 0.11229300498962402, 0.05614650249481201, 0.05614650249481201, 0.05614650249481201, 0.11229300498962402, 0.05614650249481201, 0.1870385855436325, 0.7107465863227844, 0.01870385743677616, 0.01870385743677616, 0.01870385743677616, 0.01870385743677616, 0.01870385743677616, 0.9198622703552246, 0.008517242968082428, 0.008517242968082428, 0.008517242968082428, 0.008517242968082428, 0.008517242968082428, 0.025551728904247284, 0.969621479511261, 0.004407370463013649, 0.004407370463013649, 0.004407370463013649, 0.004407370463013649, 0.004407370463013649, 0.004407370463013649, 0.3627922534942627, 0.3627922534942627, 0.03627922758460045, 0.03627922758460045, 0.03627922758460045, 0.10883767902851105, 0.03627922758460045, 0.5648009181022644, 0.05648009479045868, 0.05648009479045868, 0.05648009479045868, 0.05648009479045868, 0.11296018958091736, 0.05648009479045868, 0.30116716027259827, 0.030116716399788857, 0.030116716399788857, 0.5119841694831848, 0.030116716399788857, 0.030116716399788857, 0.030116716399788857, 0.535166323184967, 0.16054989397525787, 0.053516633808612823, 0.053516633808612823, 0.053516633808612823, 0.053516633808612823, 0.053516633808612823, 0.547362744808197, 0.05473627150058746, 0.05473627150058746, 0.05473627150058746, 0.05473627150058746, 0.10947254300117493, 0.05473627150058746, 0.8478649854660034, 0.013899425975978374, 0.013899425975978374, 0.06949713081121445, 0.013899425975978374, 0.013899425975978374, 0.013899425975978374, 0.5462898015975952, 0.05462898313999176, 0.05462898313999176, 0.05462898313999176, 0.10925796627998352, 0.05462898313999176, 0.05462898313999176, 0.5497843623161316, 0.05497843772172928, 0.05497843772172928, 0.05497843772172928, 0.10995687544345856, 0.05497843772172928, 0.05497843772172928, 0.5162056088447571, 0.20648224651813507, 0.05162056162953377, 0.05162056162953377, 0.05162056162953377, 0.05162056162953377, 0.05162056162953377, 0.558304488658905, 0.111660897731781, 0.0558304488658905, 0.0558304488658905, 0.0558304488658905, 0.0558304488658905, 0.0558304488658905, 0.9519248604774475, 0.0019076650496572256, 0.0019076650496572256, 0.03624563664197922, 0.0019076650496572256, 0.0019076650496572256, 0.0019076650496572256, 0.6903766989707947, 0.038354262709617615, 0.038354262709617615, 0.038354262709617615, 0.038354262709617615, 0.07670852541923523, 0.038354262709617615, 0.5450083613395691, 0.163502499461174, 0.05450083315372467, 0.05450083315372467, 0.05450083315372467, 0.05450083315372467, 0.05450083315372467, 0.9631268382072449, 0.005069088656455278, 0.005069088656455278, 0.005069088656455278, 0.005069088656455278, 0.005069088656455278, 0.005069088656455278, 0.5222894549369812, 0.05222894623875618, 0.05222894623875618, 0.15668684244155884, 0.05222894623875618, 0.05222894623875618, 0.05222894623875618, 0.3857641816139221, 0.03857641667127609, 0.03857641667127609, 0.03857641667127609, 0.03857641667127609, 0.03857641667127609, 0.3857641816139221, 0.5487582087516785, 0.05487582087516785, 0.1097516417503357, 0.05487582087516785, 0.05487582087516785, 0.05487582087516785, 0.05487582087516785, 0.5212501287460327, 0.05212501063942909, 0.05212501063942909, 0.15637503564357758, 0.05212501063942909, 0.05212501063942909, 0.05212501063942909, 0.5596532225608826, 0.055965323001146317, 0.055965323001146317, 0.055965323001146317, 0.055965323001146317, 0.11193064600229263, 0.055965323001146317, 0.9589899182319641, 0.005883373785763979, 0.005883373785763979, 0.005883373785763979, 0.005883373785763979, 0.005883373785763979, 0.005883373785763979, 0.2779173254966736, 0.027791732922196388, 0.027791732922196388, 0.5558346509933472, 0.027791732922196388, 0.027791732922196388, 0.027791732922196388, 0.5529009699821472, 0.0552900955080986, 0.1105801910161972, 0.0552900955080986, 0.0552900955080986, 0.0552900955080986, 0.0552900955080986, 0.47155848145484924, 0.047155845910310745, 0.047155845910310745, 0.047155845910310745, 0.23577924072742462, 0.047155845910310745, 0.047155845910310745, 0.4639332592487335, 0.04639332368969917, 0.04639332368969917, 0.04639332368969917, 0.23196662962436676, 0.04639332368969917, 0.04639332368969917, 0.5696444511413574, 0.04381880536675453, 0.17527522146701813, 0.04381880536675453, 0.04381880536675453, 0.04381880536675453, 0.04381880536675453, 0.5611390471458435, 0.05611390620470047, 0.11222781240940094, 0.05611390620470047, 0.05611390620470047, 0.05611390620470047, 0.05611390620470047, 0.4356938302516937, 0.04356938228011131, 0.04356938228011131, 0.04356938228011131, 0.04356938228011131, 0.3049857020378113, 0.04356938228011131, 0.5433735847473145, 0.054337356239557266, 0.1630120724439621, 0.054337356239557266, 0.054337356239557266, 0.054337356239557266, 0.054337356239557266, 0.882656455039978, 0.011768752709031105, 0.011768752709031105, 0.04707501083612442, 0.011768752709031105, 0.011768752709031105, 0.011768752709031105, 0.9686235189437866, 0.004248348530381918, 0.004248348530381918, 0.004248348530381918, 0.004248348530381918, 0.004248348530381918, 0.004248348530381918, 0.5563626885414124, 0.055636268109083176, 0.055636268109083176, 0.055636268109083176, 0.055636268109083176, 0.055636268109083176, 0.11127253621816635, 0.4391751289367676, 0.04391751065850258, 0.04391751065850258, 0.30742257833480835, 0.04391751065850258, 0.04391751065850258, 0.04391751065850258, 0.5294639468193054, 0.05294639244675636, 0.05294639244675636, 0.1588391810655594, 0.05294639244675636, 0.05294639244675636, 0.05294639244675636, 0.5597530007362366, 0.0559752993285656, 0.0559752993285656, 0.0559752993285656, 0.1119505986571312, 0.0559752993285656, 0.0559752993285656, 0.997512698173523, 0.0003281291574239731, 0.0003281291574239731, 0.0003281291574239731, 0.0003281291574239731, 0.0003281291574239731, 0.0003281291574239731, 0.46359896659851074, 0.27815937995910645, 0.046359896659851074, 0.046359896659851074, 0.046359896659851074, 0.046359896659851074, 0.046359896659851074, 0.13526944816112518, 0.013526945374906063, 0.013526945374906063, 0.013526945374906063, 0.013526945374906063, 0.7845628261566162, 0.013526945374906063, 0.5269513130187988, 0.052695132791996, 0.052695132791996, 0.052695132791996, 0.052695132791996, 0.1580853909254074, 0.052695132791996, 0.5176196694374084, 0.20704786479473114, 0.051761966198682785, 0.051761966198682785, 0.051761966198682785, 0.051761966198682785, 0.051761966198682785, 0.5056713819503784, 0.0505671389400959, 0.0505671389400959, 0.0505671389400959, 0.2022685557603836, 0.0505671389400959, 0.0505671389400959, 0.5544321537017822, 0.11088643223047256, 0.11088643223047256, 0.05544321611523628, 0.05544321611523628, 0.05544321611523628, 0.05544321611523628, 0.06208941712975502, 0.9002965688705444, 0.0062089418061077595, 0.0062089418061077595, 0.0062089418061077595, 0.0062089418061077595, 0.0062089418061077595, 0.5351754426956177, 0.05351754650473595, 0.16055263578891754, 0.05351754650473595, 0.05351754650473595, 0.05351754650473595, 0.05351754650473595, 0.5575165748596191, 0.11150331795215607, 0.05575165897607803, 0.05575165897607803, 0.11150331795215607, 0.05575165897607803, 0.05575165897607803, 0.2842751145362854, 0.02842750959098339, 0.02842750959098339, 0.02842750959098339, 0.02842750959098339, 0.02842750959098339, 0.5401226878166199, 0.5506314039230347, 0.11012628674507141, 0.055063143372535706, 0.055063143372535706, 0.055063143372535706, 0.055063143372535706, 0.11012628674507141, 0.49900341033935547, 0.19960135221481323, 0.04990033805370331, 0.04990033805370331, 0.04990033805370331, 0.04990033805370331, 0.04990033805370331, 0.4471675157546997, 0.04471675306558609, 0.26830050349235535, 0.04471675306558609, 0.04471675306558609, 0.04471675306558609, 0.04471675306558609, 0.5030656456947327, 0.05030656233429909, 0.20122624933719635, 0.05030656233429909, 0.05030656233429909, 0.05030656233429909, 0.05030656233429909, 0.24169503152370453, 0.6284070611000061, 0.024169502779841423, 0.024169502779841423, 0.024169502779841423, 0.024169502779841423, 0.024169502779841423, 0.5588871836662292, 0.055888719856739044, 0.055888719856739044, 0.055888719856739044, 0.055888719856739044, 0.055888719856739044, 0.11177743971347809, 0.5576035976409912, 0.05576035752892494, 0.05576035752892494, 0.11152071505784988, 0.05576035752892494, 0.05576035752892494, 0.05576035752892494, 0.5414708852767944, 0.054147087037563324, 0.054147087037563324, 0.054147087037563324, 0.054147087037563324, 0.10829417407512665, 0.054147087037563324, 0.953787624835968, 0.006812768522650003, 0.006812768522650003, 0.006812768522650003, 0.006812768522650003, 0.006812768522650003, 0.006812768522650003, 0.5122944712638855, 0.05122944712638855, 0.05122944712638855, 0.05122944712638855, 0.05122944712638855, 0.15368834137916565, 0.05122944712638855, 0.5619328022003174, 0.0561932772397995, 0.0561932772397995, 0.0561932772397995, 0.0561932772397995, 0.112386554479599, 0.0561932772397995, 0.5470004081726074, 0.05470003932714462, 0.05470003932714462, 0.05470003932714462, 0.05470003932714462, 0.10940007865428925, 0.05470003932714462, 0.5650210976600647, 0.05650211125612259, 0.05650211125612259, 0.05650211125612259, 0.05650211125612259, 0.11300422251224518, 0.05650211125612259, 0.2582613229751587, 0.02582613192498684, 0.594001054763794, 0.02582613192498684, 0.02582613192498684, 0.02582613192498684, 0.02582613192498684, 0.5284258127212524, 0.052842579782009125, 0.15852773189544678, 0.052842579782009125, 0.052842579782009125, 0.052842579782009125, 0.052842579782009125, 0.5427007675170898, 0.16281022131443024, 0.054270073771476746, 0.054270073771476746, 0.054270073771476746, 0.054270073771476746, 0.054270073771476746, 0.09052035212516785, 0.0090520353987813, 0.8599433302879333, 0.0090520353987813, 0.0090520353987813, 0.0090520353987813, 0.0090520353987813, 0.5412742495536804, 0.05412742868065834, 0.05412742868065834, 0.10825485736131668, 0.05412742868065834, 0.05412742868065834, 0.05412742868065834, 0.9444290399551392, 0.00807204283773899, 0.00807204283773899, 0.00807204283773899, 0.00807204283773899, 0.00807204283773899, 0.00807204283773899, 0.5360158085823059, 0.16080474853515625, 0.1072031632065773, 0.05360158160328865, 0.05360158160328865, 0.05360158160328865, 0.05360158160328865, 0.5615282654762268, 0.0561528280377388, 0.0561528280377388, 0.0561528280377388, 0.0561528280377388, 0.1123056560754776, 0.0561528280377388, 0.5625263452529907, 0.11250527203083038, 0.05625263601541519, 0.05625263601541519, 0.05625263601541519, 0.05625263601541519, 0.05625263601541519, 0.21004390716552734, 0.021004391834139824, 0.6721405386924744, 0.021004391834139824, 0.021004391834139824, 0.021004391834139824, 0.021004391834139824, 0.4765634536743164, 0.0476563461124897, 0.0476563461124897, 0.0476563461124897, 0.0476563461124897, 0.0476563461124897, 0.2382817268371582, 0.9493092894554138, 0.006780780386179686, 0.006780780386179686, 0.006780780386179686, 0.006780780386179686, 0.006780780386179686, 0.006780780386179686, 0.5091381072998047, 0.05091381445527077, 0.05091381445527077, 0.05091381445527077, 0.05091381445527077, 0.05091381445527077, 0.1527414470911026, 0.4932401478290558, 0.04932401701807976, 0.04932401701807976, 0.04932401701807976, 0.04932401701807976, 0.04932401701807976, 0.19729606807231903, 0.9488829970359802, 0.007299100048840046, 0.007299100048840046, 0.007299100048840046, 0.007299100048840046, 0.007299100048840046, 0.007299100048840046, 0.5284568667411804, 0.05284569039940834, 0.05284569039940834, 0.05284569039940834, 0.15853706002235413, 0.05284569039940834, 0.05284569039940834, 0.5589298605918884, 0.11178597062826157, 0.05589298531413078, 0.05589298531413078, 0.05589298531413078, 0.11178597062826157, 0.05589298531413078, 0.9741543531417847, 0.00382021302357316, 0.00382021302357316, 0.00382021302357316, 0.00382021302357316, 0.00382021302357316, 0.00382021302357316, 0.5507274866104126, 0.11014550179243088, 0.11014550179243088, 0.05507275089621544, 0.05507275089621544, 0.05507275089621544, 0.05507275089621544, 0.4527442753314972, 0.04527442529797554, 0.04527442529797554, 0.04527442529797554, 0.27164655923843384, 0.04527442529797554, 0.04527442529797554, 0.85346519947052, 0.015240450389683247, 0.045721348375082016, 0.015240450389683247, 0.015240450389683247, 0.015240450389683247, 0.015240450389683247, 0.9742953181266785, 0.003442739602178335, 0.003442739602178335, 0.003442739602178335, 0.003442739602178335, 0.003442739602178335, 0.003442739602178335, 0.5589168667793274, 0.05589168518781662, 0.05589168518781662, 0.05589168518781662, 0.11178337037563324, 0.05589168518781662, 0.05589168518781662, 0.44090205430984497, 0.30863142013549805, 0.04409020394086838, 0.04409020394086838, 0.04409020394086838, 0.04409020394086838, 0.04409020394086838, 0.5562840104103088, 0.055628400295972824, 0.055628400295972824, 0.055628400295972824, 0.11125680059194565, 0.055628400295972824, 0.055628400295972824, 0.14361777901649475, 0.01436177734285593, 0.01436177734285593, 0.7755360007286072, 0.01436177734285593, 0.01436177734285593, 0.01436177734285593, 0.959682047367096, 0.005960757844150066, 0.005960757844150066, 0.005960757844150066, 0.005960757844150066, 0.005960757844150066, 0.005960757844150066, 0.5492845177650452, 0.05492845177650452, 0.10985690355300903, 0.05492845177650452, 0.05492845177650452, 0.05492845177650452, 0.05492845177650452, 0.5300053954124451, 0.05300053954124451, 0.05300053954124451, 0.05300053954124451, 0.05300053954124451, 0.05300053954124451, 0.15900161862373352, 0.5560876131057739, 0.05560876056551933, 0.05560876056551933, 0.05560876056551933, 0.05560876056551933, 0.05560876056551933, 0.11121752113103867, 0.45526930689811707, 0.04552692919969559, 0.04552692919969559, 0.2731615900993347, 0.04552692919969559, 0.04552692919969559, 0.04552692919969559, 0.55954909324646, 0.055954910814762115, 0.055954910814762115, 0.055954910814762115, 0.11190982162952423, 0.055954910814762115, 0.055954910814762115, 0.5517134070396423, 0.05517134070396423, 0.05517134070396423, 0.05517134070396423, 0.05517134070396423, 0.05517134070396423, 0.11034268140792847, 0.534298300743103, 0.1602894812822342, 0.05342983081936836, 0.05342983081936836, 0.05342983081936836, 0.05342983081936836, 0.05342983081936836, 0.5357241034507751, 0.16071723401546478, 0.053572408854961395, 0.053572408854961395, 0.053572408854961395, 0.053572408854961395, 0.053572408854961395, 0.9524434804916382, 0.006266075652092695, 0.006266075652092695, 0.006266075652092695, 0.006266075652092695, 0.006266075652092695, 0.006266075652092695, 0.4827629029750824, 0.2413814514875412, 0.04827629029750824, 0.04827629029750824, 0.04827629029750824, 0.04827629029750824, 0.04827629029750824, 0.7064377069473267, 0.14615952968597412, 0.024359920993447304, 0.024359920993447304, 0.024359920993447304, 0.024359920993447304, 0.024359920993447304, 0.9606307744979858, 0.005249348469078541, 0.005249348469078541, 0.005249348469078541, 0.005249348469078541, 0.005249348469078541, 0.005249348469078541, 0.5300076007843018, 0.053000759333372116, 0.15900227427482605, 0.053000759333372116, 0.053000759333372116, 0.053000759333372116, 0.053000759333372116, 0.3306408226490021, 0.03306408226490021, 0.03306408226490021, 0.03306408226490021, 0.4628971517086029, 0.03306408226490021, 0.03306408226490021, 0.30627068877220154, 0.030627068132162094, 0.030627068132162094, 0.030627068132162094, 0.030627068132162094, 0.4900330901145935, 0.030627068132162094, 0.530927836894989, 0.05309278517961502, 0.05309278517961502, 0.05309278517961502, 0.15927834808826447, 0.05309278517961502, 0.05309278517961502, 0.5549484491348267, 0.11098968982696533, 0.055494844913482666, 0.11098968982696533, 0.055494844913482666, 0.055494844913482666, 0.055494844913482666, 0.9795240759849548, 0.0028228359296917915, 0.0028228359296917915, 0.0028228359296917915, 0.0028228359296917915, 0.0028228359296917915, 0.0028228359296917915, 0.5449509024620056, 0.05449508875608444, 0.05449508875608444, 0.05449508875608444, 0.10899017751216888, 0.05449508875608444, 0.05449508875608444, 0.4751141667366028, 0.04751141741871834, 0.04751141741871834, 0.04751141741871834, 0.04751141741871834, 0.2375570833683014, 0.04751141741871834, 0.5620362758636475, 0.05620362609624863, 0.11240725219249725, 0.05620362609624863, 0.05620362609624863, 0.05620362609624863, 0.05620362609624863, 0.27580422163009644, 0.027580423280596733, 0.027580423280596733, 0.5516084432601929, 0.027580423280596733, 0.027580423280596733, 0.027580423280596733, 0.5609959959983826, 0.05609959736466408, 0.11219919472932816, 0.05609959736466408, 0.05609959736466408, 0.05609959736466408, 0.05609959736466408, 0.9716159105300903, 0.003933667670935392, 0.003933667670935392, 0.003933667670935392, 0.003933667670935392, 0.003933667670935392, 0.003933667670935392, 0.5579519867897034, 0.11159039288759232, 0.05579519644379616, 0.05579519644379616, 0.05579519644379616, 0.05579519644379616, 0.11159039288759232, 0.622116208076477, 0.04785509407520294, 0.04785509407520294, 0.04785509407520294, 0.04785509407520294, 0.04785509407520294, 0.09571018815040588, 0.5372275114059448, 0.05372275039553642, 0.05372275039553642, 0.16116824746131897, 0.05372275039553642, 0.05372275039553642, 0.05372275039553642, 0.4658236503601074, 0.04658236354589462, 0.04658236354589462, 0.04658236354589462, 0.04658236354589462, 0.2329118251800537, 0.04658236354589462, 0.5595368146896362, 0.11190736293792725, 0.05595368146896362, 0.05595368146896362, 0.05595368146896362, 0.05595368146896362, 0.05595368146896362, 0.8588980436325073, 0.014808586798608303, 0.014808586798608303, 0.014808586798608303, 0.05923434719443321, 0.014808586798608303, 0.014808586798608303, 0.5608986020088196, 0.0560898594558239, 0.0560898594558239, 0.0560898594558239, 0.1121797189116478, 0.0560898594558239, 0.0560898594558239, 0.5301000475883484, 0.0530100055038929, 0.0530100055038929, 0.159030020236969, 0.0530100055038929, 0.0530100055038929, 0.0530100055038929, 0.542397677898407, 0.05423976853489876, 0.10847953706979752, 0.05423976853489876, 0.05423976853489876, 0.05423976853489876, 0.05423976853489876, 0.5432057976722717, 0.054320577532052994, 0.054320577532052994, 0.054320577532052994, 0.10864115506410599, 0.054320577532052994, 0.054320577532052994, 0.8593072295188904, 0.012102918699383736, 0.012102918699383736, 0.012102918699383736, 0.012102918699383736, 0.012102918699383736, 0.06051459535956383, 0.8411072492599487, 0.01475626789033413, 0.01475626789033413, 0.05902507156133652, 0.01475626789033413, 0.01475626789033413, 0.01475626789033413, 0.4259350001811981, 0.04259350150823593, 0.04259350150823593, 0.2981545031070709, 0.04259350150823593, 0.04259350150823593, 0.04259350150823593, 0.9517039656639099, 0.0072098784148693085, 0.0072098784148693085, 0.0072098784148693085, 0.0072098784148693085, 0.0072098784148693085, 0.0072098784148693085, 0.5400637984275818, 0.05400637909770012, 0.16201914846897125, 0.05400637909770012, 0.05400637909770012, 0.05400637909770012, 0.05400637909770012, 0.8158128261566162, 0.01989787444472313, 0.07959149777889252, 0.01989787444472313, 0.01989787444472313, 0.01989787444472313, 0.01989787444472313, 0.5621686577796936, 0.05621686577796936, 0.05621686577796936, 0.05621686577796936, 0.05621686577796936, 0.11243373155593872, 0.05621686577796936, 0.5575916767120361, 0.055759165436029434, 0.11151833087205887, 0.055759165436029434, 0.055759165436029434, 0.055759165436029434, 0.055759165436029434, 0.373830109834671, 0.03738301247358322, 0.03738301247358322, 0.41121312975883484, 0.03738301247358322, 0.03738301247358322, 0.03738301247358322, 0.5508193969726562, 0.055081937462091446, 0.055081937462091446, 0.055081937462091446, 0.055081937462091446, 0.11016387492418289, 0.055081937462091446, 0.7262952327728271, 0.026899823918938637, 0.10759929567575455, 0.026899823918938637, 0.026899823918938637, 0.026899823918938637, 0.026899823918938637, 0.5510883331298828, 0.05510883033275604, 0.05510883033275604, 0.11021766066551208, 0.05510883033275604, 0.05510883033275604, 0.05510883033275604, 0.5567631125450134, 0.05567631125450134, 0.11135262250900269, 0.05567631125450134, 0.05567631125450134, 0.05567631125450134, 0.05567631125450134, 0.5451430082321167, 0.05451430007815361, 0.05451430007815361, 0.05451430007815361, 0.05451430007815361, 0.10902860015630722, 0.05451430007815361, 0.5550971627235413, 0.055509716272354126, 0.055509716272354126, 0.11101943254470825, 0.055509716272354126, 0.055509716272354126, 0.055509716272354126, 0.5519524812698364, 0.055195245891809464, 0.055195245891809464, 0.11039049178361893, 0.055195245891809464, 0.055195245891809464, 0.055195245891809464, 0.5530833005905151, 0.11061665415763855, 0.055308327078819275, 0.055308327078819275, 0.055308327078819275, 0.055308327078819275, 0.055308327078819275, 0.551993191242218, 0.05519932135939598, 0.05519932135939598, 0.05519932135939598, 0.05519932135939598, 0.11039864271879196, 0.05519932135939598, 0.5524246096611023, 0.05524246022105217, 0.05524246022105217, 0.05524246022105217, 0.05524246022105217, 0.05524246022105217, 0.11048492044210434, 0.6423096656799316, 0.04282064363360405, 0.0856412872672081, 0.04282064363360405, 0.04282064363360405, 0.04282064363360405, 0.04282064363360405, 0.6432901620864868, 0.12865802645683289, 0.04288601130247116, 0.04288601130247116, 0.04288601130247116, 0.04288601130247116, 0.04288601130247116, 0.950061023235321, 0.00719743175432086, 0.00719743175432086, 0.00719743175432086, 0.00719743175432086, 0.00719743175432086, 0.00719743175432086, 0.5606088638305664, 0.05606088414788246, 0.11212176829576492, 0.05606088414788246, 0.05606088414788246, 0.05606088414788246, 0.05606088414788246, 0.5585920214653015, 0.11171840876340866, 0.05585920438170433, 0.05585920438170433, 0.05585920438170433, 0.05585920438170433, 0.05585920438170433, 0.5646164417266846, 0.056461647152900696, 0.056461647152900696, 0.056461647152900696, 0.056461647152900696, 0.11292329430580139, 0.056461647152900696, 0.7354040145874023, 0.09592226147651672, 0.03197408840060234, 0.03197408840060234, 0.03197408840060234, 0.03197408840060234, 0.03197408840060234, 0.5333892107009888, 0.053338922560214996, 0.053338922560214996, 0.053338922560214996, 0.1600167602300644, 0.053338922560214996, 0.053338922560214996, 0.5566660761833191, 0.05566661059856415, 0.05566661059856415, 0.1113332211971283, 0.05566661059856415, 0.05566661059856415, 0.05566661059856415, 0.5527758002281189, 0.05527757853269577, 0.05527757853269577, 0.05527757853269577, 0.05527757853269577, 0.05527757853269577, 0.11055515706539154, 0.8973012566566467, 0.008545726537704468, 0.008545726537704468, 0.05127435922622681, 0.008545726537704468, 0.008545726537704468, 0.008545726537704468, 0.5506243705749512, 0.055062435567379, 0.055062435567379, 0.055062435567379, 0.055062435567379, 0.055062435567379, 0.110124871134758, 0.9433764219284058, 0.007669726852327585, 0.007669726852327585, 0.007669726852327585, 0.007669726852327585, 0.007669726852327585, 0.007669726852327585, 0.5457821488380432, 0.05457821488380432, 0.05457821488380432, 0.05457821488380432, 0.05457821488380432, 0.05457821488380432, 0.10915642976760864, 0.5335893034934998, 0.053358931094408035, 0.053358931094408035, 0.053358931094408035, 0.053358931094408035, 0.053358931094408035, 0.10671786218881607, 0.16806603968143463, 0.016806604340672493, 0.016806604340672493, 0.016806604340672493, 0.7226839661598206, 0.016806604340672493, 0.016806604340672493, 0.3620017468929291, 0.43440210819244385, 0.03620017319917679, 0.03620017319917679, 0.03620017319917679, 0.03620017319917679, 0.03620017319917679, 0.5580002665519714, 0.055800024420022964, 0.055800024420022964, 0.055800024420022964, 0.11160004884004593, 0.055800024420022964, 0.055800024420022964, 0.53717440366745, 0.053717438131570816, 0.053717438131570816, 0.053717438131570816, 0.053717438131570816, 0.053717438131570816, 0.10743487626314163, 0.5638260841369629, 0.05638260766863823, 0.05638260766863823, 0.05638260766863823, 0.05638260766863823, 0.05638260766863823, 0.05638260766863823, 0.5323188900947571, 0.05323188751935959, 0.05323188751935959, 0.15969567000865936, 0.05323188751935959, 0.05323188751935959, 0.05323188751935959, 0.5137104392051697, 0.05137104541063309, 0.05137104541063309, 0.15411312878131866, 0.05137104541063309, 0.05137104541063309, 0.05137104541063309, 0.5575592517852783, 0.05575592443346977, 0.05575592443346977, 0.05575592443346977, 0.11151184886693954, 0.05575592443346977, 0.05575592443346977, 0.5558063387870789, 0.055580634623765945, 0.11116126924753189, 0.055580634623765945, 0.055580634623765945, 0.055580634623765945, 0.055580634623765945, 0.5566792488098145, 0.055667925626039505, 0.11133585125207901, 0.055667925626039505, 0.055667925626039505, 0.055667925626039505, 0.055667925626039505, 0.5563878417015076, 0.055638786405324936, 0.055638786405324936, 0.11127757281064987, 0.055638786405324936, 0.055638786405324936, 0.055638786405324936, 0.9831222295761108, 0.0022445712238550186, 0.0022445712238550186, 0.0022445712238550186, 0.0022445712238550186, 0.0022445712238550186, 0.0022445712238550186, 0.5450106263160706, 0.05450106039643288, 0.05450106039643288, 0.05450106039643288, 0.05450106039643288, 0.05450106039643288, 0.10900212079286575, 0.5530142188072205, 0.11060284078121185, 0.055301420390605927, 0.055301420390605927, 0.11060284078121185, 0.055301420390605927, 0.055301420390605927, 0.9825713634490967, 0.002356286160647869, 0.002356286160647869, 0.002356286160647869, 0.002356286160647869, 0.002356286160647869, 0.002356286160647869, 0.5907731056213379, 0.05370664596557617, 0.05370664596557617, 0.05370664596557617, 0.05370664596557617, 0.10741329193115234, 0.05370664596557617, 0.7088818550109863, 0.03730957210063934, 0.03730957210063934, 0.03730957210063934, 0.03730957210063934, 0.07461914420127869, 0.03730957210063934, 0.5554857850074768, 0.05554858222603798, 0.11109716445207596, 0.05554858222603798, 0.05554858222603798, 0.05554858222603798, 0.05554858222603798, 0.5594450831413269, 0.05594450980424881, 0.05594450980424881, 0.11188901960849762, 0.05594450980424881, 0.05594450980424881, 0.05594450980424881, 0.26115480065345764, 0.026115478947758675, 0.026115478947758675, 0.026115478947758675, 0.026115478947758675, 0.026115478947758675, 0.5745405554771423, 0.5517542958259583, 0.055175427347421646, 0.055175427347421646, 0.11035085469484329, 0.055175427347421646, 0.055175427347421646, 0.055175427347421646, 0.9485036730766296, 0.007185634225606918, 0.007185634225606918, 0.007185634225606918, 0.007185634225606918, 0.007185634225606918, 0.007185634225606918, 0.9507732391357422, 0.006889661308377981, 0.006889661308377981, 0.006889661308377981, 0.006889661308377981, 0.006889661308377981, 0.006889661308377981], \"Term\": [\"able\", \"able\", \"able\", \"able\", \"able\", \"able\", \"able\", \"accurate\", \"accurate\", \"accurate\", \"accurate\", \"accurate\", \"accurate\", \"accurate\", \"adorable\", \"adorable\", \"adorable\", \"adorable\", \"adorable\", \"adorable\", \"adorable\", \"adult\", \"adult\", \"adult\", \"adult\", \"adult\", \"adult\", \"adult\", \"advertise\", \"advertise\", \"advertise\", \"advertise\", \"advertise\", \"advertise\", \"advertise\", \"alternative\", \"alternative\", \"alternative\", \"alternative\", \"alternative\", \"alternative\", \"alternative\", \"anniversary\", \"anniversary\", \"anniversary\", \"anniversary\", \"anniversary\", \"anniversary\", \"anniversary\", \"appreciate\", \"appreciate\", \"appreciate\", \"appreciate\", \"appreciate\", \"appreciate\", \"appreciate\", \"appreciation\", \"appreciation\", \"appreciation\", \"appreciation\", \"appreciation\", \"appreciation\", \"appreciation\", \"area\", \"area\", \"area\", \"area\", \"area\", \"area\", \"area\", \"attractive\", \"attractive\", \"attractive\", \"attractive\", \"attractive\", \"attractive\", \"attractive\", \"awesome\", \"awesome\", \"awesome\", \"awesome\", \"awesome\", \"awesome\", \"awesome\", \"back\", \"back\", \"back\", \"back\", \"back\", \"back\", \"back\", \"bar\", \"bar\", \"bar\", \"bar\", \"bar\", \"bar\", \"bar\", \"bear\", \"bear\", \"bear\", \"bear\", \"bear\", \"bear\", \"bear\", \"bill\", \"bill\", \"bill\", \"bill\", \"bill\", \"bill\", \"bill\", \"birthday\", \"birthday\", \"birthday\", \"birthday\", \"birthday\", \"birthday\", \"birthday\", \"black\", \"black\", \"black\", \"black\", \"black\", \"black\", \"black\", \"book\", \"book\", \"book\", \"book\", \"book\", \"book\", \"book\", \"box\", \"box\", \"box\", \"box\", \"box\", \"box\", \"box\", \"boy\", \"boy\", \"boy\", \"boy\", \"boy\", \"boy\", \"boy\", \"busy\", \"busy\", \"busy\", \"busy\", \"busy\", \"busy\", \"busy\", \"buy\", \"buy\", \"buy\", \"buy\", \"buy\", \"buy\", \"buy\", \"buying\", \"buying\", \"buying\", \"buying\", \"buying\", \"buying\", \"buying\", \"car\", \"car\", \"car\", \"car\", \"car\", \"car\", \"car\", \"card\", \"card\", \"card\", \"card\", \"card\", \"card\", \"card\", \"case\", \"case\", \"case\", \"case\", \"case\", \"case\", \"case\", \"change\", \"change\", \"change\", \"change\", \"change\", \"change\", \"change\", \"charm\", \"charm\", \"charm\", \"charm\", \"charm\", \"charm\", \"charm\", \"click\", \"click\", \"click\", \"click\", \"click\", \"click\", \"click\", \"close\", \"close\", \"close\", \"close\", \"close\", \"close\", \"close\", \"clothe\", \"clothe\", \"clothe\", \"clothe\", \"clothe\", \"clothe\", \"clothe\", \"clue\", \"clue\", \"clue\", \"clue\", \"clue\", \"clue\", \"clue\", \"co\", \"co\", \"co\", \"co\", \"co\", \"co\", \"co\", \"code\", \"code\", \"code\", \"code\", \"code\", \"code\", \"code\", \"color\", \"color\", \"color\", \"color\", \"color\", \"color\", \"color\", \"condition\", \"condition\", \"condition\", \"condition\", \"condition\", \"condition\", \"condition\", \"confirmation\", \"confirmation\", \"confirmation\", \"confirmation\", \"confirmation\", \"confirmation\", \"confirmation\", \"container\", \"container\", \"container\", \"container\", \"container\", \"container\", \"container\", \"convenient\", \"convenient\", \"convenient\", \"convenient\", \"convenient\", \"convenient\", \"convenient\", \"correct\", \"correct\", \"correct\", \"correct\", \"correct\", \"correct\", \"correct\", \"country\", \"country\", \"country\", \"country\", \"country\", \"country\", \"country\", \"cracker\", \"cracker\", \"cracker\", \"cracker\", \"cracker\", \"cracker\", \"cracker\", \"cupcake\", \"cupcake\", \"cupcake\", \"cupcake\", \"cupcake\", \"cupcake\", \"cupcake\", \"cut\", \"cut\", \"cut\", \"cut\", \"cut\", \"cut\", \"cut\", \"cute\", \"cute\", \"cute\", \"cute\", \"cute\", \"cute\", \"cute\", \"daughter\", \"daughter\", \"daughter\", \"daughter\", \"daughter\", \"daughter\", \"daughter\", \"day\", \"day\", \"day\", \"day\", \"day\", \"day\", \"day\", \"deal\", \"deal\", \"deal\", \"deal\", \"deal\", \"deal\", \"deal\", \"dear\", \"dear\", \"dear\", \"dear\", \"dear\", \"dear\", \"dear\", \"delivery\", \"delivery\", \"delivery\", \"delivery\", \"delivery\", \"delivery\", \"delivery\", \"dent\", \"dent\", \"dent\", \"dent\", \"dent\", \"dent\", \"dent\", \"description\", \"description\", \"description\", \"description\", \"description\", \"description\", \"description\", \"design\", \"design\", \"design\", \"design\", \"design\", \"design\", \"design\", \"dinner\", \"dinner\", \"dinner\", \"dinner\", \"dinner\", \"dinner\", \"dinner\", \"disappoint\", \"disappoint\", \"disappoint\", \"disappoint\", \"disappoint\", \"disappoint\", \"disappoint\", \"discount\", \"discount\", \"discount\", \"discount\", \"discount\", \"discount\", \"discount\", \"easter\", \"easter\", \"easter\", \"easter\", \"easter\", \"easter\", \"easter\", \"easy\", \"easy\", \"easy\", \"easy\", \"easy\", \"easy\", \"easy\", \"efficient\", \"efficient\", \"efficient\", \"efficient\", \"efficient\", \"efficient\", \"efficient\", \"effort\", \"effort\", \"effort\", \"effort\", \"effort\", \"effort\", \"effort\", \"email\", \"email\", \"email\", \"email\", \"email\", \"email\", \"email\", \"excelent\", \"excelent\", \"excelent\", \"excelent\", \"excelent\", \"excelent\", \"excelent\", \"excellent\", \"excellent\", \"excellent\", \"excellent\", \"excellent\", \"excellent\", \"excellent\", \"excite\", \"excite\", \"excite\", \"excite\", \"excite\", \"excite\", \"excite\", \"expectation\", \"expectation\", \"expectation\", \"expectation\", \"expectation\", \"expectation\", \"expectation\", \"eye\", \"eye\", \"eye\", \"eye\", \"eye\", \"eye\", \"eye\", \"family\", \"family\", \"family\", \"family\", \"family\", \"family\", \"family\", \"fast\", \"fast\", \"fast\", \"fast\", \"fast\", \"fast\", \"fast\", \"fill\", \"fill\", \"fill\", \"fill\", \"fill\", \"fill\", \"fill\", \"fine\", \"fine\", \"fine\", \"fine\", \"fine\", \"fine\", \"fine\", \"first\", \"first\", \"first\", \"first\", \"first\", \"first\", \"first\", \"fit\", \"fit\", \"fit\", \"fit\", \"fit\", \"fit\", \"fit\", \"flower\", \"flower\", \"flower\", \"flower\", \"flower\", \"flower\", \"flower\", \"food\", \"food\", \"food\", \"food\", \"food\", \"food\", \"food\", \"form\", \"form\", \"form\", \"form\", \"form\", \"form\", \"form\", \"free\", \"free\", \"free\", \"free\", \"free\", \"free\", \"free\", \"friend\", \"friend\", \"friend\", \"friend\", \"friend\", \"friend\", \"friend\", \"friendly\", \"friendly\", \"friendly\", \"friendly\", \"friendly\", \"friendly\", \"friendly\", \"fun\", \"fun\", \"fun\", \"fun\", \"fun\", \"fun\", \"fun\", \"funny\", \"funny\", \"funny\", \"funny\", \"funny\", \"funny\", \"funny\", \"gas\", \"gas\", \"gas\", \"gas\", \"gas\", \"gas\", \"gas\", \"gift\", \"gift\", \"gift\", \"gift\", \"gift\", \"gift\", \"gift\", \"give\", \"give\", \"give\", \"give\", \"give\", \"give\", \"give\", \"good\", \"good\", \"good\", \"good\", \"good\", \"good\", \"good\", \"graduation\", \"graduation\", \"graduation\", \"graduation\", \"graduation\", \"graduation\", \"graduation\", \"grandkid\", \"grandkid\", \"grandkid\", \"grandkid\", \"grandkid\", \"grandkid\", \"grandkid\", \"grandson\", \"grandson\", \"grandson\", \"grandson\", \"grandson\", \"grandson\", \"grandson\", \"graphic\", \"graphic\", \"graphic\", \"graphic\", \"graphic\", \"graphic\", \"graphic\", \"great\", \"great\", \"great\", \"great\", \"great\", \"great\", \"great\", \"guy\", \"guy\", \"guy\", \"guy\", \"guy\", \"guy\", \"guy\", \"half\", \"half\", \"half\", \"half\", \"half\", \"half\", \"half\", \"happy\", \"happy\", \"happy\", \"happy\", \"happy\", \"happy\", \"happy\", \"hit\", \"hit\", \"hit\", \"hit\", \"hit\", \"hit\", \"hit\", \"holder\", \"holder\", \"holder\", \"holder\", \"holder\", \"holder\", \"holder\", \"home\", \"home\", \"home\", \"home\", \"home\", \"home\", \"home\", \"husband\", \"husband\", \"husband\", \"husband\", \"husband\", \"husband\", \"husband\", \"idea\", \"idea\", \"idea\", \"idea\", \"idea\", \"idea\", \"idea\", \"ideal\", \"ideal\", \"ideal\", \"ideal\", \"ideal\", \"ideal\", \"ideal\", \"info\", \"info\", \"info\", \"info\", \"info\", \"info\", \"info\", \"internet\", \"internet\", \"internet\", \"internet\", \"internet\", \"internet\", \"internet\", \"item\", \"item\", \"item\", \"item\", \"item\", \"item\", \"item\", \"job\", \"job\", \"job\", \"job\", \"job\", \"job\", \"job\", \"junk\", \"junk\", \"junk\", \"junk\", \"junk\", \"junk\", \"junk\", \"kind\", \"kind\", \"kind\", \"kind\", \"kind\", \"kind\", \"kind\", \"lady\", \"lady\", \"lady\", \"lady\", \"lady\", \"lady\", \"lady\", \"last\", \"last\", \"last\", \"last\", \"last\", \"last\", \"last\", \"leave\", \"leave\", \"leave\", \"leave\", \"leave\", \"leave\", \"leave\", \"lightning\", \"lightning\", \"lightning\", \"lightning\", \"lightning\", \"lightning\", \"lightning\", \"love\", \"love\", \"love\", \"love\", \"love\", \"love\", \"love\", \"lovely\", \"lovely\", \"lovely\", \"lovely\", \"lovely\", \"lovely\", \"lovely\", \"mail\", \"mail\", \"mail\", \"mail\", \"mail\", \"mail\", \"mail\", \"man\", \"man\", \"man\", \"man\", \"man\", \"man\", \"man\", \"membership\", \"membership\", \"membership\", \"membership\", \"membership\", \"membership\", \"membership\", \"metal\", \"metal\", \"metal\", \"metal\", \"metal\", \"metal\", \"metal\", \"minute\", \"minute\", \"minute\", \"minute\", \"minute\", \"minute\", \"minute\", \"mom\", \"mom\", \"mom\", \"mom\", \"mom\", \"mom\", \"mom\", \"money\", \"money\", \"money\", \"money\", \"money\", \"money\", \"money\", \"month\", \"month\", \"month\", \"month\", \"month\", \"month\", \"month\", \"movie\", \"movie\", \"movie\", \"movie\", \"movie\", \"movie\", \"movie\", \"much\", \"much\", \"much\", \"much\", \"much\", \"much\", \"much\", \"multiple\", \"multiple\", \"multiple\", \"multiple\", \"multiple\", \"multiple\", \"multiple\", \"negative\", \"negative\", \"negative\", \"negative\", \"negative\", \"negative\", \"negative\", \"nice\", \"nice\", \"nice\", \"nice\", \"nice\", \"nice\", \"nice\", \"non\", \"non\", \"non\", \"non\", \"non\", \"non\", \"non\", \"number\", \"number\", \"number\", \"number\", \"number\", \"number\", \"number\", \"occasion\", \"occasion\", \"occasion\", \"occasion\", \"occasion\", \"occasion\", \"occasion\", \"order\", \"order\", \"order\", \"order\", \"order\", \"order\", \"order\", \"original\", \"original\", \"original\", \"original\", \"original\", \"original\", \"original\", \"packaging\", \"packaging\", \"packaging\", \"packaging\", \"packaging\", \"packaging\", \"packaging\", \"particular\", \"particular\", \"particular\", \"particular\", \"particular\", \"particular\", \"particular\", \"perfect\", \"perfect\", \"perfect\", \"perfect\", \"perfect\", \"perfect\", \"perfect\", \"person\", \"person\", \"person\", \"person\", \"person\", \"person\", \"person\", \"personalized\", \"personalized\", \"personalized\", \"personalized\", \"personalized\", \"personalized\", \"personalized\", \"plan\", \"plan\", \"plan\", \"plan\", \"plan\", \"plan\", \"plan\", \"play\", \"play\", \"play\", \"play\", \"play\", \"play\", \"play\", \"pleased\", \"pleased\", \"pleased\", \"pleased\", \"pleased\", \"pleased\", \"pleased\", \"policy\", \"policy\", \"policy\", \"policy\", \"policy\", \"policy\", \"policy\", \"pop\", \"pop\", \"pop\", \"pop\", \"pop\", \"pop\", \"pop\", \"postage\", \"postage\", \"postage\", \"postage\", \"postage\", \"postage\", \"postage\", \"practical\", \"practical\", \"practical\", \"practical\", \"practical\", \"practical\", \"practical\", \"present\", \"present\", \"present\", \"present\", \"present\", \"present\", \"present\", \"presentation\", \"presentation\", \"presentation\", \"presentation\", \"presentation\", \"presentation\", \"presentation\", \"price\", \"price\", \"price\", \"price\", \"price\", \"price\", \"price\", \"print\", \"print\", \"print\", \"print\", \"print\", \"print\", \"print\", \"printer\", \"printer\", \"printer\", \"printer\", \"printer\", \"printer\", \"printer\", \"problem\", \"problem\", \"problem\", \"problem\", \"problem\", \"problem\", \"problem\", \"product\", \"product\", \"product\", \"product\", \"product\", \"product\", \"product\", \"promise\", \"promise\", \"promise\", \"promise\", \"promise\", \"promise\", \"promise\", \"prompt\", \"prompt\", \"prompt\", \"prompt\", \"prompt\", \"prompt\", \"prompt\", \"purchase\", \"purchase\", \"purchase\", \"purchase\", \"purchase\", \"purchase\", \"purchase\", \"purpose\", \"purpose\", \"purpose\", \"purpose\", \"purpose\", \"purpose\", \"purpose\", \"quality\", \"quality\", \"quality\", \"quality\", \"quality\", \"quality\", \"quality\", \"question\", \"question\", \"question\", \"question\", \"question\", \"question\", \"question\", \"quick\", \"quick\", \"quick\", \"quick\", \"quick\", \"quick\", \"quick\", \"recepient\", \"recepient\", \"recepient\", \"recepient\", \"recepient\", \"recepient\", \"recepient\", \"recipient\", \"recipient\", \"recipient\", \"recipient\", \"recipient\", \"recipient\", \"recipient\", \"red\", \"red\", \"red\", \"red\", \"red\", \"red\", \"red\", \"refund\", \"refund\", \"refund\", \"refund\", \"refund\", \"refund\", \"refund\", \"reliable\", \"reliable\", \"reliable\", \"reliable\", \"reliable\", \"reliable\", \"reliable\", \"restaurant\", \"restaurant\", \"restaurant\", \"restaurant\", \"restaurant\", \"restaurant\", \"restaurant\", \"ribbon\", \"ribbon\", \"ribbon\", \"ribbon\", \"ribbon\", \"ribbon\", \"ribbon\", \"right\", \"right\", \"right\", \"right\", \"right\", \"right\", \"right\", \"satisfy\", \"satisfy\", \"satisfy\", \"satisfy\", \"satisfy\", \"satisfy\", \"satisfy\", \"season\", \"season\", \"season\", \"season\", \"season\", \"season\", \"season\", \"self\", \"self\", \"self\", \"self\", \"self\", \"self\", \"self\", \"seller\", \"seller\", \"seller\", \"seller\", \"seller\", \"seller\", \"seller\", \"service\", \"service\", \"service\", \"service\", \"service\", \"service\", \"service\", \"ship\", \"ship\", \"ship\", \"ship\", \"ship\", \"ship\", \"ship\", \"shipping\", \"shipping\", \"shipping\", \"shipping\", \"shipping\", \"shipping\", \"shipping\", \"shop\", \"shop\", \"shop\", \"shop\", \"shop\", \"shop\", \"shop\", \"shopper\", \"shopper\", \"shopper\", \"shopper\", \"shopper\", \"shopper\", \"shopper\", \"shopping\", \"shopping\", \"shopping\", \"shopping\", \"shopping\", \"shopping\", \"shopping\", \"silly\", \"silly\", \"silly\", \"silly\", \"silly\", \"silly\", \"silly\", \"similar\", \"similar\", \"similar\", \"similar\", \"similar\", \"similar\", \"similar\", \"simple\", \"simple\", \"simple\", \"simple\", \"simple\", \"simple\", \"simple\", \"situation\", \"situation\", \"situation\", \"situation\", \"situation\", \"situation\", \"situation\", \"size\", \"size\", \"size\", \"size\", \"size\", \"size\", \"size\", \"smooth\", \"smooth\", \"smooth\", \"smooth\", \"smooth\", \"smooth\", \"smooth\", \"snowflake\", \"snowflake\", \"snowflake\", \"snowflake\", \"snowflake\", \"snowflake\", \"snowflake\", \"soft\", \"soft\", \"soft\", \"soft\", \"soft\", \"soft\", \"soft\", \"speedy\", \"speedy\", \"speedy\", \"speedy\", \"speedy\", \"speedy\", \"speedy\", \"spend\", \"spend\", \"spend\", \"spend\", \"spend\", \"spend\", \"spend\", \"spot\", \"spot\", \"spot\", \"spot\", \"spot\", \"spot\", \"spot\", \"staff\", \"staff\", \"staff\", \"staff\", \"staff\", \"staff\", \"staff\", \"standard\", \"standard\", \"standard\", \"standard\", \"standard\", \"standard\", \"standard\", \"starbuck\", \"starbuck\", \"starbuck\", \"starbuck\", \"starbuck\", \"starbuck\", \"starbuck\", \"stock\", \"stock\", \"stock\", \"stock\", \"stock\", \"stock\", \"stock\", \"store\", \"store\", \"store\", \"store\", \"store\", \"store\", \"store\", \"stress\", \"stress\", \"stress\", \"stress\", \"stress\", \"stress\", \"stress\", \"stuffer\", \"stuffer\", \"stuffer\", \"stuffer\", \"stuffer\", \"stuffer\", \"stuffer\", \"suit\", \"suit\", \"suit\", \"suit\", \"suit\", \"suit\", \"suit\", \"super\", \"super\", \"super\", \"super\", \"super\", \"super\", \"super\", \"system\", \"system\", \"system\", \"system\", \"system\", \"system\", \"system\", \"taste\", \"taste\", \"taste\", \"taste\", \"taste\", \"taste\", \"taste\", \"terrible\", \"terrible\", \"terrible\", \"terrible\", \"terrible\", \"terrible\", \"terrible\", \"thank\", \"thank\", \"thank\", \"thank\", \"thank\", \"thank\", \"thank\", \"theater\", \"theater\", \"theater\", \"theater\", \"theater\", \"theater\", \"theater\", \"thing\", \"thing\", \"thing\", \"thing\", \"thing\", \"thing\", \"thing\", \"think\", \"think\", \"think\", \"think\", \"think\", \"think\", \"think\", \"ticket\", \"ticket\", \"ticket\", \"ticket\", \"ticket\", \"ticket\", \"ticket\", \"time\", \"time\", \"time\", \"time\", \"time\", \"time\", \"time\", \"tin\", \"tin\", \"tin\", \"tin\", \"tin\", \"tin\", \"tin\", \"ton\", \"ton\", \"ton\", \"ton\", \"ton\", \"ton\", \"ton\", \"top\", \"top\", \"top\", \"top\", \"top\", \"top\", \"top\", \"toy\", \"toy\", \"toy\", \"toy\", \"toy\", \"toy\", \"toy\", \"track\", \"track\", \"track\", \"track\", \"track\", \"track\", \"track\", \"transaction\", \"transaction\", \"transaction\", \"transaction\", \"transaction\", \"transaction\", \"transaction\", \"transfer\", \"transfer\", \"transfer\", \"transfer\", \"transfer\", \"transfer\", \"transfer\", \"treat\", \"treat\", \"treat\", \"treat\", \"treat\", \"treat\", \"treat\", \"true\", \"true\", \"true\", \"true\", \"true\", \"true\", \"true\", \"unique\", \"unique\", \"unique\", \"unique\", \"unique\", \"unique\", \"unique\", \"use\", \"use\", \"use\", \"use\", \"use\", \"use\", \"use\", \"usual\", \"usual\", \"usual\", \"usual\", \"usual\", \"usual\", \"usual\", \"video\", \"video\", \"video\", \"video\", \"video\", \"video\", \"video\", \"way\", \"way\", \"way\", \"way\", \"way\", \"way\", \"way\", \"welcome\", \"welcome\", \"welcome\", \"welcome\", \"welcome\", \"welcome\", \"welcome\", \"whole\", \"whole\", \"whole\", \"whole\", \"whole\", \"whole\", \"whole\", \"wing\", \"wing\", \"wing\", \"wing\", \"wing\", \"wing\", \"wing\", \"winner\", \"winner\", \"winner\", \"winner\", \"winner\", \"winner\", \"winner\", \"work\", \"work\", \"work\", \"work\", \"work\", \"work\", \"work\", \"worker\", \"worker\", \"worker\", \"worker\", \"worker\", \"worker\", \"worker\", \"wrong\", \"wrong\", \"wrong\", \"wrong\", \"wrong\", \"wrong\", \"wrong\", \"year\", \"year\", \"year\", \"year\", \"year\", \"year\", \"year\"]}, \"R\": 30, \"lambda.step\": 0.01, \"plot.opts\": {\"xlab\": \"PC1\", \"ylab\": \"PC2\"}, \"topic.order\": [5, 3, 7, 1, 4, 6, 2]};\n",
       "\n",
       "function LDAvis_load_lib(url, callback){\n",
       "  var s = document.createElement('script');\n",
       "  s.src = url;\n",
       "  s.async = true;\n",
       "  s.onreadystatechange = s.onload = callback;\n",
       "  s.onerror = function(){console.warn(\"failed to load library \" + url);};\n",
       "  document.getElementsByTagName(\"head\")[0].appendChild(s);\n",
       "}\n",
       "\n",
       "if(typeof(LDAvis) !== \"undefined\"){\n",
       "   // already loaded: just create the visualization\n",
       "   !function(LDAvis){\n",
       "       new LDAvis(\"#\" + \"ldavis_el69796140610084393296543166114\", ldavis_el69796140610084393296543166114_data);\n",
       "   }(LDAvis);\n",
       "}else if(typeof define === \"function\" && define.amd){\n",
       "   // require.js is available: use it to load d3/LDAvis\n",
       "   require.config({paths: {d3: \"https://cdnjs.cloudflare.com/ajax/libs/d3/3.5.5/d3.min\"}});\n",
       "   require([\"d3\"], function(d3){\n",
       "      window.d3 = d3;\n",
       "      LDAvis_load_lib(\"https://cdn.rawgit.com/bmabey/pyLDAvis/files/ldavis.v1.0.0.js\", function(){\n",
       "        new LDAvis(\"#\" + \"ldavis_el69796140610084393296543166114\", ldavis_el69796140610084393296543166114_data);\n",
       "      });\n",
       "    });\n",
       "}else{\n",
       "    // require.js not available: dynamically load d3 & LDAvis\n",
       "    LDAvis_load_lib(\"https://cdnjs.cloudflare.com/ajax/libs/d3/3.5.5/d3.min.js\", function(){\n",
       "         LDAvis_load_lib(\"https://cdn.rawgit.com/bmabey/pyLDAvis/files/ldavis.v1.0.0.js\", function(){\n",
       "                 new LDAvis(\"#\" + \"ldavis_el69796140610084393296543166114\", ldavis_el69796140610084393296543166114_data);\n",
       "            })\n",
       "         });\n",
       "}\n",
       "</script>"
      ],
      "text/plain": [
       "PreparedData(topic_coordinates=              x         y  topics  cluster       Freq\n",
       "topic                                                \n",
       "4     -0.070883 -0.000326       1        1  66.350983\n",
       "2      0.015286 -0.010995       2        1   7.083359\n",
       "6      0.013846  0.008133       3        1   6.390010\n",
       "0      0.009566  0.001828       4        1   5.730786\n",
       "3      0.010863  0.000526       5        1   5.059940\n",
       "5      0.011487  0.000596       6        1   4.955796\n",
       "1      0.009835  0.000238       7        1   4.429132, topic_info=     Category         Freq      Term        Total  loglift  logprob\n",
       "4     Default  3047.000000      gift  3047.000000  30.0000  30.0000\n",
       "1     Default  3010.000000      card  3010.000000  29.0000  29.0000\n",
       "5     Default   161.000000     great   161.000000  28.0000  28.0000\n",
       "9     Default   110.000000      love   110.000000  27.0000  27.0000\n",
       "8     Default    73.000000      good    73.000000  26.0000  26.0000\n",
       "...       ...          ...       ...          ...      ...      ...\n",
       "462    Topic7     1.544433       hit    18.160969   0.6523  -7.9579\n",
       "1372   Topic7     1.473724     metal    17.776945   0.6269  -8.0047\n",
       "1331   Topic7     1.456432       toy    17.735966   0.6174  -8.0166\n",
       "70     Topic7     5.220016   service    82.624695   0.3552  -6.7400\n",
       "76     Topic7     3.093908  daughter   117.408882  -0.5193  -7.2631\n",
       "\n",
       "[257 rows x 6 columns], token_table=      Topic      Freq  Term\n",
       "term                       \n",
       "173       1  0.963904  able\n",
       "173       2  0.004725  able\n",
       "173       3  0.004725  able\n",
       "173       4  0.004725  able\n",
       "173       5  0.004725  able\n",
       "...     ...       ...   ...\n",
       "240       3  0.006890  year\n",
       "240       4  0.006890  year\n",
       "240       5  0.006890  year\n",
       "240       6  0.006890  year\n",
       "240       7  0.006890  year\n",
       "\n",
       "[1568 rows x 3 columns], R=30, lambda_step=0.01, plot_opts={'xlab': 'PC1', 'ylab': 'PC2'}, topic_order=[5, 3, 7, 1, 4, 6, 2])"
      ]
     },
     "execution_count": 81,
     "metadata": {},
     "output_type": "execute_result"
    }
   ],
   "source": [
    "pyLDAvis.enable_notebook()\n",
    "vis = pyLDAvis.gensim.prepare(lda_model, doc_term_matrix, dictionary)\n",
    "vis"
   ]
  },
  {
   "cell_type": "markdown",
   "metadata": {},
   "source": [
    "## Basic Features"
   ]
  },
  {
   "cell_type": "code",
   "execution_count": 82,
   "metadata": {},
   "outputs": [],
   "source": [
    "# we do not use meta data because sometimes it doesn't have a similar\n",
    "# item candidate\n",
    "reviewsPerUser = defaultdict(list)\n",
    "reviewsPerItem = defaultdict(list)\n",
    "usersPerItem = defaultdict(set)\n",
    "itemsPerUser = defaultdict(set)\n",
    "itemIDs = {}\n",
    "userIDs = {}\n",
    "for d in train_review_data:\n",
    "    u, i = d['reviewerID'], d['asin']\n",
    "    reviewsPerUser[u].append(d)\n",
    "    reviewsPerItem[i].append(d)\n",
    "    usersPerItem[i].add(u)\n",
    "    itemsPerUser[u].add(i)\n",
    "    if not i in itemIDs: itemIDs[i] = len(itemIDs)\n",
    "    if not u in userIDs: userIDs[u] = len(userIDs)"
   ]
  },
  {
   "cell_type": "code",
   "execution_count": 85,
   "metadata": {},
   "outputs": [],
   "source": [
    "# item average rating\n",
    "item_ave_rating = {}\n",
    "for item in reviewsPerItem.keys():\n",
    "    item_ave_rating[item] = statistics.mean([d['overall']\\\n",
    "                                            for d in reviewsPerItem[item]])"
   ]
  },
  {
   "cell_type": "code",
   "execution_count": 86,
   "metadata": {},
   "outputs": [],
   "source": [
    "# user average rating\n",
    "user_ave_rating = {}\n",
    "for user in reviewsPerUser.keys():\n",
    "    user_ave_rating[user] = statistics.mean([d['overall']\\\n",
    "                                            for d in reviewsPerUser[user]])"
   ]
  },
  {
   "cell_type": "code",
   "execution_count": null,
   "metadata": {},
   "outputs": [],
   "source": []
  },
  {
   "cell_type": "code",
   "execution_count": 87,
   "metadata": {},
   "outputs": [],
   "source": [
    "# item-item similarity matrix\n",
    "def Jaccard(s1, s2):\n",
    "    numer = len(s1.intersection(s2))\n",
    "    denom = len(s1.union(s2))\n",
    "    return numer/denom"
   ]
  },
  {
   "cell_type": "code",
   "execution_count": 91,
   "metadata": {},
   "outputs": [],
   "source": [
    "import tqdm"
   ]
  },
  {
   "cell_type": "code",
   "execution_count": 103,
   "metadata": {},
   "outputs": [],
   "source": [
    "N_U = len(set(reviewsPerUser.keys()))"
   ]
  },
  {
   "cell_type": "code",
   "execution_count": 94,
   "metadata": {},
   "outputs": [
    {
     "name": "stdout",
     "output_type": "stream",
     "text": [
      "(1455, 1455)\n"
     ]
    },
    {
     "data": {
      "text/plain": [
       "array([[1.00000000e+00, 9.27643785e-04, 0.00000000e+00, ...,\n",
       "        0.00000000e+00, 0.00000000e+00, 0.00000000e+00],\n",
       "       [9.27643785e-04, 1.00000000e+00, 0.00000000e+00, ...,\n",
       "        0.00000000e+00, 0.00000000e+00, 0.00000000e+00],\n",
       "       [0.00000000e+00, 0.00000000e+00, 1.00000000e+00, ...,\n",
       "        0.00000000e+00, 0.00000000e+00, 0.00000000e+00],\n",
       "       ...,\n",
       "       [0.00000000e+00, 0.00000000e+00, 0.00000000e+00, ...,\n",
       "        1.00000000e+00, 0.00000000e+00, 0.00000000e+00],\n",
       "       [0.00000000e+00, 0.00000000e+00, 0.00000000e+00, ...,\n",
       "        0.00000000e+00, 1.00000000e+00, 0.00000000e+00],\n",
       "       [0.00000000e+00, 0.00000000e+00, 0.00000000e+00, ...,\n",
       "        0.00000000e+00, 0.00000000e+00, 1.00000000e+00]])"
      ]
     },
     "execution_count": 94,
     "metadata": {},
     "output_type": "execute_result"
    }
   ],
   "source": [
    "N_I = len(set(reviewsPerItem.keys()))\n",
    "i_i_sim = np.zeros((N_I, N_I))\n",
    "keys = list(itemIDs.keys())\n",
    "for i in range(N_I):\n",
    "    for j in range(i, N_I):\n",
    "        k_i, k_j = keys[i], keys[j]\n",
    "        set_i = usersPerItem[k_i]\n",
    "        set_j = usersPerItem[k_j]\n",
    "        idx_i, idx_j = itemIDs[k_i], itemIDs[k_j]\n",
    "        i_i_sim[idx_i, idx_j], i_i_sim[idx_j, idx_i] = Jaccard(set_i, set_j), Jaccard(set_i, set_j)\n",
    "\n",
    "print(i_i_sim.shape)\n",
    "i_i_sim"
   ]
  },
  {
   "cell_type": "code",
   "execution_count": 95,
   "metadata": {},
   "outputs": [
    {
     "name": "stdout",
     "output_type": "stream",
     "text": [
      "(1455,)\n"
     ]
    },
    {
     "data": {
      "text/plain": [
       "array([8.540e+02, 1.304e+03, 1.270e+02, ..., 1.000e+00, 1.000e+00,\n",
       "       1.000e+00])"
      ]
     },
     "execution_count": 95,
     "metadata": {},
     "output_type": "execute_result"
    }
   ],
   "source": [
    "# popularity matrix\n",
    "item_popularity = np.zeros(N_I)\n",
    "for g in usersPerItem.keys():\n",
    "    idx = itemIDs[g]\n",
    "    item_popularity[idx] = len(usersPerItem[g])\n",
    "print(item_popularity.shape)\n",
    "item_popularity"
   ]
  },
  {
   "cell_type": "code",
   "execution_count": 167,
   "metadata": {},
   "outputs": [
    {
     "data": {
      "text/plain": [
       "array([8.540e+02, 1.304e+03, 1.270e+02, ..., 1.000e+00, 1.000e+00,\n",
       "       1.200e+01])"
      ]
     },
     "execution_count": 167,
     "metadata": {},
     "output_type": "execute_result"
    }
   ],
   "source": [
    "# save a index for non-existent products at the end\n",
    "item_popularity = np.append(item_popularity, statistics.median(item_popularity))"
   ]
  },
  {
   "cell_type": "markdown",
   "metadata": {},
   "source": [
    "## Build X and Y"
   ]
  },
  {
   "cell_type": "code",
   "execution_count": 156,
   "metadata": {},
   "outputs": [],
   "source": [
    "def build_jaccard_feature(u, i):\n",
    "    if i not in itemIDs:\n",
    "        return 0\n",
    "    tar_idx = itemIDs[i]\n",
    "    max_sim = 0\n",
    "    for record in itemsPerUser[u]:\n",
    "        if record==i:\n",
    "            continue\n",
    "        rec_idx = itemIDs[record]\n",
    "        max_sim = max(max_sim, i_i_sim[rec_idx, tar_idx])\n",
    "    return max_sim"
   ]
  },
  {
   "cell_type": "code",
   "execution_count": 170,
   "metadata": {},
   "outputs": [],
   "source": [
    "def build_feature(dataset):\n",
    "    users, items, ratings = dataset\n",
    "    jacc_feat = np.array([build_jaccard_feature(u, i) for u, i in zip(users, items)]).reshape(-1, 1)\n",
    "    i_med = statistics.median(item_ave_rating.values())\n",
    "    u_med = statistics.median(user_ave_rating.values())\n",
    "    i_ave = np.array([item_ave_rating[i] if i in item_ave_rating \\\n",
    "                      else i_med for i in items]).reshape(-1,1)\n",
    "    u_ave = np.array([user_ave_rating[u] if u in user_ave_rating\\\n",
    "                      else u_med for u in users]).reshape(-1,1)\n",
    "    \n",
    "    itemIndices = [itemIDs[i] if i in itemIDs else -1 for i in items]\n",
    "#     item_popularity[itemIndices] / N_U\n",
    "    \n",
    "    X = np.hstack((\n",
    "        jacc_feat,\n",
    "        i_ave,\n",
    "        u_ave,\n",
    "        (item_popularity[itemIndices] / N_U).reshape(-1, 1)\n",
    "    \n",
    "    ))\n",
    "    \n",
    "    return X, ratings"
   ]
  },
  {
   "cell_type": "code",
   "execution_count": null,
   "metadata": {},
   "outputs": [],
   "source": []
  },
  {
   "cell_type": "markdown",
   "metadata": {},
   "source": [
    "## Linear Regression with Basic Features"
   ]
  },
  {
   "cell_type": "code",
   "execution_count": 150,
   "metadata": {
    "scrolled": true
   },
   "outputs": [
    {
     "data": {
      "text/plain": [
       "(100000, 4)"
      ]
     },
     "execution_count": 150,
     "metadata": {},
     "output_type": "execute_result"
    }
   ],
   "source": [
    "train_X, train_Y = build_feature((train_review_user, train_review_item, train_review_rating))\n",
    "train_X.shape"
   ]
  },
  {
   "cell_type": "code",
   "execution_count": 151,
   "metadata": {},
   "outputs": [
    {
     "data": {
      "text/plain": [
       "array([[0.00000000e+00, 4.71194379e+00, 5.00000000e+00, 9.44909769e-03],\n",
       "       [0.00000000e+00, 4.78297546e+00, 5.00000000e+00, 1.44281304e-02],\n",
       "       [0.00000000e+00, 4.71653543e+00, 4.00000000e+00, 1.40519368e-03],\n",
       "       [0.00000000e+00, 4.80259740e+00, 5.00000000e+00, 4.25983912e-03],\n",
       "       [0.00000000e+00, 4.73770492e+00, 5.00000000e+00, 6.74935549e-04]])"
      ]
     },
     "execution_count": 151,
     "metadata": {},
     "output_type": "execute_result"
    }
   ],
   "source": [
    "train_X[:5]"
   ]
  },
  {
   "cell_type": "code",
   "execution_count": 177,
   "metadata": {},
   "outputs": [],
   "source": [
    "from sklearn.linear_model import Lasso"
   ]
  },
  {
   "cell_type": "code",
   "execution_count": 194,
   "metadata": {
    "scrolled": true
   },
   "outputs": [],
   "source": [
    "reg = Lasso(alpha=0.5).fit(train_X, train_Y)\n"
   ]
  },
  {
   "cell_type": "code",
   "execution_count": 195,
   "metadata": {},
   "outputs": [
    {
     "data": {
      "text/plain": [
       "0.29931887057997253"
      ]
     },
     "execution_count": 195,
     "metadata": {},
     "output_type": "execute_result"
    }
   ],
   "source": [
    "predict_train_Y = reg.predict(train_X)\n",
    "mean_squared_error(train_Y, predict_train_Y)"
   ]
  },
  {
   "cell_type": "code",
   "execution_count": 180,
   "metadata": {},
   "outputs": [],
   "source": [
    "test_X, test_Y = build_feature((test_review_user, test_review_item, test_review_rating))"
   ]
  },
  {
   "cell_type": "code",
   "execution_count": 181,
   "metadata": {},
   "outputs": [
    {
     "data": {
      "text/plain": [
       "array([[0.00000000e+00, 4.60976052e+00, 5.00000000e+00, 6.08548446e-02],\n",
       "       [0.00000000e+00, 4.74213836e+00, 5.00000000e+00, 1.75925823e-03],\n",
       "       [0.00000000e+00, 4.60976052e+00, 5.00000000e+00, 6.08548446e-02],\n",
       "       ...,\n",
       "       [0.00000000e+00, 4.63919414e+00, 5.00000000e+00, 6.04122639e-03],\n",
       "       [0.00000000e+00, 4.70422535e+00, 5.00000000e+00, 3.92790361e-03],\n",
       "       [0.00000000e+00, 4.72340426e+00, 5.00000000e+00, 2.08012923e-03]])"
      ]
     },
     "execution_count": 181,
     "metadata": {},
     "output_type": "execute_result"
    }
   ],
   "source": [
    "test_X"
   ]
  },
  {
   "cell_type": "code",
   "execution_count": 196,
   "metadata": {},
   "outputs": [
    {
     "data": {
      "text/plain": [
       "0.9173997555643669"
      ]
     },
     "execution_count": 196,
     "metadata": {},
     "output_type": "execute_result"
    }
   ],
   "source": [
    "predict_test_Y = reg.predict(test_X)\n",
    "mean_squared_error(test_Y, predict_test_Y)"
   ]
  },
  {
   "cell_type": "code",
   "execution_count": null,
   "metadata": {},
   "outputs": [],
   "source": [
    "# overfitting --> because we have unseen items"
   ]
  },
  {
   "cell_type": "markdown",
   "metadata": {},
   "source": [
    "## Convert Topics to feature vectors"
   ]
  },
  {
   "cell_type": "code",
   "execution_count": null,
   "metadata": {},
   "outputs": [],
   "source": [
    "# https://towardsdatascience.com/unsupervised-nlp-topic-models-as-a-supervised-learning-input-cf8ee9e5cf28"
   ]
  },
  {
   "cell_type": "code",
   "execution_count": 205,
   "metadata": {},
   "outputs": [],
   "source": [
    "train_vecs = []\n",
    "for i in range(len(train_review_text)):\n",
    "    top_topics = (\n",
    "        lda_model.get_document_topics(doc_term_matrix[i],\n",
    "                                      minimum_probability=0.0)\n",
    "    )\n",
    "    topic_vec = [top_topics[i][1] for i in range(6)]\n",
    "#     topic_vec.extend([rev_train.iloc[i].real_counts])\n",
    "    topic_vec.extend([len(train_review_text[i])])\n",
    "    train_vecs.append(topic_vec)"
   ]
  },
  {
   "cell_type": "code",
   "execution_count": 207,
   "metadata": {},
   "outputs": [],
   "source": [
    "train_text_features = np.array(train_vecs)"
   ]
  },
  {
   "cell_type": "code",
   "execution_count": 214,
   "metadata": {},
   "outputs": [
    {
     "data": {
      "text/plain": [
       "array([ 0.047621  ,  0.047621  ,  0.047621  ,  0.047621  ,  0.71427399,\n",
       "        0.047621  , 20.        ])"
      ]
     },
     "execution_count": 214,
     "metadata": {},
     "output_type": "execute_result"
    }
   ],
   "source": [
    "train_text_features[0]"
   ]
  },
  {
   "cell_type": "code",
   "execution_count": 215,
   "metadata": {},
   "outputs": [],
   "source": [
    "test_vecs = []\n",
    "for i in range(len(test_review_text)):\n",
    "    top_topics = (\n",
    "        lda_model.get_document_topics(doc_term_matrix[i],\n",
    "                                      minimum_probability=0.0)\n",
    "    )\n",
    "    topic_vec = [top_topics[i][1] for i in range(6)]\n",
    "#     topic_vec.extend([rev_train.iloc[i].real_counts])\n",
    "    topic_vec.extend([len(test_review_text[i])])\n",
    "    test_vecs.append(topic_vec)"
   ]
  },
  {
   "cell_type": "code",
   "execution_count": 216,
   "metadata": {},
   "outputs": [],
   "source": [
    "test_text_features = np.array(test_vecs)"
   ]
  },
  {
   "cell_type": "markdown",
   "metadata": {},
   "source": [
    "## Linear Regression with basic features + LDA topics"
   ]
  },
  {
   "cell_type": "code",
   "execution_count": 217,
   "metadata": {},
   "outputs": [],
   "source": [
    "train_X_LDA = np.hstack((train_X, train_text_features))\n",
    "test_X_LDA = np.hstack((test_X, test_text_features))"
   ]
  },
  {
   "cell_type": "code",
   "execution_count": 218,
   "metadata": {},
   "outputs": [
    {
     "data": {
      "text/plain": [
       "array([0.00000000e+00, 4.71194379e+00, 5.00000000e+00, 9.44909769e-03,\n",
       "       4.76210006e-02, 4.76210006e-02, 4.76210006e-02, 4.76210006e-02,\n",
       "       7.14273989e-01, 4.76210006e-02, 2.00000000e+01])"
      ]
     },
     "execution_count": 218,
     "metadata": {},
     "output_type": "execute_result"
    }
   ],
   "source": [
    "train_X_LDA[0]"
   ]
  },
  {
   "cell_type": "code",
   "execution_count": 225,
   "metadata": {},
   "outputs": [],
   "source": [
    "reg = Lasso(alpha=0.1).fit(train_X_LDA, train_Y)"
   ]
  },
  {
   "cell_type": "code",
   "execution_count": 226,
   "metadata": {},
   "outputs": [
    {
     "data": {
      "text/plain": [
       "0.030213971909141834"
      ]
     },
     "execution_count": 226,
     "metadata": {},
     "output_type": "execute_result"
    }
   ],
   "source": [
    "predict_train_Y = reg.predict(train_X_LDA)\n",
    "mean_squared_error(train_Y, predict_train_Y)"
   ]
  },
  {
   "cell_type": "code",
   "execution_count": 227,
   "metadata": {},
   "outputs": [
    {
     "data": {
      "text/plain": [
       "0.9850263768901493"
      ]
     },
     "execution_count": 227,
     "metadata": {},
     "output_type": "execute_result"
    }
   ],
   "source": [
    "predict_test_Y = reg.predict(test_X_LDA)\n",
    "mean_squared_error(test_Y, predict_test_Y)"
   ]
  },
  {
   "cell_type": "markdown",
   "metadata": {},
   "source": [
    "no particular improvement based on the raw the predictions"
   ]
  },
  {
   "cell_type": "markdown",
   "metadata": {},
   "source": [
    "## XGBoost"
   ]
  },
  {
   "cell_type": "code",
   "execution_count": 231,
   "metadata": {},
   "outputs": [],
   "source": [
    "import xgboost as xgb"
   ]
  },
  {
   "cell_type": "code",
   "execution_count": 256,
   "metadata": {},
   "outputs": [],
   "source": [
    "def train_test_xgboost(x_train, x_test, y_train, y_test):\n",
    "    train_result = dict()\n",
    "    test_result = dict()\n",
    "    \n",
    "    clf = xgb.XGBRegressor(n_estimators=60, silent=False, n_jobs=10,\\\n",
    "                           gamma=100,max_depth=10,nrounds=2000,colsample_bytree=0.50,\\\n",
    "                          subsample=0.70,learning_rate=0.300000012,reg_lambda=0.1,\\\n",
    "                          reg_alpha=0.1)\n",
    "    clf.fit(x_train, y_train)\n",
    "    \n",
    "    print(\"-\"*50)\n",
    "    print(\"TRAIN DATA\")\n",
    "    y_pred_train = clf.predict(x_train)\n",
    "    train_result = mean_squared_error(y_pred_train, y_train)\n",
    "#     model_train_evaluation['XGBoost']['train'] = y_pred_train\n",
    "    print(\"MSE = {}\".format(train_result))\n",
    "    print(\"-\"*50)\n",
    "    \n",
    "    print(\"TEST DATA\")\n",
    "\n",
    "    y_pred_val = clf.predict(x_test)\n",
    "    test_result = mean_squared_error(y_pred_val, y_test)\n",
    "#     model_train_evaluation['XGBoost']['val'] = y_pred_val\n",
    "    print(\"MSE = {}\".format(test_result))\n",
    "    print(\"-\"*50)\n",
    "    \n",
    "    return train_result, test_result, clf"
   ]
  },
  {
   "cell_type": "code",
   "execution_count": 257,
   "metadata": {},
   "outputs": [
    {
     "name": "stdout",
     "output_type": "stream",
     "text": [
      "[14:31:54] WARNING: /Users/travis/build/dmlc/xgboost/src/learner.cc:516: \n",
      "Parameters: { nrounds, silent } might not be used.\n",
      "\n",
      "  This may not be accurate due to some parameters are only used in language bindings but\n",
      "  passed down to XGBoost core.  Or some parameters are not used but slip through this\n",
      "  verification. Please open an issue if you find above cases.\n",
      "\n",
      "\n",
      "--------------------------------------------------\n",
      "TRAIN DATA\n",
      "MSE = 0.02747923567296215\n",
      "--------------------------------------------------\n",
      "TEST DATA\n",
      "MSE = 0.9821202961810268\n",
      "--------------------------------------------------\n"
     ]
    }
   ],
   "source": [
    "train_result, test_result, clf = train_test_xgboost(train_X_LDA, test_X_LDA, train_Y, test_Y)"
   ]
  },
  {
   "cell_type": "markdown",
   "metadata": {},
   "source": [
    "### Try Surprise Model "
   ]
  },
  {
   "cell_type": "code",
   "execution_count": 261,
   "metadata": {},
   "outputs": [],
   "source": [
    "from surprise import SVD\n",
    "from surprise import SVDpp\n",
    "from surprise.model_selection import GridSearchCV\n",
    "from surprise import Reader, Dataset"
   ]
  },
  {
   "cell_type": "code",
   "execution_count": 263,
   "metadata": {},
   "outputs": [],
   "source": [
    "reader = Reader(rating_scale=(1,5))"
   ]
  },
  {
   "cell_type": "code",
   "execution_count": 265,
   "metadata": {},
   "outputs": [],
   "source": [
    "surprise_train = Dataset.load_from_df(user_item_rating_file[['reviewerID','asin','rating']], reader)\n",
    "surprise_trainset = surprise_train.build_full_trainset()"
   ]
  },
  {
   "cell_type": "code",
   "execution_count": 266,
   "metadata": {},
   "outputs": [],
   "source": [
    "user_item_rating_test  = pd.DataFrame({'reviewerID': test_review_user, 'asin':test_review_item,\\\n",
    "                                      'text':test_review_text,'rating':test_review_rating})"
   ]
  },
  {
   "cell_type": "code",
   "execution_count": 267,
   "metadata": {},
   "outputs": [],
   "source": [
    "valset = list(zip(user_item_rating_test[\"reviewerID\"].values, \\\n",
    "                   user_item_rating_test[\"asin\"].values, \\\n",
    "                  user_item_rating_test[\"rating\"].values))"
   ]
  },
  {
   "cell_type": "code",
   "execution_count": 269,
   "metadata": {},
   "outputs": [],
   "source": [
    "def run_surprise(algo, trainset, testset, model_name):\n",
    "    \n",
    "    train = dict()\n",
    "    test = dict()\n",
    "    print(\"-\"*50)\n",
    "    print(\"TRAIN DATA\")\n",
    "    train_pred = algo.fit(trainset)\n",
    "    train_pred = algo.test(trainset.build_testset())\n",
    "    train_actual, train_predicted = get_ratings(train_pred)\n",
    "    mse = get_error(train_pred)\n",
    "    print(\"MSE = {}\".format(mse))\n",
    "    print(\"-\"*50)\n",
    "    \n",
    "    print(\"TEST DATA\")\n",
    "    test_pred = algo.test(testset)\n",
    "    test_actual, test_predicted = get_ratings(test_pred)\n",
    "    mse = get_error(test_pred)\n",
    "    print(\"MSE = {}\".format(mse))\n",
    "    print(\"-\"*50)\n",
    "    return train_predicted, test_predicted, algo"
   ]
  },
  {
   "cell_type": "code",
   "execution_count": 271,
   "metadata": {},
   "outputs": [],
   "source": [
    "def get_ratings(predictions):\n",
    "    actual = np.array([pred.r_ui for pred in predictions])\n",
    "    predicted = np.array([pred.est for pred in predictions])\n",
    "    return actual, predicted"
   ]
  },
  {
   "cell_type": "code",
   "execution_count": 273,
   "metadata": {},
   "outputs": [],
   "source": [
    "def get_error(predictions):\n",
    "    actual, predicted = get_ratings(predictions)\n",
    "    mse = mean_squared_error(actual, predicted)\n",
    "    return mse"
   ]
  },
  {
   "cell_type": "markdown",
   "metadata": {},
   "source": [
    "## SVD"
   ]
  },
  {
   "cell_type": "code",
   "execution_count": 276,
   "metadata": {},
   "outputs": [
    {
     "name": "stdout",
     "output_type": "stream",
     "text": [
      "0.8614208884304032\n",
      "{'n_factors': 1}\n"
     ]
    }
   ],
   "source": [
    "param_grid  = {'n_factors': [1,2,3,5,7]}   \n",
    "\n",
    "gs = GridSearchCV(SVD, param_grid, measures=['mse'], cv=5)\n",
    "\n",
    "gs.fit(surprise_train)\n",
    "\n",
    "# best RMSE score\n",
    "print(gs.best_score['mse'])\n",
    "\n",
    "# combination of parameters that gave the best RMSE score\n",
    "print(gs.best_params['mse'])"
   ]
  },
  {
   "cell_type": "code",
   "execution_count": 274,
   "metadata": {
    "scrolled": true
   },
   "outputs": [
    {
     "name": "stdout",
     "output_type": "stream",
     "text": [
      "--------------------------------------------------\n",
      "TRAIN DATA\n",
      "Processing epoch 0\n",
      "Processing epoch 1\n",
      "Processing epoch 2\n",
      "Processing epoch 3\n",
      "Processing epoch 4\n",
      "Processing epoch 5\n",
      "Processing epoch 6\n",
      "Processing epoch 7\n",
      "Processing epoch 8\n",
      "Processing epoch 9\n",
      "Processing epoch 10\n",
      "Processing epoch 11\n",
      "Processing epoch 12\n",
      "Processing epoch 13\n",
      "Processing epoch 14\n",
      "Processing epoch 15\n",
      "Processing epoch 16\n",
      "Processing epoch 17\n",
      "Processing epoch 18\n",
      "Processing epoch 19\n",
      "MSE = 0.6765597001686039\n",
      "--------------------------------------------------\n",
      "TEST DATA\n",
      "MSE = 0.8654757989921138\n",
      "--------------------------------------------------\n"
     ]
    }
   ],
   "source": [
    "algo = SVD(n_factors=1, biased=True, verbose=True)\n",
    "\n",
    "train_result, test_result, algo = run_surprise(algo, surprise_trainset, valset, \"SVD\")"
   ]
  },
  {
   "cell_type": "markdown",
   "metadata": {},
   "source": [
    "## SVDpp"
   ]
  },
  {
   "cell_type": "code",
   "execution_count": 277,
   "metadata": {},
   "outputs": [
    {
     "name": "stdout",
     "output_type": "stream",
     "text": [
      "0.8662620474687838\n",
      "{'n_factors': 5, 'lr_all': 0.003}\n"
     ]
    }
   ],
   "source": [
    "param_grid = {'n_factors': [5,8,10,15], 'lr_all': [0.001,0.0025,0.003]}\n",
    "\n",
    "gs = GridSearchCV(SVDpp, param_grid, measures=['mse'], cv=5)\n",
    "\n",
    "gs.fit(surprise_train)\n",
    "\n",
    "# best RMSE score\n",
    "print(gs.best_score['mse'])\n",
    "\n",
    "# combination of parameters that gave the best RMSE score\n",
    "print(gs.best_params['mse'])"
   ]
  },
  {
   "cell_type": "code",
   "execution_count": 275,
   "metadata": {},
   "outputs": [
    {
     "name": "stdout",
     "output_type": "stream",
     "text": [
      "--------------------------------------------------\n",
      "TRAIN DATA\n",
      " processing epoch 0\n",
      " processing epoch 1\n",
      " processing epoch 2\n",
      " processing epoch 3\n",
      " processing epoch 4\n",
      " processing epoch 5\n",
      " processing epoch 6\n",
      " processing epoch 7\n",
      " processing epoch 8\n",
      " processing epoch 9\n",
      " processing epoch 10\n",
      " processing epoch 11\n",
      " processing epoch 12\n",
      " processing epoch 13\n",
      " processing epoch 14\n",
      " processing epoch 15\n",
      " processing epoch 16\n",
      " processing epoch 17\n",
      " processing epoch 18\n",
      " processing epoch 19\n",
      "MSE = 0.7379680915027695\n",
      "--------------------------------------------------\n",
      "TEST DATA\n",
      "MSE = 0.8705995203814734\n",
      "--------------------------------------------------\n"
     ]
    }
   ],
   "source": [
    "algo = SVDpp(n_factors=5, lr_all=0.003, verbose=True)\n",
    "\n",
    "train_result, test_result, algo = run_surprise(algo, surprise_trainset, valset, \"SVDpp\")"
   ]
  },
  {
   "cell_type": "code",
   "execution_count": null,
   "metadata": {},
   "outputs": [],
   "source": [
    "user_item_rating_test."
   ]
  }
 ],
 "metadata": {
  "kernelspec": {
   "display_name": "Python 3",
   "language": "python",
   "name": "python3"
  },
  "language_info": {
   "codemirror_mode": {
    "name": "ipython",
    "version": 3
   },
   "file_extension": ".py",
   "mimetype": "text/x-python",
   "name": "python",
   "nbconvert_exporter": "python",
   "pygments_lexer": "ipython3",
   "version": "3.7.4"
  }
 },
 "nbformat": 4,
 "nbformat_minor": 2
}
